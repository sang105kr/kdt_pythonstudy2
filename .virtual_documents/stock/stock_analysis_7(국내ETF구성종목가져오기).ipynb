import re


# http요청 응답, html 구문분석 패키지
import requests
from bs4 import BeautifulSoup


# 셀레니움 브라우저의 동작을 자동화 하는 패키지
from selenium import webdriver
from selenium.webdriver.chrome.options import Options
from selenium.webdriver.common.by import By


# 데이터 분석 패키지
import pandas as pd


# etf_name = input('ETF상품명을 입력하세요')
etf_name = 'TIGER 2차전지테마'


url = 'https://finance.naver.com/sise/etf.naver' # ETF 전체 목록 페이지
res = requests.get(url)


res.status_code


# 동적으로 요소가 생성되므로 찾고자 하는 정보를 찾을 수 없음
pattern = re.compile(r'2차전지')
pattern.findall(res.text)


# 브라우저 종료 방지 옵션
chrome_options = Options()
chrome_options.add_experimental_option('detach', True)
# 웹드라이버를 이용한 브라우저 제어
driver = webdriver.Chrome(options=chrome_options)

#페이지가 모두 로드될때 까지 최대 1초 대기
driver.implicitly_wait(1)


driver.get(url)


soup = BeautifulSoup(driver.page_source,'html.parser')


# etf_name = 'KODEX 200'
# etf_name = 'TIGER 2차전지테마'

# etf_name = 'KODEX 단기채권PLUS'


detail_url = 'http://finance.naver.com'+soup.select_one('#etfItemTable').find('a',string=etf_name).attrs['href']


detail_url


driver.get(detail_url)


trs = driver.find_elements(By.CSS_SELECTOR, '#content > div.section.etf_asset > table > tbody > tr')
len(trs)


filtered_rows = []

for tr in trs[1:]:
    # tr내의 모든 td요소 찾기 
    tds = tr.find_elements(By.CSS_SELECTOR, 'td')

    # 'blank, division' 클래스가 포함된 td가 있는지 체크
    if all('blank' not in td.get_attribute('class') and 
           'division' not in td.get_attribute('class') for td in tds) :
        
        filtered_rows.append([td.text for td in tr.find_elements(By.CSS_SELECTOR,'td')])
        
print(len(filtered_rows))
print(filtered_rows)


columns = [th.text for th in trs[0].find_elements(By.CSS_SELECTOR,'th')]
columns


df = pd.DataFrame(filtered_rows,columns=columns)


df


driver.quit()



