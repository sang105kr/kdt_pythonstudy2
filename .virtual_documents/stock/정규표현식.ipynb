import re


text = 'Hello, world!'
match_result = re.match(r'Hello', text)
if match_result :
    print(match_result.group()) # 문자열의 시작 부분에서 패턴 매치되는 첫번째 문자열 반환
    print(match_result.start()) # 패턴 매치되는 문자열의 시작 위치
    print(match_result.end()) # 패턴 매치되는 문자열의 끝 위치
    print(match_result.span()) # 패턴 매치되는 문자열의 사작,끝 위치를 튜플로 반환
else :
    print('매치되는 문자열이 존재하지 않습니다')
print(match_result)


text = 'Hello, world!'
match_result = re.search(r'world', text)
if match_result :
    print(match_result.group()) # 문자열 중 패턴 매치되는 첫번째 문자열 반환
    print(match_result.start()) # 패턴 매치되는 문자열의 시작 위치
    print(match_result.end()) # 패턴 매치되는 문자열의 끝 위치
    print(match_result.span())
else :
    print('매치되는 문자열이 존재하지 않습니다')    
print(match_result)





import re
text = "The rain in Spain falls mainly in the plain. ain"
matches = re.findall(r"\bain", text) # ain으로 시작하는 문자열
print(matches)
matches = re.findall(r"ain\b", text) # ain으로 끝 문자열
print(matches)


import re
text = "The rain in Spain falls mainly in the plain. ain"
matches = re.finditer(r"\bain", text) # ain으로 시작하는 문자열
for match in matches :
    print(match.group(),match.span())
    
matches = re.finditer(r"ain\b", text) # ain으로 끝 문자열
for match in matches :
    print(match.group(),match.span())


re.sub?


import re
text = "I have apples and oranges. apples apples APPLES"
# 'apples'를 'bananas'로 대체
result = re.sub(r"apples", "bananas", text)
print(result)

result = re.sub(r"apples", "bananas", text, count=2)  # count : 대체할 최대 갯수, 기본값은 0 : 모두 대체
print(result)

# flags=re.I or re.IGNORECASE : 대소문자를 구분하지 않고 패턴 매칭
# flags=re.M or re.MULTILINE : 문자열의 각 줄의 시작(^)과 끝($)을 기준으로 매칭 
# flags=re.S or re.DOTALL : 메타문자가 줄 바꿈 문자(\n)를 포함한 모든 문자와 매칭
result = re.sub(r"apples", "bananas", text, count=0, flags=re.I) 
print(result)





import re
text = "apple, orange; banana; grape, kiwi"
# 쉼표(,)와 세미콜론(;)을 구분자로 사용하여 문자열 분할
result = re.split(r"[;,]", text)
print(result)

## 문자열 공백 제거
#case1)
result = list(map(lambda ele:ele.strip(), result))
#case2)
# result = [ ele.strip() for ele in result ]
print(result) 


import re
text = "apple, orange; banana; grape, kiwi"

#정규표현식을 컴파일하여 패턴객체 생성
pattern = re.compile(r"[;,]")

# 쉼표(,)와 세미콜론(;)을 구분자로 사용하여 문자열 분할
# case1)
# result = re.split(pattern, text)
# case2)
result = pattern.split(text)
print(result)

## 문자열 공백 제거
#case1)
result = list(map(lambda ele:ele.strip(), result))
#case2)
# result = [ ele.strip() for ele in result ]
print(result) 





import re

text = 'Hellow World! hello world!'

# flags=re.I or re.IGNORECASE : 대소문자를 구분하지 않고 패턴 매칭
pattern = re.compile(r'hello',flags=re.I)
matches = pattern.findall(text)
print(matches)


import re

text = '''first line
second line
third line'''

# flags=re.M or re.MULTILINE : 문자열의 각 줄의 시작(^)과 끝($)을 기준으로 매칭
pattern = re.compile(r'$',flags=re.M)
matches = pattern.sub(':end',text)
print(matches)


import re

text = '''Hello\nWorld'''

# flags=re.S or re.DOTALL : 메타문자가 줄 바꿈 문자(\n)를 포함한 모든 문자와 매칭
pattern = re.compile(r'.', re.S)
matches = pattern.sub('X',text)
print(matches)





import re
text = 'John Doe, Jane Doe'
# 이름과 성을 그룹으로 묶음
pattern = r"(\w+) (\w+)"
# pattern = r"\w+ \w+"
matches = re.findall(pattern, text)

for match in matches:
    print(match)
    
print(matches)
# 출력: [('John', 'Doe'), ('Jane', 'Doe')]



import re
text = 'John Doe, Jane Doe'
# 이름과 성을 그룹으로 묶음
pattern = r"(\w+) (\w+)"
# pattern = r"\w+ \w+"
matches = re.finditer(pattern, text)

for match in matches:
    print(match.group())
    print(match.group(1))
    print(match.group(2))
    
print(matches)
# 출력: [('John', 'Doe'), ('Jane', 'Doe')]



import re
text = "apple pie, apple tart, cherry pie"
# 'apple' 또는 'cherry'를 비캡처 그룹으로 묶음
pattern = r"(?:apple|cherry) (pie|tart)"
matches = re.findall(pattern, text)
print(matches)
# 출력: ['pie', 'tart']





import re
text = "abcabcabc"
pattern = r"a.*c" # 탐욕 매칭
match = re.search(pattern, text)
print(match.group()) # 출력: abcabcabc



import re
text = "abcabcabc"
pattern = r"a.*?c" # 비탐욕 매칭
match = re.search(pattern, text)
print(match.group()) # 출력: abc





import re

text = 'Visit out website at http://example.com or http://sample.com'

pattern = re.compile(r'http://[^ ]+(?=\.com)')
matches = pattern.findall(text)

print(matches)


import re

text = 'testing test pool tested tester'
pattern = re.compile(r'test(?!ing)')

matches = pattern.findall(text)
print(matches)


import re

text = 'The price is $5.99 for the first item and $10 for the second.'
pattern = re.compile(r'(?<=\$)\d+(\.\d+)?')

matches = pattern.findall(text)
print(matches)


import re

text = 'The cake is not good but the pie is very good'
pattern = re.compile(r'(?<!not\s)good')

matches = pattern.findall(text)
print(matches)


import re
text = "aaabbbccc"
pattern = r"a*"
# 'a'가 0회 이상 반복되는 부분 찾기
matches = re.findall(pattern, text)
print(matches) # 출력: ['aaa', '', '']


import re
text = "Hello World! Htllo Hzllo"
pattern = r"H.llo"
# 'H'와 'llo' 사이에 임의의 문자 찾기
matches = re.findall(pattern, text)
print(matches) # 출력: ['Hello']



import re
text = "color colour"
pattern = r"colou?r"
# 'u'가 0회 또는 1회 나타나는 부분 찾기
matches = re.findall(pattern, text)
print(matches) # 출력: ['color', 'colour']


import re
text = "aaabbbccca a"
pattern = r"a+"
# 'a'가 1회 이상 반복되는 부분 찾기
matches = re.findall(pattern, text)
print(matches) # 출력: ['aaa']


import re
text = '''first linesecond 
linethird line'''
pattern = re.compile(r'$', flags=re.M)
matches = pattern.sub(':end',text)
print(matches)

#결과




import re
text = 'Hello\nWorld'
pattern = re.compile(r'.', re.S)
matches = pattern.sub('X',text)
print(matches)


import re
text = "John Doe, Jane Do"
# 이름과 성을 그룹으로 묶음
pattern = r"(\w+) (\w+)"
matches = re.findall(pattern, text)
print(matches) 


import re
text = "John Doe, Jane Do"
# 이름과 성을 그룹으로 묶음
pattern = r"(?:\w+) (\w+)"
matches = re.findall(pattern, text)
print(matches) 


import re
text = "abcabcabc"
pattern = r"a.*c" # 탐욕 매칭
match = re.search(pattern, text)
print(match.group()) # 출력: abcabcabc


import re
text = "abcabcabc"
pattern = r"a.*?c" # 비탐욕 매칭
match = re.search(pattern, text)
print(match.group()) # 출력: abcabcabc


import re
text = '''Visit out website at http://example.com 
or http://sample.com'''
pattern = re.compile(r'http://[^ ]+(?=\.com)')
matches = pattern.findall(text)
print(matches)



import re
text = '''Visit out website at http://example.com 
or http://sample.com'''
pattern = re.compile(r'http://[^ ]+(?=\.com)')
matches = pattern.findall(text)
print(matches)



import re
text = '''Visit out website at http://example.com 
or http://sample.com'''
pattern = re.compile(r'http://[^ ]+(?!\.com)')
matches = pattern.findall(text)
print(matches)


import re
text = 'testing test pool tested tester'
pattern = re.compile(r'test(?!ing)')
matches = pattern.findall(text)
print(matches)



import re
text = '''The price is $5.99 for the first item and $10
for the second.'''
pattern = re.compile(r'(?<=\$)\d+(\.\d+)?')
matches = pattern.findall(text)
print(matches)



import re
text = 'The cake is not good but the pie is very good'
pattern = re.compile(r'(?<!not\s)good')
matches = pattern.findall(text)
print(matches)




