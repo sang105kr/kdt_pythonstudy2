def sum(x,y) :
    ''' 두개의 입력을 받아 합계를 구하는 함수
      parameter : x 정수, y 정수
      return value : x와 y의 합계  
    '''
    return x + y


help(sum)


sum?


import pandas as pd

# 샘플 데이터 생성
data = {'A': [1, 2, 3], 'B': ['a', 'b', 'c']}
df = pd.DataFrame(data).set_index('A')

# 인덱스를 초기화
df_reset = df.reset_index()

print(df_reset)



