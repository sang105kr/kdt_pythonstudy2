# 데이터 분석 패키지
import numpy as np
import pandas as pd


# 모든 컬럼을 출력하도록 설정
pd.set_option('display.max_columns', None)  # None으로 설정하면 모든 컬럼 출력
# 모든 행을 출력하도록 설정
pd.set_option('display.max_rows', 50)  # None으로 설정하면 모든 행 출력


# 시각화 패키지
import matplotlib.pyplot as plt
import seaborn as sns


# matplotlib 한글지원 패키지
import koreanize_matplotlib


# FinanceDataReader import
import FinanceDataReader as fdr


# KRX ETFs
etfs = fdr.StockListing('ETF/KR') # 한국 ETF 전종목


etfs.shape





etfs.head(2)


etfs['RiseFall'].value_counts()


etfs['Category'].value_counts()


etfs.info()


etfs.describe()


etfs.describe(include='O')


# 날짜는 파이썬 표준라이브러리 datetime 사용
import datetime
# 오늘 날짜 구하기
today = datetime.datetime.today()
today = today.strftime('%Y-%m-%d')
today


file_name = f'etf_{today}.csv'
file_name


etfs.to_csv(file_name, index=False)


etfs.query('Category in (2,4) ')



