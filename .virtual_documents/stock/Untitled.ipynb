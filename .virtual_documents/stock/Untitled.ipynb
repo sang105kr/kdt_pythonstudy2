import pandas as pd
import seaborn as sns
import matplotlib.pyplot as plt
import koreanize_matplotlib

# 예제 데이터프레임 생성 (실제 데이터프레임을 사용하세요)
df = pd.DataFrame({
    '유형': ['A', 'B', 'A', 'C', 'B', 'C', 'A', 'B', 'C'],
    '거래량': [100, 200, 150, 300, 250, 350, 400, 450, 500],
    '거래대금(백만)': [10, 20, 15, 30, 25, 35, 40, 45, 50],
    '시가총액(억)': [1000, 2000, 1500, 3000, 2500, 3500, 4000, 4500, 5000],
    '3개월수익률': [0.1, 0.2, 0.15, 0.3, 0.25, 0.35, 0.4, 0.45, 0.5]
})

# PairGrid 생성
g = sns.PairGrid(data=df, x_vars='유형', y_vars=["거래량", "거래대금(백만)", "시가총액(억)", "3개월수익률"], aspect=5)
g.map(sns.barplot)

# 그래프 표시
plt.show()



