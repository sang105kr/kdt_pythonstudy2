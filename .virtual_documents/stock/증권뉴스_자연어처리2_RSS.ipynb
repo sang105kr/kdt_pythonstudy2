# 데이터 분석 패키지
import pandas as pd
import numpy as np


# 모든 컬럼을 출력하도록 설정
pd.set_option('display.max_columns', None)  # None으로 설정하면 모든 컬럼 출력
# 모든 행을 출력하도록 설정
pd.set_option('display.max_rows', 50)  # None으로 설정하면 모든 행 출력
# 모든 열의 최대 너비를 설정
pd.set_option('display.max_colwidth', None) # None으로 설정하면 모든 내용을 출력


# 시각화 패키지
import matplotlib.pyplot as plt
import seaborn as sns
import koreanize_matplotlib
from wordcloud import WordCloud


# 정규표현식
import re


# 날짜는 파이썬 표준라이브러리 datetime 사용
import datetime


# 오늘 날짜 구하기
today = datetime.datetime.today()
print(today)
today = today.strftime('%Y-%m-%d')
today


df = pd.read_csv(f'news_{today}.csv')
df.head(1)





corpus = df['제목'] #.head(10)
corpus


from sklearn.feature_extraction.text import CountVectorizer


CountVectorizer?





cvect = CountVectorizer()





X = cvect.fit_transform(corpus)
X


X.toarray()


cvect.get_feature_names_out().size


tmp = pd.DataFrame(X.toarray(), columns=cvect.get_feature_names_out())


tmp.sum().sort_values(ascending=False)



