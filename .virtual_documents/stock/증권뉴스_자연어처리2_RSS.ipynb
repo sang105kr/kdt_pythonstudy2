# 데이터 분석 패키지
import pandas as pd
import numpy as np


# # 모든 컬럼을 출력하도록 설정
# pd.set_option('display.max_columns', None)  # None으로 설정하면 모든 컬럼 출력 default:20
# # 모든 행을 출력하도록 설정
# pd.set_option('display.max_rows', 10)  # None으로 설정하면 모든 행 출력 default:50
# # 모든 열의 최대 너비를 설정
# pd.set_option('display.max_colwidth', 60) # None으로 설정하면 모든 내용을 출력 default:60


pd.set_option?


# 시각화 패키지
import matplotlib.pyplot as plt
import seaborn as sns
import koreanize_matplotlib
from wordcloud import WordCloud


# 정규표현식
import re


# 날짜는 파이썬 표준라이브러리 datetime 사용
import datetime


# 오늘 날짜 구하기
today = datetime.datetime.today()
print(today)
today = today.strftime('%Y-%m-%d')
today


df = pd.read_csv(f'news_{today}.csv')
df.head(1)





corpus = df['제목'] #.head(10)
corpus


from sklearn.feature_extraction.text import CountVectorizer


CountVectorizer?





cvect = CountVectorizer(max_df=5,min_df=2,ngram_range=(1,2))





X = cvect.fit_transform(corpus)
X


# 단어사전 확인
# 단어사전은 {"단어":인덱스번호}
cvect.vocabulary_


X.toarray()


cvect.get_feature_names_out()


cvect.get_feature_names_out().size


tmp = pd.DataFrame(X.toarray(), columns=cvect.get_feature_names_out())


tmp.head(2)


tmp.sum().sort_values(ascending=False)


# 모델을 받아서 변환후 문서-어휘 행렬로 반환하는 함수
def display_transform_dtm(cvect, corpus):
    '''
    모델을 받아 변환을 하고 문서-어휘 행렬을 반환하는 함수
    '''
    X = cvect.fit_transform(corpus)
    dtm = X.toarray()
    df_dtm = pd.DataFrame(dtm,columns=cvect.get_feature_names_out()).style.background_gradient()
    return df_dtm


display_transform_dtm(cvect,corpus)


# ngram_range(2,3)
cvect = CountVectorizer(ngram_range=(2,3))
display_transform_dtm(cvect, corpus)





from sklearn.feature_extraction.text import TfidfVectorizer


tfidfvect = TfidfVectorizer()
X = tfidfvect.fit(corpus).transform(corpus)  # tfidfvect.fit_transform(corpus) 와 동일
X


# 문서에 토큰이 더 많이 나타날수록 가중치는 더 커진다 TF
# 그러나 토큰이 여러문서에 많이 표시될수록 가중치는 감소한다. DF
dtm = X.toarray()
dtm


display_transform_dtm(tfidfvect, corpus)


tfidfvect.idf_



