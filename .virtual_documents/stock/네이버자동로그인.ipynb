id='test@naver.com'
pw='1234'


# 셀레니움 브라우저의 동작을 자동화 하는 패키지
from selenium import webdriver
from selenium.webdriver.chrome.options import Options
from selenium.webdriver.common.by import By
from selenium.webdriver.common.keys import Keys


# 브라우저 종료 방지 옵션
chrome_options = Options()
chrome_options.add_experimental_option('detach', True)
# 웹드라이버를 이용한 브라우저 제어
driver = webdriver.Chrome(options=chrome_options)

#페이지가 모두 로드될때 까지 최대 1초 대기
driver.implicitly_wait(1)


# !pip install pyperclip


import pyperclip


driver.get('http://www.naver.com')


driver.find_element(By.CSS_SELECTOR,'#account > div > a').click()


# driver.find_element(By.CSS_SELECTOR,'#id').send_keys(id)
pyperclip.copy(id)
driver.find_element(By.CSS_SELECTOR,'#id').send_keys(Keys.CONTROL,'v')


# driver.find_element(By.CSS_SELECTOR,'#pw').send_keys(pw)
pyperclip.copy(pw)
driver.find_element(By.CSS_SELECTOR,'#pw').send_keys(Keys.CONTROL,'v')


driver.find_element(By.CSS_SELECTOR,'#log\\.login').click()









