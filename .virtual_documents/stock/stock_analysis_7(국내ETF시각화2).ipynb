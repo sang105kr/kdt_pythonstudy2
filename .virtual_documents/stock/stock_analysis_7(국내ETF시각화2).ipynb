# 데이터 분석 패키지
import numpy as np
import pandas as pd


# 모든 컬럼을 출력하도록 설정
pd.set_option('display.max_columns', None)  # None으로 설정하면 모든 컬럼 출력
# 모든 행을 출력하도록 설정
pd.set_option('display.max_rows', 30)  # None으로 설정하면 모든 행 출력


# 시각화 패키지
import seaborn as sns
import matplotlib.pyplot as plt


# matplotlib 한글지원 패키지
import koreanize_matplotlib


# 날짜는 파이썬 표준라이브러리 datetime 사용
import datetime
# 오늘 날짜 구하기
today = datetime.datetime.today()
today = today.strftime('%Y-%m-%d')
today = '2024-12-19'


df_etfs = pd.read_csv(f'new_etf_{today}.csv')


df_etfs.shape


df_etfs.head(1)





df_num_vars = df_etfs.select_dtypes(np.number).drop(['Category','RiseFall'],axis=1)
df_num_vars


df_num_vars.columns


num_cols = df_num_vars.columns.tolist()
num_cols


df_num_vars[num_cols].plot(kind='hist')


df_num_vars[num_cols].hist(figsize=(10,10),bins=50)
plt.show()





def findAttr( module, txt ) :
  import re
  data_list = dir(module)
  pattern = re.compile(rf'{txt}')

  matches = [item for item in data_list if pattern.search(item)]
  return matches
 
findAttr(df_num_vars[num_cols],'hist')


sns.histplot(data=df_etfs, x='MarCap')


tmp = pd.melt(df_etfs)
tmp


g = sns.FacetGrid(data=tmp ,col='variable', col_wrap=4)
g.map(sns.histplot,'value')


df_num_vars[num_cols]
plt.show()
