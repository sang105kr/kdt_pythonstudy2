# 데이터 분석 패키지
import numpy as np
import pandas as pd


# 모든 컬럼을 출력하도록 설정
pd.set_option('display.max_columns', None)  # None으로 설정하면 모든 컬럼 출력
# 모든 행을 출력하도록 설정
pd.set_option('display.max_rows', 30)  # None으로 설정하면 모든 행 출력


# 시각화 패키지
import seaborn as sns
import matplotlib.pyplot as plt


# matplotlib 한글지원 패키지
import koreanize_matplotlib


# 날짜는 파이썬 표준라이브러리 datetime 사용
import datetime
# 오늘 날짜 구하기
today = datetime.datetime.today()
today = today.strftime('%Y-%m-%d')
today = '2024-12-19'


df_etfs = pd.read_csv(f'new_etf_{today}.csv')


df_etfs.shape


df_etfs.head(1)





df_num_vars = df_etfs.select_dtypes(np.number).drop(['Category','RiseFall'],axis=1)
df_num_vars


df_num_vars.columns


num_cols = df_num_vars.columns.tolist()
num_cols


df_num_vars[num_cols].plot(kind='hist')


df_num_vars[num_cols].hist(figsize=(10,10),bins=50)
plt.show()





def findAttr( module, txt ) :
  import re
  data_list = dir(module)
  pattern = re.compile(rf'{txt}')

  matches = [item for item in data_list if pattern.search(item)]
  return matches
 
findAttr(df_num_vars[num_cols],'hist')


sns.histplot(data=df_etfs, x='MarCap')


tmp = pd.melt(df_num_vars)
tmp


g = sns.FacetGrid(data=tmp ,col='variable', col_wrap=4, height=4, aspect=1.2, sharex=False, sharey=False, palette='Blues_r')
g.map(sns.histplot,'value',bins=50, kde=True)
g.map(sns.rugplot,'value')



g = sns.FacetGrid(data=tmp ,col='variable', col_wrap=4, height=4, aspect=1.2, sharex=False, sharey=False, palette='Blues_r')
g.map(sns.ecdfplot,'value')





num_cols


# 수치형 변수의 스케일 조정 파생열 추가
for col in num_cols:
  df_etfs[f'{col}_z_score'] = (df_etfs[col]-df_etfs[col].mean()) / df_etfs[col].std()
  df_etfs[f'{col}_norm'] = (df_etfs[col] - df_etfs[col].min()) / (df_etfs[col].max() - df_etfs[col].min())



df_etfs.head(1)


df_etfs.filter(regex=f'(_norm)$',axis=1).hist(figsize=(8,6))
plt.tight_layout()
plt.show()



df_etfs.filter(regex=f'(_norm)$',axis=1).plot(kind='kde',figsize=(20,10))
plt.legend(fontsize=15)
plt.show()


tmp = pd.melt(df_etfs.filter(regex=f'(_norm)$',axis=1))
g=sns.FacetGrid(data=tmp, col='variable',col_wrap=3, aspect=1.2, height=4, sharex=False)
g.map_dataframe(sns.kdeplot, x='value')


tmp = pd.melt(df_etfs.filter(regex=f'(_z_score)$',axis=1))
g=sns.FacetGrid(data=tmp, col='variable',col_wrap=3, aspect=1.2, height=4, sharex=False)
g.map_dataframe(sns.kdeplot, x='value')





# 브랜드에 대한 3개월 수익률의 평균 시각화
g = sns.barplot(data=df_etfs,
                y='Brand',
                x='EarningRate',estimator=np.mean)
g.set_title('브랜드별 평균 3개월 수익률')


# 브랜드에 대한 3개월 수익률의 평균을 groupby로 직접 구하기
brand_3month_mean = df_etfs.groupby(['Brand']).agg({'EarningRate':'mean'})
brand_3month_mean


brand_3month_mean.sort_values(by='EarningRate').plot.barh(title='3개월 수익률 상한치 이상인 etf종목.xlsx',figsize=(10,8))
plt.show()


df_etfs.columns


# 브랜드에 대한 3개월 수익률의 평균 시각화
plt.figure(figsize=(10,7))
g = sns.barplot(data=df_etfs,
                y='Brand',
                x='EarningRate',
                hue='레버리지',
                errorbar='sd',  # 표준편차
                estimator=np.mean)
g.set_title('브랜드별 평균 3개월 수익률')
plt.show()


g = df_etfs.groupby(['Brand','레버리지']).agg({'EarningRate':'mean'})
g.style.background_gradient(cmap='Greens')


df_etfs.Name.tolist()


import re
matches = [item for item in df_etfs.Name.tolist() if re.compile(r'\d{1}X').search(item)]
matches


# 브랜드별 레버리지별 3개월 수익률에 대한 boxplot 시각화
plt.figure(figsize=(10,12))
sns.boxplot(data=df_etfs, x='EarningRate', y='Brand', hue='레버리지')
plt.show()


# 브랜드별 레버리지별 3개월 수익률에 대한 violinplot 시각화
plt.figure(figsize=(10,20))
sns.violinplot(data=df_etfs, x='EarningRate', y='Brand',hue='레버리지')
plt.show()


# 브랜드별 레버리지별 3개월 수익률에 대한 violinplot 시각화
g = sns.FacetGrid(data=df_etfs, col='Brand', col_wrap=3, height=4, sharex=False, sharey=False )
g.map_dataframe(sns.violinplot, x='EarningRate', hue='레버리지', palette='viridis', split=True)

# 범레 표시
g.add_legend(title='레버리지')
plt.show()


# 브랜드별 카테고리별 3개월 수익률에 대한 stripplot 시각화
g = sns.FacetGrid(data=df_etfs, col='Brand', col_wrap=3, height=4, sharex=False, sharey=False )
g.map_dataframe(sns.stripplot, y='CategoryName',x='EarningRate' )
plt.show()


sns.swarmplot?


# 브랜드별 카테고리별 3개월 수익률에 대한 swarmplot 시각화
g = sns.FacetGrid(data=df_etfs, col='Brand', col_wrap=3, height=4, sharex=False, sharey=False )

g.map_dataframe(sns.swarmplot, y='CategoryName',x='EarningRate', size=1 ) #size단위 point , 1 pint = 약 1/72인치
plt.show()





df_etfs.groupby(['Brand','레버리지'])['EarningRate'].describe().style.background_gradient(cmap='Greens')
df_etfs.query('레버리지 == True').groupby(['Brand','레버리지'])['EarningRate'].describe().style.background_gradient(cmap='Greens')





df_plus = df_etfs[df_etfs['Brand'] == 'PLUS']
df_plus


sns.barplot(data=df_plus, x='Brand', y='EarningRate',estimator=np.mean)
plt.show()


sns.boxplot(data=df_plus, x='Brand', y='EarningRate')
plt.show()


sns.boxenplot(data=df_plus, x='Brand', y='EarningRate')
plt.show()


df_plus['EarningRate'].hist(bins=30)
sns.histplot(data=df_plus, x='EarningRate')
plt.show()
sns.kdeplot(data=df_plus, x='EarningRate', fill=True)
plt.show()


sns.violinplot?


sns.violinplot(data=df_plus, y='EarningRate', x='Brand', inner='quartile', cut=6)


sns.violinplot(data=df_plus, y='EarningRate', x='Brand', hue='레버리지', inner='quartile', cut=3, split=True)


sns.violinplot(data=df_plus, y='EarningRate', x='Brand', hue='인버스', inner='quartile', cut=3, split=True)





fig, axes = plt.subplots(ncols=3,figsize=(8,3))
sns.boxplot(data=df_plus, y='EarningRate', x='Brand', ax=axes[0])
sns.boxenplot(data=df_plus, y='EarningRate', x='Brand', ax=axes[1])
sns.violinplot(data=df_plus, y='EarningRate', x='Brand', ax=axes[2])
plt.tight_layout()
plt.show()





sns.barplot(data=df_etfs, x='Volume', y='Brand', estimator=np.mean)
plt.show()


sns.countplot(data=df_etfs, y='Brand')
plt.show()


df_etfs['Brand'].unique()


sns.barplot(data=df_etfs[df_etfs['Brand'].isin(['KODEX', 'TIGER', 'RISE', 'ACE', 'SOL'])], x='Volume', y='Brand', estimator=np.mean)
plt.show()


sns.boxplot(data=df_etfs[df_etfs['Brand'].isin(['KODEX', 'TIGER', 'RISE', 'ACE', 'SOL'])], x='Volume', y='Brand')
plt.show()





sns.countplot(data=df_etfs, y='CategoryName')
plt.show()


sns.barplot(data=df_etfs, y='CategoryName', x='Volume')
plt.show()


sns.barplot(data=df_etfs, y='CategoryName', x='Amount')
plt.show()


sns.barplot(data=df_etfs, y='CategoryName', x='MarCap')
plt.show()


sns.barplot(data=df_etfs, y='CategoryName', x='EarningRate')
plt.show()





df_etfs.columns


# case1) 서브플롯 생성해서 시각화하기 (Axes레벨)
cols = df_etfs['CategoryName'].unique()
fig, axes = plt.subplots(nrows=len(cols),figsize=(6,40))
for i, col in enumerate(cols):
    sns.countplot(data=df_etfs[df_etfs['CategoryName'] == col], y='Brand', ax=axes[i])
    axes[i].set_title(col)
    axes[i].set_xlabel('빈도')
    axes[i].set_ylabel('브랜드')
plt.show()





# case2) catplot (Figure 레벨) 사용
g = sns.catplot(data=df_etfs, y='Brand', col='CategoryName', kind='count', col_wrap=1, height=4, aspect=2, sharex=False)
g.set_axis_labels('빈도','브랜드')

plt.subplots_adjust(top=0.9)
g.fig.suptitle('카테고리별 브랜드별 빈도수 시각화하기',fontsize=16)
plt.tight_layout()
plt.show()



# case3) FacetGrid (Figure 레벨) 사용
g = sns.FacetGrid(data=df_etfs, col='CategoryName', col_wrap=1, height=4, aspect=2, sharex=False)
g.map_dataframe(sns.countplot, y='Brand')
g.set_axis_labels('빈도','브랜드')

plt.subplots_adjust(top=0.9)
g.fig.suptitle('카테고리별 브랜드별 빈도수 시각화하기',fontsize=16)
plt.tight_layout()
plt.show()




