


import seaborn as sns
import matplotlib.pylab as plt
import koreanize_matplotlib


import pandas as pd
import numpy as np


df_titanic = sns.load_dataset('titanic')
df_titanic.head(2)


df_titanic.info()


df_titanic.describe()


df_titanic.describe(exclude=np.number)


df_titanic.isna().sum()


# 생존자와 사망자수
print(df_titanic['survived'].value_counts())
print(df_titanic['survived'].value_counts(normalize=True)*100)


# 클래스별 승객 수
print(df_titanic['class'].unique())
print(df_titanic['class'].value_counts())
print(df_titanic['class'].value_counts(normalize=True)*100)


# 성별 생존율
df_titanic.groupby('sex').agg({'survived':'mean'})*100


# 나이 분포 - histplot
sns.histplot(data=df_titanic['age'],bins=20,kde=True)
sns.rugplot(data=df_titanic['age'])
plt.title('나이 분포')
plt.xlabel('나이')
plt.ylabel('빈도')
plt.show()


# 나이 분포 - kdeplot
# bw_adjust(대역폭-bandwidth) : 수치가 적을수록 거칠게, 클수록 완만하게 표현
sns.kdeplot(data=df_titanic['age'])
sns.kdeplot(data=df_titanic['age'],bw_adjust=.5)
sns.kdeplot(data=df_titanic['age'],bw_adjust=.3)
plt.title('나이 분포')
plt.xlabel('나이')
plt.ylabel('빈도')
plt.show()


# 나이 분포 - ecdfplot
sns.ecdfplot(data=df_titanic['age'])
plt.title('나이 분포')
plt.xlabel('나이')
plt.ylabel('빈도')
plt.show()


# 클래스별 평균 운임
df_titanic.groupby('class').agg({'fare':'mean'})


# 승객나이의 중앙값과 평균
print(df_titanic['age'].median())
print(df_titanic['age'].mean())


# 가장 높은 운임을 낸 승객 정보
df_titanic[df_titanic['fare'] == df_titanic['fare'].max()]


# 각 클래스별 생존자 수
df_titanic.groupby('class').agg({'survived':'sum'})


# 각 클래스별 생존자 수 - 막대 그래프
sns.barplot(data=df_titanic, x='class' ,y='survived', estimator=np.sum, errorbar=None, hue='sex')


sns.FacetGrid?





# 사용자 정의 색상 팔레트
custom_palette = {
    'man': 'blue',
    'woman': 'pink',
    'child': 'green'
}


g = sns.FacetGrid(data=df_titanic, col='sex', row='embarked', sharex=False, sharey=False)
# g.map_dataframe(sns.barplot, x='class', y='survived',  hue='who', estimator=np.sum, errorbar=None, palette='Greens')
g.map_dataframe(sns.barplot, x='class', y='survived',  hue='who', estimator=np.sum, errorbar=None, palette=custom_palette)

# 그래프 제목 및 레이블 설정
g.set_axis_labels('Class', 'Survived')
g.set_titles(col_template='Sex: {col_name}', row_template='Embarked:{row_name}')
g.add_legend()

# 전체 figure 제목추가
plt.suptitle('성별 승선항구별 각 클래스 생존자 수 - 막대 그래프')
plt.tight_layout()
plt.show()


# 나이와 운임간의 관계표현 - scatterplot
sns.scatterplot(data=df_titanic, x='age', y='fare', hue='sex')
plt.show()


# 나이와 운임간의 관계표현 - regplot
sns.regplot(data=df_titanic, x='age', y='fare')
plt.show()


# 모든 수치형 변수간의 상관 관계 - 상관계수 구하기 corr() : -1 ~ 1
tmp = df_titanic.select_dtypes(np.number).corr()
tmp.style.background_gradient()


# 히트맵 : 다변수(수치형) 상관관계 분석 시각화
sns.heatmap(data=tmp, annot=True,fmt='.2f',cmap='Greens')
plt.title('수치형 다변수 상관관계 분석')
plt.show()


# 각 클래스에 따른 운임 평균 - 막대그래프
sns.barplot(data=df_titanic, x='class', y='fare', hue='sex', palette='Blues',errorbar=None)


# 각 클래스에 따른 운임 평균 - 선 그래프
sns.lineplot(data=df_titanic, x='class', y='fare', hue='age', palette='Blues',errorbar=None, estimator=np.mean)
plt.show()


# 각 클래스별 나이 분포 - 박스플롯
sns.boxplot(data=df_titanic, x='class', y='age')


# 각 클래스별 나이 분포 - 바이올린 플롯
sns.violinplot(data=df_titanic, x='class', y='age', hue='alone', split=True, palette='Set1')
plt.title('클래스별 나이 분포')
plt.show()


# 탑승객 분포
sns.countplot(data=df_titanic, x='sex')
plt.title('성별 분포')
plt.show()
sns.countplot(data=df_titanic, x='alone')
plt.title('혼자 여행자 분포')
plt.show()
sns.countplot(data=df_titanic, x='adult_male')
plt.title('성인 남성 분포')
plt.show()


sns.pairplot?


# age, fare, survived 변수간의 관계 표현 - pairplot
sns.pairplot(data=df_titanic[['age', 'fare', 'survived']],kind='reg' ,diag_kind='kde')
plt.show()


# age, fare, survived 변수간의 관계 표현 - pairplot
g = sns.PairGrid(data=df_titanic[['age', 'fare', 'survived']])
g.map_diag(sns.histplot)
g.map_lower(sns.scatterplot)
g.map_upper(sns.regplot)
plt.suptitle('age, fare, survived 변수간의 관계 표현')
plt.tight_layout()
plt.show()


sns.jointplot?


# 나이와 운임 관계 표현
sns.jointplot(data=df_titanic, x='age', y='fare')
plt.show()


# 성별에 따른 나이 분포
# jitter : 데이터 포인트들 사이의 겹침을 줄이기 위해 사용함, 데이터 포인트가 많을때
sns.stripplot(data=df_titanic, x='sex', y='age', hue='sex', palette='Greens', legend=True, jitter=True)
plt.title('성별에 따른 나이 분포')
plt.legend(title='sex')
plt.show()
sns.swarmplot(data=df_titanic, x='sex', y='age',hue='sex', palette='Greens', legend=True)
plt.title('성별에 따른 나이 분포')
plt.legend(title='sex')
plt.show()





plt.figure(figsize=(6, 4))
sns.countplot(data=df_titanic, x='survived')
plt.title('생존 여부별 승객 수')
plt.show()





plt.figure(figsize=(6, 4))
sns.histplot(data=df_titanic['age'], bins=20, kde=False)
plt.title('승객의 연령 분포')
plt.show()








df_titanic['age'].min(), df_titanic['age'].max()


# case1) 연령대 계산
(df_titanic['age'] // 10) * 10


pd.cut?


pd.cut(np.array([1, 7, 5, 4, 6, 3]), 3, labels=["bad", "medium", "good"])


age_bins = np.arange(0, 91, 10)
df_titanic['age_bin'] = pd.cut(df_titanic['age'], bins=age_bins, labels= np.arange(0, 81, 10))
# df_titanic['age_bin'] = pd.cut(df_titanic['age'], bins=age_bins)

# 연령대별 생존자 수 계산
age_bin_survived = df_titanic.groupby('age_bin').agg({'survived':'sum'}).reset_index()
# age_bin_survived['age_bin'] = age_bin_survived['age_bin'].astype(np.str_)  # 연령대 구간을 문자열로 변환

# 선 그래프 그리기
plt.figure(figsize=(8, 6))
sns.lineplot(data=age_bin_survived, x='age_bin', y='survived', marker='o')  # x와 y 인자 명확하게 지정
plt.title('연령대별 생존자 수')
plt.xlabel('연령대')
plt.ylabel('생존자 수')
plt.xticks(rotation=45)  # x축 라벨 회전
plt.show()





plt.figure(figsize=(10, 6))
sns.scatterplot(data=df_titanic, x='age', y='fare', hue='survived',  palette='Greens', alpha=0.6)
plt.title('연령과 요금에 따른 생존 여부')
plt.show()





plt.figure(figsize=(6, 4))
sns.boxplot(data=df_titanic, x='class', y='age')
plt.title('클래스별 연령 분포')
plt.show()





class_counts = df_titanic['class'].value_counts()
plt.figure(figsize=(6, 4))
plt.pie(class_counts, labels=class_counts.index, autopct='%1.1f%%', startangle=90, counterclock=False, wedgeprops={'width': 0.5})
plt.title('클래스별 승객 분포')
plt.show()





pd.crosstab(df_titanic['class'],df_titanic['survived'])


df_titanic.pivot_table(index='class', columns='survived', values='fare', aggfunc='count')


survival_class = df_titanic.pivot_table(index='class', columns='survived', values='fare', aggfunc='count')
survival_class.plot.bar(stacked=True)
# survival_class.plot(kind='bar', stacked=True)
plt.title('클래스별 생존자 및 사망자 수')
plt.show()





df_titanic['pclass'].value_counts()


# df_titanic = df_titanic.dropna(subset=['age', 'fare'])  # 'age'와 'fare'에 대한 결측치 제거

# 승객 클래스 별 승객 수 계산
passenger_counts = df_titanic['pclass'].value_counts()

# 원본 데이터에 승객 수 정보 추가
df_titanic['passenger_count'] = df_titanic['pclass'].map(passenger_counts)

# 버블 차트 생성
plt.figure(figsize=(10, 6))
sns.scatterplot(data=df_titanic, x='age_bin', y='fare', size='passenger_count', sizes=(20, 200), hue='survived', style='survived', alpha=0.5)

# 차트 제목 및 레이블 설정
plt.title('연령, 요금 및 생존 여부에 따른 버블 차트')
plt.xlabel('연령')
plt.ylabel('요금')

# 그래프 표시
plt.show()





embark_counts = df_titanic['embark_town'].value_counts()
plt.figure(figsize=(6, 4))
plt.pie(embark_counts, labels=embark_counts.index, autopct='%1.1f%%', startangle=90, counterclock=False)
plt.title('탑승 항구별 승객 분포')
plt.show()





survival_heatmap = df_titanic.pivot_table(index='class', columns='sex', values='survived', aggfunc='mean')
sns.heatmap(survival_heatmap, annot=True, fmt=".2f", cmap="coolwarm")
plt.title('클래스별, 성별 생존율')
plt.show()





sns.pairplot?


# df_titanic = df_titanic.dropna(subset=['age', 'fare'])  # 'age'와 'fare'에 대한 결측치 제거

# Pairplot 생성
pairplot = sns.pairplot(df_titanic, vars=['age', 'fare', 'pclass'], hue='survived', palette='viridis')

# 범례 위치 조정
pairplot._legend.set_bbox_to_anchor((1, 0.85))  # 범례를 차트 바깥 오른쪽 상단으로 이동

# 제목 추가
plt.suptitle('연령, 클래스, 요금 및 생존 여부에 따른 다변량 관계', fontsize=16, verticalalignment='top')

# 레이아웃 조정
plt.tight_layout()

# 그래프 표시
plt.show()





plt.figure(figsize=(8, 6))
sns.violinplot(data=df_titanic, x='class', y='fare', hue='sex', split=True)
plt.title('클래스와 성별에 따른 요금 분포')
plt.show()





mean_fare_by_age = df_titanic.groupby('age_bin').agg({'fare':'mean'})
plt.figure(figsize=(8, 6))
mean_fare_by_age.plot.line()
plt.title('연령대별 평균 요금 변화')
plt.show()








cls_list = df_titanic['class'].unique().sort_values()
fig, axes = plt.subplots(nrows=1, ncols=len(cls_list), figsize=(20, 6))
for i, cls in enumerate(cls_list):
    sns.barplot(data=df_titanic[df_titanic['class']==cls], x='sex', y='survived', hue='age_bin',  ax=axes[i])
    axes[i].set_title(f'{cls} Class')
plt.show()



