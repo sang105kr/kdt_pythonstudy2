


import seaborn as sns
import matplotlib.pylab as plt
import koreanize_matplotlib


import pandas as pd
import numpy as np


df_titanic = sns.load_dataset('titanic')
df_titanic.head(2)


df_titanic.info()


df_titanic.describe()


df_titanic.describe(exclude=np.number)


df_titanic.isna().sum()


# 생존자와 사망자수
print(df_titanic['survived'].value_counts())
print(df_titanic['survived'].value_counts(normalize=True)*100)


# 클래스별 승객 수
print(df_titanic['class'].unique())
print(df_titanic['class'].value_counts())
print(df_titanic['class'].value_counts(normalize=True)*100)


# 성별 생존율
df_titanic.groupby('sex').agg({'survived':'mean'})*100


# 나이 분포 - histplot
sns.histplot(data=df_titanic['age'],bins=20,kde=True)
sns.rugplot(data=df_titanic['age'])
plt.title('나이 분포')
plt.xlabel('나이')
plt.ylabel('빈도')
plt.show()


# 나이 분포 - kdeplot
# bw_adjust(대역폭-bandwidth) : 수치가 적을수록 거칠게, 클수록 완만하게 표현
sns.kdeplot(data=df_titanic['age'])
sns.kdeplot(data=df_titanic['age'],bw_adjust=.5)
sns.kdeplot(data=df_titanic['age'],bw_adjust=.3)
plt.title('나이 분포')
plt.xlabel('나이')
plt.ylabel('빈도')
plt.show()


# 나이 분포 - ecdfplot
sns.ecdfplot(data=df_titanic['age'])
plt.title('나이 분포')
plt.xlabel('나이')
plt.ylabel('빈도')
plt.show()


# 클래스별 평균 운임
df_titanic.groupby('class').agg({'fare':'mean'})


# 승객나이의 중앙값과 평균
print(df_titanic['age'].median())
print(df_titanic['age'].mean())


# 가장 높은 운임을 낸 승객 정보
df_titanic[df_titanic['fare'] == df_titanic['fare'].max()]


# 각 클래스별 생존자 수
df_titanic.groupby('class').agg({'survived':'sum'})


# 각 클래스별 생존자 수 - 막대 그래프
sns.barplot(data=df_titanic, x='class' ,y='survived', estimator=np.sum, errorbar=None, hue='sex')


sns.FacetGrid?





# 사용자 정의 색상 팔레트
custom_palette = {
    'man': 'blue',
    'woman': 'pink',
    'child': 'green'
}


g = sns.FacetGrid(data=df_titanic, col='sex', row='embarked', sharex=False, sharey=False)
# g.map_dataframe(sns.barplot, x='class', y='survived',  hue='who', estimator=np.sum, errorbar=None, palette='Greens')
g.map_dataframe(sns.barplot, x='class', y='survived',  hue='who', estimator=np.sum, errorbar=None, palette=custom_palette)

# 그래프 제목 및 레이블 설정
g.set_axis_labels('Class', 'Survived')
g.set_titles(col_template='Sex: {col_name}', row_template='Embarked:{row_name}')
g.add_legend()

# 전체 figure 제목추가
plt.suptitle('성별 승선항구별 각 클래스 생존자 수 - 막대 그래프')
plt.tight_layout()
plt.show()


# 나이와 운임간의 관계표현 - scatterplot
sns.scatterplot(data=df_titanic, x='age', y='fare', hue='sex')
plt.show()


# 나이와 운임간의 관계표현 - regplot
sns.regplot(data=df_titanic, x='age', y='fare')
plt.show()


# 모든 수치형 변수간의 상관 관계 - 상관계수 구하기 corr() : -1 ~ 1
tmp = df_titanic.select_dtypes(np.number).corr()
tmp.style.background_gradient()


# 히트맵 : 다변수(수치형) 상관관계 분석 시각화
sns.heatmap(data=tmp, annot=True,fmt='.2f',cmap='Greens')
plt.title('수치형 다변수 상관관계 분석')
plt.show()


# 각 클래스에 따른 운임 평균 - 막대그래프
sns.barplot(data=df_titanic, x='class', y='fare', hue='sex', palette='Blues',errorbar=None)


# 각 클래스에 따른 운임 평균 - 선 그래프
sns.lineplot(data=df_titanic, x='class', y='fare', hue='age', palette='Blues',errorbar=None, estimator=np.mean)
plt.show()


# 각 클래스별 나이 분포 - 박스플롯
sns.boxplot(data=df_titanic, x='class', y='age')


# 각 클래스별 나이 분포 - 바이올린 플롯
sns.violinplot(data=df_titanic, x='class', y='age', hue='alone', split=True, palette='Set1')
plt.title('클래스별 나이 분포')
plt.show()


# 탑승객 분포
sns.countplot(data=df_titanic, x='sex')
plt.title('성별 분포')
plt.show()
sns.countplot(data=df_titanic, x='alone')
plt.title('혼자 여행자 분포')
plt.show()
sns.countplot(data=df_titanic, x='adult_male')
plt.title('성인 남성 분포')
plt.show()


sns.pairplot?


# age, fare, survived 변수간의 관계 표현 - pairplot
sns.pairplot(data=df_titanic[['age', 'fare', 'survived']],kind='reg' ,diag_kind='kde')
plt.show()


# age, fare, survived 변수간의 관계 표현 - pairplot
g = sns.PairGrid(data=df_titanic[['age', 'fare', 'survived']])
g.map_diag(sns.histplot)
g.map_lower(sns.scatterplot)
g.map_upper(sns.regplot)
plt.suptitle('age, fare, survived 변수간의 관계 표현')
plt.tight_layout()
plt.show()


sns.jointplot?


# 나이와 운임 관계 표현
sns.jointplot(data=df_titanic, x='age', y='fare')
plt.show()


# 성별에 따른 나이 분포
sns.stripplot(data=df_titanic, x='sex', y='age')



