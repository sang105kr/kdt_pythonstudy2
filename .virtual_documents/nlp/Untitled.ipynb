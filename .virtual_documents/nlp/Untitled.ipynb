import pandas as pd
import numpy as np


# 모든 컬럼을 출력하도록 설정
pd.set_option('display.max_columns', None)  # None으로 설정하면 모든 컬럼 출력 default:20
# 모든 행을 출력하도록 설정
pd.set_option('display.max_rows', 10)  # None으로 설정하면 모든 행 출력 default:50
# 모든 열의 최대 너비를 설정
pd.set_option('display.max_colwidth', None) # None으로 설정하면 모든 내용을 출력 default:60


import seaborn as sns
import matplotlib.pyplot as plt
import koreanize_matplotlib
from wordcloud import WordCloud


# 정규표현식
import re


# 날짜는 파이썬 표준라이브러리 datetime 사용
import datetime


# 오늘 날짜 구하기
today = datetime.datetime.today()
print(today)
today = today.strftime('%Y-%m-%d')
today


df = pd.read_csv(f'../stock/news_preprocessed_{today}.csv')
df.head(1)


df.info()


df['제목']


from sklearn.feature_extraction.text import CountVectorizer,TfidfVectorizer


cvect = CountVectorizer()
cvect_dtm = cvect.fit_transform(df['제목_명사'])
cvect_dtm


tvect = TfidfVectorizer()
tvect_dtm = tvect.fit_transform(df['제목_명사'])
tvect_dtm


cvect_dtm.toarray(), tvect_dtm.toarray()


cvect.get_feature_names_out()


df_cvect_dtm = pd.DataFrame(cvect_dtm.toarray(),columns=cvect.get_feature_names_out())
df_tvect_dtm = pd.DataFrame(tvect_dtm.toarray(),columns=tvect.get_feature_names_out())


df_cvect_dtm.shape, df_tvect_dtm.shape


df_cvect_dtm.sum().nlargest(20).sort_values(ascending=True).plot.barh(title='BOW',figsize=(6,4))


df_tvect_dtm.sum().nlargest(20).sort_values(ascending=True).plot.barh(title='TF-IDF 가중치 합',figsize=(6,4))


def display_word_cloud(dict, max_words=30, width=1200, height=600) :
    font_path = r'C:\Windows\Fonts\malgun.ttf'
    stopwords = ['코스피','코스닥','종목','ETF','주식','주가','상승','하락','상장','투자','서학','동학','기업','시장'
                 '시총','목표가','올해','내년','국내','해외','외국인','소식에','기대감','한국','증시']
    word_cloud = WordCloud(font_path=font_path, 
                      width=width, 
                      height=height,
                      stopwords=stopwords,
                      background_color='white',
                      max_words = max_words,
                      min_word_length = 2,
                      random_state=2024
                    ).generate_from_frequencies(dict)
    plt.figure(figsize=(6, 4))    
    plt.imshow(word_cloud,interpolation='bilinear')
    plt.axis("off")
    plt.show()
    return word_cloud


display_word_cloud(df_cvect_dtm.sum().nlargest(30).to_dict())
display_word_cloud(df_tvect_dtm.sum().nlargest(30).to_dict())





from sklearn.decomposition import LatentDirichletAllocation


# n_components : 주제수
# 문서 X 주제
n_components = 3
LDA_model = LatentDirichletAllocation(n_components=n_components, random_state=2025)
cvect_W = LDA_model.fit_transform(df_tvect_dtm)
print(cvect_W.shape)
cvect_W


# 문서의 주제 확률값의 합은 1
cvect_W.sum(axis=1)


# 주제 X 단어
cvect_H = LDA_model.components_
print(cvect_H.shape)
cvect_H


# 문서 X 주제 데이터프레임
df_cvect_W = pd.DataFrame(cvect_W)
df_cvect_W['제목'] = df['제목']
df_cvect_W['제목_명사'] = df['제목_명사']
df_cvect_W


# 1번 주제 확률이 높은 상위 5개 문서 보기
df_cvect_W.sort_values(by=1,ascending=False).head(5)


# 주제 X 단어
df_cvect_lda_topic = pd.DataFrame(cvect_H, columns=cvect.get_feature_names_out())
df_cvect_lda_topic


# 첫번째 주제와 연관성 있는 상위 30개 단어
df_cvect_lda_topic.loc[0].nlargest(30)


# 첫번째 주제와 연관성 있는 상위 20개 단어 - 시각화(바차트)
df_cvect_lda_topic.loc[0].nlargest(20).sort_values(ascending=True).plot.barh(figsize=(5,4))


# 주제별로 상위 키워드를 막대그래프로 시각화합니다.
# model - LDA모델
# feature_names - 단어
# n_top_words - 주제와 연관된 상위 단어
# title - 그래프 제목 
# n_topics - 주제 수
def plot_top_words(model, feature_names, n_top_words, title, n_topics=5):    
    
    df_topic = pd.DataFrame(model.components_, columns=feature_names)
    
    fig, axes = plt.subplots(1, n_topics, figsize=(4 * n_topics, 12), sharex=True)
    axes = axes.flatten()

    for topic_idx in df_topic.index:
        ax = axes[topic_idx]
        df_topic.loc[topic_idx].nlargest(n_top_words).plot.barh(ax=ax)
        ax.invert_yaxis()
        ax.set_title(f"Topic {topic_idx + 1}", fontdict={"fontsize": 20})
        ax.tick_params(axis="both", which="major", labelsize=15)
        for i in "top right".split():
            ax.spines[i].set_visible(False)

        fig.suptitle(title, fontsize=30)
        plt.subplots_adjust(top=0.90, bottom=0.05, wspace=0.90, hspace=0.3)


plot_top_words(LDA_model,cvect.get_feature_names_out(),20,'주제별 상위 단어추출',n_components)


df_cvect_lda_topic.loc[0]


for idx in range(n_components) :
    display_word_cloud(df_cvect_lda_topic.loc[idx].to_dict(),30)
    df_cvect_lda_topic.loc[idx].nlargest(30).sort_values(ascending=True).plot.barh(figsize=(5,4))






