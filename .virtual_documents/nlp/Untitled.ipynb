import pandas as pd
import numpy as np


# 모든 컬럼을 출력하도록 설정
pd.set_option('display.max_columns', None)  # None으로 설정하면 모든 컬럼 출력 default:20
# 모든 행을 출력하도록 설정
pd.set_option('display.max_rows', 10)  # None으로 설정하면 모든 행 출력 default:50
# 모든 열의 최대 너비를 설정
pd.set_option('display.max_colwidth', None) # None으로 설정하면 모든 내용을 출력 default:60


import seaborn as sns
import matplotlib.pyplot as plt
import koreanize_matplotlib
from wordcloud import WordCloud


# 정규표현식
import re


# 날짜는 파이썬 표준라이브러리 datetime 사용
import datetime


# 오늘 날짜 구하기
today = datetime.datetime.today()
print(today)
today = today.strftime('%Y-%m-%d')
today


df = pd.read_csv(f'../stock/news_preprocessed_{today}.csv')
df.head(1)


from sklearn.feature_extraction.text import CountVectorizer,TfidfVectorizer


cvect = CountVectorizer()
cvect_dtm = cvect.fit_transform(df['제목_명사'])
cvect_dtm


tvect = TfidfVectorizer()
tvect_dtm = tvect.fit_transform(df['제목_명사'])
tvect_dtm





# 코사인 유사도
from sklearn.metrics.pairwise import cosine_similarity


cosine_similarity?


cosin_matrix = cosine_similarity(tvect_dtm,tvect_dtm)
cosin_matrix


cosin_matrix.shape


sns.heatmap(cosin_matrix, cmap='Blues_r')


df.shape, cosin_matrix.shape


pd.DataFrame(cosin_matrix).style.background_gradient(cmap='Blues_r')


# 첫번째 문서와 유사도가 높은 문서 10개 추출
pd.DataFrame(cosin_matrix).loc[0].nlargest(10)


df_cosine = df[['제목','제목_명사']].copy()
df_cosine['유사도_0'] = pd.DataFrame(cosin_matrix)[0]
df_cosine.nlargest(10,'유사도_0')


# 0번 문서와 유사도가 낮은 문서순
df_cosine.nsmallest(10,'유사도_0')





def find_similarity(idx, n=5) :
    ''' 유사도가 높은 문서를 반환 '''
    df_cosine = df[['제목','제목_명사']].copy()
    df_cosine[f'유사도_{idx}'] = pd.DataFrame(cosin_matrix)[idx]
    return df_cosine.nlargest(n,f'유사도_{idx}')


find_similarity(4)





from sklearn.metrics.pairwise import euclidean_distances


euclidean_distances?


ed_similarity = euclidean_distances(tvect_dtm,tvect_dtm)
ed_similarity


ed_similarity.shape


# 최소, 최대값확인
ed_similarity.min(),ed_similarity.max()


ed_matrix = 1 - (ed_similarity / ed_similarity.max())


sns.heatmap(ed_matrix, cmap='Blues_r')





def find_ed_similarity(idx, n=5) :
    ''' 유사도가 높은 문서를 반환 '''
    df_ed = df[['제목','제목_명사']].copy()
    df_ed[f'유사도_{idx}'] = pd.DataFrame(ed_matrix)[idx]
    return df_ed.nlargest(n,f'유사도_{idx}')


find_ed_similarity(31)








from sklearn.metrics.pairwise import pairwise_distances,PAIRWISE_DISTANCE_FUNCTIONS


pairwise_distances?


jd_similarity = pairwise_distances(tvect_dtm.toarray(), tvect_dtm.toarray(), metric='jaccard')
jd_similarity


jd_similarity.min(), jd_similarity.max()


sns.heatmap(jd_similarity, cmap='Blues_r')



