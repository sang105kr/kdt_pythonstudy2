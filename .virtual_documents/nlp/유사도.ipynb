import numpy as np

def euclidean_distance(A, B):
    return np.sqrt(np.sum((A-B)**2))


doc1 = np.array([1,1,1,1,0,0,0])
doc2 = np.array([2,2,2,2,0,0,0])
doc3 = np.array([0,0,0,1,1,1,1])


print(f"1. 문서1-문서2 간 유사도: {euclidean_distance(doc1, doc2)}")
print(f"2. 문서1-문서3 간 유사도: {euclidean_distance(doc1, doc3)}")
print(f"3. 문서2-문서3 간 유사도: {euclidean_distance(doc2, doc3)}")



# 영화
#    LOVE   MONEY
# A  100     0
# B   10     0
# C    0     10


import numpy as np
from numpy import dot
from numpy.linalg import norm
def cos_sim(A, B):
  return dot(A, B)/(norm(A)*norm(B))



doc1 = np.array([0,1,1,1])
doc2 = np.array([1,0,1,1])
doc3 = np.array([2,0,2,2])


print('문서 1과 문서2의 유사도 :',cos_sim(doc1, doc2))
print('문서 1과 문서3의 유사도 :',cos_sim(doc1, doc3))
print('문서 2와 문서3의 유사도 :',cos_sim(doc2, doc3))


doc1 = "apple banana everyone like likey watch card holder"
doc2 = "apple banana coupon passport love you"


tokenized_doc1 = doc1.split()
tokenized_doc2 = doc2.split()



tokenized_doc1
tokenized_doc2


union = set(tokenized_doc1).union(set(tokenized_doc2))
print('문서1과 문서2의 합집합 :',union)



intersection = set(tokenized_doc1).intersection(set(tokenized_doc2))
intersection


print('자카드 유사도 :',len(intersection)/len(union))



