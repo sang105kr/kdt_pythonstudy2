{
 "cells": [
  {
   "cell_type": "code",
   "execution_count": 1,
   "metadata": {
    "colab": {
     "background_save": true
    },
    "id": "rjwuT0ooQCne"
   },
   "outputs": [],
   "source": [
    "class Person :\n",
    "\n",
    "  #정적 필드\n",
    "  national = '한국'\n",
    "\n",
    "  # 생성자 메소드\n",
    "  def __init__(self,name,age) :\n",
    "    # 인스턴스 필드\n",
    "    self._name = name\n",
    "    self._age = age\n",
    "    # national = '미국'  => national은 지역변수\n",
    "    Person.national = '미국'  # 정적필드는 클래스명.필드명 으로 접근\n",
    "\n",
    "  # 인스턴스 메소드\n",
    "  def smile(self) :\n",
    "    print('웃다')\n",
    "\n",
    "  def eat(self) :\n",
    "    print('먹다')\n",
    "\n",
    "  # 정적 메소드\n",
    "  @staticmethod\n",
    "  def staticMethod():\n",
    "    print('정적메소드')\n",
    "\n",
    "  # getter 메소드\n",
    "  @property\n",
    "  def name(self) :\n",
    "    return self._name\n",
    "\n",
    "  @property\n",
    "  def age(self) :\n",
    "    return self._name\n",
    "\n",
    "  # # setter 메소드\n",
    "  @name.setter\n",
    "  def name(self,name) :\n",
    "    self._name = name\n",
    "\n",
    "  @age.setter\n",
    "  def age(self,age) :\n",
    "    self._age = age\n",
    "\n",
    "  def __str__(self) :\n",
    "    print(f'{self._name}-{self._age}')\n",
    "\n"
   ]
  },
  {
   "cell_type": "code",
   "execution_count": 2,
   "metadata": {
    "colab": {
     "background_save": true
    },
    "id": "2sHCgTECQj-M"
   },
   "outputs": [],
   "source": [
    "p1 = Person('홍길동',10)\n",
    "p2 = Person('홍길순',20)"
   ]
  },
  {
   "cell_type": "code",
   "execution_count": 3,
   "metadata": {
    "colab": {
     "background_save": true,
     "base_uri": "https://localhost:8080/"
    },
    "executionInfo": {
     "elapsed": 6,
     "status": "ok",
     "timestamp": 1732857408635,
     "user": {
      "displayName": "sanghak yi",
      "userId": "04049407183115688246"
     },
     "user_tz": -540
    },
    "id": "7eVaw1KVQzYo",
    "outputId": "e6ec462a-b90b-4836-d05d-673532a3dff0"
   },
   "outputs": [
    {
     "data": {
      "text/plain": [
       "(2724370610800, 2724370598128)"
      ]
     },
     "execution_count": 3,
     "metadata": {},
     "output_type": "execute_result"
    }
   ],
   "source": [
    "id(p1), id(p2)"
   ]
  },
  {
   "cell_type": "code",
   "execution_count": 4,
   "metadata": {
    "colab": {
     "background_save": true
    },
    "id": "QD3yEGTdQ9CQ"
   },
   "outputs": [
    {
     "name": "stdout",
     "output_type": "stream",
     "text": [
      "<class '__main__.Person'>\n"
     ]
    }
   ],
   "source": [
    "print(type(p1))"
   ]
  },
  {
   "cell_type": "code",
   "execution_count": 5,
   "metadata": {
    "colab": {
     "background_save": true
    },
    "id": "D7rOfbhrRBOM"
   },
   "outputs": [
    {
     "name": "stdout",
     "output_type": "stream",
     "text": [
      "홍길동 홍길동\n"
     ]
    }
   ],
   "source": [
    "print(p1.name, p1.age)"
   ]
  },
  {
   "cell_type": "code",
   "execution_count": 6,
   "metadata": {
    "colab": {
     "background_save": true
    },
    "id": "uyoaB11XROTF"
   },
   "outputs": [
    {
     "name": "stdout",
     "output_type": "stream",
     "text": [
      "웃다\n"
     ]
    }
   ],
   "source": [
    "p1.smile()"
   ]
  },
  {
   "cell_type": "code",
   "execution_count": 7,
   "metadata": {
    "colab": {
     "background_save": true,
     "base_uri": "https://localhost:8080/",
     "height": 35
    },
    "executionInfo": {
     "elapsed": 329,
     "status": "ok",
     "timestamp": 1732857410260,
     "user": {
      "displayName": "sanghak yi",
      "userId": "04049407183115688246"
     },
     "user_tz": -540
    },
    "id": "hQAz7x-sRp4X",
    "outputId": "dcfedb93-0e56-4ab4-93ab-733663d29035"
   },
   "outputs": [
    {
     "data": {
      "text/plain": [
       "'미국'"
      ]
     },
     "execution_count": 7,
     "metadata": {},
     "output_type": "execute_result"
    }
   ],
   "source": [
    "Person.national"
   ]
  },
  {
   "cell_type": "code",
   "execution_count": 8,
   "metadata": {
    "colab": {
     "background_save": true
    },
    "id": "1s5TEY-PSoGs"
   },
   "outputs": [
    {
     "name": "stdout",
     "output_type": "stream",
     "text": [
      "정적메소드\n"
     ]
    }
   ],
   "source": [
    "Person.staticMethod()"
   ]
  },
  {
   "cell_type": "code",
   "execution_count": 9,
   "metadata": {
    "colab": {
     "background_save": true
    },
    "id": "gI-UugNgTNBU"
   },
   "outputs": [],
   "source": [
    "p1.name = '홍길서'"
   ]
  },
  {
   "cell_type": "code",
   "execution_count": 10,
   "metadata": {
    "colab": {
     "background_save": true
    },
    "id": "5jH87jfKWq6u"
   },
   "outputs": [
    {
     "name": "stdout",
     "output_type": "stream",
     "text": [
      "홍길서\n"
     ]
    }
   ],
   "source": [
    "print(p1.name)"
   ]
  },
  {
   "cell_type": "code",
   "execution_count": 11,
   "metadata": {
    "colab": {
     "background_save": true
    },
    "id": "g-m4ccnPWsv4"
   },
   "outputs": [],
   "source": [
    "p1.name = '홍길남'"
   ]
  },
  {
   "cell_type": "code",
   "execution_count": 12,
   "metadata": {
    "colab": {
     "background_save": true
    },
    "id": "G1arVEdgW2bF"
   },
   "outputs": [
    {
     "name": "stdout",
     "output_type": "stream",
     "text": [
      "홍길남\n"
     ]
    }
   ],
   "source": [
    "print(p1.name)"
   ]
  },
  {
   "cell_type": "code",
   "execution_count": 13,
   "metadata": {
    "colab": {
     "background_save": true,
     "base_uri": "https://localhost:8080/"
    },
    "executionInfo": {
     "elapsed": 314,
     "status": "ok",
     "timestamp": 1732857612394,
     "user": {
      "displayName": "sanghak yi",
      "userId": "04049407183115688246"
     },
     "user_tz": -540
    },
    "id": "vKW2KTXDXJn9",
    "outputId": "d91bb286-5687-4a00-a69e-af1ca1beb847"
   },
   "outputs": [
    {
     "data": {
      "text/plain": [
       "10"
      ]
     },
     "execution_count": 13,
     "metadata": {},
     "output_type": "execute_result"
    }
   ],
   "source": [
    "p1._age"
   ]
  },
  {
   "cell_type": "code",
   "execution_count": 14,
   "metadata": {
    "colab": {
     "background_save": true,
     "base_uri": "https://localhost:8080/",
     "height": 35
    },
    "executionInfo": {
     "elapsed": 7,
     "status": "ok",
     "timestamp": 1732857622532,
     "user": {
      "displayName": "sanghak yi",
      "userId": "04049407183115688246"
     },
     "user_tz": -540
    },
    "id": "WH72pxZhXMUo",
    "outputId": "1117d40a-00e4-49a6-f144-1735913dde1b"
   },
   "outputs": [
    {
     "data": {
      "text/plain": [
       "'홍길남'"
      ]
     },
     "execution_count": 14,
     "metadata": {},
     "output_type": "execute_result"
    }
   ],
   "source": [
    "p1._name"
   ]
  },
  {
   "cell_type": "code",
   "execution_count": 15,
   "metadata": {
    "colab": {
     "background_save": true,
     "base_uri": "https://localhost:8080/",
     "height": 35
    },
    "executionInfo": {
     "elapsed": 5,
     "status": "ok",
     "timestamp": 1732857889325,
     "user": {
      "displayName": "sanghak yi",
      "userId": "04049407183115688246"
     },
     "user_tz": -540
    },
    "id": "CGOgIjKsXO2n",
    "outputId": "d99c8418-cf34-4753-ff22-f162f43de1d4"
   },
   "outputs": [
    {
     "data": {
      "text/plain": [
       "'미국'"
      ]
     },
     "execution_count": 15,
     "metadata": {},
     "output_type": "execute_result"
    }
   ],
   "source": [
    "Person.national"
   ]
  },
  {
   "cell_type": "code",
   "execution_count": 16,
   "metadata": {
    "colab": {
     "background_save": true,
     "base_uri": "https://localhost:8080/",
     "height": 35
    },
    "executionInfo": {
     "elapsed": 326,
     "status": "ok",
     "timestamp": 1732857959836,
     "user": {
      "displayName": "sanghak yi",
      "userId": "04049407183115688246"
     },
     "user_tz": -540
    },
    "id": "94T_cgiBYMIN",
    "outputId": "bfb477a3-0dee-4f2c-ec54-d332902154cf"
   },
   "outputs": [
    {
     "data": {
      "text/plain": [
       "'미국'"
      ]
     },
     "execution_count": 16,
     "metadata": {},
     "output_type": "execute_result"
    }
   ],
   "source": [
    "p1.national"
   ]
  },
  {
   "cell_type": "markdown",
   "metadata": {
    "id": "WUD2WXcvgYW-"
   },
   "source": [
    "상속구조 확인하는 방법\n",
    "- \\_\\_bases\\_\\_사용\n",
    "- issubclass() 함수 사용\n",
    "- help() 함수\n",
    "- mro() 메소드  => 메소드 해석 순서(Method Resolution Order)\n",
    "- inspect모듈 사용하기"
   ]
  },
  {
   "cell_type": "code",
   "execution_count": 17,
   "metadata": {
    "colab": {
     "background_save": true
    },
    "id": "TL7KSEiNYWJq"
   },
   "outputs": [],
   "source": [
    "class Parent:\n",
    "  pass\n",
    "\n",
    "class Child(Parent) :\n",
    "  pass"
   ]
  },
  {
   "cell_type": "code",
   "execution_count": 18,
   "metadata": {
    "colab": {
     "background_save": true
    },
    "id": "T8wfewb-g8SL"
   },
   "outputs": [
    {
     "name": "stdout",
     "output_type": "stream",
     "text": [
      "(<class '__main__.Parent'>,)\n"
     ]
    }
   ],
   "source": [
    "print(Child.__bases__)"
   ]
  },
  {
   "cell_type": "code",
   "execution_count": 19,
   "metadata": {
    "colab": {
     "background_save": true
    },
    "id": "gs4YCuyghBfl"
   },
   "outputs": [
    {
     "name": "stdout",
     "output_type": "stream",
     "text": [
      "True\n",
      "False\n"
     ]
    }
   ],
   "source": [
    "print(issubclass(Child, Parent))\n",
    "print(issubclass(Parent, Child))"
   ]
  },
  {
   "cell_type": "code",
   "execution_count": 20,
   "metadata": {
    "colab": {
     "background_save": true
    },
    "id": "4Ru1ZPmAhN44"
   },
   "outputs": [
    {
     "name": "stdout",
     "output_type": "stream",
     "text": [
      "Help on class Child in module __main__:\n",
      "\n",
      "class Child(Parent)\n",
      " |  Method resolution order:\n",
      " |      Child\n",
      " |      Parent\n",
      " |      builtins.object\n",
      " |\n",
      " |  Data descriptors inherited from Parent:\n",
      " |\n",
      " |  __dict__\n",
      " |      dictionary for instance variables\n",
      " |\n",
      " |  __weakref__\n",
      " |      list of weak references to the object\n",
      "\n"
     ]
    }
   ],
   "source": [
    "help(Child)"
   ]
  },
  {
   "cell_type": "code",
   "execution_count": 21,
   "metadata": {
    "colab": {
     "background_save": true
    },
    "id": "gDzlI-PSha8T"
   },
   "outputs": [
    {
     "name": "stdout",
     "output_type": "stream",
     "text": [
      "[<class '__main__.D'>, <class '__main__.B'>, <class '__main__.C'>, <class '__main__.A'>, <class 'object'>]\n"
     ]
    }
   ],
   "source": [
    "class A:\n",
    "  pass\n",
    "\n",
    "class B(A):\n",
    "  pass\n",
    "\n",
    "class C(A):\n",
    "  pass\n",
    "\n",
    "class D(B, C):\n",
    "  pass\n",
    "\n",
    "print(D.mro())"
   ]
  },
  {
   "cell_type": "code",
   "execution_count": 22,
   "metadata": {
    "colab": {
     "background_save": true
    },
    "id": "oQmwoX93iVxu"
   },
   "outputs": [],
   "source": [
    "import inspect\n"
   ]
  },
  {
   "cell_type": "code",
   "execution_count": 23,
   "metadata": {
    "colab": {
     "background_save": true
    },
    "id": "pRnGTpIqi6Qt"
   },
   "outputs": [
    {
     "name": "stdout",
     "output_type": "stream",
     "text": [
      "(<class '__main__.D'>, <class '__main__.B'>, <class '__main__.C'>, <class '__main__.A'>, <class 'object'>)\n"
     ]
    }
   ],
   "source": [
    "print(inspect.getmro(D))"
   ]
  },
  {
   "cell_type": "code",
   "execution_count": 24,
   "metadata": {
    "colab": {
     "background_save": true,
     "base_uri": "https://localhost:8080/"
    },
    "executionInfo": {
     "elapsed": 335,
     "status": "ok",
     "timestamp": 1732860868556,
     "user": {
      "displayName": "sanghak yi",
      "userId": "04049407183115688246"
     },
     "user_tz": -540
    },
    "id": "b9t0cya3jAvY",
    "outputId": "10572137-7550-4af8-fda1-3d65128030ed"
   },
   "outputs": [
    {
     "data": {
      "text/plain": [
       "['__class__',\n",
       " '__delattr__',\n",
       " '__dir__',\n",
       " '__doc__',\n",
       " '__eq__',\n",
       " '__format__',\n",
       " '__ge__',\n",
       " '__getattribute__',\n",
       " '__getstate__',\n",
       " '__gt__',\n",
       " '__hash__',\n",
       " '__init__',\n",
       " '__init_subclass__',\n",
       " '__le__',\n",
       " '__lt__',\n",
       " '__ne__',\n",
       " '__new__',\n",
       " '__reduce__',\n",
       " '__reduce_ex__',\n",
       " '__repr__',\n",
       " '__setattr__',\n",
       " '__sizeof__',\n",
       " '__str__',\n",
       " '__subclasshook__']"
      ]
     },
     "execution_count": 24,
     "metadata": {},
     "output_type": "execute_result"
    }
   ],
   "source": [
    "dir(object)"
   ]
  },
  {
   "cell_type": "code",
   "execution_count": 25,
   "metadata": {
    "colab": {
     "background_save": true
    },
    "id": "tgUqoHVSjnRy"
   },
   "outputs": [
    {
     "name": "stdout",
     "output_type": "stream",
     "text": [
      "Help on class object in module builtins:\n",
      "\n",
      "class object\n",
      " |  The base class of the class hierarchy.\n",
      " |\n",
      " |  When called, it accepts no arguments and returns a new featureless\n",
      " |  instance that has no instance attributes and cannot be given any.\n",
      " |\n",
      " |  Built-in subclasses:\n",
      " |      anext_awaitable\n",
      " |      async_generator\n",
      " |      async_generator_asend\n",
      " |      async_generator_athrow\n",
      " |      ... and 90 other subclasses\n",
      " |\n",
      " |  Methods defined here:\n",
      " |\n",
      " |  __delattr__(self, name, /)\n",
      " |      Implement delattr(self, name).\n",
      " |\n",
      " |  __dir__(self, /)\n",
      " |      Default dir() implementation.\n",
      " |\n",
      " |  __eq__(self, value, /)\n",
      " |      Return self==value.\n",
      " |\n",
      " |  __format__(self, format_spec, /)\n",
      " |      Default object formatter.\n",
      " |\n",
      " |      Return str(self) if format_spec is empty. Raise TypeError otherwise.\n",
      " |\n",
      " |  __ge__(self, value, /)\n",
      " |      Return self>=value.\n",
      " |\n",
      " |  __getattribute__(self, name, /)\n",
      " |      Return getattr(self, name).\n",
      " |\n",
      " |  __getstate__(self, /)\n",
      " |      Helper for pickle.\n",
      " |\n",
      " |  __gt__(self, value, /)\n",
      " |      Return self>value.\n",
      " |\n",
      " |  __hash__(self, /)\n",
      " |      Return hash(self).\n",
      " |\n",
      " |  __init__(self, /, *args, **kwargs)\n",
      " |      Initialize self.  See help(type(self)) for accurate signature.\n",
      " |\n",
      " |  __le__(self, value, /)\n",
      " |      Return self<=value.\n",
      " |\n",
      " |  __lt__(self, value, /)\n",
      " |      Return self<value.\n",
      " |\n",
      " |  __ne__(self, value, /)\n",
      " |      Return self!=value.\n",
      " |\n",
      " |  __reduce__(self, /)\n",
      " |      Helper for pickle.\n",
      " |\n",
      " |  __reduce_ex__(self, protocol, /)\n",
      " |      Helper for pickle.\n",
      " |\n",
      " |  __repr__(self, /)\n",
      " |      Return repr(self).\n",
      " |\n",
      " |  __setattr__(self, name, value, /)\n",
      " |      Implement setattr(self, name, value).\n",
      " |\n",
      " |  __sizeof__(self, /)\n",
      " |      Size of object in memory, in bytes.\n",
      " |\n",
      " |  __str__(self, /)\n",
      " |      Return str(self).\n",
      " |\n",
      " |  ----------------------------------------------------------------------\n",
      " |  Class methods defined here:\n",
      " |\n",
      " |  __init_subclass__(...)\n",
      " |      This method is called when a class is subclassed.\n",
      " |\n",
      " |      The default implementation does nothing. It may be\n",
      " |      overridden to extend subclasses.\n",
      " |\n",
      " |  __subclasshook__(...)\n",
      " |      Abstract classes can override this to customize issubclass().\n",
      " |\n",
      " |      This is invoked early on by abc.ABCMeta.__subclasscheck__().\n",
      " |      It should return True, False or NotImplemented.  If it returns\n",
      " |      NotImplemented, the normal algorithm is used.  Otherwise, it\n",
      " |      overrides the normal algorithm (and the outcome is cached).\n",
      " |\n",
      " |  ----------------------------------------------------------------------\n",
      " |  Static methods defined here:\n",
      " |\n",
      " |  __new__(*args, **kwargs)\n",
      " |      Create and return a new object.  See help(type) for accurate signature.\n",
      " |\n",
      " |  ----------------------------------------------------------------------\n",
      " |  Data and other attributes defined here:\n",
      " |\n",
      " |  __class__ = <class 'type'>\n",
      " |      type(object) -> the object's type\n",
      " |      type(name, bases, dict, **kwds) -> a new type\n",
      "\n"
     ]
    }
   ],
   "source": [
    "help(object)"
   ]
  },
  {
   "cell_type": "code",
   "execution_count": 26,
   "metadata": {
    "colab": {
     "background_save": true
    },
    "id": "Kq1jYScIkGSy"
   },
   "outputs": [
    {
     "name": "stdout",
     "output_type": "stream",
     "text": [
      "The base class of the class hierarchy.\n",
      "\n",
      "When called, it accepts no arguments and returns a new featureless\n",
      "instance that has no instance attributes and cannot be given any.\n",
      "\n"
     ]
    }
   ],
   "source": [
    "print(object.__doc__)"
   ]
  },
  {
   "cell_type": "code",
   "execution_count": null,
   "metadata": {
    "colab": {
     "background_save": true
    },
    "id": "U1IAPY3Xkelf"
   },
   "outputs": [],
   "source": []
  },
  {
   "cell_type": "code",
   "execution_count": 27,
   "metadata": {
    "colab": {
     "background_save": true,
     "base_uri": "https://localhost:8080/"
    },
    "executionInfo": {
     "elapsed": 375,
     "status": "ok",
     "timestamp": 1732861420771,
     "user": {
      "displayName": "sanghak yi",
      "userId": "04049407183115688246"
     },
     "user_tz": -540
    },
    "id": "BL_mYpwLlNzK",
    "outputId": "e9be9f33-2f4a-45b2-ffcd-ed42dce17ce8"
   },
   "outputs": [
    {
     "data": {
      "text/plain": [
       "mappingproxy({'__new__': <function object.__new__(*args, **kwargs)>,\n",
       "              '__repr__': <slot wrapper '__repr__' of 'object' objects>,\n",
       "              '__hash__': <slot wrapper '__hash__' of 'object' objects>,\n",
       "              '__str__': <slot wrapper '__str__' of 'object' objects>,\n",
       "              '__getattribute__': <slot wrapper '__getattribute__' of 'object' objects>,\n",
       "              '__setattr__': <slot wrapper '__setattr__' of 'object' objects>,\n",
       "              '__delattr__': <slot wrapper '__delattr__' of 'object' objects>,\n",
       "              '__lt__': <slot wrapper '__lt__' of 'object' objects>,\n",
       "              '__le__': <slot wrapper '__le__' of 'object' objects>,\n",
       "              '__eq__': <slot wrapper '__eq__' of 'object' objects>,\n",
       "              '__ne__': <slot wrapper '__ne__' of 'object' objects>,\n",
       "              '__gt__': <slot wrapper '__gt__' of 'object' objects>,\n",
       "              '__ge__': <slot wrapper '__ge__' of 'object' objects>,\n",
       "              '__init__': <slot wrapper '__init__' of 'object' objects>,\n",
       "              '__reduce_ex__': <method '__reduce_ex__' of 'object' objects>,\n",
       "              '__reduce__': <method '__reduce__' of 'object' objects>,\n",
       "              '__getstate__': <method '__getstate__' of 'object' objects>,\n",
       "              '__subclasshook__': <method '__subclasshook__' of 'object' objects>,\n",
       "              '__init_subclass__': <method '__init_subclass__' of 'object' objects>,\n",
       "              '__format__': <method '__format__' of 'object' objects>,\n",
       "              '__sizeof__': <method '__sizeof__' of 'object' objects>,\n",
       "              '__dir__': <method '__dir__' of 'object' objects>,\n",
       "              '__class__': <attribute '__class__' of 'object' objects>,\n",
       "              '__doc__': 'The base class of the class hierarchy.\\n\\nWhen called, it accepts no arguments and returns a new featureless\\ninstance that has no instance attributes and cannot be given any.\\n'})"
      ]
     },
     "execution_count": 27,
     "metadata": {},
     "output_type": "execute_result"
    }
   ],
   "source": [
    "object.__dict__"
   ]
  },
  {
   "cell_type": "markdown",
   "metadata": {
    "id": "DAchU1dBmtoP"
   },
   "source": [
    "-- 소멸자 메소드 : __del__   인스턴스가 힙메모리에서 제거될때 호출됨"
   ]
  },
  {
   "cell_type": "code",
   "execution_count": 28,
   "metadata": {
    "colab": {
     "background_save": true
    },
    "id": "BMpLf_k5luBB"
   },
   "outputs": [],
   "source": [
    "class Person :\n",
    "  def __init__(self,name,age) :\n",
    "    self.name = name\n",
    "    self.age = age\n",
    "    print('생성자 메소드 호출됨')\n",
    "\n",
    "  def __del__(self) :\n",
    "    print('소멸자 메소드 호출됨')\n",
    "\n"
   ]
  },
  {
   "cell_type": "code",
   "execution_count": 29,
   "metadata": {
    "colab": {
     "background_save": true
    },
    "id": "ho1LbgmInJbL"
   },
   "outputs": [
    {
     "name": "stdout",
     "output_type": "stream",
     "text": [
      "생성자 메소드 호출됨\n"
     ]
    }
   ],
   "source": [
    "p1 = Person('홍길동',20)"
   ]
  },
  {
   "cell_type": "code",
   "execution_count": 30,
   "metadata": {
    "colab": {
     "background_save": true
    },
    "id": "IxZTIP9XnOFo"
   },
   "outputs": [
    {
     "name": "stdout",
     "output_type": "stream",
     "text": [
      "소멸자 메소드 호출됨\n"
     ]
    }
   ],
   "source": [
    "del p1"
   ]
  },
  {
   "cell_type": "code",
   "execution_count": 31,
   "metadata": {
    "colab": {
     "base_uri": "https://localhost:8080/"
    },
    "executionInfo": {
     "elapsed": 358,
     "status": "ok",
     "timestamp": 1732866420780,
     "user": {
      "displayName": "sanghak yi",
      "userId": "04049407183115688246"
     },
     "user_tz": -540
    },
    "id": "U7WYVHO3njCA",
    "outputId": "22e1218c-63ed-4849-e5b7-a06d28f036fe"
   },
   "outputs": [
    {
     "name": "stdout",
     "output_type": "stream",
     "text": [
      "{'instance_methods': [], 'static_methods': [], 'class_methods': []}\n"
     ]
    }
   ],
   "source": [
    "all_methods = {\n",
    "    'instance_methods': [name for name, method in inspect.getmembers(object, predicate=inspect.isfunction)],\n",
    "    'static_methods': [name for name, method in inspect.getmembers(object) if isinstance(getattr(object, name, None), staticmethod)],\n",
    "    'class_methods': [name for name, method in inspect.getmembers(object) if isinstance(getattr(object, name, None), classmethod)]\n",
    "}\n",
    "print(all_methods)"
   ]
  },
  {
   "cell_type": "code",
   "execution_count": 32,
   "metadata": {
    "colab": {
     "base_uri": "https://localhost:8080/"
    },
    "executionInfo": {
     "elapsed": 558,
     "status": "ok",
     "timestamp": 1732866500640,
     "user": {
      "displayName": "sanghak yi",
      "userId": "04049407183115688246"
     },
     "user_tz": -540
    },
    "id": "8GPA_hkL4voc",
    "outputId": "ab391135-079a-4241-b44e-aaf8d1ee881c"
   },
   "outputs": [
    {
     "name": "stdout",
     "output_type": "stream",
     "text": [
      "Object Methods:\n",
      "__class__\n",
      "__delattr__\n",
      "__dir__\n",
      "__doc__\n",
      "__eq__\n",
      "__format__\n",
      "__ge__\n",
      "__getattribute__\n",
      "__getstate__\n",
      "__gt__\n",
      "__hash__\n",
      "__init__\n",
      "__init_subclass__\n",
      "__le__\n",
      "__lt__\n",
      "__ne__\n",
      "__new__\n",
      "__reduce__\n",
      "__reduce_ex__\n",
      "__repr__\n",
      "__setattr__\n",
      "__sizeof__\n",
      "__str__\n",
      "__subclasshook__\n",
      "\n",
      "Object MRO:\n",
      "(<class 'object'>,)\n",
      "\n",
      "Specific Method Check:\n",
      "True\n"
     ]
    }
   ],
   "source": [
    "import inspect\n",
    "\n",
    "# object 클래스의 모든 메소드 확인\n",
    "print(\"Object Methods:\")\n",
    "for name, method in inspect.getmembers(object):\n",
    "    print(name)\n",
    "\n",
    "# MRO 직접 확인\n",
    "print(\"\\nObject MRO:\")\n",
    "print(object.__mro__)\n",
    "\n",
    "# 특정 메소드 확인 방법\n",
    "print(\"\\nSpecific Method Check:\")\n",
    "print(hasattr(object, '__mro__'))"
   ]
  },
  {
   "cell_type": "code",
   "execution_count": null,
   "metadata": {
    "id": "1vgqAJ9r5GPG"
   },
   "outputs": [],
   "source": []
  },
  {
   "cell_type": "code",
   "execution_count": null,
   "metadata": {},
   "outputs": [],
   "source": []
  },
  {
   "cell_type": "code",
   "execution_count": null,
   "metadata": {},
   "outputs": [],
   "source": []
  }
 ],
 "metadata": {
  "colab": {
   "authorship_tag": "ABX9TyNvz9nHIW+3nXXD2IRnGBtk",
   "provenance": []
  },
  "kernelspec": {
   "display_name": "base",
   "language": "python",
   "name": "python3"
  },
  "language_info": {
   "codemirror_mode": {
    "name": "ipython",
    "version": 3
   },
   "file_extension": ".py",
   "mimetype": "text/x-python",
   "name": "python",
   "nbconvert_exporter": "python",
   "pygments_lexer": "ipython3",
   "version": "3.12.7"
  }
 },
 "nbformat": 4,
 "nbformat_minor": 0
}
