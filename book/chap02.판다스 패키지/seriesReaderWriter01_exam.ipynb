{
 "cells": [
  {
   "cell_type": "code",
   "execution_count": 1,
   "metadata": {},
   "outputs": [],
   "source": [
    "import pandas as pd"
   ]
  },
  {
   "cell_type": "code",
   "execution_count": 2,
   "metadata": {
    "scrolled": true
   },
   "outputs": [
    {
     "data": {
      "text/plain": [
       "마포구     40\n",
       "용산구     80\n",
       "서대문구    70\n",
       "동대문구    50\n",
       "은평구     60\n",
       "구로구     30\n",
       "강서구     20\n",
       "dtype: int64"
      ]
     },
     "execution_count": 2,
     "metadata": {},
     "output_type": "execute_result"
    }
   ],
   "source": [
    "myindex = ['마포구', '용산구', '서대문구', '동대문구', '은평구', '구로구', '강서구']\n",
    "mylist = [40, 80, 70, 50, 60, 30, 20]\n",
    "myseries = pd.Series(data=mylist, index=myindex)\n",
    "myseries"
   ]
  },
  {
   "cell_type": "code",
   "execution_count": 39,
   "metadata": {},
   "outputs": [
    {
     "data": {
      "text/plain": [
       "마포구    40\n",
       "용산구    80\n",
       "구로구    30\n",
       "강서구    20\n",
       "dtype: int64"
      ]
     },
     "execution_count": 39,
     "metadata": {},
     "output_type": "execute_result"
    }
   ],
   "source": [
    "# &(and), or(|), not(~)\n",
    "exp1 = (myseries >= 50) & (myseries < 80)\n",
    "# 배열 인덱싱(불린 인덱싱)\n",
    "myseries[~exp1]"
   ]
  },
  {
   "cell_type": "code",
   "execution_count": 26,
   "metadata": {},
   "outputs": [
    {
     "data": {
      "text/plain": [
       "마포구     40\n",
       "용산구     80\n",
       "서대문구    70\n",
       "동대문구    50\n",
       "은평구     60\n",
       "dtype: int64"
      ]
     },
     "execution_count": 26,
     "metadata": {},
     "output_type": "execute_result"
    }
   ],
   "source": [
    "exp1 = myseries > 30\n",
    "myseries[exp1]"
   ]
  },
  {
   "cell_type": "code",
   "execution_count": 25,
   "metadata": {},
   "outputs": [
    {
     "data": {
      "text/plain": [
       "마포구     40\n",
       "용산구     80\n",
       "서대문구    70\n",
       "동대문구    50\n",
       "은평구     60\n",
       "dtype: int64"
      ]
     },
     "execution_count": 25,
     "metadata": {},
     "output_type": "execute_result"
    }
   ],
   "source": [
    "myseries[myseries > 30]"
   ]
  },
  {
   "cell_type": "code",
   "execution_count": 23,
   "metadata": {},
   "outputs": [
    {
     "data": {
      "text/plain": [
       "마포구      True\n",
       "용산구      True\n",
       "서대문구     True\n",
       "동대문구     True\n",
       "은평구      True\n",
       "구로구     False\n",
       "강서구     False\n",
       "dtype: bool"
      ]
     },
     "execution_count": 23,
     "metadata": {},
     "output_type": "execute_result"
    }
   ],
   "source": [
    "myseries > 30"
   ]
  },
  {
   "cell_type": "code",
   "execution_count": 22,
   "metadata": {},
   "outputs": [
    {
     "data": {
      "text/plain": [
       "용산구     80\n",
       "서대문구    70\n",
       "동대문구    50\n",
       "은평구     60\n",
       "구로구     30\n",
       "강서구     20\n",
       "dtype: int64"
      ]
     },
     "execution_count": 22,
     "metadata": {},
     "output_type": "execute_result"
    }
   ],
   "source": [
    "myseries[[False,True,True,True,True,True,True]]"
   ]
  },
  {
   "cell_type": "code",
   "execution_count": 40,
   "metadata": {},
   "outputs": [
    {
     "name": "stderr",
     "output_type": "stream",
     "text": [
      "C:\\Users\\kh502\\AppData\\Local\\Temp\\ipykernel_7128\\1314220138.py:2: FutureWarning: Series.__getitem__ treating keys as positions is deprecated. In a future version, integer keys will always be treated as labels (consistent with DataFrame behavior). To access a value by position, use `ser.iloc[pos]`\n",
      "  myseries[[2,5]]\n"
     ]
    },
    {
     "data": {
      "text/plain": [
       "서대문구    70\n",
       "구로구     30\n",
       "dtype: int64"
      ]
     },
     "execution_count": 40,
     "metadata": {},
     "output_type": "execute_result"
    }
   ],
   "source": [
    "# 배열인덱싱(정수인덱싱)\n",
    "myseries[[2,5]]"
   ]
  },
  {
   "cell_type": "code",
   "execution_count": 14,
   "metadata": {},
   "outputs": [
    {
     "data": {
      "text/plain": [
       "마포구      80\n",
       "용산구     160\n",
       "서대문구    140\n",
       "동대문구    100\n",
       "은평구     120\n",
       "구로구      60\n",
       "강서구      40\n",
       "dtype: int64"
      ]
     },
     "execution_count": 14,
     "metadata": {},
     "output_type": "execute_result"
    }
   ],
   "source": [
    "myseries * 2"
   ]
  },
  {
   "cell_type": "code",
   "execution_count": 8,
   "metadata": {},
   "outputs": [
    {
     "data": {
      "text/plain": [
       "용산구    80\n",
       "마포구    40\n",
       "강서구    20\n",
       "dtype: int64"
      ]
     },
     "execution_count": 8,
     "metadata": {},
     "output_type": "execute_result"
    }
   ],
   "source": [
    "myseries[['용산구','마포구','강서구']]"
   ]
  },
  {
   "cell_type": "code",
   "execution_count": 3,
   "metadata": {},
   "outputs": [
    {
     "data": {
      "text/plain": [
       "은평구    60\n",
       "dtype: int64"
      ]
     },
     "execution_count": 3,
     "metadata": {},
     "output_type": "execute_result"
    }
   ],
   "source": [
    "# 색인의 이름으로 값 읽기\n",
    "myseries[['은평구']]"
   ]
  },
  {
   "cell_type": "code",
   "execution_count": 41,
   "metadata": {},
   "outputs": [
    {
     "data": {
      "text/plain": [
       "서대문구    70\n",
       "동대문구    50\n",
       "은평구     60\n",
       "구로구     30\n",
       "dtype: int64"
      ]
     },
     "execution_count": 41,
     "metadata": {},
     "output_type": "execute_result"
    }
   ],
   "source": [
    "# 라벨 이름으로 슬라이싱\n",
    "myseries['서대문구':'구로구']"
   ]
  },
  {
   "cell_type": "code",
   "execution_count": 42,
   "metadata": {},
   "outputs": [
    {
     "data": {
      "text/plain": [
       "용산구     80\n",
       "동대문구    50\n",
       "dtype: int64"
      ]
     },
     "execution_count": 42,
     "metadata": {},
     "output_type": "execute_result"
    }
   ],
   "source": [
    "# 여러 개의 색인 이름으로 데이터 읽기\n",
    "myseries[['용산구', '동대문구']]"
   ]
  },
  {
   "cell_type": "code",
   "execution_count": 43,
   "metadata": {},
   "outputs": [
    {
     "name": "stderr",
     "output_type": "stream",
     "text": [
      "C:\\Users\\kh502\\AppData\\Local\\Temp\\ipykernel_7128\\564743319.py:2: FutureWarning: Series.__getitem__ treating keys as positions is deprecated. In a future version, integer keys will always be treated as labels (consistent with DataFrame behavior). To access a value by position, use `ser.iloc[pos]`\n",
      "  myseries[[2]]\n"
     ]
    },
    {
     "data": {
      "text/plain": [
       "서대문구    70\n",
       "dtype: int64"
      ]
     },
     "execution_count": 43,
     "metadata": {},
     "output_type": "execute_result"
    }
   ],
   "source": [
    "# 정수를 이용한 데이터 읽기\n",
    "myseries[[2]]"
   ]
  },
  {
   "cell_type": "code",
   "execution_count": 44,
   "metadata": {},
   "outputs": [
    {
     "data": {
      "text/plain": [
       "마포구     40\n",
       "서대문구    70\n",
       "은평구     60\n",
       "dtype: int64"
      ]
     },
     "execution_count": 44,
     "metadata": {},
     "output_type": "execute_result"
    }
   ],
   "source": [
    "# 0, 2, 4번째 데이터 읽기\n",
    "myseries[0:5:2]"
   ]
  },
  {
   "cell_type": "code",
   "execution_count": 45,
   "metadata": {},
   "outputs": [
    {
     "name": "stderr",
     "output_type": "stream",
     "text": [
      "C:\\Users\\kh502\\AppData\\Local\\Temp\\ipykernel_7128\\4193374303.py:2: FutureWarning: Series.__getitem__ treating keys as positions is deprecated. In a future version, integer keys will always be treated as labels (consistent with DataFrame behavior). To access a value by position, use `ser.iloc[pos]`\n",
      "  myseries[[1, 3, 4]]\n"
     ]
    },
    {
     "data": {
      "text/plain": [
       "용산구     80\n",
       "동대문구    50\n",
       "은평구     60\n",
       "dtype: int64"
      ]
     },
     "execution_count": 45,
     "metadata": {},
     "output_type": "execute_result"
    }
   ],
   "source": [
    "# 1, 3, 4번째 데이터 읽기\n",
    "myseries[[1, 3, 4]]"
   ]
  },
  {
   "cell_type": "code",
   "execution_count": 46,
   "metadata": {
    "scrolled": true
   },
   "outputs": [
    {
     "data": {
      "text/plain": [
       "서대문구    70\n",
       "동대문구    50\n",
       "은평구     60\n",
       "dtype: int64"
      ]
     },
     "execution_count": 46,
     "metadata": {},
     "output_type": "execute_result"
    }
   ],
   "source": [
    "# 슬라이싱 사용하기\n",
    "myseries[2:5] # from <= 결과 < to"
   ]
  },
  {
   "cell_type": "code",
   "execution_count": 47,
   "metadata": {},
   "outputs": [
    {
     "name": "stderr",
     "output_type": "stream",
     "text": [
      "C:\\Users\\kh502\\AppData\\Local\\Temp\\ipykernel_7128\\1046348739.py:1: FutureWarning: Series.__setitem__ treating keys as positions is deprecated. In a future version, integer keys will always be treated as labels (consistent with DataFrame behavior). To set a value by position, use `ser.iloc[pos] = value`\n",
      "  myseries[2] = 99 # 2번째 항목의 값 변경\n"
     ]
    }
   ],
   "source": [
    "myseries[2] = 99 # 2번째 항목의 값 변경\n",
    "myseries[2:4] = 66 # 2번째부터 4번째 까지 항목의 값 변경\n",
    "myseries[['마포구', '강서구']] = 55 # '마포구'와 '강서구'만  55로 변경\n",
    "myseries[0::2] = 77 # 짝수 행만  77로 변경"
   ]
  },
  {
   "cell_type": "code",
   "execution_count": 48,
   "metadata": {},
   "outputs": [
    {
     "data": {
      "text/plain": [
       "마포구     77\n",
       "용산구     80\n",
       "서대문구    77\n",
       "동대문구    66\n",
       "은평구     77\n",
       "구로구     30\n",
       "강서구     77\n",
       "dtype: int64"
      ]
     },
     "execution_count": 48,
     "metadata": {},
     "output_type": "execute_result"
    }
   ],
   "source": [
    "# 시리즈 내용 확인\n",
    "myseries"
   ]
  },
  {
   "cell_type": "code",
   "execution_count": null,
   "metadata": {},
   "outputs": [],
   "source": []
  }
 ],
 "metadata": {
  "kernelspec": {
   "display_name": "Python 3 (ipykernel)",
   "language": "python",
   "name": "python3"
  },
  "language_info": {
   "codemirror_mode": {
    "name": "ipython",
    "version": 3
   },
   "file_extension": ".py",
   "mimetype": "text/x-python",
   "name": "python",
   "nbconvert_exporter": "python",
   "pygments_lexer": "ipython3",
   "version": "3.12.7"
  }
 },
 "nbformat": 4,
 "nbformat_minor": 4
}
