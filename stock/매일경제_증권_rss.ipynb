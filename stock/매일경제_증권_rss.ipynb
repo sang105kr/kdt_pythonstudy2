{
 "cells": [
  {
   "cell_type": "code",
   "execution_count": 49,
   "id": "0fcab7b5-27eb-4364-8ad7-9ae9065b0a5c",
   "metadata": {},
   "outputs": [],
   "source": [
    "import requests\n",
    "from bs4 import BeautifulSoup\n",
    "import re\n",
    "import pandas as pd"
   ]
  },
  {
   "cell_type": "code",
   "execution_count": 6,
   "id": "b74e0a40-ffff-4863-847f-ba5d89be697a",
   "metadata": {},
   "outputs": [
    {
     "data": {
      "text/plain": [
       "<Response [200]>"
      ]
     },
     "execution_count": 6,
     "metadata": {},
     "output_type": "execute_result"
    }
   ],
   "source": [
    "news_rss = requests.get('https://www.mk.co.kr/rss/50200011/')\n",
    "news_rss"
   ]
  },
  {
   "cell_type": "code",
   "execution_count": null,
   "id": "fdd5e8fd-4502-480c-8377-2bf717264ae3",
   "metadata": {},
   "outputs": [],
   "source": [
    "news_rss.content\n",
    "news_rss.text"
   ]
  },
  {
   "cell_type": "code",
   "execution_count": 12,
   "id": "1ebeb2eb-4aac-49bb-97a0-53bd516f9635",
   "metadata": {},
   "outputs": [],
   "source": [
    "news_rss_soup = BeautifulSoup(news_rss.content,'xml')"
   ]
  },
  {
   "cell_type": "code",
   "execution_count": null,
   "id": "866b6c42-fb99-40bc-b404-c6326bd5614c",
   "metadata": {},
   "outputs": [],
   "source": [
    "title_list = news_rss_soup.select('item > title')\n",
    "title_list = [title.text for title in title_list]\n",
    "title_list"
   ]
  },
  {
   "cell_type": "code",
   "execution_count": 58,
   "id": "798602ca-d3fb-41fc-8bc4-8888f900bfd9",
   "metadata": {},
   "outputs": [
    {
     "data": {
      "text/plain": [
       "'https://www.mk.co.kr/news/stock/11202168'"
      ]
     },
     "execution_count": 58,
     "metadata": {},
     "output_type": "execute_result"
    }
   ],
   "source": [
    "link_list = news_rss_soup.select('item > link')\n",
    "link_list = [link.text for link in link_list]\n",
    "link_list[47]"
   ]
  },
  {
   "cell_type": "code",
   "execution_count": 60,
   "id": "809b3cf7-c31a-4331-a388-875f3379b427",
   "metadata": {},
   "outputs": [],
   "source": [
    "news_data = []\n",
    "news_datetime = []\n",
    "for link in link_list :\n",
    "    news_res = requests.get(link)\n",
    "    news_content_soup = BeautifulSoup(news_res.content, 'lxml')\n",
    "    news_content = news_content_soup.select_one('.news_cnt_detail_wrap')\n",
    "    news_data.append(news_content.text)\n",
    "    news_datetime.append(news_content_soup.select_one('.time_area .registration dd').text)"
   ]
  },
  {
   "cell_type": "code",
   "execution_count": null,
   "id": "23f61702-d3c6-4998-954d-6539950b92c9",
   "metadata": {},
   "outputs": [],
   "source": [
    "print(news_data)    \n",
    "print(news_datetime)"
   ]
  },
  {
   "cell_type": "code",
   "execution_count": 61,
   "id": "bac4c12c-f7ca-4fdf-b214-7460eebdbc84",
   "metadata": {},
   "outputs": [
    {
     "data": {
      "text/plain": [
       "(50, 50)"
      ]
     },
     "execution_count": 61,
     "metadata": {},
     "output_type": "execute_result"
    }
   ],
   "source": [
    "len(news_data), len(news_datetime)"
   ]
  },
  {
   "cell_type": "code",
   "execution_count": 62,
   "id": "1cfa6ff6-504e-4ab3-a568-788750519c64",
   "metadata": {},
   "outputs": [],
   "source": [
    "### 일시 , 제목, 내용\n",
    "news_df = pd.DataFrame({'일시':news_datetime, \n",
    "                        '제목':title_list,\n",
    "                        '내용':news_data,})"
   ]
  },
  {
   "cell_type": "code",
   "execution_count": 63,
   "id": "73088ddb-ef3f-4775-940b-aebba48cfe1e",
   "metadata": {},
   "outputs": [
    {
     "data": {
      "text/html": [
       "<div>\n",
       "<style scoped>\n",
       "    .dataframe tbody tr th:only-of-type {\n",
       "        vertical-align: middle;\n",
       "    }\n",
       "\n",
       "    .dataframe tbody tr th {\n",
       "        vertical-align: top;\n",
       "    }\n",
       "\n",
       "    .dataframe thead th {\n",
       "        text-align: right;\n",
       "    }\n",
       "</style>\n",
       "<table border=\"1\" class=\"dataframe\">\n",
       "  <thead>\n",
       "    <tr style=\"text-align: right;\">\n",
       "      <th></th>\n",
       "      <th>일시</th>\n",
       "      <th>제목</th>\n",
       "      <th>내용</th>\n",
       "    </tr>\n",
       "  </thead>\n",
       "  <tbody>\n",
       "    <tr>\n",
       "      <th>0</th>\n",
       "      <td>2024-12-26 09:24:12</td>\n",
       "      <td>바이오니아 자회사 에이스바이옴, 中 프리미엄 해외 직구 플랫폼 티몰 입점…현지 시장...</td>\n",
       "      <td>\\n      사진 확대    [사진제공 = 바이오니아]  바이오니아 자회사 에이스...</td>\n",
       "    </tr>\n",
       "    <tr>\n",
       "      <th>1</th>\n",
       "      <td>2024-12-26 08:30:34</td>\n",
       "      <td>“LG이노텍, 내년 아이폰 출시 전까지 숨고르기 돌입”…목표가↓</td>\n",
       "      <td>\\n      사진 확대    LG이노텍 로고. [사진 출처 = LG이노텍]  대신...</td>\n",
       "    </tr>\n",
       "    <tr>\n",
       "      <th>2</th>\n",
       "      <td>2024-12-26 08:29:34</td>\n",
       "      <td>“씨앤씨인터내셔널, 해외 고객사 다변화에 초점…내년 성과 나타날 전망”</td>\n",
       "      <td>\\n      사진 확대    씨앤씨인터내셔널 CI. [사진 = 씨앤씨인터내셔널] ...</td>\n",
       "    </tr>\n",
       "  </tbody>\n",
       "</table>\n",
       "</div>"
      ],
      "text/plain": [
       "                    일시                                                 제목  \\\n",
       "0  2024-12-26 09:24:12  바이오니아 자회사 에이스바이옴, 中 프리미엄 해외 직구 플랫폼 티몰 입점…현지 시장...   \n",
       "1  2024-12-26 08:30:34                “LG이노텍, 내년 아이폰 출시 전까지 숨고르기 돌입”…목표가↓   \n",
       "2  2024-12-26 08:29:34            “씨앤씨인터내셔널, 해외 고객사 다변화에 초점…내년 성과 나타날 전망”   \n",
       "\n",
       "                                                  내용  \n",
       "0  \\n      사진 확대    [사진제공 = 바이오니아]  바이오니아 자회사 에이스...  \n",
       "1  \\n      사진 확대    LG이노텍 로고. [사진 출처 = LG이노텍]  대신...  \n",
       "2  \\n      사진 확대    씨앤씨인터내셔널 CI. [사진 = 씨앤씨인터내셔널] ...  "
      ]
     },
     "execution_count": 63,
     "metadata": {},
     "output_type": "execute_result"
    }
   ],
   "source": [
    "news_df.head(3)"
   ]
  },
  {
   "cell_type": "code",
   "execution_count": 64,
   "id": "5fa22d0f-8e8e-43a8-93e9-88a2da0352e4",
   "metadata": {},
   "outputs": [],
   "source": [
    "news_df.to_csv('news.csv',index=False)"
   ]
  },
  {
   "cell_type": "code",
   "execution_count": null,
   "id": "368231e5-ad82-4591-8c4b-4f2dda12fb23",
   "metadata": {},
   "outputs": [],
   "source": []
  }
 ],
 "metadata": {
  "kernelspec": {
   "display_name": "Python 3 (ipykernel)",
   "language": "python",
   "name": "python3"
  },
  "language_info": {
   "codemirror_mode": {
    "name": "ipython",
    "version": 3
   },
   "file_extension": ".py",
   "mimetype": "text/x-python",
   "name": "python",
   "nbconvert_exporter": "python",
   "pygments_lexer": "ipython3",
   "version": "3.12.7"
  }
 },
 "nbformat": 4,
 "nbformat_minor": 5
}
