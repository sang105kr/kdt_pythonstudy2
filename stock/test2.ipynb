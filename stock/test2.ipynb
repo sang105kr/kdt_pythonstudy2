{
 "cells": [
  {
   "cell_type": "code",
   "execution_count": 24,
   "id": "cf700a17-50b2-44b3-806e-2634ed26ad1e",
   "metadata": {},
   "outputs": [],
   "source": [
    "import re"
   ]
  },
  {
   "cell_type": "code",
   "execution_count": 25,
   "id": "55520636-f294-4180-b758-9ab7b6e46c1e",
   "metadata": {},
   "outputs": [],
   "source": [
    "# http요청 응답, html 구문분석 패키지\n",
    "import requests\n",
    "from bs4 import BeautifulSoup"
   ]
  },
  {
   "cell_type": "code",
   "execution_count": 26,
   "id": "992c02c3-d547-4a39-af3a-9a68f44d11e1",
   "metadata": {},
   "outputs": [],
   "source": [
    "# 셀레니움 브라우저의 동작을 자동화 하는 패키지\n",
    "from selenium import webdriver\n",
    "from selenium.webdriver.chrome.options import Options\n",
    "from selenium.webdriver.common.by import By"
   ]
  },
  {
   "cell_type": "code",
   "execution_count": 27,
   "id": "59fb265f-4711-4a79-946a-59eaa5533e33",
   "metadata": {},
   "outputs": [],
   "source": [
    "# 데이터 분석 패키지\n",
    "import pandas as pd"
   ]
  },
  {
   "cell_type": "code",
   "execution_count": 28,
   "id": "78d9366a-f41b-4326-bf1b-78f2dbbf88e6",
   "metadata": {},
   "outputs": [],
   "source": [
    "url = 'https://finance.naver.com/sise/sise_group.naver?type=upjong'"
   ]
  },
  {
   "cell_type": "code",
   "execution_count": 29,
   "id": "20284842-0e8a-40df-a007-58a5b60deaa1",
   "metadata": {},
   "outputs": [],
   "source": [
    "# 브라우저 종료 방지 옵션\n",
    "chrome_options = Options()\n",
    "chrome_options.add_experimental_option('detach', True)\n",
    "# 웹드라이버를 이용한 브라우저 제어\n",
    "driver = webdriver.Chrome(options=chrome_options)\n",
    "\n",
    "#페이지가 모두 로드될때 까지 최대 1초 대기\n",
    "driver.implicitly_wait(1)"
   ]
  },
  {
   "cell_type": "code",
   "execution_count": 30,
   "id": "bfc5a5d7-73f3-4e5e-bf0c-ef9d4278a079",
   "metadata": {},
   "outputs": [],
   "source": [
    "driver.get(url)"
   ]
  },
  {
   "cell_type": "code",
   "execution_count": 31,
   "id": "a36f9586-85d5-4533-9930-7d3098c70f3a",
   "metadata": {},
   "outputs": [],
   "source": [
    "soup = BeautifulSoup(driver.page_source,'html.parser')"
   ]
  },
  {
   "cell_type": "code",
   "execution_count": 32,
   "id": "3beab3e9-8753-48ad-8d51-2357d22e7207",
   "metadata": {},
   "outputs": [
    {
     "data": {
      "text/plain": [
       "'100%'"
      ]
     },
     "execution_count": 32,
     "metadata": {},
     "output_type": "execute_result"
    }
   ],
   "source": [
    "soup.select_one('#contentarea_left > table > tbody > tr:nth-child(4) > td.tc > div > div > span').text"
   ]
  },
  {
   "cell_type": "code",
   "execution_count": 33,
   "id": "e5efeb54-2029-41c1-8a06-48513d6fa423",
   "metadata": {},
   "outputs": [
    {
     "data": {
      "text/plain": [
       "['100%',\n",
       " '100%',\n",
       " '100%',\n",
       " '100%',\n",
       " '100%',\n",
       " '100%',\n",
       " '100%',\n",
       " '100%',\n",
       " '100%',\n",
       " '100%',\n",
       " '100%',\n",
       " '100%',\n",
       " '100%',\n",
       " '100%',\n",
       " '100%']"
      ]
     },
     "execution_count": 33,
     "metadata": {},
     "output_type": "execute_result"
    }
   ],
   "source": [
    "pattern = re.compile(r'100%')\n",
    "pattern.findall(driver.page_source)"
   ]
  },
  {
   "cell_type": "code",
   "execution_count": 34,
   "id": "ef55c53e-5136-4464-9581-160b558f5f18",
   "metadata": {},
   "outputs": [],
   "source": [
    "ele = driver.find_element(By.CSS_SELECTOR,'#contentarea_left > table > tbody > tr:nth-child(4) > td.tc > div > div > span')"
   ]
  },
  {
   "cell_type": "code",
   "execution_count": 35,
   "id": "111c8315-e1a0-4490-a407-46721635cf59",
   "metadata": {},
   "outputs": [
    {
     "data": {
      "text/plain": [
       "''"
      ]
     },
     "execution_count": 35,
     "metadata": {},
     "output_type": "execute_result"
    }
   ],
   "source": [
    "ele.text"
   ]
  },
  {
   "cell_type": "code",
   "execution_count": null,
   "id": "324e09a0-7f77-4416-a70c-218cc72350fe",
   "metadata": {},
   "outputs": [],
   "source": [
    "from selenium.webdriver.support.ui import WebDriverWait\n",
    "from selenium.webdriver.support import expected_conditions as EC\n",
    "wait = WebDriverWait(driver, 3)\n",
    "element = wait.until(\n",
    "    EC.visibility_of_element_located((By.CSS_SELECTOR,\n",
    "                                    '#contentarea_left > table > tbody > tr:nth-child(4) > td.tc > div > div > span'))\n",
    ") \n",
    "element.text"
   ]
  },
  {
   "cell_type": "code",
   "execution_count": 42,
   "id": "a552b4c4-0e91-4fd1-a34b-84d7c7ce1e4c",
   "metadata": {},
   "outputs": [
    {
     "data": {
      "text/plain": [
       "'100%'"
      ]
     },
     "execution_count": 42,
     "metadata": {},
     "output_type": "execute_result"
    }
   ],
   "source": [
    "driver.execute_script(\"return document.querySelector('#contentarea_left > table > tbody > tr:nth-child(4) > td.tc > div > div > span').textContent\")"
   ]
  },
  {
   "cell_type": "code",
   "execution_count": null,
   "id": "a2a739fc-f95b-4b96-8e47-c97c7ed07541",
   "metadata": {},
   "outputs": [],
   "source": []
  }
 ],
 "metadata": {
  "kernelspec": {
   "display_name": "Python 3 (ipykernel)",
   "language": "python",
   "name": "python3"
  },
  "language_info": {
   "codemirror_mode": {
    "name": "ipython",
    "version": 3
   },
   "file_extension": ".py",
   "mimetype": "text/x-python",
   "name": "python",
   "nbconvert_exporter": "python",
   "pygments_lexer": "ipython3",
   "version": "3.12.7"
  }
 },
 "nbformat": 4,
 "nbformat_minor": 5
}
