{
 "cells": [
  {
   "cell_type": "code",
   "execution_count": 1,
   "id": "0be3a939-77a0-4536-866c-7289d6b8a4c0",
   "metadata": {},
   "outputs": [],
   "source": [
    "# 데이터 분석 패키지\n",
    "import pandas as pd\n",
    "import numpy as np"
   ]
  },
  {
   "cell_type": "code",
   "execution_count": 2,
   "id": "81d8e5c5-9cfe-4d6f-88e1-a2cccf5736be",
   "metadata": {},
   "outputs": [],
   "source": [
    "# 모든 컬럼을 출력하도록 설정\n",
    "pd.set_option('display.max_columns', None)  # None으로 설정하면 모든 컬럼 출력\n",
    "# 모든 행을 출력하도록 설정\n",
    "pd.set_option('display.max_rows', 50)  # None으로 설정하면 모든 행 출력\n",
    "# 모든 열의 최대 너비를 설정\n",
    "pd.set_option('display.max_colwidth', None) # None으로 설정하면 모든 내용을 출력"
   ]
  },
  {
   "cell_type": "code",
   "execution_count": 3,
   "id": "709f750d-fa78-4930-9cd1-5df3c90a66d6",
   "metadata": {},
   "outputs": [],
   "source": [
    "# 시각화 패키지\n",
    "import matplotlib.pyplot as plt\n",
    "import seaborn as sns\n",
    "import koreanize_matplotlib\n",
    "from wordcloud import WordCloud"
   ]
  },
  {
   "cell_type": "code",
   "execution_count": 4,
   "id": "f64e0a10-320a-400f-89b2-e3d3e410a9ec",
   "metadata": {},
   "outputs": [],
   "source": [
    "# 정규표현식\n",
    "import re"
   ]
  },
  {
   "cell_type": "code",
   "execution_count": 5,
   "id": "0419effe-98ce-4a33-8ca0-889793e79f66",
   "metadata": {},
   "outputs": [],
   "source": [
    "# 날짜는 파이썬 표준라이브러리 datetime 사용\n",
    "import datetime"
   ]
  },
  {
   "cell_type": "code",
   "execution_count": 6,
   "id": "d66a6d5e-8dbc-471b-8685-50125ca3b75e",
   "metadata": {},
   "outputs": [
    {
     "name": "stdout",
     "output_type": "stream",
     "text": [
      "2024-12-27 11:36:30.125937\n"
     ]
    },
    {
     "data": {
      "text/plain": [
       "'2024-12-27'"
      ]
     },
     "execution_count": 6,
     "metadata": {},
     "output_type": "execute_result"
    }
   ],
   "source": [
    "# 오늘 날짜 구하기\n",
    "today = datetime.datetime.today()\n",
    "print(today)\n",
    "today = today.strftime('%Y-%m-%d')\n",
    "today"
   ]
  },
  {
   "cell_type": "code",
   "execution_count": 7,
   "id": "b1387380-079b-4dec-bf13-7515a2cef995",
   "metadata": {},
   "outputs": [
    {
     "data": {
      "text/html": [
       "<div>\n",
       "<style scoped>\n",
       "    .dataframe tbody tr th:only-of-type {\n",
       "        vertical-align: middle;\n",
       "    }\n",
       "\n",
       "    .dataframe tbody tr th {\n",
       "        vertical-align: top;\n",
       "    }\n",
       "\n",
       "    .dataframe thead th {\n",
       "        text-align: right;\n",
       "    }\n",
       "</style>\n",
       "<table border=\"1\" class=\"dataframe\">\n",
       "  <thead>\n",
       "    <tr style=\"text-align: right;\">\n",
       "      <th></th>\n",
       "      <th>언론사</th>\n",
       "      <th>제목</th>\n",
       "      <th>내용</th>\n",
       "      <th>작성일시</th>\n",
       "    </tr>\n",
       "  </thead>\n",
       "  <tbody>\n",
       "    <tr>\n",
       "      <th>0</th>\n",
       "      <td>매일경제</td>\n",
       "      <td>‘오징어게임2’ 외신 혹평에...테마주 동반 폭락</td>\n",
       "      <td>\\n      사진 확대    ‘오징어 게임2’. 제공|넷플릭스  전 세계적 기대작 넷플릭스 ‘오징어 게임2’가 공개된 다음 날인 27일 장 초반 관련 종목들이 급락하고 있다.이날 오전 9시 20분 현재 아티스트스튜디오(200350)가 26.68% 급락 중이며, 아티스트유나이티드(321820)도 23.98% 하락하고 있다.아티스트스튜디오와 아티스트유나이티드는 시즌1에 이어 ‘오징어게임2’에서도 주연을 맡은 배우 이정재가 대주주로 있는 기업이다.또 ‘오징어게임2’의 영상 특수효과를 맡은 위지윅스튜디오(299900)는 20.00% 하락했고, 덱스터(206560)는 18.59% 내려 거래되고 있다.‘오징어게임’ 제작사인 싸이런픽쳐스에 투자한 쇼박스(086980)도 14.97% 급락을 면치 못하고 있다.지난 2021년 9월 공개돼 전 세계적으로 폭발적인 인기를 얻었던 ‘오징어 게임’의 후속작인 ‘오징어 게임2’는 지난 26일 오후 5시(한국시간) 넷플릭스를 통해 공개됐다.큰 기대 속에 베일을 벗은 ‘오징어게임2’에 대해 해외 주요 매체들은 “이야기가 정체돼있다’”, “날카로움을 잃었다”, “재미도 기발함도 없다”는 등 첫 시즌에 비해 실망스럽다는 반응을 보이고 있다.국내 시청자들도 대체로 시즌1만 못하다는 반응을 보이고 있으며 특히 그룹 빅뱅 출신 탑(최승현)의 오글거리는 연기에 혹평을 보내고 있다.시즌2에 이어지는 ‘오징어게임3’가 내년에 공개된다.\\n</td>\n",
       "      <td>2024-12-27 09:38:05</td>\n",
       "    </tr>\n",
       "  </tbody>\n",
       "</table>\n",
       "</div>"
      ],
      "text/plain": [
       "    언론사                           제목  \\\n",
       "0  매일경제  ‘오징어게임2’ 외신 혹평에...테마주 동반 폭락   \n",
       "\n",
       "                                                                                                                                                                                                                                                                                                                                                                                                                                                                                                                                                                                                                                                                                                                                     내용  \\\n",
       "0  \\n      사진 확대    ‘오징어 게임2’. 제공|넷플릭스  전 세계적 기대작 넷플릭스 ‘오징어 게임2’가 공개된 다음 날인 27일 장 초반 관련 종목들이 급락하고 있다.이날 오전 9시 20분 현재 아티스트스튜디오(200350)가 26.68% 급락 중이며, 아티스트유나이티드(321820)도 23.98% 하락하고 있다.아티스트스튜디오와 아티스트유나이티드는 시즌1에 이어 ‘오징어게임2’에서도 주연을 맡은 배우 이정재가 대주주로 있는 기업이다.또 ‘오징어게임2’의 영상 특수효과를 맡은 위지윅스튜디오(299900)는 20.00% 하락했고, 덱스터(206560)는 18.59% 내려 거래되고 있다.‘오징어게임’ 제작사인 싸이런픽쳐스에 투자한 쇼박스(086980)도 14.97% 급락을 면치 못하고 있다.지난 2021년 9월 공개돼 전 세계적으로 폭발적인 인기를 얻었던 ‘오징어 게임’의 후속작인 ‘오징어 게임2’는 지난 26일 오후 5시(한국시간) 넷플릭스를 통해 공개됐다.큰 기대 속에 베일을 벗은 ‘오징어게임2’에 대해 해외 주요 매체들은 “이야기가 정체돼있다’”, “날카로움을 잃었다”, “재미도 기발함도 없다”는 등 첫 시즌에 비해 실망스럽다는 반응을 보이고 있다.국내 시청자들도 대체로 시즌1만 못하다는 반응을 보이고 있으며 특히 그룹 빅뱅 출신 탑(최승현)의 오글거리는 연기에 혹평을 보내고 있다.시즌2에 이어지는 ‘오징어게임3’가 내년에 공개된다.\\n   \n",
       "\n",
       "                  작성일시  \n",
       "0  2024-12-27 09:38:05  "
      ]
     },
     "execution_count": 7,
     "metadata": {},
     "output_type": "execute_result"
    }
   ],
   "source": [
    "df = pd.read_csv(f'news_{today}.csv')\n",
    "df.head(1)"
   ]
  },
  {
   "cell_type": "markdown",
   "id": "77560eaf-b1ad-43a0-a061-e36f8d602cde",
   "metadata": {},
   "source": [
    "#### CountVectorizer\n",
    " - 텍스트 데이터 전처리 도구로, 주로 텍스트 데이터를 수치형 데이터로 변환하는 데 사용 \n",
    " - 단어의 빈도를 계산하여 문서-단어 행렬(Document-Term Matrix)을 생성\n",
    "\n",
    "1. 토큰화(Tokenization):\n",
    "    - 기본적으로 CountVectorizer는 공백을 기준으로 단어를 나눔\n",
    "2. 정규 표현식 사용:\n",
    "    - token_pattern 매개변수를 사용하여 정규 표현식을 정의할 수 있음. 이를 통해 특정 패턴에 맞는 단어만 추출\n",
    "3. 불용어 제거:\n",
    "    - stop_words 매개변수를 사용하여 불용어(의미가 없는 단어)를 제거\n",
    "4. n-그램(n-grams):\n",
    "    - ngram_range 매개변수를 사용하여 단어의 n-그램을 생성할 수 있음. 예를 들어, ngram_range=(1, 2)로 설정하면 단어와 2-그램(두 단어 조합)을 모두 포함\n",
    "5. 소문자 변환:\n",
    "     - 기본적으로 CountVectorizer는 모든 단어를 소문자로 변환하여 대소문자를 구분하지 않음"
   ]
  },
  {
   "cell_type": "code",
   "execution_count": 25,
   "id": "6da04536-8bdb-44ab-9de1-c99b4be4f299",
   "metadata": {},
   "outputs": [
    {
     "data": {
      "text/plain": [
       "0              ‘오징어게임2’ 외신 혹평에...테마주 동반 폭락\n",
       "1        주가는 뒷걸음질인데 외국인은 산다?…‘게임주’에 쏠리는 시선\n",
       "2       두산에너빌리티, 국제핵비확산협력센터와 원전 수출 사업지원 협약\n",
       "3           “삼성전자, ‘이것’ 갖춰야 주가 반등 가능”…목표가↓\n",
       "4     “SOOP, 내년도 실적에 주목해야 할 때…서서히 매수 관점으로”\n",
       "                      ...                 \n",
       "95            코스피·코스닥 상승 출발…원·달러 환율 1458원대\n",
       "96           젠큐릭스, 자회사 지분 팔아 현금 확보 소식에 '上'\n",
       "97    \"TKG휴켐스, 내년 상반기까지 실적 반등 어려워…목표가↓\"-DB\n",
       "98     국내 정세불안, 항공업 영향 제한적 …\"대한항공 최선호주\"-한국\n",
       "99     \"중국 경기 부양 의지 확인…화장품·섬유의복 저점 매수 나서야\"\n",
       "Name: 제목, Length: 100, dtype: object"
      ]
     },
     "execution_count": 25,
     "metadata": {},
     "output_type": "execute_result"
    }
   ],
   "source": [
    "corpus = df['제목'] #.head(10)\n",
    "corpus"
   ]
  },
  {
   "cell_type": "code",
   "execution_count": 26,
   "id": "dfd1d1bb-2f4c-42d4-8ccb-824973c419d6",
   "metadata": {},
   "outputs": [],
   "source": [
    "from sklearn.feature_extraction.text import CountVectorizer"
   ]
  },
  {
   "cell_type": "code",
   "execution_count": null,
   "id": "13d596ae-b225-4251-af63-63246dbc1e1d",
   "metadata": {},
   "outputs": [],
   "source": [
    "CountVectorizer?"
   ]
  },
  {
   "cell_type": "markdown",
   "id": "842c83b2-558f-4a13-919f-53ae245756b9",
   "metadata": {},
   "source": [
    "#### 매개 변수\n",
    "- analyzer : 단어, 문자 단위의 벡터화 방법 정의\n",
    "- ngram_range : BOW 단위 수 (1, 3) 이라면 1개~3개까지 토큰을 묶어서 벡터화\n",
    "- max_df : 어휘를 작성할 때 문서 빈도가 주어진 임계값보다 높은 용어(말뭉치 관련 불용어)는 제외 (기본값=1.0)\n",
    "    - max_df = 0.90 : 문서의 90% 이상에 나타나는 단어 제외\n",
    "    - max_df = 10 : 10개 이상의 문서에 나타나는 단어 제외\n",
    "- min_df : 어휘를 작성할 때 문서 빈도가 주어진 임계값보다 낮은 용어는 제외합니다. 컷오프라고도 합니다.(기본값=1.0)\n",
    "    - min_df = 0.01 : 문서의 1% 미만으로 나타나는 단어 제외\n",
    "    - min_df = 10 : 문서에 10개 미만으로 나타나는 단어 제외\n",
    "- stop_words : 불용어 정의"
   ]
  },
  {
   "cell_type": "code",
   "execution_count": null,
   "id": "0126349e-fb32-414a-ae54-3d86f2a47175",
   "metadata": {},
   "outputs": [],
   "source": [
    "cvect = CountVectorizer()"
   ]
  },
  {
   "cell_type": "markdown",
   "id": "b040ed87-1b19-470c-b6e3-f76986284d4d",
   "metadata": {},
   "source": [
    "fit, transform, fit_transfrom의 차이점\n",
    "fit(): 원시 문서에 있는 모든 토큰의 어휘 사전을 배웁니다.\n",
    "transform(): 문서를 문서 용어 매트릭스로 변환합니다. transform 이후엔 매트릭스로 변환되어 숫자형태로 변경됩니다.\n",
    "fit_transform(): 어휘 사전을 배우고 문서 용어 매트릭스를 반환합니다. fit 다음에 변환이 오는 것과 동일하지만 더 효율적으로 구현됩니다."
   ]
  },
  {
   "cell_type": "code",
   "execution_count": null,
   "id": "774e9554-2f4e-4352-9ddb-8daa125a7770",
   "metadata": {},
   "outputs": [
    {
     "data": {
      "text/plain": [
       "<100x613 sparse matrix of type '<class 'numpy.int64'>'\n",
       "\twith 780 stored elements in Compressed Sparse Row format>"
      ]
     },
     "execution_count": 27,
     "metadata": {},
     "output_type": "execute_result"
    }
   ],
   "source": [
    "X = cvect.fit_transform(corpus)\n",
    "X"
   ]
  },
  {
   "cell_type": "code",
   "execution_count": 28,
   "id": "3d7c70e1-92fc-4aeb-bf14-846c76c859bb",
   "metadata": {},
   "outputs": [
    {
     "data": {
      "text/plain": [
       "array([[0, 0, 0, ..., 0, 0, 0],\n",
       "       [0, 0, 0, ..., 0, 0, 0],\n",
       "       [0, 0, 0, ..., 0, 0, 0],\n",
       "       ...,\n",
       "       [0, 0, 0, ..., 0, 0, 0],\n",
       "       [0, 0, 0, ..., 0, 0, 0],\n",
       "       [0, 0, 0, ..., 0, 0, 0]], dtype=int64)"
      ]
     },
     "execution_count": 28,
     "metadata": {},
     "output_type": "execute_result"
    }
   ],
   "source": [
    "X.toarray()"
   ]
  },
  {
   "cell_type": "code",
   "execution_count": 29,
   "id": "c4322dde-3c9c-434d-9535-9d3097ae86ad",
   "metadata": {},
   "outputs": [
    {
     "data": {
      "text/plain": [
       "613"
      ]
     },
     "execution_count": 29,
     "metadata": {},
     "output_type": "execute_result"
    }
   ],
   "source": [
    "cvect.get_feature_names_out().size"
   ]
  },
  {
   "cell_type": "code",
   "execution_count": 30,
   "id": "27346b7f-8380-4fc2-88ed-63e6efbd8da0",
   "metadata": {},
   "outputs": [],
   "source": [
    "tmp = pd.DataFrame(X.toarray(), columns=cvect.get_feature_names_out())"
   ]
  },
  {
   "cell_type": "code",
   "execution_count": 31,
   "id": "7d694c93-afb5-4042-845a-fcf0fdb0210a",
   "metadata": {},
   "outputs": [
    {
     "data": {
      "text/plain": [
       "코스피     7\n",
       "코스닥     7\n",
       "매수      6\n",
       "내년      6\n",
       "환율      6\n",
       "       ..\n",
       "리스크     1\n",
       "떨어져도    1\n",
       "따블      1\n",
       "등에      1\n",
       "힘쓴다     1\n",
       "Length: 613, dtype: int64"
      ]
     },
     "execution_count": 31,
     "metadata": {},
     "output_type": "execute_result"
    }
   ],
   "source": [
    "tmp.sum().sort_values(ascending=False)"
   ]
  },
  {
   "cell_type": "code",
   "execution_count": null,
   "id": "6a579b9a-c478-4ebe-bd96-62b978a1fbe0",
   "metadata": {},
   "outputs": [],
   "source": []
  }
 ],
 "metadata": {
  "kernelspec": {
   "display_name": "Python 3 (ipykernel)",
   "language": "python",
   "name": "python3"
  },
  "language_info": {
   "codemirror_mode": {
    "name": "ipython",
    "version": 3
   },
   "file_extension": ".py",
   "mimetype": "text/x-python",
   "name": "python",
   "nbconvert_exporter": "python",
   "pygments_lexer": "ipython3",
   "version": "3.12.7"
  }
 },
 "nbformat": 4,
 "nbformat_minor": 5
}
