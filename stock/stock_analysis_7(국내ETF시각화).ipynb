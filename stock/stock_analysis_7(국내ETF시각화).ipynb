{
 "cells": [
  {
   "cell_type": "code",
   "execution_count": 153,
   "id": "dd42f47a-2f26-477d-84c7-4edb42476bee",
   "metadata": {},
   "outputs": [],
   "source": [
    "# 데이터 분석 패키지\n",
    "import numpy as np\n",
    "import pandas as pd"
   ]
  },
  {
   "cell_type": "code",
   "execution_count": 154,
   "id": "5e4c92e2-ab08-43cb-b198-6282ae12c2b1",
   "metadata": {},
   "outputs": [],
   "source": [
    "# 모든 컬럼을 출력하도록 설정\n",
    "pd.set_option('display.max_columns', None)  # None으로 설정하면 모든 컬럼 출력\n",
    "# 모든 행을 출력하도록 설정\n",
    "pd.set_option('display.max_rows', 50)  # None으로 설정하면 모든 행 출력"
   ]
  },
  {
   "cell_type": "code",
   "execution_count": 156,
   "id": "4c568bce-7e8c-4930-bc39-733b84b26e4e",
   "metadata": {},
   "outputs": [],
   "source": [
    "# 시각화 패키지\n",
    "import seaborn as sns\n",
    "import matplotlib.pyplot as plt"
   ]
  },
  {
   "cell_type": "code",
   "execution_count": 157,
   "id": "b0f03f51-1ebf-41cd-9865-0d0f165a3627",
   "metadata": {},
   "outputs": [],
   "source": [
    "# matplotlib 한글지원 패키지\n",
    "import koreanize_matplotlib"
   ]
  },
  {
   "cell_type": "code",
   "execution_count": 158,
   "id": "40e16c2e-e05f-44f4-9b75-2ea84d51f921",
   "metadata": {},
   "outputs": [
    {
     "data": {
      "text/plain": [
       "'2024-12-13'"
      ]
     },
     "execution_count": 158,
     "metadata": {},
     "output_type": "execute_result"
    }
   ],
   "source": [
    "# 날짜는 파이썬 표준라이브러리 datetime 사용\n",
    "import datetime\n",
    "# 오늘 날짜 구하기\n",
    "today = datetime.datetime.today()\n",
    "today = today.strftime('%Y-%m-%d')\n",
    "today"
   ]
  },
  {
   "cell_type": "code",
   "execution_count": 159,
   "id": "2cdf693f-3877-4a92-8bc0-ecf363535a9a",
   "metadata": {},
   "outputs": [],
   "source": [
    "df_etfs = pd.read_csv(f'new_etf_{today}.csv')"
   ]
  },
  {
   "cell_type": "code",
   "execution_count": 160,
   "id": "120c18d5-6e8b-4b41-a036-ca1ca0764183",
   "metadata": {},
   "outputs": [
    {
     "data": {
      "text/plain": [
       "(930, 17)"
      ]
     },
     "execution_count": 160,
     "metadata": {},
     "output_type": "execute_result"
    }
   ],
   "source": [
    "df_etfs.shape"
   ]
  },
  {
   "cell_type": "code",
   "execution_count": 161,
   "id": "31580533-1e2c-4ca0-84a7-9497a26e305f",
   "metadata": {},
   "outputs": [
    {
     "data": {
      "text/html": [
       "<div>\n",
       "<style scoped>\n",
       "    .dataframe tbody tr th:only-of-type {\n",
       "        vertical-align: middle;\n",
       "    }\n",
       "\n",
       "    .dataframe tbody tr th {\n",
       "        vertical-align: top;\n",
       "    }\n",
       "\n",
       "    .dataframe thead th {\n",
       "        text-align: right;\n",
       "    }\n",
       "</style>\n",
       "<table border=\"1\" class=\"dataframe\">\n",
       "  <thead>\n",
       "    <tr style=\"text-align: right;\">\n",
       "      <th></th>\n",
       "      <th>Symbol</th>\n",
       "      <th>Category</th>\n",
       "      <th>CategoryName</th>\n",
       "      <th>Name</th>\n",
       "      <th>Price</th>\n",
       "      <th>RiseFall</th>\n",
       "      <th>Change</th>\n",
       "      <th>ChangeRate</th>\n",
       "      <th>NAV</th>\n",
       "      <th>EarningRate</th>\n",
       "      <th>Volume</th>\n",
       "      <th>Amount</th>\n",
       "      <th>MarCap</th>\n",
       "      <th>Brand</th>\n",
       "      <th>인버스</th>\n",
       "      <th>레버리지</th>\n",
       "      <th>헤지</th>\n",
       "    </tr>\n",
       "  </thead>\n",
       "  <tbody>\n",
       "    <tr>\n",
       "      <th>0</th>\n",
       "      <td>459580</td>\n",
       "      <td>6</td>\n",
       "      <td>채권</td>\n",
       "      <td>KODEX CD금리액티브(합성)</td>\n",
       "      <td>1056985</td>\n",
       "      <td>2</td>\n",
       "      <td>95</td>\n",
       "      <td>0.01</td>\n",
       "      <td>1057017.0</td>\n",
       "      <td>0.8251</td>\n",
       "      <td>36376</td>\n",
       "      <td>38448</td>\n",
       "      <td>93049</td>\n",
       "      <td>KODEX</td>\n",
       "      <td>False</td>\n",
       "      <td>False</td>\n",
       "      <td>False</td>\n",
       "    </tr>\n",
       "  </tbody>\n",
       "</table>\n",
       "</div>"
      ],
      "text/plain": [
       "   Symbol  Category CategoryName               Name    Price  RiseFall  \\\n",
       "0  459580         6           채권  KODEX CD금리액티브(합성)  1056985         2   \n",
       "\n",
       "   Change  ChangeRate        NAV  EarningRate  Volume  Amount  MarCap  Brand  \\\n",
       "0      95        0.01  1057017.0       0.8251   36376   38448   93049  KODEX   \n",
       "\n",
       "     인버스   레버리지     헤지  \n",
       "0  False  False  False  "
      ]
     },
     "execution_count": 161,
     "metadata": {},
     "output_type": "execute_result"
    }
   ],
   "source": [
    "df_etfs.head(1)"
   ]
  },
  {
   "cell_type": "code",
   "execution_count": 162,
   "id": "95123cef-deb1-4863-8434-f20da03d64d6",
   "metadata": {},
   "outputs": [
    {
     "name": "stdout",
     "output_type": "stream",
     "text": [
      "<class 'pandas.core.frame.DataFrame'>\n",
      "RangeIndex: 930 entries, 0 to 929\n",
      "Data columns (total 17 columns):\n",
      " #   Column        Non-Null Count  Dtype  \n",
      "---  ------        --------------  -----  \n",
      " 0   Symbol        930 non-null    int64  \n",
      " 1   Category      930 non-null    int64  \n",
      " 2   CategoryName  930 non-null    object \n",
      " 3   Name          930 non-null    object \n",
      " 4   Price         930 non-null    int64  \n",
      " 5   RiseFall      930 non-null    int64  \n",
      " 6   Change        930 non-null    int64  \n",
      " 7   ChangeRate    930 non-null    float64\n",
      " 8   NAV           930 non-null    float64\n",
      " 9   EarningRate   874 non-null    float64\n",
      " 10  Volume        930 non-null    int64  \n",
      " 11  Amount        930 non-null    int64  \n",
      " 12  MarCap        930 non-null    int64  \n",
      " 13  Brand         930 non-null    object \n",
      " 14  인버스           930 non-null    bool   \n",
      " 15  레버리지          930 non-null    bool   \n",
      " 16  헤지            930 non-null    bool   \n",
      "dtypes: bool(3), float64(3), int64(8), object(3)\n",
      "memory usage: 104.6+ KB\n"
     ]
    }
   ],
   "source": [
    "df_etfs.info()"
   ]
  },
  {
   "cell_type": "code",
   "execution_count": 163,
   "id": "7eb22412-abb2-4bee-b2db-6bb6c4356a41",
   "metadata": {},
   "outputs": [
    {
     "data": {
      "text/plain": [
       "Symbol           0\n",
       "Category         0\n",
       "CategoryName     0\n",
       "Name             0\n",
       "Price            0\n",
       "RiseFall         0\n",
       "Change           0\n",
       "ChangeRate       0\n",
       "NAV              0\n",
       "EarningRate     56\n",
       "Volume           0\n",
       "Amount           0\n",
       "MarCap           0\n",
       "Brand            0\n",
       "인버스              0\n",
       "레버리지             0\n",
       "헤지               0\n",
       "dtype: int64"
      ]
     },
     "execution_count": 163,
     "metadata": {},
     "output_type": "execute_result"
    }
   ],
   "source": [
    "# 결측치 확인\n",
    "df_etfs.isna().sum()"
   ]
  },
  {
   "cell_type": "code",
   "execution_count": 164,
   "id": "2a74978e-b027-412c-965a-030897a912c0",
   "metadata": {},
   "outputs": [
    {
     "data": {
      "text/plain": [
       "Symbol          0.000000\n",
       "Category        0.000000\n",
       "CategoryName    0.000000\n",
       "Name            0.000000\n",
       "Price           0.000000\n",
       "RiseFall        0.000000\n",
       "Change          0.000000\n",
       "ChangeRate      0.000000\n",
       "NAV             0.000000\n",
       "EarningRate     6.021505\n",
       "Volume          0.000000\n",
       "Amount          0.000000\n",
       "MarCap          0.000000\n",
       "Brand           0.000000\n",
       "인버스             0.000000\n",
       "레버리지            0.000000\n",
       "헤지              0.000000\n",
       "dtype: float64"
      ]
     },
     "execution_count": 164,
     "metadata": {},
     "output_type": "execute_result"
    }
   ],
   "source": [
    "# 결측치의 비율확인\n",
    "df_etfs.isna().mean()*100"
   ]
  },
  {
   "cell_type": "code",
   "execution_count": 165,
   "id": "ab5d222f-0c23-4d47-b447-ee3c171ec4ce",
   "metadata": {},
   "outputs": [
    {
     "data": {
      "text/plain": [
       "<Axes: >"
      ]
     },
     "execution_count": 165,
     "metadata": {},
     "output_type": "execute_result"
    },
    {
     "data": {
      "image/png": "[encoded data removed]",
      "text/plain": [
       "<Figure size 500x300 with 2 Axes>"
      ]
     },
     "metadata": {},
     "output_type": "display_data"
    }
   ],
   "source": [
    "plt.figure(figsize=(5,3))\n",
    "sns.heatmap(df_etfs.isna())"
   ]
  },
  {
   "cell_type": "code",
   "execution_count": 166,
   "id": "ba6dfd2e-63ad-493c-98dc-bc76cc72a56b",
   "metadata": {},
   "outputs": [
    {
     "data": {
      "text/html": [
       "<div>\n",
       "<style scoped>\n",
       "    .dataframe tbody tr th:only-of-type {\n",
       "        vertical-align: middle;\n",
       "    }\n",
       "\n",
       "    .dataframe tbody tr th {\n",
       "        vertical-align: top;\n",
       "    }\n",
       "\n",
       "    .dataframe thead th {\n",
       "        text-align: right;\n",
       "    }\n",
       "</style>\n",
       "<table border=\"1\" class=\"dataframe\">\n",
       "  <thead>\n",
       "    <tr style=\"text-align: right;\">\n",
       "      <th></th>\n",
       "      <th>CategoryName</th>\n",
       "      <th>Name</th>\n",
       "      <th>Brand</th>\n",
       "    </tr>\n",
       "  </thead>\n",
       "  <tbody>\n",
       "    <tr>\n",
       "      <th>count</th>\n",
       "      <td>930</td>\n",
       "      <td>930</td>\n",
       "      <td>930</td>\n",
       "    </tr>\n",
       "    <tr>\n",
       "      <th>unique</th>\n",
       "      <td>7</td>\n",
       "      <td>930</td>\n",
       "      <td>27</td>\n",
       "    </tr>\n",
       "    <tr>\n",
       "      <th>top</th>\n",
       "      <td>해외주식</td>\n",
       "      <td>KODEX CD금리액티브(합성)</td>\n",
       "      <td>KODEX</td>\n",
       "    </tr>\n",
       "    <tr>\n",
       "      <th>freq</th>\n",
       "      <td>295</td>\n",
       "      <td>1</td>\n",
       "      <td>201</td>\n",
       "    </tr>\n",
       "  </tbody>\n",
       "</table>\n",
       "</div>"
      ],
      "text/plain": [
       "       CategoryName               Name  Brand\n",
       "count           930                930    930\n",
       "unique            7                930     27\n",
       "top            해외주식  KODEX CD금리액티브(합성)  KODEX\n",
       "freq            295                  1    201"
      ]
     },
     "execution_count": 166,
     "metadata": {},
     "output_type": "execute_result"
    }
   ],
   "source": [
    "df_etfs.describe(include='O')"
   ]
  },
  {
   "cell_type": "code",
   "execution_count": 167,
   "id": "1c3aab8b-ed85-49ae-a582-53ea2bb37f4d",
   "metadata": {},
   "outputs": [
    {
     "data": {
      "text/html": [
       "<div>\n",
       "<style scoped>\n",
       "    .dataframe tbody tr th:only-of-type {\n",
       "        vertical-align: middle;\n",
       "    }\n",
       "\n",
       "    .dataframe tbody tr th {\n",
       "        vertical-align: top;\n",
       "    }\n",
       "\n",
       "    .dataframe thead th {\n",
       "        text-align: right;\n",
       "    }\n",
       "</style>\n",
       "<table border=\"1\" class=\"dataframe\">\n",
       "  <thead>\n",
       "    <tr style=\"text-align: right;\">\n",
       "      <th></th>\n",
       "      <th>Symbol</th>\n",
       "      <th>Category</th>\n",
       "      <th>Price</th>\n",
       "      <th>RiseFall</th>\n",
       "      <th>Change</th>\n",
       "      <th>Volume</th>\n",
       "      <th>Amount</th>\n",
       "      <th>MarCap</th>\n",
       "    </tr>\n",
       "  </thead>\n",
       "  <tbody>\n",
       "    <tr>\n",
       "      <th>count</th>\n",
       "      <td>930.000000</td>\n",
       "      <td>930.000000</td>\n",
       "      <td>9.300000e+02</td>\n",
       "      <td>930.000000</td>\n",
       "      <td>930.000000</td>\n",
       "      <td>9.300000e+02</td>\n",
       "      <td>930.000000</td>\n",
       "      <td>930.000000</td>\n",
       "    </tr>\n",
       "    <tr>\n",
       "      <th>mean</th>\n",
       "      <td>363664.215054</td>\n",
       "      <td>3.761290</td>\n",
       "      <td>2.587300e+04</td>\n",
       "      <td>3.638710</td>\n",
       "      <td>-18.279570</td>\n",
       "      <td>5.094872e+04</td>\n",
       "      <td>402.043011</td>\n",
       "      <td>1850.506452</td>\n",
       "    </tr>\n",
       "    <tr>\n",
       "      <th>std</th>\n",
       "      <td>117642.072976</td>\n",
       "      <td>1.839352</td>\n",
       "      <td>6.369234e+04</td>\n",
       "      <td>1.344208</td>\n",
       "      <td>104.688935</td>\n",
       "      <td>6.381382e+05</td>\n",
       "      <td>2628.269903</td>\n",
       "      <td>6250.178701</td>\n",
       "    </tr>\n",
       "    <tr>\n",
       "      <th>min</th>\n",
       "      <td>69500.000000</td>\n",
       "      <td>1.000000</td>\n",
       "      <td>1.496000e+03</td>\n",
       "      <td>2.000000</td>\n",
       "      <td>-810.000000</td>\n",
       "      <td>0.000000e+00</td>\n",
       "      <td>0.000000</td>\n",
       "      <td>9.000000</td>\n",
       "    </tr>\n",
       "    <tr>\n",
       "      <th>25%</th>\n",
       "      <td>272562.500000</td>\n",
       "      <td>2.000000</td>\n",
       "      <td>9.371250e+03</td>\n",
       "      <td>2.000000</td>\n",
       "      <td>-45.000000</td>\n",
       "      <td>6.000000e+00</td>\n",
       "      <td>0.000000</td>\n",
       "      <td>85.000000</td>\n",
       "    </tr>\n",
       "    <tr>\n",
       "      <th>50%</th>\n",
       "      <td>407235.000000</td>\n",
       "      <td>4.000000</td>\n",
       "      <td>1.203750e+04</td>\n",
       "      <td>3.000000</td>\n",
       "      <td>0.000000</td>\n",
       "      <td>2.755000e+02</td>\n",
       "      <td>4.000000</td>\n",
       "      <td>253.000000</td>\n",
       "    </tr>\n",
       "    <tr>\n",
       "      <th>75%</th>\n",
       "      <td>463687.500000</td>\n",
       "      <td>6.000000</td>\n",
       "      <td>1.890875e+04</td>\n",
       "      <td>5.000000</td>\n",
       "      <td>10.000000</td>\n",
       "      <td>5.122750e+03</td>\n",
       "      <td>71.500000</td>\n",
       "      <td>1116.750000</td>\n",
       "    </tr>\n",
       "    <tr>\n",
       "      <th>max</th>\n",
       "      <td>499150.000000</td>\n",
       "      <td>7.000000</td>\n",
       "      <td>1.056985e+06</td>\n",
       "      <td>5.000000</td>\n",
       "      <td>535.000000</td>\n",
       "      <td>1.736746e+07</td>\n",
       "      <td>42573.000000</td>\n",
       "      <td>93049.000000</td>\n",
       "    </tr>\n",
       "  </tbody>\n",
       "</table>\n",
       "</div>"
      ],
      "text/plain": [
       "              Symbol    Category         Price    RiseFall      Change  \\\n",
       "count     930.000000  930.000000  9.300000e+02  930.000000  930.000000   \n",
       "mean   363664.215054    3.761290  2.587300e+04    3.638710  -18.279570   \n",
       "std    117642.072976    1.839352  6.369234e+04    1.344208  104.688935   \n",
       "min     69500.000000    1.000000  1.496000e+03    2.000000 -810.000000   \n",
       "25%    272562.500000    2.000000  9.371250e+03    2.000000  -45.000000   \n",
       "50%    407235.000000    4.000000  1.203750e+04    3.000000    0.000000   \n",
       "75%    463687.500000    6.000000  1.890875e+04    5.000000   10.000000   \n",
       "max    499150.000000    7.000000  1.056985e+06    5.000000  535.000000   \n",
       "\n",
       "             Volume        Amount        MarCap  \n",
       "count  9.300000e+02    930.000000    930.000000  \n",
       "mean   5.094872e+04    402.043011   1850.506452  \n",
       "std    6.381382e+05   2628.269903   6250.178701  \n",
       "min    0.000000e+00      0.000000      9.000000  \n",
       "25%    6.000000e+00      0.000000     85.000000  \n",
       "50%    2.755000e+02      4.000000    253.000000  \n",
       "75%    5.122750e+03     71.500000   1116.750000  \n",
       "max    1.736746e+07  42573.000000  93049.000000  "
      ]
     },
     "execution_count": 167,
     "metadata": {},
     "output_type": "execute_result"
    }
   ],
   "source": [
    "df_etfs.describe(include=np.int64)"
   ]
  },
  {
   "cell_type": "code",
   "execution_count": 168,
   "id": "70b14154-06f3-4c02-ab4c-69e125d29f5d",
   "metadata": {},
   "outputs": [
    {
     "data": {
      "text/plain": [
       "Symbol          930\n",
       "Category          7\n",
       "CategoryName      7\n",
       "Name            930\n",
       "Price           837\n",
       "RiseFall          3\n",
       "Change          122\n",
       "ChangeRate      266\n",
       "NAV             901\n",
       "EarningRate     871\n",
       "Volume          585\n",
       "Amount          263\n",
       "MarCap          602\n",
       "Brand            27\n",
       "인버스               2\n",
       "레버리지              2\n",
       "헤지                2\n",
       "dtype: int64"
      ]
     },
     "execution_count": 168,
     "metadata": {},
     "output_type": "execute_result"
    }
   ],
   "source": [
    "# 컬럼별로 고유값 개수 확인하기\n",
    "df_etfs.nunique()"
   ]
  },
  {
   "cell_type": "code",
   "execution_count": 169,
   "id": "5d07a965-c5da-4b8b-b69a-98f501d15e29",
   "metadata": {},
   "outputs": [
    {
     "data": {
      "text/html": [
       "<div>\n",
       "<style scoped>\n",
       "    .dataframe tbody tr th:only-of-type {\n",
       "        vertical-align: middle;\n",
       "    }\n",
       "\n",
       "    .dataframe tbody tr th {\n",
       "        vertical-align: top;\n",
       "    }\n",
       "\n",
       "    .dataframe thead th {\n",
       "        text-align: right;\n",
       "    }\n",
       "</style>\n",
       "<table border=\"1\" class=\"dataframe\">\n",
       "  <thead>\n",
       "    <tr style=\"text-align: right;\">\n",
       "      <th></th>\n",
       "      <th>CategoryName</th>\n",
       "      <th>Name</th>\n",
       "      <th>Brand</th>\n",
       "    </tr>\n",
       "  </thead>\n",
       "  <tbody>\n",
       "    <tr>\n",
       "      <th>0</th>\n",
       "      <td>채권</td>\n",
       "      <td>KODEX CD금리액티브(합성)</td>\n",
       "      <td>KODEX</td>\n",
       "    </tr>\n",
       "    <tr>\n",
       "      <th>1</th>\n",
       "      <td>채권</td>\n",
       "      <td>TIGER CD금리투자KIS(합성)</td>\n",
       "      <td>TIGER</td>\n",
       "    </tr>\n",
       "    <tr>\n",
       "      <th>2</th>\n",
       "      <td>해외주식</td>\n",
       "      <td>TIGER 미국S&amp;P500</td>\n",
       "      <td>TIGER</td>\n",
       "    </tr>\n",
       "    <tr>\n",
       "      <th>3</th>\n",
       "      <td>국내 시장지수</td>\n",
       "      <td>KODEX 200</td>\n",
       "      <td>KODEX</td>\n",
       "    </tr>\n",
       "    <tr>\n",
       "      <th>4</th>\n",
       "      <td>채권</td>\n",
       "      <td>KODEX KOFR금리액티브(합성)</td>\n",
       "      <td>KODEX</td>\n",
       "    </tr>\n",
       "    <tr>\n",
       "      <th>...</th>\n",
       "      <td>...</td>\n",
       "      <td>...</td>\n",
       "      <td>...</td>\n",
       "    </tr>\n",
       "    <tr>\n",
       "      <th>925</th>\n",
       "      <td>국내 시장지수</td>\n",
       "      <td>HANARO 200 TOP10</td>\n",
       "      <td>HANARO</td>\n",
       "    </tr>\n",
       "    <tr>\n",
       "      <th>926</th>\n",
       "      <td>국내 업종/테마</td>\n",
       "      <td>HANARO Fn골프테마</td>\n",
       "      <td>HANARO</td>\n",
       "    </tr>\n",
       "    <tr>\n",
       "      <th>927</th>\n",
       "      <td>국내 업종/테마</td>\n",
       "      <td>TIGER 200 산업재</td>\n",
       "      <td>TIGER</td>\n",
       "    </tr>\n",
       "    <tr>\n",
       "      <th>928</th>\n",
       "      <td>기타</td>\n",
       "      <td>SOL 한국형글로벌플랫폼&amp;메타버스액티브</td>\n",
       "      <td>SOL</td>\n",
       "    </tr>\n",
       "    <tr>\n",
       "      <th>929</th>\n",
       "      <td>국내 업종/테마</td>\n",
       "      <td>RISE 창업투자회사</td>\n",
       "      <td>RISE</td>\n",
       "    </tr>\n",
       "  </tbody>\n",
       "</table>\n",
       "<p>930 rows × 3 columns</p>\n",
       "</div>"
      ],
      "text/plain": [
       "    CategoryName                   Name   Brand\n",
       "0             채권      KODEX CD금리액티브(합성)   KODEX\n",
       "1             채권    TIGER CD금리투자KIS(합성)   TIGER\n",
       "2           해외주식         TIGER 미국S&P500   TIGER\n",
       "3        국내 시장지수              KODEX 200   KODEX\n",
       "4             채권    KODEX KOFR금리액티브(합성)   KODEX\n",
       "..           ...                    ...     ...\n",
       "925      국내 시장지수       HANARO 200 TOP10  HANARO\n",
       "926     국내 업종/테마          HANARO Fn골프테마  HANARO\n",
       "927     국내 업종/테마          TIGER 200 산업재   TIGER\n",
       "928           기타  SOL 한국형글로벌플랫폼&메타버스액티브     SOL\n",
       "929     국내 업종/테마            RISE 창업투자회사    RISE\n",
       "\n",
       "[930 rows x 3 columns]"
      ]
     },
     "metadata": {},
     "output_type": "display_data"
    },
    {
     "data": {
      "text/plain": [
       "CategoryName      7\n",
       "Name            930\n",
       "Brand            27\n",
       "dtype: int64"
      ]
     },
     "metadata": {},
     "output_type": "display_data"
    }
   ],
   "source": [
    "# 특정 컬럼 타입에 대해 서브 데이터 프레임 추출\n",
    "display(df_etfs.select_dtypes(np.object_))\n",
    "# 범주형 컬럼의 고유값 갯수\n",
    "display(df_etfs.select_dtypes(np.object_).nunique())"
   ]
  },
  {
   "cell_type": "code",
   "execution_count": 170,
   "id": "cc22943d-c6d2-4b5b-987b-46bf649ff2f5",
   "metadata": {},
   "outputs": [
    {
     "data": {
      "text/plain": [
       "CategoryName\n",
       "해외주식        295\n",
       "국내 업종/테마    248\n",
       "채권          163\n",
       "국내 시장지수      88\n",
       "기타           78\n",
       "국내파생         40\n",
       "원자재          18\n",
       "Name: count, dtype: int64"
      ]
     },
     "execution_count": 170,
     "metadata": {},
     "output_type": "execute_result"
    }
   ],
   "source": [
    "# 카테고리 별 빈도수\n",
    "df_etfs['CategoryName'].value_counts()"
   ]
  },
  {
   "cell_type": "code",
   "execution_count": 171,
   "id": "42fe0ad5-f87a-435a-9367-75d2880ee4cc",
   "metadata": {},
   "outputs": [
    {
     "name": "stdout",
     "output_type": "stream",
     "text": [
      "81.4921\n",
      "-25.8231\n",
      "35.3568\n",
      "-37.5461\n",
      "2.5163\n",
      "-9.2241\n",
      "19.4214\n",
      "-7.5676\n"
     ]
    }
   ],
   "source": [
    "print(df_etfs.query(\"CategoryName == '해외주식'\")['EarningRate'].max())\n",
    "print(df_etfs.query(\"CategoryName == '해외주식'\")['EarningRate'].min())\n",
    "print(df_etfs.query(\"CategoryName == '국내 업종/테마'\")['EarningRate'].max())\n",
    "print(df_etfs.query(\"CategoryName == '국내 업종/테마'\")['EarningRate'].min())\n",
    "print(df_etfs.query(\"CategoryName == '국내 시장지수'\")['EarningRate'].max())\n",
    "print(df_etfs.query(\"CategoryName == '국내 시장지수'\")['EarningRate'].min())\n",
    "print(df_etfs.query(\"CategoryName == '원자재'\")['EarningRate'].max())\n",
    "print(df_etfs.query(\"CategoryName == '원자재'\")['EarningRate'].min())"
   ]
  },
  {
   "cell_type": "code",
   "execution_count": 172,
   "id": "3c0e6884-d5cf-4f3a-9c23-4361036d9f89",
   "metadata": {},
   "outputs": [],
   "source": [
    "# ETF 카테고리의 3개월 수익율 최소,최대 구하기\n",
    "def get_earningrage_minmax(cate_name):\n",
    "    earningrate = df_etfs.query(\"CategoryName == @cate_name\")['EarningRate']\n",
    "    return earningrate.min(),earningrate.max()"
   ]
  },
  {
   "cell_type": "code",
   "execution_count": 173,
   "id": "bb1e05fa-df66-433f-abe5-e8780fa24d68",
   "metadata": {},
   "outputs": [
    {
     "name": "stdout",
     "output_type": "stream",
     "text": [
      "채권 : -17.4751, 13.4774\n",
      "해외주식 : -25.8231, 81.4921\n",
      "국내 시장지수 : -9.2241, 2.5163\n",
      "기타 : -13.2365, 32.0717\n",
      "국내파생 : -21.8261, 14.4322\n",
      "국내 업종/테마 : -37.5461, 35.3568\n",
      "원자재 : -7.5676, 19.4214\n"
     ]
    }
   ],
   "source": [
    "for cate_name in df_etfs['CategoryName'].unique() :\n",
    "    # print(cate_name)\n",
    "    min, max = get_earningrage_minmax(cate_name)\n",
    "    print(f'{cate_name} : {min}, {max}')"
   ]
  },
  {
   "cell_type": "code",
   "execution_count": 174,
   "id": "40e2814a-d3cd-44e0-897b-05187a82de80",
   "metadata": {},
   "outputs": [
    {
     "data": {
      "text/plain": [
       "<Axes: title={'center': 'ETF 카테고리 빈도수'}, ylabel='CategoryName'>"
      ]
     },
     "execution_count": 174,
     "metadata": {},
     "output_type": "execute_result"
    },
    {
     "data": {
      "image/png": "[encoded data removed]",
      "text/plain": [
       "<Figure size 500x300 with 1 Axes>"
      ]
     },
     "metadata": {},
     "output_type": "display_data"
    }
   ],
   "source": [
    "df_etfs['CategoryName'].value_counts().sort_values(ascending=True).plot(kind='barh',figsize=(5,3),title='ETF 카테고리 빈도수')"
   ]
  },
  {
   "cell_type": "code",
   "execution_count": 175,
   "id": "ef34b06a-735e-43b9-9447-7f839c4f5378",
   "metadata": {},
   "outputs": [
    {
     "data": {
      "text/plain": [
       "\u001b[1;31mSignature:\u001b[0m\n",
       "\u001b[0msns\u001b[0m\u001b[1;33m.\u001b[0m\u001b[0mcountplot\u001b[0m\u001b[1;33m(\u001b[0m\u001b[1;33m\n",
       "\u001b[0m    \u001b[0mdata\u001b[0m\u001b[1;33m=\u001b[0m\u001b[1;32mNone\u001b[0m\u001b[1;33m,\u001b[0m\u001b[1;33m\n",
       "\u001b[0m    \u001b[1;33m*\u001b[0m\u001b[1;33m,\u001b[0m\u001b[1;33m\n",
       "\u001b[0m    \u001b[0mx\u001b[0m\u001b[1;33m=\u001b[0m\u001b[1;32mNone\u001b[0m\u001b[1;33m,\u001b[0m\u001b[1;33m\n",
       "\u001b[0m    \u001b[0my\u001b[0m\u001b[1;33m=\u001b[0m\u001b[1;32mNone\u001b[0m\u001b[1;33m,\u001b[0m\u001b[1;33m\n",
       "\u001b[0m    \u001b[0mhue\u001b[0m\u001b[1;33m=\u001b[0m\u001b[1;32mNone\u001b[0m\u001b[1;33m,\u001b[0m\u001b[1;33m\n",
       "\u001b[0m    \u001b[0morder\u001b[0m\u001b[1;33m=\u001b[0m\u001b[1;32mNone\u001b[0m\u001b[1;33m,\u001b[0m\u001b[1;33m\n",
       "\u001b[0m    \u001b[0mhue_order\u001b[0m\u001b[1;33m=\u001b[0m\u001b[1;32mNone\u001b[0m\u001b[1;33m,\u001b[0m\u001b[1;33m\n",
       "\u001b[0m    \u001b[0morient\u001b[0m\u001b[1;33m=\u001b[0m\u001b[1;32mNone\u001b[0m\u001b[1;33m,\u001b[0m\u001b[1;33m\n",
       "\u001b[0m    \u001b[0mcolor\u001b[0m\u001b[1;33m=\u001b[0m\u001b[1;32mNone\u001b[0m\u001b[1;33m,\u001b[0m\u001b[1;33m\n",
       "\u001b[0m    \u001b[0mpalette\u001b[0m\u001b[1;33m=\u001b[0m\u001b[1;32mNone\u001b[0m\u001b[1;33m,\u001b[0m\u001b[1;33m\n",
       "\u001b[0m    \u001b[0msaturation\u001b[0m\u001b[1;33m=\u001b[0m\u001b[1;36m0.75\u001b[0m\u001b[1;33m,\u001b[0m\u001b[1;33m\n",
       "\u001b[0m    \u001b[0mfill\u001b[0m\u001b[1;33m=\u001b[0m\u001b[1;32mTrue\u001b[0m\u001b[1;33m,\u001b[0m\u001b[1;33m\n",
       "\u001b[0m    \u001b[0mhue_norm\u001b[0m\u001b[1;33m=\u001b[0m\u001b[1;32mNone\u001b[0m\u001b[1;33m,\u001b[0m\u001b[1;33m\n",
       "\u001b[0m    \u001b[0mstat\u001b[0m\u001b[1;33m=\u001b[0m\u001b[1;34m'count'\u001b[0m\u001b[1;33m,\u001b[0m\u001b[1;33m\n",
       "\u001b[0m    \u001b[0mwidth\u001b[0m\u001b[1;33m=\u001b[0m\u001b[1;36m0.8\u001b[0m\u001b[1;33m,\u001b[0m\u001b[1;33m\n",
       "\u001b[0m    \u001b[0mdodge\u001b[0m\u001b[1;33m=\u001b[0m\u001b[1;34m'auto'\u001b[0m\u001b[1;33m,\u001b[0m\u001b[1;33m\n",
       "\u001b[0m    \u001b[0mgap\u001b[0m\u001b[1;33m=\u001b[0m\u001b[1;36m0\u001b[0m\u001b[1;33m,\u001b[0m\u001b[1;33m\n",
       "\u001b[0m    \u001b[0mlog_scale\u001b[0m\u001b[1;33m=\u001b[0m\u001b[1;32mNone\u001b[0m\u001b[1;33m,\u001b[0m\u001b[1;33m\n",
       "\u001b[0m    \u001b[0mnative_scale\u001b[0m\u001b[1;33m=\u001b[0m\u001b[1;32mFalse\u001b[0m\u001b[1;33m,\u001b[0m\u001b[1;33m\n",
       "\u001b[0m    \u001b[0mformatter\u001b[0m\u001b[1;33m=\u001b[0m\u001b[1;32mNone\u001b[0m\u001b[1;33m,\u001b[0m\u001b[1;33m\n",
       "\u001b[0m    \u001b[0mlegend\u001b[0m\u001b[1;33m=\u001b[0m\u001b[1;34m'auto'\u001b[0m\u001b[1;33m,\u001b[0m\u001b[1;33m\n",
       "\u001b[0m    \u001b[0max\u001b[0m\u001b[1;33m=\u001b[0m\u001b[1;32mNone\u001b[0m\u001b[1;33m,\u001b[0m\u001b[1;33m\n",
       "\u001b[0m    \u001b[1;33m**\u001b[0m\u001b[0mkwargs\u001b[0m\u001b[1;33m,\u001b[0m\u001b[1;33m\n",
       "\u001b[0m\u001b[1;33m)\u001b[0m\u001b[1;33m\u001b[0m\u001b[1;33m\u001b[0m\u001b[0m\n",
       "\u001b[1;31mDocstring:\u001b[0m\n",
       "Show the counts of observations in each categorical bin using bars.\n",
       "\n",
       "A count plot can be thought of as a histogram across a categorical, instead\n",
       "of quantitative, variable. The basic API and options are identical to those\n",
       "for :func:`barplot`, so you can compare counts across nested variables.\n",
       "\n",
       "Note that :func:`histplot` function offers similar functionality with additional\n",
       "features (e.g. bar stacking), although its default behavior is somewhat different.\n",
       "\n",
       "See the :ref:`tutorial <categorical_tutorial>` for more information.\n",
       "\n",
       ".. note::\n",
       "    By default, this function treats one of the variables as categorical\n",
       "    and draws data at ordinal positions (0, 1, ... n) on the relevant axis.\n",
       "    As of version 0.13.0, this can be disabled by setting `native_scale=True`.\n",
       "\n",
       "\n",
       "Parameters\n",
       "----------\n",
       "data : DataFrame, Series, dict, array, or list of arrays\n",
       "    Dataset for plotting. If `x` and `y` are absent, this is\n",
       "    interpreted as wide-form. Otherwise it is expected to be long-form.    \n",
       "x, y, hue : names of variables in `data` or vector data\n",
       "    Inputs for plotting long-form data. See examples for interpretation.    \n",
       "order, hue_order : lists of strings\n",
       "    Order to plot the categorical levels in; otherwise the levels are\n",
       "    inferred from the data objects.    \n",
       "orient : \"v\" | \"h\" | \"x\" | \"y\"\n",
       "    Orientation of the plot (vertical or horizontal). This is usually\n",
       "    inferred based on the type of the input variables, but it can be used\n",
       "    to resolve ambiguity when both `x` and `y` are numeric or when\n",
       "    plotting wide-form data.\n",
       "\n",
       "    .. versionchanged:: v0.13.0\n",
       "        Added 'x'/'y' as options, equivalent to 'v'/'h'.    \n",
       "color : matplotlib color\n",
       "    Single color for the elements in the plot.    \n",
       "palette : palette name, list, or dict\n",
       "    Colors to use for the different levels of the ``hue`` variable. Should\n",
       "    be something that can be interpreted by :func:`color_palette`, or a\n",
       "    dictionary mapping hue levels to matplotlib colors.    \n",
       "saturation : float\n",
       "    Proportion of the original saturation to draw fill colors in. Large\n",
       "    patches often look better with desaturated colors, but set this to\n",
       "    `1` if you want the colors to perfectly match the input values.    \n",
       "hue_norm : tuple or :class:`matplotlib.colors.Normalize` object\n",
       "    Normalization in data units for colormap applied to the `hue`\n",
       "    variable when it is numeric. Not relevant if `hue` is categorical.\n",
       "\n",
       "    .. versionadded:: v0.12.0    \n",
       "stat : {'count', 'percent', 'proportion', 'probability'}\n",
       "    Statistic to compute; when not `'count'`, bar heights will be normalized so that\n",
       "    they sum to 100 (for `'percent'`) or 1 (otherwise) across the plot.\n",
       "\n",
       "    .. versionadded:: v0.13.0\n",
       "width : float\n",
       "    Width allotted to each element on the orient axis. When `native_scale=True`,\n",
       "    it is relative to the minimum distance between two values in the native scale.    \n",
       "dodge : \"auto\" or bool\n",
       "    When hue mapping is used, whether elements should be narrowed and shifted along\n",
       "    the orient axis to eliminate overlap. If `\"auto\"`, set to `True` when the\n",
       "    orient variable is crossed with the categorical variable or `False` otherwise.\n",
       "\n",
       "    .. versionchanged:: 0.13.0\n",
       "\n",
       "        Added `\"auto\"` mode as a new default.    \n",
       "log_scale : bool or number, or pair of bools or numbers\n",
       "    Set axis scale(s) to log. A single value sets the data axis for any numeric\n",
       "    axes in the plot. A pair of values sets each axis independently.\n",
       "    Numeric values are interpreted as the desired base (default 10).\n",
       "    When `None` or `False`, seaborn defers to the existing Axes scale.\n",
       "\n",
       "    .. versionadded:: v0.13.0    \n",
       "native_scale : bool\n",
       "    When True, numeric or datetime values on the categorical axis will maintain\n",
       "    their original scaling rather than being converted to fixed indices.\n",
       "\n",
       "    .. versionadded:: v0.13.0    \n",
       "formatter : callable\n",
       "    Function for converting categorical data into strings. Affects both grouping\n",
       "    and tick labels.\n",
       "\n",
       "    .. versionadded:: v0.13.0    \n",
       "legend : \"auto\", \"brief\", \"full\", or False\n",
       "    How to draw the legend. If \"brief\", numeric `hue` and `size`\n",
       "    variables will be represented with a sample of evenly spaced values.\n",
       "    If \"full\", every group will get an entry in the legend. If \"auto\",\n",
       "    choose between brief or full representation based on number of levels.\n",
       "    If `False`, no legend data is added and no legend is drawn.\n",
       "\n",
       "    .. versionadded:: v0.13.0    \n",
       "ax : matplotlib Axes\n",
       "    Axes object to draw the plot onto, otherwise uses the current Axes.    \n",
       "kwargs : key, value mappings\n",
       "    Other parameters are passed through to :class:`matplotlib.patches.Rectangle`.\n",
       "\n",
       "Returns\n",
       "-------\n",
       "ax : matplotlib Axes\n",
       "    Returns the Axes object with the plot drawn onto it.    \n",
       "\n",
       "See Also\n",
       "--------\n",
       "histplot : Bin and count observations with additional options.\n",
       "barplot : Show point estimates and confidence intervals using bars.    \n",
       "catplot : Combine a categorical plot with a :class:`FacetGrid`.    \n",
       "\n",
       "Examples\n",
       "--------\n",
       ".. include:: ../docstrings/countplot.rst\n",
       "\u001b[1;31mFile:\u001b[0m      d:\\kdt_2\\anaconda3\\lib\\site-packages\\seaborn\\categorical.py\n",
       "\u001b[1;31mType:\u001b[0m      function"
      ]
     },
     "metadata": {},
     "output_type": "display_data"
    }
   ],
   "source": [
    "sns.countplot?"
   ]
  },
  {
   "cell_type": "code",
   "execution_count": 176,
   "id": "d98dfe3a-230c-4b02-9db8-6a4ddf2cad4d",
   "metadata": {},
   "outputs": [
    {
     "data": {
      "image/png": "[encoded data removed]",
      "text/plain": [
       "<Figure size 500x300 with 1 Axes>"
      ]
     },
     "metadata": {},
     "output_type": "display_data"
    }
   ],
   "source": [
    "plt.figure(figsize=(5,3))\n",
    "sns.countplot(data=df_etfs.sort_values(by='CategoryName',ascending=False) , y='CategoryName')\n",
    "plt.show()"
   ]
  },
  {
   "cell_type": "markdown",
   "id": "77a565e2-d333-4ff0-aaf2-cd9f1546966c",
   "metadata": {},
   "source": [
    "#### 두개 변수 빈도수와 비율"
   ]
  },
  {
   "cell_type": "code",
   "execution_count": 177,
   "id": "178dbe3d-7bb2-4a71-83a7-d62f3cdead6f",
   "metadata": {},
   "outputs": [
    {
     "data": {
      "text/html": [
       "<div>\n",
       "<style scoped>\n",
       "    .dataframe tbody tr th:only-of-type {\n",
       "        vertical-align: middle;\n",
       "    }\n",
       "\n",
       "    .dataframe tbody tr th {\n",
       "        vertical-align: top;\n",
       "    }\n",
       "\n",
       "    .dataframe thead th {\n",
       "        text-align: right;\n",
       "    }\n",
       "</style>\n",
       "<table border=\"1\" class=\"dataframe\">\n",
       "  <thead>\n",
       "    <tr style=\"text-align: right;\">\n",
       "      <th>CategoryName</th>\n",
       "      <th>국내 시장지수</th>\n",
       "      <th>국내 업종/테마</th>\n",
       "      <th>국내파생</th>\n",
       "      <th>기타</th>\n",
       "      <th>원자재</th>\n",
       "      <th>채권</th>\n",
       "      <th>해외주식</th>\n",
       "    </tr>\n",
       "    <tr>\n",
       "      <th>인버스</th>\n",
       "      <th></th>\n",
       "      <th></th>\n",
       "      <th></th>\n",
       "      <th></th>\n",
       "      <th></th>\n",
       "      <th></th>\n",
       "      <th></th>\n",
       "    </tr>\n",
       "  </thead>\n",
       "  <tbody>\n",
       "    <tr>\n",
       "      <th>False</th>\n",
       "      <td>88</td>\n",
       "      <td>248</td>\n",
       "      <td>21</td>\n",
       "      <td>73</td>\n",
       "      <td>14</td>\n",
       "      <td>157</td>\n",
       "      <td>285</td>\n",
       "    </tr>\n",
       "    <tr>\n",
       "      <th>True</th>\n",
       "      <td>0</td>\n",
       "      <td>0</td>\n",
       "      <td>19</td>\n",
       "      <td>5</td>\n",
       "      <td>4</td>\n",
       "      <td>6</td>\n",
       "      <td>10</td>\n",
       "    </tr>\n",
       "  </tbody>\n",
       "</table>\n",
       "</div>"
      ],
      "text/plain": [
       "CategoryName  국내 시장지수  국내 업종/테마  국내파생  기타  원자재   채권  해외주식\n",
       "인버스                                                      \n",
       "False              88       248    21  73   14  157   285\n",
       "True                0         0    19   5    4    6    10"
      ]
     },
     "execution_count": 177,
     "metadata": {},
     "output_type": "execute_result"
    }
   ],
   "source": [
    "pd.crosstab(df_etfs['인버스'],df_etfs['CategoryName'])"
   ]
  },
  {
   "cell_type": "code",
   "execution_count": 178,
   "id": "31bf5947-7574-4163-b118-eaf2d2881300",
   "metadata": {},
   "outputs": [
    {
     "data": {
      "text/html": [
       "<div>\n",
       "<style scoped>\n",
       "    .dataframe tbody tr th:only-of-type {\n",
       "        vertical-align: middle;\n",
       "    }\n",
       "\n",
       "    .dataframe tbody tr th {\n",
       "        vertical-align: top;\n",
       "    }\n",
       "\n",
       "    .dataframe thead th {\n",
       "        text-align: right;\n",
       "    }\n",
       "</style>\n",
       "<table border=\"1\" class=\"dataframe\">\n",
       "  <thead>\n",
       "    <tr style=\"text-align: right;\">\n",
       "      <th>CategoryName</th>\n",
       "      <th>국내 시장지수</th>\n",
       "      <th>국내 업종/테마</th>\n",
       "      <th>국내파생</th>\n",
       "      <th>기타</th>\n",
       "      <th>원자재</th>\n",
       "      <th>채권</th>\n",
       "      <th>해외주식</th>\n",
       "    </tr>\n",
       "    <tr>\n",
       "      <th>레버리지</th>\n",
       "      <th></th>\n",
       "      <th></th>\n",
       "      <th></th>\n",
       "      <th></th>\n",
       "      <th></th>\n",
       "      <th></th>\n",
       "      <th></th>\n",
       "    </tr>\n",
       "  </thead>\n",
       "  <tbody>\n",
       "    <tr>\n",
       "      <th>False</th>\n",
       "      <td>88</td>\n",
       "      <td>242</td>\n",
       "      <td>23</td>\n",
       "      <td>75</td>\n",
       "      <td>18</td>\n",
       "      <td>159</td>\n",
       "      <td>277</td>\n",
       "    </tr>\n",
       "    <tr>\n",
       "      <th>True</th>\n",
       "      <td>0</td>\n",
       "      <td>6</td>\n",
       "      <td>17</td>\n",
       "      <td>3</td>\n",
       "      <td>0</td>\n",
       "      <td>4</td>\n",
       "      <td>18</td>\n",
       "    </tr>\n",
       "  </tbody>\n",
       "</table>\n",
       "</div>"
      ],
      "text/plain": [
       "CategoryName  국내 시장지수  국내 업종/테마  국내파생  기타  원자재   채권  해외주식\n",
       "레버리지                                                     \n",
       "False              88       242    23  75   18  159   277\n",
       "True                0         6    17   3    0    4    18"
      ]
     },
     "execution_count": 178,
     "metadata": {},
     "output_type": "execute_result"
    }
   ],
   "source": [
    "pd.crosstab(df_etfs['레버리지'],df_etfs['CategoryName'])"
   ]
  },
  {
   "cell_type": "code",
   "execution_count": 179,
   "id": "c9049b6e-8c5b-46af-9dcb-c573b89ca437",
   "metadata": {},
   "outputs": [
    {
     "data": {
      "text/html": [
       "<div>\n",
       "<style scoped>\n",
       "    .dataframe tbody tr th:only-of-type {\n",
       "        vertical-align: middle;\n",
       "    }\n",
       "\n",
       "    .dataframe tbody tr th {\n",
       "        vertical-align: top;\n",
       "    }\n",
       "\n",
       "    .dataframe thead th {\n",
       "        text-align: right;\n",
       "    }\n",
       "</style>\n",
       "<table border=\"1\" class=\"dataframe\">\n",
       "  <thead>\n",
       "    <tr style=\"text-align: right;\">\n",
       "      <th>CategoryName</th>\n",
       "      <th>국내 시장지수</th>\n",
       "      <th>국내 업종/테마</th>\n",
       "      <th>국내파생</th>\n",
       "      <th>기타</th>\n",
       "      <th>원자재</th>\n",
       "      <th>채권</th>\n",
       "      <th>해외주식</th>\n",
       "    </tr>\n",
       "    <tr>\n",
       "      <th>헤지</th>\n",
       "      <th></th>\n",
       "      <th></th>\n",
       "      <th></th>\n",
       "      <th></th>\n",
       "      <th></th>\n",
       "      <th></th>\n",
       "      <th></th>\n",
       "    </tr>\n",
       "  </thead>\n",
       "  <tbody>\n",
       "    <tr>\n",
       "      <th>False</th>\n",
       "      <td>88</td>\n",
       "      <td>248</td>\n",
       "      <td>40</td>\n",
       "      <td>75</td>\n",
       "      <td>3</td>\n",
       "      <td>151</td>\n",
       "      <td>262</td>\n",
       "    </tr>\n",
       "    <tr>\n",
       "      <th>True</th>\n",
       "      <td>0</td>\n",
       "      <td>0</td>\n",
       "      <td>0</td>\n",
       "      <td>3</td>\n",
       "      <td>15</td>\n",
       "      <td>12</td>\n",
       "      <td>33</td>\n",
       "    </tr>\n",
       "  </tbody>\n",
       "</table>\n",
       "</div>"
      ],
      "text/plain": [
       "CategoryName  국내 시장지수  국내 업종/테마  국내파생  기타  원자재   채권  해외주식\n",
       "헤지                                                       \n",
       "False              88       248    40  75    3  151   262\n",
       "True                0         0     0   3   15   12    33"
      ]
     },
     "execution_count": 179,
     "metadata": {},
     "output_type": "execute_result"
    }
   ],
   "source": [
    "pd.crosstab(df_etfs['헤지'],df_etfs['CategoryName'])"
   ]
  },
  {
   "cell_type": "code",
   "execution_count": 180,
   "id": "f702d7e7-9921-46b5-b93a-86b777a866a3",
   "metadata": {},
   "outputs": [
    {
     "data": {
      "text/plain": [
       "<Axes: xlabel='count', ylabel='CategoryName'>"
      ]
     },
     "execution_count": 180,
     "metadata": {},
     "output_type": "execute_result"
    },
    {
     "data": {
      "image/png": "[encoded data removed]",
      "text/plain": [
       "<Figure size 500x300 with 1 Axes>"
      ]
     },
     "metadata": {},
     "output_type": "display_data"
    }
   ],
   "source": [
    "plt.figure(figsize=(5,3))\n",
    "sns.countplot(data=df_etfs, y='CategoryName', hue='레버리지')"
   ]
  },
  {
   "cell_type": "code",
   "execution_count": 181,
   "id": "fcab3786-6e6b-4184-8d25-eaac5af4d8bd",
   "metadata": {},
   "outputs": [
    {
     "data": {
      "text/plain": [
       "<Axes: xlabel='count', ylabel='Brand'>"
      ]
     },
     "execution_count": 181,
     "metadata": {},
     "output_type": "execute_result"
    },
    {
     "data": {
      "image/png": "[encoded data removed]",
      "text/plain": [
       "<Figure size 800x500 with 1 Axes>"
      ]
     },
     "metadata": {},
     "output_type": "display_data"
    }
   ],
   "source": [
    "plt.figure(figsize=(8,5))\n",
    "sns.countplot(data=df_etfs, y='Brand', hue='레버리지')"
   ]
  },
  {
   "cell_type": "code",
   "execution_count": 182,
   "id": "ee9b39a6-128a-4db7-b7d9-fa694e3b4fec",
   "metadata": {},
   "outputs": [
    {
     "data": {
      "text/html": [
       "<div>\n",
       "<style scoped>\n",
       "    .dataframe tbody tr th:only-of-type {\n",
       "        vertical-align: middle;\n",
       "    }\n",
       "\n",
       "    .dataframe tbody tr th {\n",
       "        vertical-align: top;\n",
       "    }\n",
       "\n",
       "    .dataframe thead th {\n",
       "        text-align: right;\n",
       "    }\n",
       "</style>\n",
       "<table border=\"1\" class=\"dataframe\">\n",
       "  <thead>\n",
       "    <tr style=\"text-align: right;\">\n",
       "      <th></th>\n",
       "      <th>Price</th>\n",
       "      <th>Change</th>\n",
       "      <th>ChangeRate</th>\n",
       "      <th>NAV</th>\n",
       "      <th>EarningRate</th>\n",
       "      <th>Volume</th>\n",
       "      <th>Amount</th>\n",
       "      <th>MarCap</th>\n",
       "    </tr>\n",
       "  </thead>\n",
       "  <tbody>\n",
       "    <tr>\n",
       "      <th>0</th>\n",
       "      <td>1056985</td>\n",
       "      <td>95</td>\n",
       "      <td>0.01</td>\n",
       "      <td>1057017.0</td>\n",
       "      <td>0.8251</td>\n",
       "      <td>36376</td>\n",
       "      <td>38448</td>\n",
       "      <td>93049</td>\n",
       "    </tr>\n",
       "    <tr>\n",
       "      <th>1</th>\n",
       "      <td>55400</td>\n",
       "      <td>5</td>\n",
       "      <td>0.01</td>\n",
       "      <td>55395.0</td>\n",
       "      <td>0.8098</td>\n",
       "      <td>18863</td>\n",
       "      <td>1044</td>\n",
       "      <td>69345</td>\n",
       "    </tr>\n",
       "    <tr>\n",
       "      <th>2</th>\n",
       "      <td>21625</td>\n",
       "      <td>-50</td>\n",
       "      <td>-0.23</td>\n",
       "      <td>21588.0</td>\n",
       "      <td>17.0672</td>\n",
       "      <td>366127</td>\n",
       "      <td>7914</td>\n",
       "      <td>62799</td>\n",
       "    </tr>\n",
       "    <tr>\n",
       "      <th>3</th>\n",
       "      <td>32960</td>\n",
       "      <td>-10</td>\n",
       "      <td>-0.03</td>\n",
       "      <td>33031.0</td>\n",
       "      <td>-3.8692</td>\n",
       "      <td>594313</td>\n",
       "      <td>19562</td>\n",
       "      <td>56114</td>\n",
       "    </tr>\n",
       "    <tr>\n",
       "      <th>4</th>\n",
       "      <td>108935</td>\n",
       "      <td>25</td>\n",
       "      <td>0.02</td>\n",
       "      <td>108902.0</td>\n",
       "      <td>0.8005</td>\n",
       "      <td>6236</td>\n",
       "      <td>679</td>\n",
       "      <td>44412</td>\n",
       "    </tr>\n",
       "    <tr>\n",
       "      <th>...</th>\n",
       "      <td>...</td>\n",
       "      <td>...</td>\n",
       "      <td>...</td>\n",
       "      <td>...</td>\n",
       "      <td>...</td>\n",
       "      <td>...</td>\n",
       "      <td>...</td>\n",
       "      <td>...</td>\n",
       "    </tr>\n",
       "    <tr>\n",
       "      <th>925</th>\n",
       "      <td>7985</td>\n",
       "      <td>0</td>\n",
       "      <td>0.00</td>\n",
       "      <td>7966.0</td>\n",
       "      <td>-3.2708</td>\n",
       "      <td>0</td>\n",
       "      <td>0</td>\n",
       "      <td>16</td>\n",
       "    </tr>\n",
       "    <tr>\n",
       "      <th>926</th>\n",
       "      <td>5250</td>\n",
       "      <td>0</td>\n",
       "      <td>0.00</td>\n",
       "      <td>5319.0</td>\n",
       "      <td>-7.2439</td>\n",
       "      <td>0</td>\n",
       "      <td>0</td>\n",
       "      <td>16</td>\n",
       "    </tr>\n",
       "    <tr>\n",
       "      <th>927</th>\n",
       "      <td>6510</td>\n",
       "      <td>0</td>\n",
       "      <td>0.00</td>\n",
       "      <td>6584.0</td>\n",
       "      <td>-2.7633</td>\n",
       "      <td>0</td>\n",
       "      <td>0</td>\n",
       "      <td>16</td>\n",
       "    </tr>\n",
       "    <tr>\n",
       "      <th>928</th>\n",
       "      <td>16925</td>\n",
       "      <td>0</td>\n",
       "      <td>0.00</td>\n",
       "      <td>16945.0</td>\n",
       "      <td>32.0717</td>\n",
       "      <td>0</td>\n",
       "      <td>0</td>\n",
       "      <td>10</td>\n",
       "    </tr>\n",
       "    <tr>\n",
       "      <th>929</th>\n",
       "      <td>6480</td>\n",
       "      <td>-15</td>\n",
       "      <td>-0.23</td>\n",
       "      <td>6543.0</td>\n",
       "      <td>8.7029</td>\n",
       "      <td>3</td>\n",
       "      <td>0</td>\n",
       "      <td>9</td>\n",
       "    </tr>\n",
       "  </tbody>\n",
       "</table>\n",
       "<p>930 rows × 8 columns</p>\n",
       "</div>"
      ],
      "text/plain": [
       "       Price  Change  ChangeRate        NAV  EarningRate  Volume  Amount  \\\n",
       "0    1056985      95        0.01  1057017.0       0.8251   36376   38448   \n",
       "1      55400       5        0.01    55395.0       0.8098   18863    1044   \n",
       "2      21625     -50       -0.23    21588.0      17.0672  366127    7914   \n",
       "3      32960     -10       -0.03    33031.0      -3.8692  594313   19562   \n",
       "4     108935      25        0.02   108902.0       0.8005    6236     679   \n",
       "..       ...     ...         ...        ...          ...     ...     ...   \n",
       "925     7985       0        0.00     7966.0      -3.2708       0       0   \n",
       "926     5250       0        0.00     5319.0      -7.2439       0       0   \n",
       "927     6510       0        0.00     6584.0      -2.7633       0       0   \n",
       "928    16925       0        0.00    16945.0      32.0717       0       0   \n",
       "929     6480     -15       -0.23     6543.0       8.7029       3       0   \n",
       "\n",
       "     MarCap  \n",
       "0     93049  \n",
       "1     69345  \n",
       "2     62799  \n",
       "3     56114  \n",
       "4     44412  \n",
       "..      ...  \n",
       "925      16  \n",
       "926      16  \n",
       "927      16  \n",
       "928      10  \n",
       "929       9  \n",
       "\n",
       "[930 rows x 8 columns]"
      ]
     },
     "execution_count": 182,
     "metadata": {},
     "output_type": "execute_result"
    }
   ],
   "source": [
    "# 수치형 변수로 히스토그램 그리기\n",
    "\n",
    "tmp = df_etfs.select_dtypes(np.number).drop(['Symbol','Category','RiseFall'],axis=1)\n",
    "tmp"
   ]
  },
  {
   "cell_type": "code",
   "execution_count": 183,
   "id": "ff07a341-00f5-4eb6-886e-f9c41fc5528d",
   "metadata": {},
   "outputs": [
    {
     "data": {
      "text/plain": [
       "['Price',\n",
       " 'Change',\n",
       " 'ChangeRate',\n",
       " 'NAV',\n",
       " 'EarningRate',\n",
       " 'Volume',\n",
       " 'Amount',\n",
       " 'MarCap']"
      ]
     },
     "execution_count": 183,
     "metadata": {},
     "output_type": "execute_result"
    }
   ],
   "source": [
    "cols = tmp.columns.tolist()\n",
    "cols"
   ]
  },
  {
   "cell_type": "code",
   "execution_count": null,
   "id": "881cb093-d35c-466c-84f9-7bfaaead7aea",
   "metadata": {},
   "outputs": [],
   "source": [
    "tmp.plot?"
   ]
  },
  {
   "cell_type": "code",
   "execution_count": 185,
   "id": "bd392b52-e0c3-4c12-8f57-0c4d57962181",
   "metadata": {},
   "outputs": [
    {
     "data": {
      "image/png": "[encoded data removed]",
      "text/plain": [
       "<Figure size 800x800 with 9 Axes>"
      ]
     },
     "metadata": {},
     "output_type": "display_data"
    }
   ],
   "source": [
    "tmp.hist(figsize=(8,8),bins=20)\n",
    "plt.tight_layout()"
   ]
  },
  {
   "cell_type": "markdown",
   "id": "6caa19be-d00f-4c5e-abe6-3e921b4a5cfc",
   "metadata": {},
   "source": [
    "#### 수치형 변수의 빈도수 시각화(히스토그램)"
   ]
  },
  {
   "cell_type": "code",
   "execution_count": 186,
   "id": "64048259-9dec-4f47-95dd-df8d9bf2ef8f",
   "metadata": {},
   "outputs": [
    {
     "data": {
      "text/plain": [
       "<Figure size 1000x1000 with 0 Axes>"
      ]
     },
     "metadata": {},
     "output_type": "display_data"
    },
    {
     "data": {
      "image/png": "[encoded data removed]",
      "text/plain": [
       "<Figure size 640x480 with 9 Axes>"
      ]
     },
     "metadata": {},
     "output_type": "display_data"
    }
   ],
   "source": [
    "# 서브영역에 개별 차트 그리기\n",
    "\n",
    "# figure영역 크기 지정\n",
    "plt.figure(figsize=(10,10))\n",
    "\n",
    "# 서브플롯 생성\n",
    "rows , cols = (3 , 3)\n",
    "fig, axes = plt.subplots(nrows=rows, ncols=cols)\n",
    "\n",
    "# 컬럼리스트\n",
    "column_list = tmp.columns.tolist()\n",
    "idx = 0\n",
    "stop = False\n",
    "for i in range(rows):\n",
    "    for j in range(cols) :\n",
    "        column_name = column_list[idx]  # 컬럼명\n",
    "        tmp[column_name].plot(kind='hist',ax=axes[i][j],bins=50) # 영역에 차트 그리기\n",
    "        axes[i][j].set_title(f'히스토그램 of {column_name}') # 영역 제목\n",
    "        axes[i][j].set_xlabel(column_name) # x축 라벨\n",
    "        axes[i][j].set_ylabel('빈도') # y축 라벨\n",
    "        idx += 1\n",
    "        if idx == len(column_list) :\n",
    "            stop = True\n",
    "            break # 안쪽 루프 종료\n",
    "    if stop :\n",
    "        break # 바깥쪽 루프 종료\n",
    "        \n",
    "plt.tight_layout() # 서브플롯의 간격 조정\n",
    "plt.show() # 차트 그리기"
   ]
  },
  {
   "cell_type": "code",
   "execution_count": 187,
   "id": "07ee4c17-e420-4ee5-abfa-37d7c20e299f",
   "metadata": {},
   "outputs": [
    {
     "data": {
      "text/plain": [
       "Index(['Symbol', 'Category', 'CategoryName', 'Name', 'Price', 'RiseFall',\n",
       "       'Change', 'ChangeRate', 'NAV', 'EarningRate', 'Volume', 'Amount',\n",
       "       'MarCap', 'Brand', '인버스', '레버리지', '헤지'],\n",
       "      dtype='object')"
      ]
     },
     "execution_count": 187,
     "metadata": {},
     "output_type": "execute_result"
    }
   ],
   "source": [
    "df_etfs.columns"
   ]
  },
  {
   "cell_type": "code",
   "execution_count": 188,
   "id": "06e9a3ac-40e6-43d8-9620-6b0cb913fc16",
   "metadata": {},
   "outputs": [
    {
     "data": {
      "text/plain": [
       "Brand\n",
       "에셋플러스         23.444075\n",
       "TIMEFOLIO      9.445245\n",
       "ACE            8.987072\n",
       "SOL            6.224291\n",
       "PLUS           6.210374\n",
       "KCGI           6.051433\n",
       "KoAct          5.808457\n",
       "TIGER          5.806408\n",
       "KODEX          4.836422\n",
       "히어로즈           4.795829\n",
       "WON            4.509427\n",
       "1Q             4.140260\n",
       "KOSEF          4.127034\n",
       "RISE           3.550950\n",
       "HANARO         1.714260\n",
       "마이다스           1.713333\n",
       "TRUSTON       -0.669700\n",
       "파워            -0.673267\n",
       "VITA          -2.244000\n",
       "DAISHIN343    -2.296350\n",
       "마이티           -2.445233\n",
       "HK            -2.614675\n",
       "FOCUS         -3.422133\n",
       "ITF           -3.487600\n",
       "TREX          -3.849950\n",
       "BNK           -6.473350\n",
       "UNICORN       -8.351467\n",
       "Name: EarningRate, dtype: float64"
      ]
     },
     "execution_count": 188,
     "metadata": {},
     "output_type": "execute_result"
    }
   ],
   "source": [
    "# 각 브랜드별 3개월 수익률의 평균값\n",
    "# df_etfs.groupby('Brand')['EarningRate'].mean()\n",
    "df_etfs.groupby('Brand')['EarningRate'].agg('mean').sort_values(ascending=False)"
   ]
  },
  {
   "cell_type": "code",
   "execution_count": 189,
   "id": "6db399a5-42fa-49a6-9039-3883b291c253",
   "metadata": {},
   "outputs": [
    {
     "data": {
      "text/html": [
       "<div>\n",
       "<style scoped>\n",
       "    .dataframe tbody tr th:only-of-type {\n",
       "        vertical-align: middle;\n",
       "    }\n",
       "\n",
       "    .dataframe tbody tr th {\n",
       "        vertical-align: top;\n",
       "    }\n",
       "\n",
       "    .dataframe thead th {\n",
       "        text-align: right;\n",
       "    }\n",
       "</style>\n",
       "<table border=\"1\" class=\"dataframe\">\n",
       "  <thead>\n",
       "    <tr style=\"text-align: right;\">\n",
       "      <th></th>\n",
       "      <th>Name</th>\n",
       "      <th>EarningRate</th>\n",
       "      <th>CategoryName</th>\n",
       "    </tr>\n",
       "  </thead>\n",
       "  <tbody>\n",
       "    <tr>\n",
       "      <th>352</th>\n",
       "      <td>에셋플러스 글로벌플랫폼액티브</td>\n",
       "      <td>47.3856</td>\n",
       "      <td>해외주식</td>\n",
       "    </tr>\n",
       "    <tr>\n",
       "      <th>581</th>\n",
       "      <td>에셋플러스 차이나일등기업포커스10액티브</td>\n",
       "      <td>37.1097</td>\n",
       "      <td>해외주식</td>\n",
       "    </tr>\n",
       "    <tr>\n",
       "      <th>592</th>\n",
       "      <td>에셋플러스 코리아플랫폼액티브</td>\n",
       "      <td>-0.3135</td>\n",
       "      <td>국내 업종/테마</td>\n",
       "    </tr>\n",
       "    <tr>\n",
       "      <th>655</th>\n",
       "      <td>에셋플러스 글로벌대장장이액티브</td>\n",
       "      <td>27.1203</td>\n",
       "      <td>해외주식</td>\n",
       "    </tr>\n",
       "    <tr>\n",
       "      <th>688</th>\n",
       "      <td>에셋플러스 글로벌일등기업포커스10액티브</td>\n",
       "      <td>30.6572</td>\n",
       "      <td>해외주식</td>\n",
       "    </tr>\n",
       "    <tr>\n",
       "      <th>711</th>\n",
       "      <td>에셋플러스 코리아대장장이액티브</td>\n",
       "      <td>-3.5441</td>\n",
       "      <td>국내 업종/테마</td>\n",
       "    </tr>\n",
       "    <tr>\n",
       "      <th>721</th>\n",
       "      <td>에셋플러스 글로벌영에이지액티브</td>\n",
       "      <td>30.6418</td>\n",
       "      <td>해외주식</td>\n",
       "    </tr>\n",
       "    <tr>\n",
       "      <th>741</th>\n",
       "      <td>에셋플러스 글로벌다이나믹시니어액티브</td>\n",
       "      <td>18.4956</td>\n",
       "      <td>해외주식</td>\n",
       "    </tr>\n",
       "  </tbody>\n",
       "</table>\n",
       "</div>"
      ],
      "text/plain": [
       "                      Name  EarningRate CategoryName\n",
       "352        에셋플러스 글로벌플랫폼액티브      47.3856         해외주식\n",
       "581  에셋플러스 차이나일등기업포커스10액티브      37.1097         해외주식\n",
       "592        에셋플러스 코리아플랫폼액티브      -0.3135     국내 업종/테마\n",
       "655       에셋플러스 글로벌대장장이액티브      27.1203         해외주식\n",
       "688  에셋플러스 글로벌일등기업포커스10액티브      30.6572         해외주식\n",
       "711       에셋플러스 코리아대장장이액티브      -3.5441     국내 업종/테마\n",
       "721       에셋플러스 글로벌영에이지액티브      30.6418         해외주식\n",
       "741    에셋플러스 글로벌다이나믹시니어액티브      18.4956         해외주식"
      ]
     },
     "execution_count": 189,
     "metadata": {},
     "output_type": "execute_result"
    }
   ],
   "source": [
    "df_etfs.query('Brand==\"에셋플러스\"')[['Name','EarningRate','Category']]"
   ]
  }
 ],
 "metadata": {
  "kernelspec": {
   "display_name": "Python 3 (ipykernel)",
   "language": "python",
   "name": "python3"
  },
  "language_info": {
   "codemirror_mode": {
    "name": "ipython",
    "version": 3
   },
   "file_extension": ".py",
   "mimetype": "text/x-python",
   "name": "python",
   "nbconvert_exporter": "python",
   "pygments_lexer": "ipython3",
   "version": "3.12.7"
  }
 },
 "nbformat": 4,
 "nbformat_minor": 5
}
