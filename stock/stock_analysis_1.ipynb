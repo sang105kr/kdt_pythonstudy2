{
 "cells": [
  {
   "cell_type": "code",
   "execution_count": 1,
   "id": "7a58d801-71ce-42b6-8abf-db84829b5ce0",
   "metadata": {},
   "outputs": [],
   "source": [
    "# 데이터 분석 패키지\n",
    "import numpy as np\n",
    "import pandas as pd"
   ]
  },
  {
   "cell_type": "code",
   "execution_count": 2,
   "id": "038920f2-5372-4626-9beb-4fdf0580c47c",
   "metadata": {},
   "outputs": [],
   "source": [
    "# 시각화 패키지\n",
    "import matplotlib.pyplot as plt\n",
    "import seaborn as sns"
   ]
  },
  {
   "cell_type": "code",
   "execution_count": 3,
   "id": "28f2cc85-4ffd-452f-8d5e-a4b3063e2517",
   "metadata": {},
   "outputs": [],
   "source": [
    "# 한글 지원 라이브러리 설치\n",
    "#!pip install koreanize-matplotlib"
   ]
  },
  {
   "cell_type": "code",
   "execution_count": 4,
   "id": "3d03b8c6-df0b-40ce-8777-2c012ae2a34c",
   "metadata": {},
   "outputs": [],
   "source": [
    "# 한글 지원\n",
    "import koreanize_matplotlib"
   ]
  },
  {
   "cell_type": "code",
   "execution_count": null,
   "id": "095cba9c-0579-4e41-82e0-e8bb505bc467",
   "metadata": {},
   "outputs": [],
   "source": [
    "pd.set_option?"
   ]
  },
  {
   "cell_type": "code",
   "execution_count": 5,
   "id": "0a32a05d-687d-4a08-b5b4-1d5cbe6f69f8",
   "metadata": {},
   "outputs": [],
   "source": [
    "# 모든 컬럼을 출력하도록 설정\n",
    "pd.set_option('display.max_columns', None)  # None으로 설정하면 모든 컬럼 출력, default : 20\n",
    "# 모든 컬럼을 출력하도록 설정\n",
    "pd.set_option('display.max_rows', 30)  # None으로 설정하면 모든 행 출력 default:60"
   ]
  },
  {
   "cell_type": "code",
   "execution_count": 6,
   "id": "8d4c04da-6bfa-4536-a277-c499f80d41ee",
   "metadata": {},
   "outputs": [],
   "source": [
    "# 출력 폭을 설정하여 긴 데이터 프레임도 잘리지 않도록 설정\n",
    "# pd.set_option('display.width', 1000)  # 원하는 폭으로 설정"
   ]
  },
  {
   "cell_type": "markdown",
   "id": "39f1b0af-f1a9-475d-a911-4a3f64ee6128",
   "metadata": {},
   "source": [
    "외부파일을 데이터 프레임으로 로딩하기"
   ]
  },
  {
   "cell_type": "code",
   "execution_count": 7,
   "id": "f683aac6-7248-433c-b176-fb0f8389f823",
   "metadata": {},
   "outputs": [],
   "source": [
    "# df_stocks = pd.read_excel('stocks.xlsx')\n",
    "df_stocks = pd.read_csv('stocks.csv')\n"
   ]
  },
  {
   "cell_type": "code",
   "execution_count": 8,
   "id": "884866c8-c80c-4dce-88d5-f124c179afbc",
   "metadata": {},
   "outputs": [
    {
     "data": {
      "text/plain": [
       "(2855, 23)"
      ]
     },
     "execution_count": 8,
     "metadata": {},
     "output_type": "execute_result"
    }
   ],
   "source": [
    "df_stocks.shape"
   ]
  },
  {
   "cell_type": "code",
   "execution_count": 9,
   "id": "e4da1acf-4da2-4b0f-bc9e-490d2ce70810",
   "metadata": {},
   "outputs": [
    {
     "data": {
      "text/html": [
       "<div>\n",
       "<style scoped>\n",
       "    .dataframe tbody tr th:only-of-type {\n",
       "        vertical-align: middle;\n",
       "    }\n",
       "\n",
       "    .dataframe tbody tr th {\n",
       "        vertical-align: top;\n",
       "    }\n",
       "\n",
       "    .dataframe thead th {\n",
       "        text-align: right;\n",
       "    }\n",
       "</style>\n",
       "<table border=\"1\" class=\"dataframe\">\n",
       "  <thead>\n",
       "    <tr style=\"text-align: right;\">\n",
       "      <th></th>\n",
       "      <th>Code</th>\n",
       "      <th>Name</th>\n",
       "      <th>Market</th>\n",
       "      <th>Dept</th>\n",
       "      <th>Close</th>\n",
       "      <th>ChangeCode</th>\n",
       "      <th>Changes</th>\n",
       "      <th>ChagesRatio</th>\n",
       "      <th>Open</th>\n",
       "      <th>High</th>\n",
       "      <th>Low</th>\n",
       "      <th>Volume</th>\n",
       "      <th>Amount</th>\n",
       "      <th>Marcap</th>\n",
       "      <th>Stocks</th>\n",
       "      <th>MarketId</th>\n",
       "      <th>Sector</th>\n",
       "      <th>Industry</th>\n",
       "      <th>ListingDate</th>\n",
       "      <th>SettleMonth</th>\n",
       "      <th>Representative</th>\n",
       "      <th>HomePage</th>\n",
       "      <th>Region</th>\n",
       "    </tr>\n",
       "  </thead>\n",
       "  <tbody>\n",
       "    <tr>\n",
       "      <th>0</th>\n",
       "      <td>005930</td>\n",
       "      <td>삼성전자</td>\n",
       "      <td>KOSPI</td>\n",
       "      <td>NaN</td>\n",
       "      <td>53900</td>\n",
       "      <td>1</td>\n",
       "      <td>500</td>\n",
       "      <td>0.94</td>\n",
       "      <td>54500</td>\n",
       "      <td>54500</td>\n",
       "      <td>53700</td>\n",
       "      <td>6965539</td>\n",
       "      <td>377240465300</td>\n",
       "      <td>321771279445000</td>\n",
       "      <td>5969782550</td>\n",
       "      <td>STK</td>\n",
       "      <td>통신 및 방송 장비 제조업</td>\n",
       "      <td>통신 및 방송 장비 제조(무선) 제품, 반도체 제조(메모리) 제품, 전자부품 제조(...</td>\n",
       "      <td>1975-06-11</td>\n",
       "      <td>12월</td>\n",
       "      <td>한종희</td>\n",
       "      <td>http://www.samsung.com/sec</td>\n",
       "      <td>경기도</td>\n",
       "    </tr>\n",
       "  </tbody>\n",
       "</table>\n",
       "</div>"
      ],
      "text/plain": [
       "     Code  Name Market Dept  Close  ChangeCode  Changes  ChagesRatio   Open  \\\n",
       "0  005930  삼성전자  KOSPI  NaN  53900           1      500         0.94  54500   \n",
       "\n",
       "    High    Low   Volume        Amount           Marcap      Stocks MarketId  \\\n",
       "0  54500  53700  6965539  377240465300  321771279445000  5969782550      STK   \n",
       "\n",
       "           Sector                                           Industry  \\\n",
       "0  통신 및 방송 장비 제조업  통신 및 방송 장비 제조(무선) 제품, 반도체 제조(메모리) 제품, 전자부품 제조(...   \n",
       "\n",
       "  ListingDate SettleMonth Representative                    HomePage Region  \n",
       "0  1975-06-11         12월            한종희  http://www.samsung.com/sec    경기도  "
      ]
     },
     "execution_count": 9,
     "metadata": {},
     "output_type": "execute_result"
    }
   ],
   "source": [
    "df_stocks.head(1)"
   ]
  },
  {
   "cell_type": "code",
   "execution_count": 10,
   "id": "76467361-590f-4e7f-9974-3e41518854ff",
   "metadata": {},
   "outputs": [
    {
     "name": "stdout",
     "output_type": "stream",
     "text": [
      "<class 'pandas.core.frame.DataFrame'>\n",
      "RangeIndex: 2855 entries, 0 to 2854\n",
      "Data columns (total 23 columns):\n",
      " #   Column          Non-Null Count  Dtype  \n",
      "---  ------          --------------  -----  \n",
      " 0   Code            2855 non-null   object \n",
      " 1   Name            2855 non-null   object \n",
      " 2   Market          2855 non-null   object \n",
      " 3   Dept            1896 non-null   object \n",
      " 4   Close           2855 non-null   int64  \n",
      " 5   ChangeCode      2855 non-null   int64  \n",
      " 6   Changes         2855 non-null   int64  \n",
      " 7   ChagesRatio     2855 non-null   float64\n",
      " 8   Open            2855 non-null   int64  \n",
      " 9   High            2855 non-null   int64  \n",
      " 10  Low             2855 non-null   int64  \n",
      " 11  Volume          2855 non-null   int64  \n",
      " 12  Amount          2855 non-null   int64  \n",
      " 13  Marcap          2855 non-null   int64  \n",
      " 14  Stocks          2855 non-null   int64  \n",
      " 15  MarketId        2855 non-null   object \n",
      " 16  Sector          2739 non-null   object \n",
      " 17  Industry        2724 non-null   object \n",
      " 18  ListingDate     2739 non-null   object \n",
      " 19  SettleMonth     2739 non-null   object \n",
      " 20  Representative  2739 non-null   object \n",
      " 21  HomePage        2547 non-null   object \n",
      " 22  Region          2739 non-null   object \n",
      "dtypes: float64(1), int64(10), object(12)\n",
      "memory usage: 513.1+ KB\n"
     ]
    }
   ],
   "source": [
    "df_stocks.info()"
   ]
  },
  {
   "cell_type": "markdown",
   "id": "4256aaed-c965-4e85-9a60-38f08e99d25e",
   "metadata": {},
   "source": [
    "# 결측치 확인"
   ]
  },
  {
   "cell_type": "code",
   "execution_count": 16,
   "id": "634195da-0936-49b1-88dc-d8cd0f7c3460",
   "metadata": {},
   "outputs": [
    {
     "data": {
      "text/plain": [
       "Code                0\n",
       "Name                0\n",
       "Market              0\n",
       "Dept              959\n",
       "Close               0\n",
       "ChangeCode          0\n",
       "Changes             0\n",
       "ChagesRatio         0\n",
       "Open                0\n",
       "High                0\n",
       "Low                 0\n",
       "Volume              0\n",
       "Amount              0\n",
       "Marcap              0\n",
       "Stocks              0\n",
       "MarketId            0\n",
       "Sector            116\n",
       "Industry          131\n",
       "ListingDate       116\n",
       "SettleMonth       116\n",
       "Representative    116\n",
       "HomePage          308\n",
       "Region            116\n",
       "dtype: int64"
      ]
     },
     "execution_count": 16,
     "metadata": {},
     "output_type": "execute_result"
    }
   ],
   "source": [
    "df_stocks.isna().sum()"
   ]
  },
  {
   "cell_type": "code",
   "execution_count": 17,
   "id": "057bc4c6-fb3c-4037-a44b-e1be7b72bff7",
   "metadata": {},
   "outputs": [
    {
     "data": {
      "text/plain": [
       "Dept              959\n",
       "HomePage          308\n",
       "Industry          131\n",
       "Region            116\n",
       "Representative    116\n",
       "SettleMonth       116\n",
       "ListingDate       116\n",
       "Sector            116\n",
       "dtype: int64"
      ]
     },
     "execution_count": 17,
     "metadata": {},
     "output_type": "execute_result"
    }
   ],
   "source": [
    "temp = df_stocks.isna().sum(axis=0).sort_values(ascending=False)\n",
    "temp = temp[temp > 0]\n",
    "temp"
   ]
  },
  {
   "cell_type": "code",
   "execution_count": null,
   "id": "8e7b666a-6aea-4580-a931-9a409c213264",
   "metadata": {},
   "outputs": [],
   "source": [
    "temp.plot?"
   ]
  },
  {
   "cell_type": "code",
   "execution_count": 22,
   "id": "3be51f17-d2bb-4ad6-8248-3bc725a2f7cf",
   "metadata": {},
   "outputs": [
    {
     "data": {
      "text/plain": [
       "<Axes: >"
      ]
     },
     "execution_count": 22,
     "metadata": {},
     "output_type": "execute_result"
    },
    {
     "data": {
      "image/png": "[encoded data removed]",
      "text/plain": [
       "<Figure size 500x300 with 1 Axes>"
      ]
     },
     "metadata": {},
     "output_type": "display_data"
    }
   ],
   "source": [
    "# plt.figure(figsize=(5,3)) # 너비 10인치, 높이가 5인치\n",
    "temp.plot(kind='barh',figsize=(5,3))"
   ]
  },
  {
   "cell_type": "code",
   "execution_count": 23,
   "id": "0a65f71a-04a0-464e-b152-f34eed140999",
   "metadata": {},
   "outputs": [
    {
     "data": {
      "text/plain": [
       "<Axes: >"
      ]
     },
     "execution_count": 23,
     "metadata": {},
     "output_type": "execute_result"
    },
    {
     "data": {
      "image/png": "[encoded data removed]",
      "text/plain": [
       "<Figure size 640x480 with 1 Axes>"
      ]
     },
     "metadata": {},
     "output_type": "display_data"
    }
   ],
   "source": [
    "# print(df_stocks.isna().sum(axis=0).sort_values(ascending=False))\n",
    "df_stocks.isna().sum(axis=0).sort_values(ascending=True).plot(kind='barh')\n",
    "# temp.plot()"
   ]
  },
  {
   "cell_type": "code",
   "execution_count": 24,
   "id": "bb83cda1-889e-4d5d-b52e-cc9310a41a03",
   "metadata": {},
   "outputs": [
    {
     "data": {
      "text/html": [
       "<div>\n",
       "<style scoped>\n",
       "    .dataframe tbody tr th:only-of-type {\n",
       "        vertical-align: middle;\n",
       "    }\n",
       "\n",
       "    .dataframe tbody tr th {\n",
       "        vertical-align: top;\n",
       "    }\n",
       "\n",
       "    .dataframe thead th {\n",
       "        text-align: right;\n",
       "    }\n",
       "</style>\n",
       "<table border=\"1\" class=\"dataframe\">\n",
       "  <thead>\n",
       "    <tr style=\"text-align: right;\">\n",
       "      <th></th>\n",
       "      <th>Close</th>\n",
       "      <th>ChangeCode</th>\n",
       "      <th>Changes</th>\n",
       "      <th>ChagesRatio</th>\n",
       "      <th>Open</th>\n",
       "      <th>High</th>\n",
       "      <th>Low</th>\n",
       "      <th>Volume</th>\n",
       "      <th>Amount</th>\n",
       "      <th>Marcap</th>\n",
       "      <th>Stocks</th>\n",
       "    </tr>\n",
       "  </thead>\n",
       "  <tbody>\n",
       "    <tr>\n",
       "      <th>count</th>\n",
       "      <td>2.855000e+03</td>\n",
       "      <td>2855.000000</td>\n",
       "      <td>2855.000000</td>\n",
       "      <td>2855.000000</td>\n",
       "      <td>2.855000e+03</td>\n",
       "      <td>2.855000e+03</td>\n",
       "      <td>2.855000e+03</td>\n",
       "      <td>2.855000e+03</td>\n",
       "      <td>2.855000e+03</td>\n",
       "      <td>2.855000e+03</td>\n",
       "      <td>2.855000e+03</td>\n",
       "    </tr>\n",
       "    <tr>\n",
       "      <th>mean</th>\n",
       "      <td>1.703885e+04</td>\n",
       "      <td>1.061296</td>\n",
       "      <td>518.086865</td>\n",
       "      <td>3.335247</td>\n",
       "      <td>1.633084e+04</td>\n",
       "      <td>1.690622e+04</td>\n",
       "      <td>1.622057e+04</td>\n",
       "      <td>1.754478e+05</td>\n",
       "      <td>1.822964e+09</td>\n",
       "      <td>8.047594e+11</td>\n",
       "      <td>4.187273e+07</td>\n",
       "    </tr>\n",
       "    <tr>\n",
       "      <th>std</th>\n",
       "      <td>5.332013e+04</td>\n",
       "      <td>0.507917</td>\n",
       "      <td>2300.370679</td>\n",
       "      <td>3.634495</td>\n",
       "      <td>5.153092e+04</td>\n",
       "      <td>5.373261e+04</td>\n",
       "      <td>5.066243e+04</td>\n",
       "      <td>1.038449e+06</td>\n",
       "      <td>1.077154e+10</td>\n",
       "      <td>7.254038e+12</td>\n",
       "      <td>1.328163e+08</td>\n",
       "    </tr>\n",
       "    <tr>\n",
       "      <th>min</th>\n",
       "      <td>2.000000e+00</td>\n",
       "      <td>0.000000</td>\n",
       "      <td>-4800.000000</td>\n",
       "      <td>-14.980000</td>\n",
       "      <td>0.000000e+00</td>\n",
       "      <td>0.000000e+00</td>\n",
       "      <td>0.000000e+00</td>\n",
       "      <td>0.000000e+00</td>\n",
       "      <td>0.000000e+00</td>\n",
       "      <td>3.453333e+07</td>\n",
       "      <td>2.000000e+05</td>\n",
       "    </tr>\n",
       "    <tr>\n",
       "      <th>25%</th>\n",
       "      <td>2.067500e+03</td>\n",
       "      <td>1.000000</td>\n",
       "      <td>28.000000</td>\n",
       "      <td>1.230000</td>\n",
       "      <td>1.903000e+03</td>\n",
       "      <td>1.973500e+03</td>\n",
       "      <td>1.892500e+03</td>\n",
       "      <td>4.108000e+03</td>\n",
       "      <td>1.762919e+07</td>\n",
       "      <td>4.011806e+10</td>\n",
       "      <td>1.017186e+07</td>\n",
       "    </tr>\n",
       "    <tr>\n",
       "      <th>50%</th>\n",
       "      <td>4.690000e+03</td>\n",
       "      <td>1.000000</td>\n",
       "      <td>120.000000</td>\n",
       "      <td>2.990000</td>\n",
       "      <td>4.290000e+03</td>\n",
       "      <td>4.470000e+03</td>\n",
       "      <td>4.270000e+03</td>\n",
       "      <td>2.085700e+04</td>\n",
       "      <td>9.080145e+07</td>\n",
       "      <td>8.934285e+10</td>\n",
       "      <td>1.976823e+07</td>\n",
       "    </tr>\n",
       "    <tr>\n",
       "      <th>75%</th>\n",
       "      <td>1.240000e+04</td>\n",
       "      <td>1.000000</td>\n",
       "      <td>367.500000</td>\n",
       "      <td>4.680000</td>\n",
       "      <td>1.164000e+04</td>\n",
       "      <td>1.217000e+04</td>\n",
       "      <td>1.161000e+04</td>\n",
       "      <td>6.986150e+04</td>\n",
       "      <td>4.748317e+08</td>\n",
       "      <td>2.221801e+11</td>\n",
       "      <td>4.191386e+07</td>\n",
       "    </tr>\n",
       "    <tr>\n",
       "      <th>max</th>\n",
       "      <td>1.621000e+06</td>\n",
       "      <td>5.000000</td>\n",
       "      <td>86000.000000</td>\n",
       "      <td>29.980000</td>\n",
       "      <td>1.511000e+06</td>\n",
       "      <td>1.630000e+06</td>\n",
       "      <td>1.446000e+06</td>\n",
       "      <td>3.330538e+07</td>\n",
       "      <td>3.772405e+11</td>\n",
       "      <td>3.217713e+14</td>\n",
       "      <td>5.969783e+09</td>\n",
       "    </tr>\n",
       "  </tbody>\n",
       "</table>\n",
       "</div>"
      ],
      "text/plain": [
       "              Close   ChangeCode       Changes  ChagesRatio          Open  \\\n",
       "count  2.855000e+03  2855.000000   2855.000000  2855.000000  2.855000e+03   \n",
       "mean   1.703885e+04     1.061296    518.086865     3.335247  1.633084e+04   \n",
       "std    5.332013e+04     0.507917   2300.370679     3.634495  5.153092e+04   \n",
       "min    2.000000e+00     0.000000  -4800.000000   -14.980000  0.000000e+00   \n",
       "25%    2.067500e+03     1.000000     28.000000     1.230000  1.903000e+03   \n",
       "50%    4.690000e+03     1.000000    120.000000     2.990000  4.290000e+03   \n",
       "75%    1.240000e+04     1.000000    367.500000     4.680000  1.164000e+04   \n",
       "max    1.621000e+06     5.000000  86000.000000    29.980000  1.511000e+06   \n",
       "\n",
       "               High           Low        Volume        Amount        Marcap  \\\n",
       "count  2.855000e+03  2.855000e+03  2.855000e+03  2.855000e+03  2.855000e+03   \n",
       "mean   1.690622e+04  1.622057e+04  1.754478e+05  1.822964e+09  8.047594e+11   \n",
       "std    5.373261e+04  5.066243e+04  1.038449e+06  1.077154e+10  7.254038e+12   \n",
       "min    0.000000e+00  0.000000e+00  0.000000e+00  0.000000e+00  3.453333e+07   \n",
       "25%    1.973500e+03  1.892500e+03  4.108000e+03  1.762919e+07  4.011806e+10   \n",
       "50%    4.470000e+03  4.270000e+03  2.085700e+04  9.080145e+07  8.934285e+10   \n",
       "75%    1.217000e+04  1.161000e+04  6.986150e+04  4.748317e+08  2.221801e+11   \n",
       "max    1.630000e+06  1.446000e+06  3.330538e+07  3.772405e+11  3.217713e+14   \n",
       "\n",
       "             Stocks  \n",
       "count  2.855000e+03  \n",
       "mean   4.187273e+07  \n",
       "std    1.328163e+08  \n",
       "min    2.000000e+05  \n",
       "25%    1.017186e+07  \n",
       "50%    1.976823e+07  \n",
       "75%    4.191386e+07  \n",
       "max    5.969783e+09  "
      ]
     },
     "execution_count": 24,
     "metadata": {},
     "output_type": "execute_result"
    }
   ],
   "source": [
    "# 요약 기술 통계\n",
    "df_stocks.describe()"
   ]
  },
  {
   "cell_type": "code",
   "execution_count": 44,
   "id": "c846fc16-2d65-437b-8b10-713f81db065b",
   "metadata": {},
   "outputs": [
    {
     "data": {
      "text/plain": [
       "Index(['Code', 'Name', 'Market', 'Dept', 'Close', 'ChangeCode', 'Changes',\n",
       "       'ChagesRatio', 'Open', 'High', 'Low', 'Volume', 'Amount', 'Marcap',\n",
       "       'Stocks', 'MarketId', 'Sector', 'Industry', 'ListingDate',\n",
       "       'SettleMonth', 'Representative', 'HomePage', 'Region'],\n",
       "      dtype='object')"
      ]
     },
     "execution_count": 44,
     "metadata": {},
     "output_type": "execute_result"
    }
   ],
   "source": [
    "df_stocks.columns"
   ]
  },
  {
   "cell_type": "markdown",
   "id": "17b6c000-beea-46ab-9fd0-95e72e53cfb6",
   "metadata": {},
   "source": [
    "#### 컬럼명 변경"
   ]
  },
  {
   "cell_type": "code",
   "execution_count": 25,
   "id": "352d2f83-0d8b-4266-b00c-90aeeac1c77d",
   "metadata": {},
   "outputs": [],
   "source": [
    "stocks_columns = {'Code':'종목코드', 'Name':'종목명', 'Market':'시장', 'Dept':'부서(한국거래소)', 'Close':'종가', 'ChangeCode':'등락기호','Changes':'전일대비', \n",
    "                     'ChagesRatio':'전일대비 등락률', 'Open':'시가','High':'고가', 'Low':'저가', 'Volume':'거래량', 'Amount':'거래대금', 'Marcap':'시가총액(백만원)', \n",
    "                     'Stocks':'주식발행수', 'MarketId':'시장기호', 'Sector':'업종', 'Industry':'주요제품', 'ListingDate':'상장일', \n",
    "                     'SettleMonth':'결산월', 'Representative':'대표자명','HomePage':'홈페이지', 'Region':'지역'} "
   ]
  },
  {
   "cell_type": "code",
   "execution_count": 26,
   "id": "1e84e9be-d2a0-4c8a-aa83-c23802420a1b",
   "metadata": {},
   "outputs": [],
   "source": [
    "# 컬럼명 변경\n",
    "# inplace 매개변수 : 데이터프레임 원본을 수정하려면 True, 복사본을 반환받으려면 False\n",
    "df_stocks.rename(columns = stocks_columns, inplace = True)"
   ]
  },
  {
   "cell_type": "code",
   "execution_count": 27,
   "id": "1912f659-13b8-40b5-b27d-311569f25ed2",
   "metadata": {},
   "outputs": [
    {
     "data": {
      "text/html": [
       "<div>\n",
       "<style scoped>\n",
       "    .dataframe tbody tr th:only-of-type {\n",
       "        vertical-align: middle;\n",
       "    }\n",
       "\n",
       "    .dataframe tbody tr th {\n",
       "        vertical-align: top;\n",
       "    }\n",
       "\n",
       "    .dataframe thead th {\n",
       "        text-align: right;\n",
       "    }\n",
       "</style>\n",
       "<table border=\"1\" class=\"dataframe\">\n",
       "  <thead>\n",
       "    <tr style=\"text-align: right;\">\n",
       "      <th></th>\n",
       "      <th>종목코드</th>\n",
       "      <th>종목명</th>\n",
       "      <th>시장</th>\n",
       "      <th>부서(한국거래소)</th>\n",
       "      <th>종가</th>\n",
       "      <th>등락기호</th>\n",
       "      <th>전일대비</th>\n",
       "      <th>전일대비 등락률</th>\n",
       "      <th>시가</th>\n",
       "      <th>고가</th>\n",
       "      <th>저가</th>\n",
       "      <th>거래량</th>\n",
       "      <th>거래대금</th>\n",
       "      <th>시가총액(백만원)</th>\n",
       "      <th>주식발행수</th>\n",
       "      <th>시장기호</th>\n",
       "      <th>업종</th>\n",
       "      <th>주요제품</th>\n",
       "      <th>상장일</th>\n",
       "      <th>결산월</th>\n",
       "      <th>대표자명</th>\n",
       "      <th>홈페이지</th>\n",
       "      <th>지역</th>\n",
       "    </tr>\n",
       "  </thead>\n",
       "  <tbody>\n",
       "    <tr>\n",
       "      <th>0</th>\n",
       "      <td>005930</td>\n",
       "      <td>삼성전자</td>\n",
       "      <td>KOSPI</td>\n",
       "      <td>NaN</td>\n",
       "      <td>53900</td>\n",
       "      <td>1</td>\n",
       "      <td>500</td>\n",
       "      <td>0.94</td>\n",
       "      <td>54500</td>\n",
       "      <td>54500</td>\n",
       "      <td>53700</td>\n",
       "      <td>6965539</td>\n",
       "      <td>377240465300</td>\n",
       "      <td>321771279445000</td>\n",
       "      <td>5969782550</td>\n",
       "      <td>STK</td>\n",
       "      <td>통신 및 방송 장비 제조업</td>\n",
       "      <td>통신 및 방송 장비 제조(무선) 제품, 반도체 제조(메모리) 제품, 전자부품 제조(...</td>\n",
       "      <td>1975-06-11</td>\n",
       "      <td>12월</td>\n",
       "      <td>한종희</td>\n",
       "      <td>http://www.samsung.com/sec</td>\n",
       "      <td>경기도</td>\n",
       "    </tr>\n",
       "  </tbody>\n",
       "</table>\n",
       "</div>"
      ],
      "text/plain": [
       "     종목코드   종목명     시장 부서(한국거래소)     종가  등락기호  전일대비  전일대비 등락률     시가     고가  \\\n",
       "0  005930  삼성전자  KOSPI       NaN  53900     1   500      0.94  54500  54500   \n",
       "\n",
       "      저가      거래량          거래대금        시가총액(백만원)       주식발행수 시장기호  \\\n",
       "0  53700  6965539  377240465300  321771279445000  5969782550  STK   \n",
       "\n",
       "               업종                                               주요제품  \\\n",
       "0  통신 및 방송 장비 제조업  통신 및 방송 장비 제조(무선) 제품, 반도체 제조(메모리) 제품, 전자부품 제조(...   \n",
       "\n",
       "          상장일  결산월 대표자명                        홈페이지   지역  \n",
       "0  1975-06-11  12월  한종희  http://www.samsung.com/sec  경기도  "
      ]
     },
     "execution_count": 27,
     "metadata": {},
     "output_type": "execute_result"
    }
   ],
   "source": [
    "df_stocks.head(1)"
   ]
  },
  {
   "cell_type": "code",
   "execution_count": 28,
   "id": "a6c630b3-cb99-4af8-b9a4-8ebea8582d01",
   "metadata": {},
   "outputs": [
    {
     "data": {
      "text/html": [
       "<div>\n",
       "<style scoped>\n",
       "    .dataframe tbody tr th:only-of-type {\n",
       "        vertical-align: middle;\n",
       "    }\n",
       "\n",
       "    .dataframe tbody tr th {\n",
       "        vertical-align: top;\n",
       "    }\n",
       "\n",
       "    .dataframe thead th {\n",
       "        text-align: right;\n",
       "    }\n",
       "</style>\n",
       "<table border=\"1\" class=\"dataframe\">\n",
       "  <thead>\n",
       "    <tr style=\"text-align: right;\">\n",
       "      <th></th>\n",
       "      <th>종목코드</th>\n",
       "      <th>종목명</th>\n",
       "      <th>시장</th>\n",
       "      <th>부서(한국거래소)</th>\n",
       "      <th>시장기호</th>\n",
       "      <th>업종</th>\n",
       "      <th>주요제품</th>\n",
       "      <th>상장일</th>\n",
       "      <th>결산월</th>\n",
       "      <th>대표자명</th>\n",
       "      <th>홈페이지</th>\n",
       "      <th>지역</th>\n",
       "    </tr>\n",
       "  </thead>\n",
       "  <tbody>\n",
       "    <tr>\n",
       "      <th>count</th>\n",
       "      <td>2855</td>\n",
       "      <td>2855</td>\n",
       "      <td>2855</td>\n",
       "      <td>1896</td>\n",
       "      <td>2855</td>\n",
       "      <td>2739</td>\n",
       "      <td>2724</td>\n",
       "      <td>2739</td>\n",
       "      <td>2739</td>\n",
       "      <td>2739</td>\n",
       "      <td>2547</td>\n",
       "      <td>2739</td>\n",
       "    </tr>\n",
       "    <tr>\n",
       "      <th>unique</th>\n",
       "      <td>2855</td>\n",
       "      <td>2855</td>\n",
       "      <td>4</td>\n",
       "      <td>9</td>\n",
       "      <td>3</td>\n",
       "      <td>160</td>\n",
       "      <td>2526</td>\n",
       "      <td>2044</td>\n",
       "      <td>10</td>\n",
       "      <td>2607</td>\n",
       "      <td>2527</td>\n",
       "      <td>22</td>\n",
       "    </tr>\n",
       "    <tr>\n",
       "      <th>top</th>\n",
       "      <td>005930</td>\n",
       "      <td>삼성전자</td>\n",
       "      <td>KOSDAQ</td>\n",
       "      <td>우량기업부</td>\n",
       "      <td>KSQ</td>\n",
       "      <td>소프트웨어 개발 및 공급업</td>\n",
       "      <td>기업인수합병</td>\n",
       "      <td>1996-07-03</td>\n",
       "      <td>12월</td>\n",
       "      <td>김종현</td>\n",
       "      <td>http://www.moorim.co.kr</td>\n",
       "      <td>서울특별시</td>\n",
       "    </tr>\n",
       "    <tr>\n",
       "      <th>freq</th>\n",
       "      <td>1</td>\n",
       "      <td>1</td>\n",
       "      <td>1728</td>\n",
       "      <td>530</td>\n",
       "      <td>1776</td>\n",
       "      <td>185</td>\n",
       "      <td>53</td>\n",
       "      <td>8</td>\n",
       "      <td>2679</td>\n",
       "      <td>5</td>\n",
       "      <td>2</td>\n",
       "      <td>1108</td>\n",
       "    </tr>\n",
       "  </tbody>\n",
       "</table>\n",
       "</div>"
      ],
      "text/plain": [
       "          종목코드   종목명      시장 부서(한국거래소)  시장기호              업종    주요제품  \\\n",
       "count     2855  2855    2855      1896  2855            2739    2724   \n",
       "unique    2855  2855       4         9     3             160    2526   \n",
       "top     005930  삼성전자  KOSDAQ     우량기업부   KSQ  소프트웨어 개발 및 공급업  기업인수합병   \n",
       "freq         1     1    1728       530  1776             185      53   \n",
       "\n",
       "               상장일   결산월  대표자명                     홈페이지     지역  \n",
       "count         2739  2739  2739                     2547   2739  \n",
       "unique        2044    10  2607                     2527     22  \n",
       "top     1996-07-03   12월   김종현  http://www.moorim.co.kr  서울특별시  \n",
       "freq             8  2679     5                        2   1108  "
      ]
     },
     "execution_count": 28,
     "metadata": {},
     "output_type": "execute_result"
    }
   ],
   "source": [
    "# 범주형 데이터의 기술통계 \n",
    "df_stocks.describe(include='O')"
   ]
  },
  {
   "cell_type": "code",
   "execution_count": 30,
   "id": "345fcd82-20d8-499c-9046-e1338fe8443a",
   "metadata": {},
   "outputs": [
    {
     "name": "stdout",
     "output_type": "stream",
     "text": [
      "시장\n",
      "KOSDAQ           1728\n",
      "KOSPI             959\n",
      "KONEX             120\n",
      "KOSDAQ GLOBAL      48\n",
      "Name: count, dtype: int64\n"
     ]
    }
   ],
   "source": [
    "# 유니크한 값의 목록(중복 제거한 목록)\n",
    "print(df_stocks['시장'].value_counts())"
   ]
  },
  {
   "cell_type": "code",
   "execution_count": 31,
   "id": "50b25e09-a97c-4f68-9599-088584c35f83",
   "metadata": {},
   "outputs": [
    {
     "name": "stdout",
     "output_type": "stream",
     "text": [
      "부서(한국거래소)\n",
      "우량기업부              530\n",
      "중견기업부              487\n",
      "벤처기업부              302\n",
      "기술성장기업부            234\n",
      "일반기업부              120\n",
      "SPAC(소속부없음)         99\n",
      "관리종목(소속부없음)         61\n",
      "투자주의환기종목(소속부없음)     44\n",
      "외국기업(소속부없음)         19\n",
      "Name: count, dtype: int64\n"
     ]
    }
   ],
   "source": [
    "print(df_stocks['부서(한국거래소)'].value_counts())"
   ]
  },
  {
   "cell_type": "code",
   "execution_count": 32,
   "id": "fe1ea5e9-2c86-4fcf-97cb-0c3728229a13",
   "metadata": {},
   "outputs": [
    {
     "name": "stdout",
     "output_type": "stream",
     "text": [
      "시장기호\n",
      "KSQ    1776\n",
      "STK     959\n",
      "KNX     120\n",
      "Name: count, dtype: int64\n"
     ]
    }
   ],
   "source": [
    "print(df_stocks['시장기호'].value_counts())"
   ]
  },
  {
   "cell_type": "code",
   "execution_count": null,
   "id": "b1ed4439-196b-4ba4-92bb-913a378738c8",
   "metadata": {},
   "outputs": [],
   "source": [
    "df_stocks.plot?"
   ]
  },
  {
   "cell_type": "code",
   "execution_count": 34,
   "id": "3bd0e1c7-9707-43a2-9119-abc0520ff826",
   "metadata": {},
   "outputs": [
    {
     "data": {
      "image/png": "[encoded data removed]",
      "text/plain": [
       "<Figure size 500x300 with 1 Axes>"
      ]
     },
     "metadata": {},
     "output_type": "display_data"
    }
   ],
   "source": [
    "plt.figure(figsize=(5,3))\n",
    "# print(df_stocks['지역'].value_counts())\n",
    "df_stocks['지역'].value_counts().sort_values().plot(kind='pie', autopct='%1.1f%%', startangle=90)\n",
    "plt.title('지역별 비중') # 제목추가\n",
    "plt.ylabel('') # 축 라벨 제거\n",
    "plt.show() # 차트표시"
   ]
  },
  {
   "cell_type": "code",
   "execution_count": 35,
   "id": "b47f9cea-29be-4cd8-b1f8-c4b407abcf2d",
   "metadata": {},
   "outputs": [
    {
     "name": "stdout",
     "output_type": "stream",
     "text": [
      "업종\n",
      "소프트웨어 개발 및 공급업    185\n",
      "특수 목적용 기계 제조업     168\n",
      "전자부품 제조업          130\n",
      "금융 지원 서비스업        119\n",
      "의약품 제조업           104\n",
      "                 ... \n",
      "경비, 경호 및 탐정업        1\n",
      "철도장비 제조업            1\n",
      "개인 및 가정용품 임대업       1\n",
      "인쇄 및 인쇄관련 산업        1\n",
      "편조원단 제조업            1\n",
      "Name: count, Length: 160, dtype: int64\n"
     ]
    }
   ],
   "source": [
    "print(df_stocks['업종'].value_counts())"
   ]
  },
  {
   "cell_type": "code",
   "execution_count": 36,
   "id": "45c28544-0082-4ae1-87c7-7e714579bfa6",
   "metadata": {},
   "outputs": [
    {
     "name": "stdout",
     "output_type": "stream",
     "text": [
      "업종\n",
      "소프트웨어 개발 및 공급업                       185\n",
      "특수 목적용 기계 제조업                        168\n",
      "전자부품 제조업                             130\n",
      "금융 지원 서비스업                           119\n",
      "의약품 제조업                              104\n",
      "기타 금융업                               102\n",
      "자동차 신품 부품 제조업                        101\n",
      "기타 화학제품 제조업                          100\n",
      "반도체 제조업                               74\n",
      "자연과학 및 공학 연구개발업                       71\n",
      "의료용 기기 제조업                            67\n",
      "통신 및 방송 장비 제조업                        64\n",
      "1차 철강 제조업                             62\n",
      "기초 화학물질 제조업                           51\n",
      "일반 목적용 기계 제조업                         48\n",
      "플라스틱제품 제조업                            44\n",
      "기초 의약물질 제조업                           44\n",
      "기타 전문 도매업                             42\n",
      "컴퓨터 프로그래밍, 시스템 통합 및 관리업               41\n",
      "전동기, 발전기 및 전기 변환 · 공급 · 제어 장치 제조업     39\n",
      "Name: count, dtype: int64\n"
     ]
    },
    {
     "data": {
      "text/plain": [
       "<Axes: title={'center': '빈도수 상위 30개 업종'}, ylabel='업종'>"
      ]
     },
     "execution_count": 36,
     "metadata": {},
     "output_type": "execute_result"
    },
    {
     "data": {
      "image/png": "[encoded data removed]",
      "text/plain": [
       "<Figure size 640x480 with 1 Axes>"
      ]
     },
     "metadata": {},
     "output_type": "display_data"
    }
   ],
   "source": [
    "# 상위 30개 업종\n",
    "print(df_stocks['업종'].value_counts().sort_values(ascending=False).head(20))\n",
    "tmp = df_stocks['업종'].value_counts().sort_values(ascending=True).tail(20)\n",
    "tmp.plot(kind='barh', title='빈도수 상위 30개 업종')"
   ]
  },
  {
   "cell_type": "code",
   "execution_count": null,
   "id": "bf2adca0-f90f-4890-9f6d-dadc98b2bcbd",
   "metadata": {},
   "outputs": [],
   "source": []
  },
  {
   "cell_type": "code",
   "execution_count": null,
   "id": "2acd162b-6b1c-4586-892c-c8866962af26",
   "metadata": {},
   "outputs": [],
   "source": []
  },
  {
   "cell_type": "code",
   "execution_count": null,
   "id": "13c627ac-4539-49b3-8c20-afc6ed995e90",
   "metadata": {},
   "outputs": [],
   "source": []
  }
 ],
 "metadata": {
  "kernelspec": {
   "display_name": "Python 3 (ipykernel)",
   "language": "python",
   "name": "python3"
  },
  "language_info": {
   "codemirror_mode": {
    "name": "ipython",
    "version": 3
   },
   "file_extension": ".py",
   "mimetype": "text/x-python",
   "name": "python",
   "nbconvert_exporter": "python",
   "pygments_lexer": "ipython3",
   "version": "3.12.7"
  }
 },
 "nbformat": 4,
 "nbformat_minor": 5
}
