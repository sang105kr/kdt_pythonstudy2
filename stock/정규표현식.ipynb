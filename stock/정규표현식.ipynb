{
 "cells": [
  {
   "cell_type": "code",
   "execution_count": 1,
   "id": "6e325f87-3df7-456c-9b18-ed3776fca0b3",
   "metadata": {},
   "outputs": [],
   "source": [
    "import re"
   ]
  },
  {
   "cell_type": "code",
   "execution_count": 4,
   "id": "8f11d1bc-7555-4423-89ea-276e04b5dcf3",
   "metadata": {},
   "outputs": [
    {
     "name": "stdout",
     "output_type": "stream",
     "text": [
      "Hello\n",
      "0\n",
      "5\n",
      "(0, 5)\n",
      "<re.Match object; span=(0, 5), match='Hello'>\n"
     ]
    }
   ],
   "source": [
    "text = 'Hello, world!'\n",
    "match_result = re.match(r'Hello', text)\n",
    "if match_result :\n",
    "    print(match_result.group()) # 문자열의 시작 부분에서 패턴 매치되는 첫번째 문자열 반환\n",
    "    print(match_result.start()) # 패턴 매치되는 문자열의 시작 위치\n",
    "    print(match_result.end()) # 패턴 매치되는 문자열의 끝 위치\n",
    "    print(match_result.span()) # 패턴 매치되는 문자열의 사작,끝 위치를 튜플로 반환\n",
    "else :\n",
    "    print('매치되는 문자열이 존재하지 않습니다')\n",
    "print(match_result)"
   ]
  },
  {
   "cell_type": "code",
   "execution_count": 6,
   "id": "92bc5f0c-78ca-42e0-bdf0-443a8bbcad79",
   "metadata": {},
   "outputs": [
    {
     "name": "stdout",
     "output_type": "stream",
     "text": [
      "Hello\n",
      "0\n",
      "5\n",
      "(0, 5)\n",
      "<re.Match object; span=(0, 5), match='Hello'>\n"
     ]
    }
   ],
   "source": [
    "text = 'Hello, world!'\n",
    "match_result = re.search(r'world', text)\n",
    "if match_result :\n",
    "    print(match_result.group()) # 문자열 중 패턴 매치되는 첫번째 문자열 반환\n",
    "    print(match_result.start()) # 패턴 매치되는 문자열의 시작 위치\n",
    "    print(match_result.end()) # 패턴 매치되는 문자열의 끝 위치\n",
    "    print(match_result.span())\n",
    "else :\n",
    "    print('매치되는 문자열이 존재하지 않습니다')    \n",
    "print(match_result)"
   ]
  },
  {
   "cell_type": "markdown",
   "id": "0f574b91-0008-4894-aa97-c25b32cb2554",
   "metadata": {},
   "source": [
    " - \\b  :  단어경계를 나타내는 메타문자\n",
    " - 특정 위치에서 단어의 시작 또는 끝을 나태내주며, 주로 단어가 다른 문자(예:공백,구두점,숫자 등)와 구분되는 지점을 의미"
   ]
  },
  {
   "cell_type": "code",
   "execution_count": 7,
   "id": "83c5c267-9690-4561-a3bf-381f5b70c09f",
   "metadata": {},
   "outputs": [
    {
     "name": "stdout",
     "output_type": "stream",
     "text": [
      "['ain']\n",
      "['ain', 'ain', 'ain', 'ain']\n"
     ]
    }
   ],
   "source": [
    "import re\n",
    "text = \"The rain in Spain falls mainly in the plain. ain\"\n",
    "matches = re.findall(r\"\\bain\", text) # ain으로 시작하는 문자열\n",
    "print(matches)\n",
    "matches = re.findall(r\"ain\\b\", text) # ain으로 끝 문자열\n",
    "print(matches)"
   ]
  },
  {
   "cell_type": "code",
   "execution_count": 60,
   "id": "03418ad0-0bba-41d6-b0b9-4fddcebc1da8",
   "metadata": {},
   "outputs": [
    {
     "name": "stdout",
     "output_type": "stream",
     "text": [
      "ain (45, 48)\n",
      "ain (5, 8)\n",
      "ain (14, 17)\n",
      "ain (40, 43)\n",
      "ain (45, 48)\n"
     ]
    }
   ],
   "source": [
    "import re\n",
    "text = \"The rain in Spain falls mainly in the plain. ain\"\n",
    "matches = re.finditer(r\"\\bain\", text) # ain으로 시작하는 문자열\n",
    "for match in matches :\n",
    "    print(match.group(),match.span())\n",
    "    \n",
    "matches = re.finditer(r\"ain\\b\", text) # ain으로 끝 문자열\n",
    "for match in matches :\n",
    "    print(match.group(),match.span())"
   ]
  },
  {
   "cell_type": "code",
   "execution_count": 72,
   "id": "817ec63d-ad2e-48c7-a34b-7db7842ca857",
   "metadata": {},
   "outputs": [
    {
     "data": {
      "text/plain": [
       "\u001b[1;31mSignature:\u001b[0m \u001b[0mre\u001b[0m\u001b[1;33m.\u001b[0m\u001b[0msub\u001b[0m\u001b[1;33m(\u001b[0m\u001b[0mpattern\u001b[0m\u001b[1;33m,\u001b[0m \u001b[0mrepl\u001b[0m\u001b[1;33m,\u001b[0m \u001b[0mstring\u001b[0m\u001b[1;33m,\u001b[0m \u001b[0mcount\u001b[0m\u001b[1;33m=\u001b[0m\u001b[1;36m0\u001b[0m\u001b[1;33m,\u001b[0m \u001b[0mflags\u001b[0m\u001b[1;33m=\u001b[0m\u001b[1;36m0\u001b[0m\u001b[1;33m)\u001b[0m\u001b[1;33m\u001b[0m\u001b[1;33m\u001b[0m\u001b[0m\n",
       "\u001b[1;31mDocstring:\u001b[0m\n",
       "Return the string obtained by replacing the leftmost\n",
       "non-overlapping occurrences of the pattern in string by the\n",
       "replacement repl.  repl can be either a string or a callable;\n",
       "if a string, backslash escapes in it are processed.  If it is\n",
       "a callable, it's passed the Match object and must return\n",
       "a replacement string to be used.\n",
       "\u001b[1;31mFile:\u001b[0m      d:\\kdt_2\\anaconda3\\lib\\re\\__init__.py\n",
       "\u001b[1;31mType:\u001b[0m      function"
      ]
     },
     "metadata": {},
     "output_type": "display_data"
    }
   ],
   "source": [
    "re.sub?"
   ]
  },
  {
   "cell_type": "code",
   "execution_count": 76,
   "id": "5821cbd3-685b-489f-b3ee-d0564bb6fc59",
   "metadata": {},
   "outputs": [
    {
     "name": "stdout",
     "output_type": "stream",
     "text": [
      "I have bananas and oranges. bananas bananas APPLES\n",
      "I have bananas and oranges. bananas apples APPLES\n",
      "I have bananas and oranges. bananas bananas bananas\n"
     ]
    }
   ],
   "source": [
    "import re\n",
    "text = \"I have apples and oranges. apples apples APPLES\"\n",
    "# 'apples'를 'bananas'로 대체\n",
    "result = re.sub(r\"apples\", \"bananas\", text)\n",
    "print(result)\n",
    "\n",
    "result = re.sub(r\"apples\", \"bananas\", text, count=2)  # count : 대체할 최대 갯수, 기본값은 0 : 모두 대체\n",
    "print(result)\n",
    "\n",
    "# flags=re.I or re.IGNORECASE : 대소문자를 구분하지 않고 패턴 매칭\n",
    "# flags=re.M or re.MULTILINE : 문자열의 각 줄의 시작(^)과 끝($)을 기준으로 매칭 \n",
    "# flags=re.S or re.DOTALL : 메타문자가 줄 바꿈 문자(\\n)를 포함한 모든 문자와 매칭\n",
    "result = re.sub(r\"apples\", \"bananas\", text, count=0, flags=re.I) \n",
    "print(result)"
   ]
  },
  {
   "cell_type": "markdown",
   "id": "7612b8b7-f17f-4a19-a5d4-6d523a2082d1",
   "metadata": {},
   "source": [
    "#### 문자열 내 공백제거\n",
    "- strip() : 문자열의 앞뒤 공백제거\n",
    "- lstrip() : 문자열의 왼쪽 공백제거\n",
    "- rstrip() : 문자열의 오른쪽 공백제거"
   ]
  },
  {
   "cell_type": "code",
   "execution_count": 88,
   "id": "17a653fb-c74c-4ce8-bf29-78742de74f4e",
   "metadata": {},
   "outputs": [
    {
     "name": "stdout",
     "output_type": "stream",
     "text": [
      "['apple', ' orange', ' banana', ' grape', ' kiwi']\n",
      "['apple', 'orange', 'banana', 'grape', 'kiwi']\n"
     ]
    }
   ],
   "source": [
    "import re\n",
    "text = \"apple, orange; banana; grape, kiwi\"\n",
    "# 쉼표(,)와 세미콜론(;)을 구분자로 사용하여 문자열 분할\n",
    "result = re.split(r\"[;,]\", text)\n",
    "print(result)\n",
    "\n",
    "## 문자열 공백 제거\n",
    "#case1)\n",
    "result = list(map(lambda ele:ele.strip(), result))\n",
    "#case2)\n",
    "# result = [ ele.strip() for ele in result ]\n",
    "print(result) "
   ]
  },
  {
   "cell_type": "code",
   "execution_count": 90,
   "id": "ae3691c3-a2a7-4de1-862d-8335ae6f47a5",
   "metadata": {},
   "outputs": [
    {
     "name": "stdout",
     "output_type": "stream",
     "text": [
      "['apple', ' orange', ' banana', ' grape', ' kiwi']\n",
      "['apple', 'orange', 'banana', 'grape', 'kiwi']\n"
     ]
    }
   ],
   "source": [
    "import re\n",
    "text = \"apple, orange; banana; grape, kiwi\"\n",
    "\n",
    "#정규표현식을 컴파일하여 패턴객체 생성\n",
    "pattern = re.compile(r\"[;,]\")\n",
    "\n",
    "# 쉼표(,)와 세미콜론(;)을 구분자로 사용하여 문자열 분할\n",
    "# case1)\n",
    "# result = re.split(pattern, text)\n",
    "# case2)\n",
    "result = pattern.split(text)\n",
    "print(result)\n",
    "\n",
    "## 문자열 공백 제거\n",
    "#case1)\n",
    "result = list(map(lambda ele:ele.strip(), result))\n",
    "#case2)\n",
    "# result = [ ele.strip() for ele in result ]\n",
    "print(result) "
   ]
  },
  {
   "cell_type": "markdown",
   "id": "ded106ec-14cf-4bb1-b1b9-85ef14b8bda2",
   "metadata": {},
   "source": [
    "#### 정규표현식 플래그\n",
    "- flags=re.I or re.IGNORECASE : 대소문자를 구분하지 않고 패턴 매칭\n",
    "- flags=re.M or re.MULTILINE : 문자열의 각 줄의 시작(^)과 끝($)을 기준으로 매칭 \n",
    "- flags=re.S or re.DOTALL : 메타문자가 줄 바꿈 문자(\\n)를 포함한 모든 문자와 매칭"
   ]
  },
  {
   "cell_type": "code",
   "execution_count": 116,
   "id": "a8bdee62-11c3-4870-84dd-2c5d9a8b0230",
   "metadata": {},
   "outputs": [
    {
     "name": "stdout",
     "output_type": "stream",
     "text": [
      "['Hello', 'hello']\n"
     ]
    }
   ],
   "source": [
    "import re\n",
    "\n",
    "text = 'Hellow World! hello world!'\n",
    "\n",
    "# flags=re.I or re.IGNORECASE : 대소문자를 구분하지 않고 패턴 매칭\n",
    "pattern = re.compile(r'hello',flags=re.I)\n",
    "matches = pattern.findall(text)\n",
    "print(matches)"
   ]
  },
  {
   "cell_type": "code",
   "execution_count": 136,
   "id": "f9093a48-804d-416f-8c28-69c22f99241e",
   "metadata": {},
   "outputs": [
    {
     "name": "stdout",
     "output_type": "stream",
     "text": [
      "first line:end\n",
      "second line:end\n",
      "third line:end\n"
     ]
    }
   ],
   "source": [
    "import re\n",
    "\n",
    "text = '''first line\n",
    "second line\n",
    "third line'''\n",
    "\n",
    "# flags=re.M or re.MULTILINE : 문자열의 각 줄의 시작(^)과 끝($)을 기준으로 매칭\n",
    "pattern = re.compile(r'$',flags=re.M)\n",
    "matches = pattern.sub(':end',text)\n",
    "print(matches)"
   ]
  },
  {
   "cell_type": "code",
   "execution_count": 152,
   "id": "1b76598a-e6a7-4dea-bc46-d772cb17c02d",
   "metadata": {},
   "outputs": [
    {
     "name": "stdout",
     "output_type": "stream",
     "text": [
      "XXXXXXXXXXX\n"
     ]
    }
   ],
   "source": [
    "import re\n",
    "\n",
    "text = '''Hello\\nWorld'''\n",
    "\n",
    "# flags=re.S or re.DOTALL : 메타문자가 줄 바꿈 문자(\\n)를 포함한 모든 문자와 매칭\n",
    "pattern = re.compile(r'.', re.S)\n",
    "matches = pattern.sub('X',text)\n",
    "print(matches)"
   ]
  },
  {
   "cell_type": "markdown",
   "id": "22ed0ef7-a150-4eec-9a3f-237fff1cbd2f",
   "metadata": {},
   "source": [
    "#### 그루핑"
   ]
  },
  {
   "cell_type": "code",
   "execution_count": 164,
   "id": "888ffaf7-e78b-4c93-b576-365f1dab6142",
   "metadata": {},
   "outputs": [
    {
     "name": "stdout",
     "output_type": "stream",
     "text": [
      "('John', 'Doe')\n",
      "('Jane', 'Doe')\n",
      "[('John', 'Doe'), ('Jane', 'Doe')]\n"
     ]
    }
   ],
   "source": [
    "import re\n",
    "text = 'John Doe, Jane Doe'\n",
    "# 이름과 성을 그룹으로 묶음\n",
    "pattern = r\"(\\w+) (\\w+)\"\n",
    "# pattern = r\"\\w+ \\w+\"\n",
    "matches = re.findall(pattern, text)\n",
    "\n",
    "for match in matches:\n",
    "    print(match)\n",
    "    \n",
    "print(matches)\n",
    "# 출력: [('John', 'Doe'), ('Jane', 'Doe')]\n"
   ]
  },
  {
   "cell_type": "code",
   "execution_count": 167,
   "id": "f9255b2b-370e-45b9-b9a3-347f13927d30",
   "metadata": {},
   "outputs": [
    {
     "name": "stdout",
     "output_type": "stream",
     "text": [
      "John Doe\n",
      "John\n",
      "Doe\n",
      "Jane Doe\n",
      "Jane\n",
      "Doe\n",
      "<callable_iterator object at 0x000002255B39E170>\n"
     ]
    }
   ],
   "source": [
    "import re\n",
    "text = 'John Doe, Jane Doe'\n",
    "# 이름과 성을 그룹으로 묶음\n",
    "pattern = r\"(\\w+) (\\w+)\"\n",
    "# pattern = r\"\\w+ \\w+\"\n",
    "matches = re.finditer(pattern, text)\n",
    "\n",
    "for match in matches:\n",
    "    print(match.group())\n",
    "    print(match.group(1))\n",
    "    print(match.group(2))\n",
    "    \n",
    "print(matches)\n",
    "# 출력: [('John', 'Doe'), ('Jane', 'Doe')]\n"
   ]
  },
  {
   "cell_type": "code",
   "execution_count": 174,
   "id": "dd1633a1-117b-43c7-9e55-34f00caf5d00",
   "metadata": {},
   "outputs": [
    {
     "name": "stdout",
     "output_type": "stream",
     "text": [
      "['pie', 'tart', 'pie']\n"
     ]
    }
   ],
   "source": [
    "import re\n",
    "text = \"apple pie, apple tart, cherry pie\"\n",
    "# 'apple' 또는 'cherry'를 비캡처 그룹으로 묶음\n",
    "pattern = r\"(?:apple|cherry) (pie|tart)\"\n",
    "matches = re.findall(pattern, text)\n",
    "print(matches)\n",
    "# 출력: ['pie', 'tart']"
   ]
  },
  {
   "cell_type": "markdown",
   "id": "0d7e1d34-def6-4cde-a709-018f29287204",
   "metadata": {},
   "source": [
    "#### 탐욕(greedy)과 비탐욕(non-greedy)"
   ]
  },
  {
   "cell_type": "code",
   "execution_count": 176,
   "id": "aee30ebd-199e-4d28-ab89-33a0a905e611",
   "metadata": {},
   "outputs": [
    {
     "name": "stdout",
     "output_type": "stream",
     "text": [
      "abcabcabc\n"
     ]
    }
   ],
   "source": [
    "import re\n",
    "text = \"abcabcabc\"\n",
    "pattern = r\"a.*c\" # 탐욕 매칭\n",
    "match = re.search(pattern, text)\n",
    "print(match.group()) # 출력: abcabcabc\n"
   ]
  },
  {
   "cell_type": "code",
   "execution_count": 175,
   "id": "f8b915a7-4313-4ca5-83df-98ce25feebf5",
   "metadata": {},
   "outputs": [
    {
     "name": "stdout",
     "output_type": "stream",
     "text": [
      "abc\n"
     ]
    }
   ],
   "source": [
    "import re\n",
    "text = \"abcabcabc\"\n",
    "pattern = r\"a.*?c\" # 비탐욕 매칭\n",
    "match = re.search(pattern, text)\n",
    "print(match.group()) # 출력: abc"
   ]
  },
  {
   "attachments": {},
   "cell_type": "markdown",
   "id": "2405b7c0-2bf5-4479-a40d-4b1d3e248844",
   "metadata": {},
   "source": [
    "#### 전방 탐색 & 후방 탐색\n",
    "##### 1. 전방 탐색\n",
    "- 양의 전방 탐색 (Positive Lookahead)(?=)\n",
    "    - 특정 패턴이 뒤에 오는 경우를 찾음\n",
    "    - 예를 들어, X(?=Y)는 ＇Y＇가 뒤따르는 ＇X＇를 찾음\n",
    "- 음의 전방 탐색(Negative Lookahead) (?!)\n",
    "    - 특정 패턴이 뒤에 오지 않는 경우를 찾음\n",
    "    - 예를 들어, X(?!Y)는 ＇Y＇가 뒤따르지 않는 ＇X＇를 찾음\n",
    "##### 2. 후방 탐색\n",
    "- 양의 후방 탐색 (Positive Lookbehind)(?<=)\n",
    "    - 특정 패턴이 앞에 오는 경우를 찾습니다. \n",
    "    - 예를 들어, (?<=Y)X는 'Y'가 앞서는 'X'를 찾음\n",
    "- 음의 후방 탐색 (Negative Lookbehind) (?<!)\n",
    "    - 특정 패턴이 앞에 오지 않는 경우를 찾는다. \n",
    "    - 예를 들어, (?<!Y)X는 ＇Y＇가 앞서지 않는 ＇X＇를 찾음"
   ]
  },
  {
   "cell_type": "code",
   "execution_count": 190,
   "id": "9081ad2f-6030-41c4-859a-bee4f560d665",
   "metadata": {},
   "outputs": [
    {
     "name": "stdout",
     "output_type": "stream",
     "text": [
      "['http://example', 'http://sample']\n"
     ]
    }
   ],
   "source": [
    "import re\n",
    "\n",
    "text = 'Visit out website at http://example.com or http://sample.com'\n",
    "\n",
    "pattern = re.compile(r'http://[^ ]+(?=\\.com)')\n",
    "matches = pattern.findall(text)\n",
    "\n",
    "print(matches)"
   ]
  },
  {
   "cell_type": "code",
   "execution_count": 191,
   "id": "e3fc111c-57d9-411d-a672-9a476ec20f14",
   "metadata": {},
   "outputs": [
    {
     "name": "stdout",
     "output_type": "stream",
     "text": [
      "['test', 'test', 'test']\n"
     ]
    }
   ],
   "source": [
    "import re\n",
    "\n",
    "text = 'testing test pool tested tester'\n",
    "pattern = re.compile(r'test(?!ing)')\n",
    "\n",
    "matches = pattern.findall(text)\n",
    "print(matches)"
   ]
  },
  {
   "cell_type": "code",
   "execution_count": 192,
   "id": "843cac6c-5eff-4adb-b00d-d898cace3790",
   "metadata": {},
   "outputs": [
    {
     "name": "stdout",
     "output_type": "stream",
     "text": [
      "['.99', '']\n"
     ]
    }
   ],
   "source": [
    "import re\n",
    "\n",
    "text = 'The price is $5.99 for the first item and $10 for the second.'\n",
    "pattern = re.compile(r'(?<=\\$)\\d+(\\.\\d+)?')\n",
    "\n",
    "matches = pattern.findall(text)\n",
    "print(matches)"
   ]
  },
  {
   "cell_type": "code",
   "execution_count": 193,
   "id": "6c22f7d7-6b93-4eb7-89a8-0fce5e2c5ead",
   "metadata": {},
   "outputs": [
    {
     "name": "stdout",
     "output_type": "stream",
     "text": [
      "['good']\n"
     ]
    }
   ],
   "source": [
    "import re\n",
    "\n",
    "text = 'The cake is not good but the pie is very good'\n",
    "pattern = re.compile(r'(?<!not\\s)good')\n",
    "\n",
    "matches = pattern.findall(text)\n",
    "print(matches)"
   ]
  },
  {
   "cell_type": "code",
   "execution_count": 8,
   "id": "d574ac85-cfad-466b-9645-16ca634ea030",
   "metadata": {},
   "outputs": [
    {
     "name": "stdout",
     "output_type": "stream",
     "text": [
      "['aaa', '', '', '', '', '', '', '']\n"
     ]
    }
   ],
   "source": [
    "import re\n",
    "text = \"aaabbbccc\"\n",
    "pattern = r\"a*\"\n",
    "# 'a'가 0회 이상 반복되는 부분 찾기\n",
    "matches = re.findall(pattern, text)\n",
    "print(matches) # 출력: ['aaa', '', '']"
   ]
  },
  {
   "cell_type": "code",
   "execution_count": 10,
   "id": "0f1dd553-2ed1-4445-b1aa-e7441275405c",
   "metadata": {},
   "outputs": [
    {
     "name": "stdout",
     "output_type": "stream",
     "text": [
      "['Hello', 'Htllo', 'Hzllo']\n"
     ]
    }
   ],
   "source": [
    "import re\n",
    "text = \"Hello World! Htllo Hzllo\"\n",
    "pattern = r\"H.llo\"\n",
    "# 'H'와 'llo' 사이에 임의의 문자 찾기\n",
    "matches = re.findall(pattern, text)\n",
    "print(matches) # 출력: ['Hello']\n"
   ]
  },
  {
   "cell_type": "code",
   "execution_count": 13,
   "id": "33a3e3bc-31e3-4179-a0f9-7a0708e116c7",
   "metadata": {},
   "outputs": [
    {
     "name": "stdout",
     "output_type": "stream",
     "text": [
      "['color', 'colour']\n"
     ]
    }
   ],
   "source": [
    "import re\n",
    "text = \"color colour\"\n",
    "pattern = r\"colou?r\"\n",
    "# 'u'가 0회 또는 1회 나타나는 부분 찾기\n",
    "matches = re.findall(pattern, text)\n",
    "print(matches) # 출력: ['color', 'colour']"
   ]
  },
  {
   "cell_type": "code",
   "execution_count": 18,
   "id": "04b55558-044e-4dff-9071-56d97c04062b",
   "metadata": {},
   "outputs": [
    {
     "name": "stdout",
     "output_type": "stream",
     "text": [
      "['aaa', 'a', 'a']\n"
     ]
    }
   ],
   "source": [
    "import re\n",
    "text = \"aaabbbccca a\"\n",
    "pattern = r\"a+\"\n",
    "# 'a'가 1회 이상 반복되는 부분 찾기\n",
    "matches = re.findall(pattern, text)\n",
    "print(matches) # 출력: ['aaa']"
   ]
  },
  {
   "cell_type": "code",
   "execution_count": 25,
   "id": "462a639b-f0bf-4828-9327-34d31483edf0",
   "metadata": {},
   "outputs": [
    {
     "name": "stdout",
     "output_type": "stream",
     "text": [
      "first linesecond :end\n",
      "linethird line:end\n"
     ]
    }
   ],
   "source": [
    "import re\n",
    "text = '''first linesecond \n",
    "linethird line'''\n",
    "pattern = re.compile(r'$', flags=re.M)\n",
    "matches = pattern.sub(':end',text)\n",
    "print(matches)\n",
    "\n",
    "#결과\n",
    "\n"
   ]
  },
  {
   "cell_type": "code",
   "execution_count": 29,
   "id": "8c30f2af-6d47-48ce-b76d-4e2fb3906b60",
   "metadata": {
    "scrolled": true
   },
   "outputs": [
    {
     "name": "stdout",
     "output_type": "stream",
     "text": [
      "XXXXXXXXXXX\n"
     ]
    }
   ],
   "source": [
    "import re\n",
    "text = 'Hello\\nWorld'\n",
    "pattern = re.compile(r'.', re.S)\n",
    "matches = pattern.sub('X',text)\n",
    "print(matches)"
   ]
  },
  {
   "cell_type": "code",
   "execution_count": 33,
   "id": "68bea384-5bf4-4c1e-b242-d4c325842f1c",
   "metadata": {},
   "outputs": [
    {
     "name": "stdout",
     "output_type": "stream",
     "text": [
      "[('John', 'Doe'), ('Jane', 'Do')]\n"
     ]
    }
   ],
   "source": [
    "import re\n",
    "text = \"John Doe, Jane Do\"\n",
    "# 이름과 성을 그룹으로 묶음\n",
    "pattern = r\"(\\w+) (\\w+)\"\n",
    "matches = re.findall(pattern, text)\n",
    "print(matches) "
   ]
  },
  {
   "cell_type": "code",
   "execution_count": 34,
   "id": "da1f45fc-19bd-4cd0-8e12-7560f5100df2",
   "metadata": {},
   "outputs": [
    {
     "name": "stdout",
     "output_type": "stream",
     "text": [
      "['Doe', 'Do']\n"
     ]
    }
   ],
   "source": [
    "import re\n",
    "text = \"John Doe, Jane Do\"\n",
    "# 이름과 성을 그룹으로 묶음\n",
    "pattern = r\"(?:\\w+) (\\w+)\"\n",
    "matches = re.findall(pattern, text)\n",
    "print(matches) "
   ]
  },
  {
   "cell_type": "code",
   "execution_count": 35,
   "id": "b8c376e4-4555-4b90-80b5-74e3277b4a39",
   "metadata": {},
   "outputs": [
    {
     "name": "stdout",
     "output_type": "stream",
     "text": [
      "abcabcabc\n"
     ]
    }
   ],
   "source": [
    "import re\n",
    "text = \"abcabcabc\"\n",
    "pattern = r\"a.*c\" # 탐욕 매칭\n",
    "match = re.search(pattern, text)\n",
    "print(match.group()) # 출력: abcabcabc"
   ]
  },
  {
   "cell_type": "code",
   "execution_count": 36,
   "id": "ef8c54f8-444a-4434-ac17-ec3c78a0249a",
   "metadata": {},
   "outputs": [
    {
     "name": "stdout",
     "output_type": "stream",
     "text": [
      "abc\n"
     ]
    }
   ],
   "source": [
    "import re\n",
    "text = \"abcabcabc\"\n",
    "pattern = r\"a.*?c\" # 비탐욕 매칭\n",
    "match = re.search(pattern, text)\n",
    "print(match.group()) # 출력: abcabcabc"
   ]
  },
  {
   "cell_type": "code",
   "execution_count": 45,
   "id": "70cf5e81-236b-4205-9c24-8cc44e7e4f41",
   "metadata": {},
   "outputs": [
    {
     "name": "stdout",
     "output_type": "stream",
     "text": [
      "['http://example', 'http://sample']\n"
     ]
    }
   ],
   "source": [
    "import re\n",
    "text = '''Visit out website at http://example.com \n",
    "or http://sample.com'''\n",
    "pattern = re.compile(r'http://[^ ]+(?=\\.com)')\n",
    "matches = pattern.findall(text)\n",
    "print(matches)\n"
   ]
  },
  {
   "cell_type": "code",
   "execution_count": 56,
   "id": "54a16d75-0502-4442-a093-5bfc9cff6501",
   "metadata": {},
   "outputs": [
    {
     "name": "stdout",
     "output_type": "stream",
     "text": [
      "['http://example', 'http://sample']\n"
     ]
    }
   ],
   "source": [
    "import re\n",
    "text = '''Visit out website at http://example.com \n",
    "or http://sample.com'''\n",
    "pattern = re.compile(r'http://[^ ]+(?=\\.com)')\n",
    "matches = pattern.findall(text)\n",
    "print(matches)\n"
   ]
  },
  {
   "cell_type": "code",
   "execution_count": 55,
   "id": "37b75c83-6333-47d3-a4d7-b5facf5110b3",
   "metadata": {},
   "outputs": [
    {
     "name": "stdout",
     "output_type": "stream",
     "text": [
      "['http://example.com', 'http://sample.com']\n"
     ]
    }
   ],
   "source": [
    "import re\n",
    "text = '''Visit out website at http://example.com \n",
    "or http://sample.com'''\n",
    "pattern = re.compile(r'http://[^ ]+(?!\\.com)')\n",
    "matches = pattern.findall(text)\n",
    "print(matches)"
   ]
  },
  {
   "cell_type": "code",
   "execution_count": 57,
   "id": "b1f7e541-c9e1-46b7-8c1c-023844c9824f",
   "metadata": {},
   "outputs": [
    {
     "name": "stdout",
     "output_type": "stream",
     "text": [
      "['test', 'test', 'test']\n"
     ]
    }
   ],
   "source": [
    "import re\n",
    "text = 'testing test pool tested tester'\n",
    "pattern = re.compile(r'test(?!ing)')\n",
    "matches = pattern.findall(text)\n",
    "print(matches)\n"
   ]
  },
  {
   "cell_type": "code",
   "execution_count": 59,
   "id": "7a10ba2d-8a87-410e-b145-88134e6521b6",
   "metadata": {},
   "outputs": [
    {
     "name": "stdout",
     "output_type": "stream",
     "text": [
      "['.99', '']\n"
     ]
    }
   ],
   "source": [
    "import re\n",
    "text = '''The price is $5.99 for the first item and $10\n",
    "for the second.'''\n",
    "pattern = re.compile(r'(?<=\\$)\\d+(\\.\\d+)?')\n",
    "matches = pattern.findall(text)\n",
    "print(matches)\n"
   ]
  },
  {
   "cell_type": "code",
   "execution_count": 60,
   "id": "f55ee8fb-e53d-4fb9-806e-101248553cc2",
   "metadata": {},
   "outputs": [
    {
     "name": "stdout",
     "output_type": "stream",
     "text": [
      "['good']\n"
     ]
    }
   ],
   "source": [
    "import re\n",
    "text = 'The cake is not good but the pie is very good'\n",
    "pattern = re.compile(r'(?<!not\\s)good')\n",
    "matches = pattern.findall(text)\n",
    "print(matches)\n"
   ]
  },
  {
   "cell_type": "code",
   "execution_count": null,
   "id": "e9c3ad7d-a09e-48fd-bbd6-99b017336389",
   "metadata": {},
   "outputs": [],
   "source": []
  }
 ],
 "metadata": {
  "kernelspec": {
   "display_name": "Python 3 (ipykernel)",
   "language": "python",
   "name": "python3"
  },
  "language_info": {
   "codemirror_mode": {
    "name": "ipython",
    "version": 3
   },
   "file_extension": ".py",
   "mimetype": "text/x-python",
   "name": "python",
   "nbconvert_exporter": "python",
   "pygments_lexer": "ipython3",
   "version": "3.12.7"
  }
 },
 "nbformat": 4,
 "nbformat_minor": 5
}
