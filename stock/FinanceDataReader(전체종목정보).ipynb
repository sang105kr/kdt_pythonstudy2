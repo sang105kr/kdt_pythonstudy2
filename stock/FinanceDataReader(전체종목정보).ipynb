{
 "cells": [
  {
   "cell_type": "markdown",
   "id": "69b65272-d163-4dc5-a7d4-b4311a56ef68",
   "metadata": {},
   "source": [
    "FinanceData/FinanceDataReader: Financial data reader"
   ]
  },
  {
   "cell_type": "code",
   "execution_count": 65,
   "id": "b6912b99-1e9b-4f7a-a64a-9cf23a0bea63",
   "metadata": {},
   "outputs": [],
   "source": [
    "# FinanceData 설치\n",
    "# !pip install finance-datareader"
   ]
  },
  {
   "cell_type": "code",
   "execution_count": 66,
   "id": "f302d469-f75c-41d1-8816-d2ed26e5d343",
   "metadata": {},
   "outputs": [],
   "source": [
    "# 라이브러리 불러오기\n",
    "import FinanceDataReader as fdr"
   ]
  },
  {
   "cell_type": "code",
   "execution_count": 67,
   "id": "24b72887-063b-457f-8490-1a4ec9c75766",
   "metadata": {},
   "outputs": [
    {
     "data": {
      "text/plain": [
       "'0.9.94'"
      ]
     },
     "execution_count": 67,
     "metadata": {},
     "output_type": "execute_result"
    }
   ],
   "source": [
    "# 버전확인\n",
    "fdr.__version__"
   ]
  },
  {
   "cell_type": "markdown",
   "id": "5dec968b-0266-4e45-a6fe-c5983b7ed391",
   "metadata": {},
   "source": [
    "#### 한국거래소 상장종목 전체 가져오기"
   ]
  },
  {
   "cell_type": "code",
   "execution_count": 68,
   "id": "f3239552-20ad-48c8-bc86-c9568fdebc96",
   "metadata": {},
   "outputs": [
    {
     "data": {
      "text/plain": [
       "['DataReader',\n",
       " 'EtfListing',\n",
       " 'SnapDataReader',\n",
       " 'StockListing',\n",
       " '__all__',\n",
       " '__builtins__',\n",
       " '__cached__',\n",
       " '__doc__',\n",
       " '__file__',\n",
       " '__loader__',\n",
       " '__name__',\n",
       " '__package__',\n",
       " '__path__',\n",
       " '__spec__',\n",
       " '__version__',\n",
       " '_utils',\n",
       " 'chart',\n",
       " 'data',\n",
       " 'ecos',\n",
       " 'fred',\n",
       " 'investing',\n",
       " 'krx',\n",
       " 'nasdaq',\n",
       " 'naver',\n",
       " 'plot',\n",
       " 'wikipedia',\n",
       " 'yahoo']"
      ]
     },
     "execution_count": 68,
     "metadata": {},
     "output_type": "execute_result"
    }
   ],
   "source": [
    "# 패키지 내용 확인\n",
    "dir(fdr)"
   ]
  },
  {
   "cell_type": "code",
   "execution_count": 69,
   "id": "6834171d-e4fc-4346-b35e-b783adf4e0ec",
   "metadata": {},
   "outputs": [
    {
     "data": {
      "text/plain": [
       "\u001b[1;31mSignature:\u001b[0m \u001b[0mfdr\u001b[0m\u001b[1;33m.\u001b[0m\u001b[0mStockListing\u001b[0m\u001b[1;33m(\u001b[0m\u001b[0mmarket\u001b[0m\u001b[1;33m:\u001b[0m \u001b[0mstr\u001b[0m\u001b[1;33m,\u001b[0m \u001b[0mstart\u001b[0m\u001b[1;33m=\u001b[0m\u001b[1;32mNone\u001b[0m\u001b[1;33m,\u001b[0m \u001b[0mend\u001b[0m\u001b[1;33m=\u001b[0m\u001b[1;32mNone\u001b[0m\u001b[1;33m)\u001b[0m \u001b[1;33m->\u001b[0m \u001b[0mpandas\u001b[0m\u001b[1;33m.\u001b[0m\u001b[0mcore\u001b[0m\u001b[1;33m.\u001b[0m\u001b[0mframe\u001b[0m\u001b[1;33m.\u001b[0m\u001b[0mDataFrame\u001b[0m\u001b[1;33m\u001b[0m\u001b[1;33m\u001b[0m\u001b[0m\n",
       "\u001b[1;31mDocstring:\u001b[0m\n",
       "read stock list of stock exchanges\n",
       "* market: 'KRX', 'KOSPI', 'KOSDAQ', 'KONEX', 'KRX-MARCAP', \n",
       "        'KRX-DESC', 'KOSPI-DESC', 'KOSDAQ-DESC', 'KONEX-DESC',\n",
       "        'KRX-DELISTING', 'KRX-ADMINISTRATIVE', 'KRX-MARCAP',\n",
       "        'NASDAQ', 'NYSE', 'AMEX', 'SSE', 'SZSE', 'HKEX', 'TSE', 'HOSE',\n",
       "        'S&P500',\n",
       "        'ETF/KR',\n",
       "\u001b[1;31mFile:\u001b[0m      d:\\kdt_2\\anaconda3\\lib\\site-packages\\financedatareader\\data.py\n",
       "\u001b[1;31mType:\u001b[0m      function"
      ]
     },
     "metadata": {},
     "output_type": "display_data"
    }
   ],
   "source": [
    "# 함수, method 사용 방법을 알고 싶을때 함수,메소드명 뒤에 ?를 붙여 실행한다\n",
    "# help(fdr.StockListing)\n",
    "fdr.StockListing?"
   ]
  },
  {
   "cell_type": "code",
   "execution_count": 70,
   "id": "ddc3ca69-6f6a-48b4-b4eb-cb6dee7ee854",
   "metadata": {},
   "outputs": [],
   "source": [
    "stocks = fdr.StockListing('KRX')\n",
    "stocks_desc = fdr.StockListing('KRX-DESC')"
   ]
  },
  {
   "cell_type": "markdown",
   "id": "8b9abcbc-d01d-4965-b6b3-4620a2c1adc9",
   "metadata": {},
   "source": [
    "#### 데이터 구조 화인"
   ]
  },
  {
   "cell_type": "code",
   "execution_count": 71,
   "id": "cd85c7e1-1a12-4dbf-949f-ee463fddab6d",
   "metadata": {},
   "outputs": [
    {
     "data": {
      "text/plain": [
       "((2856, 17), (2856, 10))"
      ]
     },
     "execution_count": 71,
     "metadata": {},
     "output_type": "execute_result"
    }
   ],
   "source": [
    "# 데이터 프레임의 행과 열의 수를 튜플로 반환\n",
    "stocks.shape, stocks_desc.shape"
   ]
  },
  {
   "cell_type": "code",
   "execution_count": 72,
   "id": "c5b11ce3-558b-4316-8d29-0d608227882a",
   "metadata": {},
   "outputs": [
    {
     "data": {
      "text/plain": [
       "(2856, 2856)"
      ]
     },
     "execution_count": 72,
     "metadata": {},
     "output_type": "execute_result"
    }
   ],
   "source": [
    "#행수\n",
    "stocks.shape[0] , stocks_desc.shape[0]"
   ]
  },
  {
   "cell_type": "code",
   "execution_count": 73,
   "id": "dfa53153-3a8a-4afc-b076-5593d4e57f20",
   "metadata": {},
   "outputs": [
    {
     "data": {
      "text/html": [
       "<div>\n",
       "<style scoped>\n",
       "    .dataframe tbody tr th:only-of-type {\n",
       "        vertical-align: middle;\n",
       "    }\n",
       "\n",
       "    .dataframe tbody tr th {\n",
       "        vertical-align: top;\n",
       "    }\n",
       "\n",
       "    .dataframe thead th {\n",
       "        text-align: right;\n",
       "    }\n",
       "</style>\n",
       "<table border=\"1\" class=\"dataframe\">\n",
       "  <thead>\n",
       "    <tr style=\"text-align: right;\">\n",
       "      <th></th>\n",
       "      <th>Code</th>\n",
       "      <th>ISU_CD</th>\n",
       "      <th>Name</th>\n",
       "      <th>Market</th>\n",
       "      <th>Dept</th>\n",
       "      <th>Close</th>\n",
       "      <th>ChangeCode</th>\n",
       "      <th>Changes</th>\n",
       "      <th>ChagesRatio</th>\n",
       "      <th>Open</th>\n",
       "      <th>High</th>\n",
       "      <th>Low</th>\n",
       "      <th>Volume</th>\n",
       "      <th>Amount</th>\n",
       "      <th>Marcap</th>\n",
       "      <th>Stocks</th>\n",
       "      <th>MarketId</th>\n",
       "    </tr>\n",
       "  </thead>\n",
       "  <tbody>\n",
       "    <tr>\n",
       "      <th>0</th>\n",
       "      <td>005930</td>\n",
       "      <td>KR7005930003</td>\n",
       "      <td>삼성전자</td>\n",
       "      <td>KOSPI</td>\n",
       "      <td></td>\n",
       "      <td>53900</td>\n",
       "      <td>2</td>\n",
       "      <td>-100</td>\n",
       "      <td>-0.19</td>\n",
       "      <td>53600</td>\n",
       "      <td>54000</td>\n",
       "      <td>53400</td>\n",
       "      <td>3259715</td>\n",
       "      <td>174956298900</td>\n",
       "      <td>321771279445000</td>\n",
       "      <td>5969782550</td>\n",
       "      <td>STK</td>\n",
       "    </tr>\n",
       "  </tbody>\n",
       "</table>\n",
       "</div>"
      ],
      "text/plain": [
       "     Code        ISU_CD  Name Market Dept  Close ChangeCode  Changes  \\\n",
       "0  005930  KR7005930003  삼성전자  KOSPI       53900          2     -100   \n",
       "\n",
       "   ChagesRatio   Open   High    Low   Volume        Amount           Marcap  \\\n",
       "0        -0.19  53600  54000  53400  3259715  174956298900  321771279445000   \n",
       "\n",
       "       Stocks MarketId  \n",
       "0  5969782550      STK  "
      ]
     },
     "metadata": {},
     "output_type": "display_data"
    },
    {
     "data": {
      "text/html": [
       "<div>\n",
       "<style scoped>\n",
       "    .dataframe tbody tr th:only-of-type {\n",
       "        vertical-align: middle;\n",
       "    }\n",
       "\n",
       "    .dataframe tbody tr th {\n",
       "        vertical-align: top;\n",
       "    }\n",
       "\n",
       "    .dataframe thead th {\n",
       "        text-align: right;\n",
       "    }\n",
       "</style>\n",
       "<table border=\"1\" class=\"dataframe\">\n",
       "  <thead>\n",
       "    <tr style=\"text-align: right;\">\n",
       "      <th></th>\n",
       "      <th>Code</th>\n",
       "      <th>Name</th>\n",
       "      <th>Market</th>\n",
       "      <th>Sector</th>\n",
       "      <th>Industry</th>\n",
       "      <th>ListingDate</th>\n",
       "      <th>SettleMonth</th>\n",
       "      <th>Representative</th>\n",
       "      <th>HomePage</th>\n",
       "      <th>Region</th>\n",
       "    </tr>\n",
       "  </thead>\n",
       "  <tbody>\n",
       "    <tr>\n",
       "      <th>0</th>\n",
       "      <td>060310</td>\n",
       "      <td>3S</td>\n",
       "      <td>KOSDAQ</td>\n",
       "      <td>측정, 시험, 항해, 제어 및 기타 정밀기기 제조업; 광학기기 제외</td>\n",
       "      <td>반도체 웨이퍼 캐리어</td>\n",
       "      <td>2002-04-23</td>\n",
       "      <td>03월</td>\n",
       "      <td>김세완</td>\n",
       "      <td>http://www.3sref.com</td>\n",
       "      <td>서울특별시</td>\n",
       "    </tr>\n",
       "  </tbody>\n",
       "</table>\n",
       "</div>"
      ],
      "text/plain": [
       "     Code Name  Market                                 Sector     Industry  \\\n",
       "0  060310   3S  KOSDAQ  측정, 시험, 항해, 제어 및 기타 정밀기기 제조업; 광학기기 제외  반도체 웨이퍼 캐리어   \n",
       "\n",
       "  ListingDate SettleMonth Representative              HomePage Region  \n",
       "0  2002-04-23         03월            김세완  http://www.3sref.com  서울특별시  "
      ]
     },
     "metadata": {},
     "output_type": "display_data"
    }
   ],
   "source": [
    "# 데이터프레임의 처음,마지막 n행 보기, 매개값이 없여면 5행\n",
    "display(stocks.head(1))\n",
    "display(stocks_desc.head(1))"
   ]
  },
  {
   "cell_type": "code",
   "execution_count": 74,
   "id": "eb02d929-c43e-47b0-b677-c6c9b481a072",
   "metadata": {},
   "outputs": [
    {
     "data": {
      "text/html": [
       "<div>\n",
       "<style scoped>\n",
       "    .dataframe tbody tr th:only-of-type {\n",
       "        vertical-align: middle;\n",
       "    }\n",
       "\n",
       "    .dataframe tbody tr th {\n",
       "        vertical-align: top;\n",
       "    }\n",
       "\n",
       "    .dataframe thead th {\n",
       "        text-align: right;\n",
       "    }\n",
       "</style>\n",
       "<table border=\"1\" class=\"dataframe\">\n",
       "  <thead>\n",
       "    <tr style=\"text-align: right;\">\n",
       "      <th></th>\n",
       "      <th>Code</th>\n",
       "      <th>ISU_CD</th>\n",
       "      <th>Name</th>\n",
       "      <th>Market</th>\n",
       "      <th>Dept</th>\n",
       "      <th>Close</th>\n",
       "      <th>ChangeCode</th>\n",
       "      <th>Changes</th>\n",
       "      <th>ChagesRatio</th>\n",
       "      <th>Open</th>\n",
       "      <th>High</th>\n",
       "      <th>Low</th>\n",
       "      <th>Volume</th>\n",
       "      <th>Amount</th>\n",
       "      <th>Marcap</th>\n",
       "      <th>Stocks</th>\n",
       "      <th>MarketId</th>\n",
       "    </tr>\n",
       "  </thead>\n",
       "  <tbody>\n",
       "    <tr>\n",
       "      <th>2855</th>\n",
       "      <td>419700</td>\n",
       "      <td>KR7419700000</td>\n",
       "      <td>이브이파킹서비스</td>\n",
       "      <td>KONEX</td>\n",
       "      <td>일반기업부</td>\n",
       "      <td>3</td>\n",
       "      <td>1</td>\n",
       "      <td>1</td>\n",
       "      <td>50.0</td>\n",
       "      <td>3</td>\n",
       "      <td>3</td>\n",
       "      <td>3</td>\n",
       "      <td>240293</td>\n",
       "      <td>720879</td>\n",
       "      <td>51799998</td>\n",
       "      <td>17266666</td>\n",
       "      <td>KNX</td>\n",
       "    </tr>\n",
       "  </tbody>\n",
       "</table>\n",
       "</div>"
      ],
      "text/plain": [
       "        Code        ISU_CD      Name Market   Dept Close ChangeCode  Changes  \\\n",
       "2855  419700  KR7419700000  이브이파킹서비스  KONEX  일반기업부     3          1        1   \n",
       "\n",
       "      ChagesRatio  Open  High  Low  Volume  Amount    Marcap    Stocks  \\\n",
       "2855         50.0     3     3    3  240293  720879  51799998  17266666   \n",
       "\n",
       "     MarketId  \n",
       "2855      KNX  "
      ]
     },
     "metadata": {},
     "output_type": "display_data"
    },
    {
     "data": {
      "text/html": [
       "<div>\n",
       "<style scoped>\n",
       "    .dataframe tbody tr th:only-of-type {\n",
       "        vertical-align: middle;\n",
       "    }\n",
       "\n",
       "    .dataframe tbody tr th {\n",
       "        vertical-align: top;\n",
       "    }\n",
       "\n",
       "    .dataframe thead th {\n",
       "        text-align: right;\n",
       "    }\n",
       "</style>\n",
       "<table border=\"1\" class=\"dataframe\">\n",
       "  <thead>\n",
       "    <tr style=\"text-align: right;\">\n",
       "      <th></th>\n",
       "      <th>Code</th>\n",
       "      <th>Name</th>\n",
       "      <th>Market</th>\n",
       "      <th>Sector</th>\n",
       "      <th>Industry</th>\n",
       "      <th>ListingDate</th>\n",
       "      <th>SettleMonth</th>\n",
       "      <th>Representative</th>\n",
       "      <th>HomePage</th>\n",
       "      <th>Region</th>\n",
       "    </tr>\n",
       "  </thead>\n",
       "  <tbody>\n",
       "    <tr>\n",
       "      <th>2855</th>\n",
       "      <td>238490</td>\n",
       "      <td>힘스</td>\n",
       "      <td>KOSDAQ</td>\n",
       "      <td>특수 목적용 기계 제조업</td>\n",
       "      <td>OLED Mask 인장기, OLED Mask 검사기 등</td>\n",
       "      <td>2017-07-20</td>\n",
       "      <td>12월</td>\n",
       "      <td>김주환</td>\n",
       "      <td>http://www.hims.co.kr</td>\n",
       "      <td>인천광역시</td>\n",
       "    </tr>\n",
       "  </tbody>\n",
       "</table>\n",
       "</div>"
      ],
      "text/plain": [
       "        Code Name  Market         Sector                        Industry  \\\n",
       "2855  238490   힘스  KOSDAQ  특수 목적용 기계 제조업  OLED Mask 인장기, OLED Mask 검사기 등   \n",
       "\n",
       "     ListingDate SettleMonth Representative               HomePage Region  \n",
       "2855  2017-07-20         12월            김주환  http://www.hims.co.kr  인천광역시  "
      ]
     },
     "metadata": {},
     "output_type": "display_data"
    }
   ],
   "source": [
    "display(stocks.tail(1))\n",
    "display(stocks_desc.tail(1))"
   ]
  },
  {
   "cell_type": "code",
   "execution_count": 75,
   "id": "ef5b1180-de96-429e-b199-599b91a9f898",
   "metadata": {},
   "outputs": [
    {
     "name": "stdout",
     "output_type": "stream",
     "text": [
      "<class 'pandas.core.frame.DataFrame'>\n",
      "RangeIndex: 2856 entries, 0 to 2855\n",
      "Data columns (total 17 columns):\n",
      " #   Column       Non-Null Count  Dtype  \n",
      "---  ------       --------------  -----  \n",
      " 0   Code         2856 non-null   object \n",
      " 1   ISU_CD       2856 non-null   object \n",
      " 2   Name         2856 non-null   object \n",
      " 3   Market       2856 non-null   object \n",
      " 4   Dept         2856 non-null   object \n",
      " 5   Close        2856 non-null   object \n",
      " 6   ChangeCode   2856 non-null   object \n",
      " 7   Changes      2856 non-null   int64  \n",
      " 8   ChagesRatio  2856 non-null   float64\n",
      " 9   Open         2856 non-null   int64  \n",
      " 10  High         2856 non-null   int64  \n",
      " 11  Low          2856 non-null   int64  \n",
      " 12  Volume       2856 non-null   int64  \n",
      " 13  Amount       2856 non-null   int64  \n",
      " 14  Marcap       2856 non-null   int64  \n",
      " 15  Stocks       2856 non-null   int64  \n",
      " 16  MarketId     2856 non-null   object \n",
      "dtypes: float64(1), int64(8), object(8)\n",
      "memory usage: 379.4+ KB\n"
     ]
    }
   ],
   "source": [
    "# 데이터 프레임에 대한 기본 정보(행수,컴럼명,컬럼수,각 컬럼의 데이터 타입, 결측치 확인)\n",
    "stocks.info()"
   ]
  },
  {
   "cell_type": "code",
   "execution_count": 76,
   "id": "50accd0e-9c9c-4533-8a69-a08411302326",
   "metadata": {},
   "outputs": [
    {
     "data": {
      "text/html": [
       "<div>\n",
       "<style scoped>\n",
       "    .dataframe tbody tr th:only-of-type {\n",
       "        vertical-align: middle;\n",
       "    }\n",
       "\n",
       "    .dataframe tbody tr th {\n",
       "        vertical-align: top;\n",
       "    }\n",
       "\n",
       "    .dataframe thead th {\n",
       "        text-align: right;\n",
       "    }\n",
       "</style>\n",
       "<table border=\"1\" class=\"dataframe\">\n",
       "  <thead>\n",
       "    <tr style=\"text-align: right;\">\n",
       "      <th></th>\n",
       "      <th>Changes</th>\n",
       "      <th>ChagesRatio</th>\n",
       "      <th>Open</th>\n",
       "      <th>High</th>\n",
       "      <th>Low</th>\n",
       "      <th>Volume</th>\n",
       "      <th>Amount</th>\n",
       "      <th>Marcap</th>\n",
       "      <th>Stocks</th>\n",
       "    </tr>\n",
       "  </thead>\n",
       "  <tbody>\n",
       "    <tr>\n",
       "      <th>count</th>\n",
       "      <td>2856.000000</td>\n",
       "      <td>2856.000000</td>\n",
       "      <td>2.856000e+03</td>\n",
       "      <td>2.856000e+03</td>\n",
       "      <td>2.856000e+03</td>\n",
       "      <td>2.856000e+03</td>\n",
       "      <td>2.856000e+03</td>\n",
       "      <td>2.856000e+03</td>\n",
       "      <td>2.856000e+03</td>\n",
       "    </tr>\n",
       "    <tr>\n",
       "      <th>mean</th>\n",
       "      <td>200.734244</td>\n",
       "      <td>2.408403</td>\n",
       "      <td>1.684481e+04</td>\n",
       "      <td>1.726259e+04</td>\n",
       "      <td>1.664980e+04</td>\n",
       "      <td>1.944211e+05</td>\n",
       "      <td>1.603804e+09</td>\n",
       "      <td>8.165630e+11</td>\n",
       "      <td>4.186706e+07</td>\n",
       "    </tr>\n",
       "    <tr>\n",
       "      <th>std</th>\n",
       "      <td>1927.934665</td>\n",
       "      <td>3.685556</td>\n",
       "      <td>5.273925e+04</td>\n",
       "      <td>5.379985e+04</td>\n",
       "      <td>5.131074e+04</td>\n",
       "      <td>1.289739e+06</td>\n",
       "      <td>7.669990e+09</td>\n",
       "      <td>7.256168e+12</td>\n",
       "      <td>1.327955e+08</td>\n",
       "    </tr>\n",
       "    <tr>\n",
       "      <th>min</th>\n",
       "      <td>-92000.000000</td>\n",
       "      <td>-14.970000</td>\n",
       "      <td>0.000000e+00</td>\n",
       "      <td>0.000000e+00</td>\n",
       "      <td>0.000000e+00</td>\n",
       "      <td>0.000000e+00</td>\n",
       "      <td>0.000000e+00</td>\n",
       "      <td>5.180000e+07</td>\n",
       "      <td>2.000000e+05</td>\n",
       "    </tr>\n",
       "    <tr>\n",
       "      <th>25%</th>\n",
       "      <td>10.000000</td>\n",
       "      <td>0.390000</td>\n",
       "      <td>1.961500e+03</td>\n",
       "      <td>1.990000e+03</td>\n",
       "      <td>1.943000e+03</td>\n",
       "      <td>3.057500e+03</td>\n",
       "      <td>1.295571e+07</td>\n",
       "      <td>4.231280e+10</td>\n",
       "      <td>1.016571e+07</td>\n",
       "    </tr>\n",
       "    <tr>\n",
       "      <th>50%</th>\n",
       "      <td>75.000000</td>\n",
       "      <td>1.840000</td>\n",
       "      <td>4.477500e+03</td>\n",
       "      <td>4.640000e+03</td>\n",
       "      <td>4.437500e+03</td>\n",
       "      <td>1.736950e+04</td>\n",
       "      <td>8.984593e+07</td>\n",
       "      <td>9.383274e+10</td>\n",
       "      <td>1.974628e+07</td>\n",
       "    </tr>\n",
       "    <tr>\n",
       "      <th>75%</th>\n",
       "      <td>250.000000</td>\n",
       "      <td>3.680000</td>\n",
       "      <td>1.220000e+04</td>\n",
       "      <td>1.258750e+04</td>\n",
       "      <td>1.209250e+04</td>\n",
       "      <td>6.494250e+04</td>\n",
       "      <td>4.530150e+08</td>\n",
       "      <td>2.330236e+11</td>\n",
       "      <td>4.189457e+07</td>\n",
       "    </tr>\n",
       "    <tr>\n",
       "      <th>max</th>\n",
       "      <td>12600.000000</td>\n",
       "      <td>52.750000</td>\n",
       "      <td>1.534000e+06</td>\n",
       "      <td>1.565000e+06</td>\n",
       "      <td>1.416000e+06</td>\n",
       "      <td>4.008197e+07</td>\n",
       "      <td>1.749563e+11</td>\n",
       "      <td>3.217713e+14</td>\n",
       "      <td>5.969783e+09</td>\n",
       "    </tr>\n",
       "  </tbody>\n",
       "</table>\n",
       "</div>"
      ],
      "text/plain": [
       "            Changes  ChagesRatio          Open          High           Low  \\\n",
       "count   2856.000000  2856.000000  2.856000e+03  2.856000e+03  2.856000e+03   \n",
       "mean     200.734244     2.408403  1.684481e+04  1.726259e+04  1.664980e+04   \n",
       "std     1927.934665     3.685556  5.273925e+04  5.379985e+04  5.131074e+04   \n",
       "min   -92000.000000   -14.970000  0.000000e+00  0.000000e+00  0.000000e+00   \n",
       "25%       10.000000     0.390000  1.961500e+03  1.990000e+03  1.943000e+03   \n",
       "50%       75.000000     1.840000  4.477500e+03  4.640000e+03  4.437500e+03   \n",
       "75%      250.000000     3.680000  1.220000e+04  1.258750e+04  1.209250e+04   \n",
       "max    12600.000000    52.750000  1.534000e+06  1.565000e+06  1.416000e+06   \n",
       "\n",
       "             Volume        Amount        Marcap        Stocks  \n",
       "count  2.856000e+03  2.856000e+03  2.856000e+03  2.856000e+03  \n",
       "mean   1.944211e+05  1.603804e+09  8.165630e+11  4.186706e+07  \n",
       "std    1.289739e+06  7.669990e+09  7.256168e+12  1.327955e+08  \n",
       "min    0.000000e+00  0.000000e+00  5.180000e+07  2.000000e+05  \n",
       "25%    3.057500e+03  1.295571e+07  4.231280e+10  1.016571e+07  \n",
       "50%    1.736950e+04  8.984593e+07  9.383274e+10  1.974628e+07  \n",
       "75%    6.494250e+04  4.530150e+08  2.330236e+11  4.189457e+07  \n",
       "max    4.008197e+07  1.749563e+11  3.217713e+14  5.969783e+09  "
      ]
     },
     "execution_count": 76,
     "metadata": {},
     "output_type": "execute_result"
    }
   ],
   "source": [
    "# 요약 통계량 제공, 매개값이 없으면 숫자컬럼만 제공함.\n",
    "# count : nan값을 제외한 컴럼 데이터수\n",
    "# mean : 평균\n",
    "# std : 표준편차\n",
    "# min, max : 최소,최대값\n",
    "# 사분위수 : 값의 범위를 4분위로 나눈 수. \n",
    "stocks.describe()"
   ]
  },
  {
   "cell_type": "code",
   "execution_count": 77,
   "id": "62912423-c82b-4bb2-9245-3fb7bf72e3e0",
   "metadata": {},
   "outputs": [],
   "source": [
    "# stocks[stocks['Name'] != '삼성전자']['Marcap'].plot(kind='box')"
   ]
  },
  {
   "cell_type": "code",
   "execution_count": 78,
   "id": "ab2e28fe-ee6d-4700-9fe8-2fc0b3a5502b",
   "metadata": {},
   "outputs": [
    {
     "data": {
      "text/html": [
       "<div>\n",
       "<style scoped>\n",
       "    .dataframe tbody tr th:only-of-type {\n",
       "        vertical-align: middle;\n",
       "    }\n",
       "\n",
       "    .dataframe tbody tr th {\n",
       "        vertical-align: top;\n",
       "    }\n",
       "\n",
       "    .dataframe thead th {\n",
       "        text-align: right;\n",
       "    }\n",
       "</style>\n",
       "<table border=\"1\" class=\"dataframe\">\n",
       "  <thead>\n",
       "    <tr style=\"text-align: right;\">\n",
       "      <th></th>\n",
       "      <th>Code</th>\n",
       "      <th>ISU_CD</th>\n",
       "      <th>Name</th>\n",
       "      <th>Market</th>\n",
       "      <th>Dept</th>\n",
       "      <th>Close</th>\n",
       "      <th>ChangeCode</th>\n",
       "      <th>MarketId</th>\n",
       "    </tr>\n",
       "  </thead>\n",
       "  <tbody>\n",
       "    <tr>\n",
       "      <th>count</th>\n",
       "      <td>2856</td>\n",
       "      <td>2856</td>\n",
       "      <td>2856</td>\n",
       "      <td>2856</td>\n",
       "      <td>2856</td>\n",
       "      <td>2856</td>\n",
       "      <td>2856</td>\n",
       "      <td>2856</td>\n",
       "    </tr>\n",
       "    <tr>\n",
       "      <th>unique</th>\n",
       "      <td>2856</td>\n",
       "      <td>2856</td>\n",
       "      <td>2856</td>\n",
       "      <td>4</td>\n",
       "      <td>10</td>\n",
       "      <td>2036</td>\n",
       "      <td>6</td>\n",
       "      <td>3</td>\n",
       "    </tr>\n",
       "    <tr>\n",
       "      <th>top</th>\n",
       "      <td>005930</td>\n",
       "      <td>KR7005930003</td>\n",
       "      <td>삼성전자</td>\n",
       "      <td>KOSDAQ</td>\n",
       "      <td></td>\n",
       "      <td>2070</td>\n",
       "      <td>1</td>\n",
       "      <td>KSQ</td>\n",
       "    </tr>\n",
       "    <tr>\n",
       "      <th>freq</th>\n",
       "      <td>1</td>\n",
       "      <td>1</td>\n",
       "      <td>1</td>\n",
       "      <td>1729</td>\n",
       "      <td>959</td>\n",
       "      <td>9</td>\n",
       "      <td>2273</td>\n",
       "      <td>1777</td>\n",
       "    </tr>\n",
       "  </tbody>\n",
       "</table>\n",
       "</div>"
      ],
      "text/plain": [
       "          Code        ISU_CD  Name  Market  Dept Close ChangeCode MarketId\n",
       "count     2856          2856  2856    2856  2856  2856       2856     2856\n",
       "unique    2856          2856  2856       4    10  2036          6        3\n",
       "top     005930  KR7005930003  삼성전자  KOSDAQ        2070          1      KSQ\n",
       "freq         1             1     1    1729   959     9       2273     1777"
      ]
     },
     "execution_count": 78,
     "metadata": {},
     "output_type": "execute_result"
    }
   ],
   "source": [
    "# 문자열 컬럼(범주형 컬럼)에 대한 요약 통계보기\n",
    "# count : 컬럼값의 수(nan값제외)\n",
    "# unique : 컬럼의 고유값 갯수\n",
    "# top : 최빈값(가장 빈번하게 나타나는 값) or 모든 컬럼 값이 유일한경우 제일 위에 위치한 값\n",
    "# freq : 최빈값 빈도\n",
    "stocks.describe(include='O')"
   ]
  },
  {
   "cell_type": "code",
   "execution_count": 79,
   "id": "7fd67440-ea1b-438d-9826-e2318f60cb91",
   "metadata": {},
   "outputs": [
    {
     "name": "stdout",
     "output_type": "stream",
     "text": [
      "<class 'numpy.ndarray'>\n",
      "['2' '1' '3' '0' '4' '5']\n"
     ]
    }
   ],
   "source": [
    "# 고유값의 목록 확인\n",
    "print(type(stocks['ChangeCode'].unique()))\n",
    "print(stocks['ChangeCode'].unique())"
   ]
  },
  {
   "cell_type": "code",
   "execution_count": 80,
   "id": "60515d85-919d-4e72-b2b0-dbb15cfe0a72",
   "metadata": {},
   "outputs": [
    {
     "name": "stdout",
     "output_type": "stream",
     "text": [
      "<class 'pandas.core.series.Series'>\n",
      "ChangeCode\n",
      "1    2273\n",
      "2     319\n",
      "0     168\n",
      "3      83\n",
      "4       9\n",
      "5       4\n",
      "Name: count, dtype: int64\n"
     ]
    }
   ],
   "source": [
    "# 고유값의 목록,갯수 확인\n",
    "print(type(stocks['ChangeCode'].value_counts()))\n",
    "print(stocks['ChangeCode'].value_counts())"
   ]
  },
  {
   "cell_type": "code",
   "execution_count": 81,
   "id": "262061c4-c769-450e-b1ff-127074020be2",
   "metadata": {},
   "outputs": [
    {
     "data": {
      "text/plain": [
       "Index(['Code', 'ISU_CD', 'Name', 'Market', 'Dept', 'Close', 'ChangeCode',\n",
       "       'Changes', 'ChagesRatio', 'Open', 'High', 'Low', 'Volume', 'Amount',\n",
       "       'Marcap', 'Stocks', 'MarketId'],\n",
       "      dtype='object')"
      ]
     },
     "execution_count": 81,
     "metadata": {},
     "output_type": "execute_result"
    }
   ],
   "source": [
    "# 데이터 프레레임의 컬럼 메타정보\n",
    "stocks.columns"
   ]
  },
  {
   "cell_type": "code",
   "execution_count": 82,
   "id": "66eb5e1b-473b-49c9-889e-761789ea33d0",
   "metadata": {},
   "outputs": [
    {
     "data": {
      "text/plain": [
       "RangeIndex(start=0, stop=2856, step=1)"
      ]
     },
     "execution_count": 82,
     "metadata": {},
     "output_type": "execute_result"
    }
   ],
   "source": [
    "# 데이터 프레레임의 인덱스 메타정보\n",
    "stocks.index"
   ]
  },
  {
   "cell_type": "code",
   "execution_count": 83,
   "id": "7d57fbaa-5d76-494c-9f1a-76830ce4eb2e",
   "metadata": {},
   "outputs": [
    {
     "name": "stdout",
     "output_type": "stream",
     "text": [
      "Index(['Code', 'Name', 'Market', 'Dept', 'Close', 'ChangeCode', 'Changes',\n",
      "       'ChagesRatio', 'Open', 'High', 'Low', 'Volume', 'Amount', 'Marcap',\n",
      "       'Stocks', 'MarketId'],\n",
      "      dtype='object')\n",
      "Index(['Code', 'Sector', 'Industry', 'ListingDate', 'SettleMonth',\n",
      "       'Representative', 'HomePage', 'Region'],\n",
      "      dtype='object')\n"
     ]
    }
   ],
   "source": [
    "# 컬럼제거 : 필요없는 행이나 열을 제거\n",
    "new_stocks = stocks.drop('ISU_CD',axis=1)\n",
    "new_stocks_desc = stocks_desc.drop(['Name', 'Market'],axis=1)\n",
    "print(new_stocks.columns)\n",
    "print(new_stocks_desc.columns)"
   ]
  },
  {
   "cell_type": "markdown",
   "id": "7d0816ed-a002-40cd-9741-5cb816087a66",
   "metadata": {},
   "source": [
    "#### 2개의 데이터 프레임 합치기\n",
    "- merge : 가로방향으로 열추가"
   ]
  },
  {
   "cell_type": "code",
   "execution_count": 84,
   "id": "cd9fc517-6967-4696-accd-a897af180eb0",
   "metadata": {},
   "outputs": [],
   "source": [
    "import pandas as pd"
   ]
  },
  {
   "cell_type": "code",
   "execution_count": 85,
   "id": "e2e00c97-0a8e-48db-8324-f3edb403949c",
   "metadata": {},
   "outputs": [
    {
     "data": {
      "text/plain": [
       "\u001b[1;31mSignature:\u001b[0m\n",
       "\u001b[0mpd\u001b[0m\u001b[1;33m.\u001b[0m\u001b[0mmerge\u001b[0m\u001b[1;33m(\u001b[0m\u001b[1;33m\n",
       "\u001b[0m    \u001b[0mleft\u001b[0m\u001b[1;33m:\u001b[0m \u001b[1;34m'DataFrame | Series'\u001b[0m\u001b[1;33m,\u001b[0m\u001b[1;33m\n",
       "\u001b[0m    \u001b[0mright\u001b[0m\u001b[1;33m:\u001b[0m \u001b[1;34m'DataFrame | Series'\u001b[0m\u001b[1;33m,\u001b[0m\u001b[1;33m\n",
       "\u001b[0m    \u001b[0mhow\u001b[0m\u001b[1;33m:\u001b[0m \u001b[1;34m'MergeHow'\u001b[0m \u001b[1;33m=\u001b[0m \u001b[1;34m'inner'\u001b[0m\u001b[1;33m,\u001b[0m\u001b[1;33m\n",
       "\u001b[0m    \u001b[0mon\u001b[0m\u001b[1;33m:\u001b[0m \u001b[1;34m'IndexLabel | AnyArrayLike | None'\u001b[0m \u001b[1;33m=\u001b[0m \u001b[1;32mNone\u001b[0m\u001b[1;33m,\u001b[0m\u001b[1;33m\n",
       "\u001b[0m    \u001b[0mleft_on\u001b[0m\u001b[1;33m:\u001b[0m \u001b[1;34m'IndexLabel | AnyArrayLike | None'\u001b[0m \u001b[1;33m=\u001b[0m \u001b[1;32mNone\u001b[0m\u001b[1;33m,\u001b[0m\u001b[1;33m\n",
       "\u001b[0m    \u001b[0mright_on\u001b[0m\u001b[1;33m:\u001b[0m \u001b[1;34m'IndexLabel | AnyArrayLike | None'\u001b[0m \u001b[1;33m=\u001b[0m \u001b[1;32mNone\u001b[0m\u001b[1;33m,\u001b[0m\u001b[1;33m\n",
       "\u001b[0m    \u001b[0mleft_index\u001b[0m\u001b[1;33m:\u001b[0m \u001b[1;34m'bool'\u001b[0m \u001b[1;33m=\u001b[0m \u001b[1;32mFalse\u001b[0m\u001b[1;33m,\u001b[0m\u001b[1;33m\n",
       "\u001b[0m    \u001b[0mright_index\u001b[0m\u001b[1;33m:\u001b[0m \u001b[1;34m'bool'\u001b[0m \u001b[1;33m=\u001b[0m \u001b[1;32mFalse\u001b[0m\u001b[1;33m,\u001b[0m\u001b[1;33m\n",
       "\u001b[0m    \u001b[0msort\u001b[0m\u001b[1;33m:\u001b[0m \u001b[1;34m'bool'\u001b[0m \u001b[1;33m=\u001b[0m \u001b[1;32mFalse\u001b[0m\u001b[1;33m,\u001b[0m\u001b[1;33m\n",
       "\u001b[0m    \u001b[0msuffixes\u001b[0m\u001b[1;33m:\u001b[0m \u001b[1;34m'Suffixes'\u001b[0m \u001b[1;33m=\u001b[0m \u001b[1;33m(\u001b[0m\u001b[1;34m'_x'\u001b[0m\u001b[1;33m,\u001b[0m \u001b[1;34m'_y'\u001b[0m\u001b[1;33m)\u001b[0m\u001b[1;33m,\u001b[0m\u001b[1;33m\n",
       "\u001b[0m    \u001b[0mcopy\u001b[0m\u001b[1;33m:\u001b[0m \u001b[1;34m'bool | None'\u001b[0m \u001b[1;33m=\u001b[0m \u001b[1;32mNone\u001b[0m\u001b[1;33m,\u001b[0m\u001b[1;33m\n",
       "\u001b[0m    \u001b[0mindicator\u001b[0m\u001b[1;33m:\u001b[0m \u001b[1;34m'str | bool'\u001b[0m \u001b[1;33m=\u001b[0m \u001b[1;32mFalse\u001b[0m\u001b[1;33m,\u001b[0m\u001b[1;33m\n",
       "\u001b[0m    \u001b[0mvalidate\u001b[0m\u001b[1;33m:\u001b[0m \u001b[1;34m'str | None'\u001b[0m \u001b[1;33m=\u001b[0m \u001b[1;32mNone\u001b[0m\u001b[1;33m,\u001b[0m\u001b[1;33m\n",
       "\u001b[0m\u001b[1;33m)\u001b[0m \u001b[1;33m->\u001b[0m \u001b[1;34m'DataFrame'\u001b[0m\u001b[1;33m\u001b[0m\u001b[1;33m\u001b[0m\u001b[0m\n",
       "\u001b[1;31mDocstring:\u001b[0m\n",
       "Merge DataFrame or named Series objects with a database-style join.\n",
       "\n",
       "A named Series object is treated as a DataFrame with a single named column.\n",
       "\n",
       "The join is done on columns or indexes. If joining columns on\n",
       "columns, the DataFrame indexes *will be ignored*. Otherwise if joining indexes\n",
       "on indexes or indexes on a column or columns, the index will be passed on.\n",
       "When performing a cross merge, no column specifications to merge on are\n",
       "allowed.\n",
       "\n",
       ".. warning::\n",
       "\n",
       "    If both key columns contain rows where the key is a null value, those\n",
       "    rows will be matched against each other. This is different from usual SQL\n",
       "    join behaviour and can lead to unexpected results.\n",
       "\n",
       "Parameters\n",
       "----------\n",
       "left : DataFrame or named Series\n",
       "right : DataFrame or named Series\n",
       "    Object to merge with.\n",
       "how : {'left', 'right', 'outer', 'inner', 'cross'}, default 'inner'\n",
       "    Type of merge to be performed.\n",
       "\n",
       "    * left: use only keys from left frame, similar to a SQL left outer join;\n",
       "      preserve key order.\n",
       "    * right: use only keys from right frame, similar to a SQL right outer join;\n",
       "      preserve key order.\n",
       "    * outer: use union of keys from both frames, similar to a SQL full outer\n",
       "      join; sort keys lexicographically.\n",
       "    * inner: use intersection of keys from both frames, similar to a SQL inner\n",
       "      join; preserve the order of the left keys.\n",
       "    * cross: creates the cartesian product from both frames, preserves the order\n",
       "      of the left keys.\n",
       "on : label or list\n",
       "    Column or index level names to join on. These must be found in both\n",
       "    DataFrames. If `on` is None and not merging on indexes then this defaults\n",
       "    to the intersection of the columns in both DataFrames.\n",
       "left_on : label or list, or array-like\n",
       "    Column or index level names to join on in the left DataFrame. Can also\n",
       "    be an array or list of arrays of the length of the left DataFrame.\n",
       "    These arrays are treated as if they are columns.\n",
       "right_on : label or list, or array-like\n",
       "    Column or index level names to join on in the right DataFrame. Can also\n",
       "    be an array or list of arrays of the length of the right DataFrame.\n",
       "    These arrays are treated as if they are columns.\n",
       "left_index : bool, default False\n",
       "    Use the index from the left DataFrame as the join key(s). If it is a\n",
       "    MultiIndex, the number of keys in the other DataFrame (either the index\n",
       "    or a number of columns) must match the number of levels.\n",
       "right_index : bool, default False\n",
       "    Use the index from the right DataFrame as the join key. Same caveats as\n",
       "    left_index.\n",
       "sort : bool, default False\n",
       "    Sort the join keys lexicographically in the result DataFrame. If False,\n",
       "    the order of the join keys depends on the join type (how keyword).\n",
       "suffixes : list-like, default is (\"_x\", \"_y\")\n",
       "    A length-2 sequence where each element is optionally a string\n",
       "    indicating the suffix to add to overlapping column names in\n",
       "    `left` and `right` respectively. Pass a value of `None` instead\n",
       "    of a string to indicate that the column name from `left` or\n",
       "    `right` should be left as-is, with no suffix. At least one of the\n",
       "    values must not be None.\n",
       "copy : bool, default True\n",
       "    If False, avoid copy if possible.\n",
       "\n",
       "    .. note::\n",
       "        The `copy` keyword will change behavior in pandas 3.0.\n",
       "        `Copy-on-Write\n",
       "        <https://pandas.pydata.org/docs/dev/user_guide/copy_on_write.html>`__\n",
       "        will be enabled by default, which means that all methods with a\n",
       "        `copy` keyword will use a lazy copy mechanism to defer the copy and\n",
       "        ignore the `copy` keyword. The `copy` keyword will be removed in a\n",
       "        future version of pandas.\n",
       "\n",
       "        You can already get the future behavior and improvements through\n",
       "        enabling copy on write ``pd.options.mode.copy_on_write = True``\n",
       "indicator : bool or str, default False\n",
       "    If True, adds a column to the output DataFrame called \"_merge\" with\n",
       "    information on the source of each row. The column can be given a different\n",
       "    name by providing a string argument. The column will have a Categorical\n",
       "    type with the value of \"left_only\" for observations whose merge key only\n",
       "    appears in the left DataFrame, \"right_only\" for observations\n",
       "    whose merge key only appears in the right DataFrame, and \"both\"\n",
       "    if the observation's merge key is found in both DataFrames.\n",
       "\n",
       "validate : str, optional\n",
       "    If specified, checks if merge is of specified type.\n",
       "\n",
       "    * \"one_to_one\" or \"1:1\": check if merge keys are unique in both\n",
       "      left and right datasets.\n",
       "    * \"one_to_many\" or \"1:m\": check if merge keys are unique in left\n",
       "      dataset.\n",
       "    * \"many_to_one\" or \"m:1\": check if merge keys are unique in right\n",
       "      dataset.\n",
       "    * \"many_to_many\" or \"m:m\": allowed, but does not result in checks.\n",
       "\n",
       "Returns\n",
       "-------\n",
       "DataFrame\n",
       "    A DataFrame of the two merged objects.\n",
       "\n",
       "See Also\n",
       "--------\n",
       "merge_ordered : Merge with optional filling/interpolation.\n",
       "merge_asof : Merge on nearest keys.\n",
       "DataFrame.join : Similar method using indices.\n",
       "\n",
       "Examples\n",
       "--------\n",
       ">>> df1 = pd.DataFrame({'lkey': ['foo', 'bar', 'baz', 'foo'],\n",
       "...                     'value': [1, 2, 3, 5]})\n",
       ">>> df2 = pd.DataFrame({'rkey': ['foo', 'bar', 'baz', 'foo'],\n",
       "...                     'value': [5, 6, 7, 8]})\n",
       ">>> df1\n",
       "    lkey value\n",
       "0   foo      1\n",
       "1   bar      2\n",
       "2   baz      3\n",
       "3   foo      5\n",
       ">>> df2\n",
       "    rkey value\n",
       "0   foo      5\n",
       "1   bar      6\n",
       "2   baz      7\n",
       "3   foo      8\n",
       "\n",
       "Merge df1 and df2 on the lkey and rkey columns. The value columns have\n",
       "the default suffixes, _x and _y, appended.\n",
       "\n",
       ">>> df1.merge(df2, left_on='lkey', right_on='rkey')\n",
       "  lkey  value_x rkey  value_y\n",
       "0  foo        1  foo        5\n",
       "1  foo        1  foo        8\n",
       "2  bar        2  bar        6\n",
       "3  baz        3  baz        7\n",
       "4  foo        5  foo        5\n",
       "5  foo        5  foo        8\n",
       "\n",
       "Merge DataFrames df1 and df2 with specified left and right suffixes\n",
       "appended to any overlapping columns.\n",
       "\n",
       ">>> df1.merge(df2, left_on='lkey', right_on='rkey',\n",
       "...           suffixes=('_left', '_right'))\n",
       "  lkey  value_left rkey  value_right\n",
       "0  foo           1  foo            5\n",
       "1  foo           1  foo            8\n",
       "2  bar           2  bar            6\n",
       "3  baz           3  baz            7\n",
       "4  foo           5  foo            5\n",
       "5  foo           5  foo            8\n",
       "\n",
       "Merge DataFrames df1 and df2, but raise an exception if the DataFrames have\n",
       "any overlapping columns.\n",
       "\n",
       ">>> df1.merge(df2, left_on='lkey', right_on='rkey', suffixes=(False, False))\n",
       "Traceback (most recent call last):\n",
       "...\n",
       "ValueError: columns overlap but no suffix specified:\n",
       "    Index(['value'], dtype='object')\n",
       "\n",
       ">>> df1 = pd.DataFrame({'a': ['foo', 'bar'], 'b': [1, 2]})\n",
       ">>> df2 = pd.DataFrame({'a': ['foo', 'baz'], 'c': [3, 4]})\n",
       ">>> df1\n",
       "      a  b\n",
       "0   foo  1\n",
       "1   bar  2\n",
       ">>> df2\n",
       "      a  c\n",
       "0   foo  3\n",
       "1   baz  4\n",
       "\n",
       ">>> df1.merge(df2, how='inner', on='a')\n",
       "      a  b  c\n",
       "0   foo  1  3\n",
       "\n",
       ">>> df1.merge(df2, how='left', on='a')\n",
       "      a  b  c\n",
       "0   foo  1  3.0\n",
       "1   bar  2  NaN\n",
       "\n",
       ">>> df1 = pd.DataFrame({'left': ['foo', 'bar']})\n",
       ">>> df2 = pd.DataFrame({'right': [7, 8]})\n",
       ">>> df1\n",
       "    left\n",
       "0   foo\n",
       "1   bar\n",
       ">>> df2\n",
       "    right\n",
       "0   7\n",
       "1   8\n",
       "\n",
       ">>> df1.merge(df2, how='cross')\n",
       "   left  right\n",
       "0   foo      7\n",
       "1   foo      8\n",
       "2   bar      7\n",
       "3   bar      8\n",
       "\u001b[1;31mFile:\u001b[0m      d:\\kdt_2\\anaconda3\\lib\\site-packages\\pandas\\core\\reshape\\merge.py\n",
       "\u001b[1;31mType:\u001b[0m      function"
      ]
     },
     "metadata": {},
     "output_type": "display_data"
    }
   ],
   "source": [
    "pd.merge?"
   ]
  },
  {
   "cell_type": "code",
   "execution_count": 86,
   "id": "cd987140-a0f8-4021-a447-d519996b9b81",
   "metadata": {},
   "outputs": [],
   "source": [
    "# new_stocks join new_stocks_desc\n",
    "new_stocks = pd.merge(new_stocks,new_stocks_desc,on='Code')"
   ]
  },
  {
   "cell_type": "code",
   "execution_count": 87,
   "id": "756c67b8-986f-4d49-9f1e-2e6a0f461f33",
   "metadata": {},
   "outputs": [
    {
     "data": {
      "text/plain": [
       "(2856, 23)"
      ]
     },
     "execution_count": 87,
     "metadata": {},
     "output_type": "execute_result"
    }
   ],
   "source": [
    "new_stocks.shape"
   ]
  },
  {
   "cell_type": "code",
   "execution_count": 88,
   "id": "b500254f-f4c2-4808-a156-6823b5053633",
   "metadata": {},
   "outputs": [
    {
     "data": {
      "text/html": [
       "<div>\n",
       "<style scoped>\n",
       "    .dataframe tbody tr th:only-of-type {\n",
       "        vertical-align: middle;\n",
       "    }\n",
       "\n",
       "    .dataframe tbody tr th {\n",
       "        vertical-align: top;\n",
       "    }\n",
       "\n",
       "    .dataframe thead th {\n",
       "        text-align: right;\n",
       "    }\n",
       "</style>\n",
       "<table border=\"1\" class=\"dataframe\">\n",
       "  <thead>\n",
       "    <tr style=\"text-align: right;\">\n",
       "      <th></th>\n",
       "      <th>Code</th>\n",
       "      <th>Name</th>\n",
       "      <th>Market</th>\n",
       "      <th>Dept</th>\n",
       "      <th>Close</th>\n",
       "      <th>ChangeCode</th>\n",
       "      <th>Changes</th>\n",
       "      <th>ChagesRatio</th>\n",
       "      <th>Open</th>\n",
       "      <th>High</th>\n",
       "      <th>...</th>\n",
       "      <th>Marcap</th>\n",
       "      <th>Stocks</th>\n",
       "      <th>MarketId</th>\n",
       "      <th>Sector</th>\n",
       "      <th>Industry</th>\n",
       "      <th>ListingDate</th>\n",
       "      <th>SettleMonth</th>\n",
       "      <th>Representative</th>\n",
       "      <th>HomePage</th>\n",
       "      <th>Region</th>\n",
       "    </tr>\n",
       "  </thead>\n",
       "  <tbody>\n",
       "    <tr>\n",
       "      <th>0</th>\n",
       "      <td>005930</td>\n",
       "      <td>삼성전자</td>\n",
       "      <td>KOSPI</td>\n",
       "      <td></td>\n",
       "      <td>53900</td>\n",
       "      <td>2</td>\n",
       "      <td>-100</td>\n",
       "      <td>-0.19</td>\n",
       "      <td>53600</td>\n",
       "      <td>54000</td>\n",
       "      <td>...</td>\n",
       "      <td>321771279445000</td>\n",
       "      <td>5969782550</td>\n",
       "      <td>STK</td>\n",
       "      <td>통신 및 방송 장비 제조업</td>\n",
       "      <td>통신 및 방송 장비 제조(무선) 제품, 반도체 제조(메모리) 제품, 전자부품 제조(...</td>\n",
       "      <td>1975-06-11</td>\n",
       "      <td>12월</td>\n",
       "      <td>한종희</td>\n",
       "      <td>http://www.samsung.com/sec</td>\n",
       "      <td>경기도</td>\n",
       "    </tr>\n",
       "  </tbody>\n",
       "</table>\n",
       "<p>1 rows × 23 columns</p>\n",
       "</div>"
      ],
      "text/plain": [
       "     Code  Name Market Dept  Close ChangeCode  Changes  ChagesRatio   Open  \\\n",
       "0  005930  삼성전자  KOSPI       53900          2     -100        -0.19  53600   \n",
       "\n",
       "    High  ...           Marcap      Stocks  MarketId          Sector  \\\n",
       "0  54000  ...  321771279445000  5969782550       STK  통신 및 방송 장비 제조업   \n",
       "\n",
       "                                            Industry ListingDate SettleMonth  \\\n",
       "0  통신 및 방송 장비 제조(무선) 제품, 반도체 제조(메모리) 제품, 전자부품 제조(...  1975-06-11         12월   \n",
       "\n",
       "  Representative                    HomePage Region  \n",
       "0            한종희  http://www.samsung.com/sec    경기도  \n",
       "\n",
       "[1 rows x 23 columns]"
      ]
     },
     "execution_count": 88,
     "metadata": {},
     "output_type": "execute_result"
    }
   ],
   "source": [
    "new_stocks.head(1)"
   ]
  },
  {
   "cell_type": "code",
   "execution_count": 89,
   "id": "9af15d74-b423-4d49-b13f-8b7f865ce160",
   "metadata": {},
   "outputs": [
    {
     "data": {
      "text/html": [
       "<div>\n",
       "<style scoped>\n",
       "    .dataframe tbody tr th:only-of-type {\n",
       "        vertical-align: middle;\n",
       "    }\n",
       "\n",
       "    .dataframe tbody tr th {\n",
       "        vertical-align: top;\n",
       "    }\n",
       "\n",
       "    .dataframe thead th {\n",
       "        text-align: right;\n",
       "    }\n",
       "</style>\n",
       "<table border=\"1\" class=\"dataframe\">\n",
       "  <thead>\n",
       "    <tr style=\"text-align: right;\">\n",
       "      <th></th>\n",
       "      <th>Code</th>\n",
       "      <th>Sector</th>\n",
       "      <th>Industry</th>\n",
       "      <th>ListingDate</th>\n",
       "      <th>SettleMonth</th>\n",
       "      <th>Representative</th>\n",
       "      <th>HomePage</th>\n",
       "      <th>Region</th>\n",
       "    </tr>\n",
       "  </thead>\n",
       "  <tbody>\n",
       "    <tr>\n",
       "      <th>0</th>\n",
       "      <td>060310</td>\n",
       "      <td>측정, 시험, 항해, 제어 및 기타 정밀기기 제조업; 광학기기 제외</td>\n",
       "      <td>반도체 웨이퍼 캐리어</td>\n",
       "      <td>2002-04-23</td>\n",
       "      <td>03월</td>\n",
       "      <td>김세완</td>\n",
       "      <td>http://www.3sref.com</td>\n",
       "      <td>서울특별시</td>\n",
       "    </tr>\n",
       "  </tbody>\n",
       "</table>\n",
       "</div>"
      ],
      "text/plain": [
       "     Code                                 Sector     Industry ListingDate  \\\n",
       "0  060310  측정, 시험, 항해, 제어 및 기타 정밀기기 제조업; 광학기기 제외  반도체 웨이퍼 캐리어  2002-04-23   \n",
       "\n",
       "  SettleMonth Representative              HomePage Region  \n",
       "0         03월            김세완  http://www.3sref.com  서울특별시  "
      ]
     },
     "execution_count": 89,
     "metadata": {},
     "output_type": "execute_result"
    }
   ],
   "source": [
    "new_stocks_desc.head(1)"
   ]
  },
  {
   "cell_type": "markdown",
   "id": "b4b42ff4-3cbe-4ce7-b180-3c948a671ed2",
   "metadata": {},
   "source": [
    "#### 엑셀로 저장하기"
   ]
  },
  {
   "cell_type": "code",
   "execution_count": 90,
   "id": "a24e2831-204b-43a9-85a5-33206e1f4b38",
   "metadata": {},
   "outputs": [
    {
     "name": "stdout",
     "output_type": "stream",
     "text": [
      "(2856, 23)\n"
     ]
    }
   ],
   "source": [
    "# 엑셀로 저장하기\n",
    "print(new_stocks.shape)\n",
    "new_stocks.to_excel('stocks.xlsx',index=False)"
   ]
  },
  {
   "cell_type": "code",
   "execution_count": 91,
   "id": "ffde5895-e956-404f-a95a-00189318c794",
   "metadata": {},
   "outputs": [],
   "source": [
    "df = pd.read_excel('stocks.xlsx')"
   ]
  },
  {
   "cell_type": "code",
   "execution_count": 92,
   "id": "43d7672b-739f-43e5-8058-c7db5bef2886",
   "metadata": {},
   "outputs": [
    {
     "data": {
      "text/plain": [
       "(2856, 23)"
      ]
     },
     "execution_count": 92,
     "metadata": {},
     "output_type": "execute_result"
    }
   ],
   "source": [
    "df.shape"
   ]
  },
  {
   "cell_type": "markdown",
   "id": "98ef467b-2f3d-4a2d-b916-5cecdf231730",
   "metadata": {},
   "source": [
    "CSV파일로 저장하기"
   ]
  },
  {
   "cell_type": "code",
   "execution_count": 93,
   "id": "28757216-75e8-4e4d-9b6d-8d055178999c",
   "metadata": {},
   "outputs": [],
   "source": [
    "# CSV파일로 저장하기\n",
    "new_stocks.to_csv('stocks.csv', index=False)"
   ]
  },
  {
   "cell_type": "code",
   "execution_count": 94,
   "id": "a19192d2-84cc-46ed-96b5-175e703d2857",
   "metadata": {},
   "outputs": [],
   "source": [
    "df = pd.read_csv('stocks.csv')"
   ]
  },
  {
   "cell_type": "code",
   "execution_count": 95,
   "id": "035ff91e-1ba8-403c-9676-7b8186798da7",
   "metadata": {},
   "outputs": [
    {
     "data": {
      "text/plain": [
       "(2856, 23)"
      ]
     },
     "execution_count": 95,
     "metadata": {},
     "output_type": "execute_result"
    }
   ],
   "source": [
    "df.shape"
   ]
  },
  {
   "cell_type": "code",
   "execution_count": 96,
   "id": "e2a1bf21-5cae-42e9-84b7-1888ecf5817f",
   "metadata": {},
   "outputs": [
    {
     "data": {
      "text/plain": [
       "Index(['Code', 'Name', 'Market', 'Dept', 'MarketId', 'Sector', 'Industry',\n",
       "       'ListingDate', 'SettleMonth', 'Representative', 'HomePage', 'Region'],\n",
       "      dtype='object')"
      ]
     },
     "execution_count": 96,
     "metadata": {},
     "output_type": "execute_result"
    }
   ],
   "source": [
    "import numpy as np\n",
    "df.select_dtypes(include='object').columns"
   ]
  },
  {
   "cell_type": "code",
   "execution_count": null,
   "id": "235f3d8d-6a6a-4a0d-8b35-5489d9947f98",
   "metadata": {},
   "outputs": [],
   "source": []
  },
  {
   "cell_type": "code",
   "execution_count": null,
   "id": "3471ba38-95a8-49c7-abd3-ec8df24db462",
   "metadata": {},
   "outputs": [],
   "source": []
  }
 ],
 "metadata": {
  "kernelspec": {
   "display_name": "Python 3 (ipykernel)",
   "language": "python",
   "name": "python3"
  },
  "language_info": {
   "codemirror_mode": {
    "name": "ipython",
    "version": 3
   },
   "file_extension": ".py",
   "mimetype": "text/x-python",
   "name": "python",
   "nbconvert_exporter": "python",
   "pygments_lexer": "ipython3",
   "version": "3.12.7"
  }
 },
 "nbformat": 4,
 "nbformat_minor": 5
}
