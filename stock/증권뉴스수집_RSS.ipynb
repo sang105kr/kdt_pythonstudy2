{
 "cells": [
  {
   "cell_type": "code",
   "execution_count": 1,
   "id": "600bc6e8-fb79-495e-ace1-b906f76b10b7",
   "metadata": {},
   "outputs": [],
   "source": [
    "import requests\n",
    "from bs4 import BeautifulSoup\n",
    "import re\n",
    "import pandas as pd\n",
    "import numpy as np"
   ]
  },
  {
   "cell_type": "code",
   "execution_count": 2,
   "id": "aeceee7a-a11c-4e9a-bec4-6707b73655d2",
   "metadata": {},
   "outputs": [],
   "source": [
    "# RSS 뉴스 URL\n",
    "news_rss_url = {\n",
    "    '매일경제' : 'https://www.mk.co.kr/rss/50200011/',\n",
    "    '한국경제' : 'https://www.hankyung.com/feed/finance' \n",
    "}"
   ]
  },
  {
   "cell_type": "code",
   "execution_count": 4,
   "id": "462f60c1-ca66-4fd8-a8d5-4d2e83431556",
   "metadata": {},
   "outputs": [],
   "source": [
    "# 기사 1건의 정보를 저장하기위한 자료구조\n",
    "class Article :\n",
    "    def __init__(self, *, media, datetime, title, content):\n",
    "        self.media = media         # 언론사명\n",
    "        self.datetime = datetime   # 작성일시\n",
    "        self.title = title         # 뉴스제목\n",
    "        self.content = content     # 뉴스내용"
   ]
  },
  {
   "cell_type": "code",
   "execution_count": 6,
   "id": "7cdefeb4-caba-4b0b-84b2-aec7f2b2ea18",
   "metadata": {},
   "outputs": [],
   "source": [
    "# 뉴스기사 수집하기\n",
    "def get_news_rss(media, url) :   \n",
    "    \"\"\"doc-string\n",
    "    매개변수: media-언론사명, url-언론사의 rss url\n",
    "    반환값 : 기사를 요소로 갖는 목록\n",
    "    \"\"\"\n",
    "    article_list = [] # 기사 목록 (Ariticle객체를 요소로 갖는 리스트)\n",
    "    \n",
    "    title_list = []  # 기사 제목 목록\n",
    "    link_list = []   # 기사 링크 목록\n",
    "    news_data = []   # 기사 본문 목록\n",
    "    news_datetime = [] # 기사 작성일시 목록\n",
    "\n",
    "    # 수집봇이 아닌 브라우져가 접근한것 처럼 요청하기위함\n",
    "    headers = {\n",
    "        'User-Agent' : 'Mozilla/5.0 (Windows NT 10.0; Win64; x64) AppleWebKit/537.36 (KHTML, like Gecko) Chrome/131.0.0.0 Safari/537.36'\n",
    "    }    \n",
    "    news_rss = requests.get(url,headers)\n",
    "    if news_rss.status_code != 200 :\n",
    "        raise Exception('응답오류 발생')\n",
    "        \n",
    "    news_rss_soup = BeautifulSoup(news_rss.content,'xml')\n",
    "    # 기사 제목 \n",
    "    title_list = news_rss_soup.select('item > title')\n",
    "    title_list = [title.text for title in title_list]\n",
    "    # 기사 상세링크 \n",
    "    link_list = news_rss_soup.select('item > link')\n",
    "    link_list = [link.text for link in link_list]\n",
    "    # 기사 내용, 기사 작성일시\n",
    "    for link in link_list :\n",
    "        news_res = requests.get(link, headers=headers)\n",
    "        news_content_soup = BeautifulSoup(news_res.content, 'lxml')\n",
    "\n",
    "        try:\n",
    "            if media == '매일경제':\n",
    "                news_content = news_content_soup.select_one('.news_cnt_detail_wrap')\n",
    "                news_data.append(news_content.text)\n",
    "                news_datetime.append(news_content_soup.select_one('.time_area .registration dd').text)    \n",
    "            elif media == '한국경제':\n",
    "                news_content = news_content_soup.select_one('#articletxt')\n",
    "                news_data.append(news_content.text)\n",
    "                news_datetime.append(news_content_soup.select_one('.datetime > .item > .txt-date').text)    \n",
    "        except Exception as e:\n",
    "            print(len(news_data),link)\n",
    "            print(e)\n",
    "            \n",
    "    # print(title_list)\n",
    "    # print(news_data)\n",
    "    # print(news_datetime)\n",
    "    print(len(title_list), len(news_data), len(news_datetime))\n",
    "    for item in zip(title_list, news_data, news_datetime):\n",
    "        # print(media, item[0],item[1],item[2])\n",
    "        article = Article(media = media, title=item[0], content=item[1], datetime=item[2])\n",
    "        article_list.append(article)    \n",
    "    \n",
    "    return article_list"
   ]
  },
  {
   "cell_type": "code",
   "execution_count": 7,
   "id": "350344d9-8976-4072-8be9-5dc230600ef6",
   "metadata": {},
   "outputs": [
    {
     "name": "stdout",
     "output_type": "stream",
     "text": [
      "매일경제 https://www.mk.co.kr/rss/50200011/\n",
      "50 50 50\n",
      "한국경제 https://www.hankyung.com/feed/finance\n",
      "50 50 50\n",
      "2\n"
     ]
    }
   ],
   "source": [
    "# 모든 언론사 기사를 합치기\n",
    "all_article_list = []\n",
    "for media, url in news_rss_url.items():\n",
    "    print(media,url)\n",
    "    all_article_list.append(get_news_rss(media,url))\n",
    "print(len(all_article_list))"
   ]
  },
  {
   "cell_type": "code",
   "execution_count": 9,
   "id": "c4cd1649-5906-43ba-809d-a6deab97a02d",
   "metadata": {},
   "outputs": [
    {
     "name": "stdout",
     "output_type": "stream",
     "text": [
      "100\n",
      "<class 'list'>\n"
     ]
    }
   ],
   "source": [
    "result = np.array(all_article_list).flatten().tolist()\n",
    "print(len(result))\n",
    "print(type(result))"
   ]
  },
  {
   "cell_type": "code",
   "execution_count": 10,
   "id": "798db3ee-9501-4d00-9633-e2bfb81043f2",
   "metadata": {},
   "outputs": [],
   "source": [
    "data = {\n",
    "    '언론사' : [ article.media for article in result ],\n",
    "    '제목' : [ article.title for article in result ],\n",
    "    '내용' : [ article.content for article in result ],\n",
    "    '작성일시' : [ article.datetime for article in result ],\n",
    "}"
   ]
  },
  {
   "cell_type": "code",
   "execution_count": 11,
   "id": "f6ab7ce5-1492-454f-8357-b86780b656ee",
   "metadata": {},
   "outputs": [],
   "source": [
    "df = pd.DataFrame(data)"
   ]
  },
  {
   "cell_type": "code",
   "execution_count": 12,
   "id": "920599f0-c1b2-4505-a881-1659111d1152",
   "metadata": {},
   "outputs": [
    {
     "data": {
      "text/html": [
       "<div>\n",
       "<style scoped>\n",
       "    .dataframe tbody tr th:only-of-type {\n",
       "        vertical-align: middle;\n",
       "    }\n",
       "\n",
       "    .dataframe tbody tr th {\n",
       "        vertical-align: top;\n",
       "    }\n",
       "\n",
       "    .dataframe thead th {\n",
       "        text-align: right;\n",
       "    }\n",
       "</style>\n",
       "<table border=\"1\" class=\"dataframe\">\n",
       "  <thead>\n",
       "    <tr style=\"text-align: right;\">\n",
       "      <th></th>\n",
       "      <th>언론사</th>\n",
       "      <th>제목</th>\n",
       "      <th>내용</th>\n",
       "      <th>작성일시</th>\n",
       "    </tr>\n",
       "  </thead>\n",
       "  <tbody>\n",
       "    <tr>\n",
       "      <th>0</th>\n",
       "      <td>매일경제</td>\n",
       "      <td>‘오징어게임2’ 외신 혹평에...테마주 동반 폭락</td>\n",
       "      <td>\\n      사진 확대    ‘오징어 게임2’. 제공|넷플릭스  전 세계적 기대작...</td>\n",
       "      <td>2024-12-27 09:38:05</td>\n",
       "    </tr>\n",
       "    <tr>\n",
       "      <th>1</th>\n",
       "      <td>매일경제</td>\n",
       "      <td>주가는 뒷걸음질인데 외국인은 산다?…‘게임주’에 쏠리는 시선</td>\n",
       "      <td>\\n      사진 확대    독일에서 열린 게임쇼 ‘게임스컴’ 부스의 크래프톤 로...</td>\n",
       "      <td>2024-12-27 09:00:51</td>\n",
       "    </tr>\n",
       "    <tr>\n",
       "      <th>2</th>\n",
       "      <td>매일경제</td>\n",
       "      <td>두산에너빌리티, 국제핵비확산협력센터와 원전 수출 사업지원 협약</td>\n",
       "      <td>\\n 원전, SMR 해외시장 진출 관련 정책 개발 환경 조성        사진 확대...</td>\n",
       "      <td>2024-12-27 08:39:43</td>\n",
       "    </tr>\n",
       "  </tbody>\n",
       "</table>\n",
       "</div>"
      ],
      "text/plain": [
       "    언론사                                  제목  \\\n",
       "0  매일경제         ‘오징어게임2’ 외신 혹평에...테마주 동반 폭락   \n",
       "1  매일경제   주가는 뒷걸음질인데 외국인은 산다?…‘게임주’에 쏠리는 시선   \n",
       "2  매일경제  두산에너빌리티, 국제핵비확산협력센터와 원전 수출 사업지원 협약   \n",
       "\n",
       "                                                  내용                 작성일시  \n",
       "0  \\n      사진 확대    ‘오징어 게임2’. 제공|넷플릭스  전 세계적 기대작...  2024-12-27 09:38:05  \n",
       "1  \\n      사진 확대    독일에서 열린 게임쇼 ‘게임스컴’ 부스의 크래프톤 로...  2024-12-27 09:00:51  \n",
       "2  \\n 원전, SMR 해외시장 진출 관련 정책 개발 환경 조성        사진 확대...  2024-12-27 08:39:43  "
      ]
     },
     "execution_count": 12,
     "metadata": {},
     "output_type": "execute_result"
    }
   ],
   "source": [
    "df.head(3)"
   ]
  },
  {
   "cell_type": "code",
   "execution_count": 13,
   "id": "2e37cfbe-9de6-423d-b1d3-3b36690d3665",
   "metadata": {},
   "outputs": [
    {
     "data": {
      "text/plain": [
       "'2024-12-27'"
      ]
     },
     "execution_count": 13,
     "metadata": {},
     "output_type": "execute_result"
    }
   ],
   "source": [
    "# 날짜는 파이썬 표준라이브러리 datetime 사용\n",
    "import datetime\n",
    "# 오늘 날짜 구하기\n",
    "today = datetime.datetime.today()\n",
    "today = today.strftime('%Y-%m-%d')\n",
    "today"
   ]
  },
  {
   "cell_type": "code",
   "execution_count": 14,
   "id": "0e061ae2-c625-405c-878b-f896fd0d1e35",
   "metadata": {},
   "outputs": [],
   "source": [
    "df.to_csv(f'news_{today}.csv',index=False)"
   ]
  },
  {
   "cell_type": "code",
   "execution_count": null,
   "id": "57710f3f-c888-471b-9b5f-38288bf183bb",
   "metadata": {},
   "outputs": [],
   "source": []
  },
  {
   "cell_type": "code",
   "execution_count": null,
   "id": "6af1047e-70c1-4d7f-817a-a5c08275223f",
   "metadata": {},
   "outputs": [],
   "source": []
  }
 ],
 "metadata": {
  "kernelspec": {
   "display_name": "Python 3 (ipykernel)",
   "language": "python",
   "name": "python3"
  },
  "language_info": {
   "codemirror_mode": {
    "name": "ipython",
    "version": 3
   },
   "file_extension": ".py",
   "mimetype": "text/x-python",
   "name": "python",
   "nbconvert_exporter": "python",
   "pygments_lexer": "ipython3",
   "version": "3.12.7"
  }
 },
 "nbformat": 4,
 "nbformat_minor": 5
}
