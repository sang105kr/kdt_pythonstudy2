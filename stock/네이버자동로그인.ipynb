{
 "cells": [
  {
   "cell_type": "code",
   "execution_count": null,
   "id": "88c14c8b-c574-4e93-84b7-38b3160e4b2f",
   "metadata": {},
   "outputs": [],
   "source": [
    "id='test@naver.com'\n",
    "pw='1234'"
   ]
  },
  {
   "cell_type": "code",
   "execution_count": 33,
   "id": "b9f80194-f6bd-4c06-824b-4ed39d8145b9",
   "metadata": {},
   "outputs": [],
   "source": [
    "# 셀레니움 브라우저의 동작을 자동화 하는 패키지\n",
    "from selenium import webdriver\n",
    "from selenium.webdriver.chrome.options import Options\n",
    "from selenium.webdriver.common.by import By\n",
    "from selenium.webdriver.common.keys import Keys"
   ]
  },
  {
   "cell_type": "code",
   "execution_count": 34,
   "id": "b02a299c-c7d7-4d6f-acd5-26169c121bd6",
   "metadata": {},
   "outputs": [],
   "source": [
    "# 브라우저 종료 방지 옵션\n",
    "chrome_options = Options()\n",
    "chrome_options.add_experimental_option('detach', True)\n",
    "# 웹드라이버를 이용한 브라우저 제어\n",
    "driver = webdriver.Chrome(options=chrome_options)\n",
    "\n",
    "#페이지가 모두 로드될때 까지 최대 1초 대기\n",
    "driver.implicitly_wait(1)"
   ]
  },
  {
   "cell_type": "code",
   "execution_count": 35,
   "id": "152c148d-8e5b-4b2b-9e09-b021ea0507fa",
   "metadata": {},
   "outputs": [
    {
     "name": "stdout",
     "output_type": "stream",
     "text": [
      "Requirement already satisfied: pyperclip in d:\\kdt_2\\anaconda3\\lib\\site-packages (1.9.0)\n"
     ]
    }
   ],
   "source": [
    "!pip install pyperclip"
   ]
  },
  {
   "cell_type": "code",
   "execution_count": 36,
   "id": "02d736c0-ba09-4fc3-8480-188140679ab9",
   "metadata": {},
   "outputs": [],
   "source": [
    "import pyperclip"
   ]
  },
  {
   "cell_type": "code",
   "execution_count": 37,
   "id": "c48ae967-842f-44d2-9870-2622b10d0ef1",
   "metadata": {},
   "outputs": [],
   "source": [
    "driver.get('http://www.naver.com')"
   ]
  },
  {
   "cell_type": "code",
   "execution_count": 38,
   "id": "f7c7954a-fa75-47b9-b82b-e4536ca2353a",
   "metadata": {},
   "outputs": [],
   "source": [
    "driver.find_element(By.CSS_SELECTOR,'#account > div > a').click()"
   ]
  },
  {
   "cell_type": "code",
   "execution_count": 39,
   "id": "444dad84-706c-4645-91b8-d0df4bc30de9",
   "metadata": {},
   "outputs": [],
   "source": [
    "# driver.find_element(By.CSS_SELECTOR,'#id').send_keys(id)\n",
    "pyperclip.copy(id)\n",
    "driver.find_element(By.CSS_SELECTOR,'#id').send_keys(Keys.CONTROL,'v')"
   ]
  },
  {
   "cell_type": "code",
   "execution_count": 40,
   "id": "70323345-dc86-4e98-88cd-e910179f06b0",
   "metadata": {},
   "outputs": [],
   "source": [
    "# driver.find_element(By.CSS_SELECTOR,'#pw').send_keys(pw)\n",
    "pyperclip.copy(pw)\n",
    "driver.find_element(By.CSS_SELECTOR,'#pw').send_keys(Keys.CONTROL,'v')"
   ]
  },
  {
   "cell_type": "code",
   "execution_count": 41,
   "id": "215c3f01-6677-4b8c-9a73-d94b2c8b540a",
   "metadata": {},
   "outputs": [],
   "source": [
    "driver.find_element(By.CSS_SELECTOR,'#log\\\\.login').click()"
   ]
  },
  {
   "cell_type": "code",
   "execution_count": null,
   "id": "9d01ba6e-7aca-4af3-a36e-4b44d89156fe",
   "metadata": {},
   "outputs": [],
   "source": []
  }
 ],
 "metadata": {
  "kernelspec": {
   "display_name": "Python 3 (ipykernel)",
   "language": "python",
   "name": "python3"
  },
  "language_info": {
   "codemirror_mode": {
    "name": "ipython",
    "version": 3
   },
   "file_extension": ".py",
   "mimetype": "text/x-python",
   "name": "python",
   "nbconvert_exporter": "python",
   "pygments_lexer": "ipython3",
   "version": "3.12.7"
  }
 },
 "nbformat": 4,
 "nbformat_minor": 5
}
