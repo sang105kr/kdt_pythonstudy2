{
 "cells": [
  {
   "cell_type": "code",
   "execution_count": 4,
   "id": "0fcab7b5-27eb-4364-8ad7-9ae9065b0a5c",
   "metadata": {},
   "outputs": [],
   "source": [
    "import requests\n",
    "from bs4 import BeautifulSoup\n",
    "import re"
   ]
  },
  {
   "cell_type": "code",
   "execution_count": 6,
   "id": "b74e0a40-ffff-4863-847f-ba5d89be697a",
   "metadata": {},
   "outputs": [
    {
     "data": {
      "text/plain": [
       "<Response [200]>"
      ]
     },
     "execution_count": 6,
     "metadata": {},
     "output_type": "execute_result"
    }
   ],
   "source": [
    "news_rss = requests.get('https://www.mk.co.kr/rss/50200011/')\n",
    "news_rss"
   ]
  },
  {
   "cell_type": "code",
   "execution_count": null,
   "id": "fdd5e8fd-4502-480c-8377-2bf717264ae3",
   "metadata": {},
   "outputs": [],
   "source": [
    "news_rss.content\n",
    "news_rss.text"
   ]
  },
  {
   "cell_type": "code",
   "execution_count": 12,
   "id": "1ebeb2eb-4aac-49bb-97a0-53bd516f9635",
   "metadata": {},
   "outputs": [],
   "source": [
    "news_rss_soup = BeautifulSoup(news_rss.content,'xml')"
   ]
  },
  {
   "cell_type": "code",
   "execution_count": null,
   "id": "866b6c42-fb99-40bc-b404-c6326bd5614c",
   "metadata": {},
   "outputs": [],
   "source": [
    "title_list = news_rss_soup.select('item > title')\n",
    "title_list = [title.text for title in title_list]\n",
    "title_list"
   ]
  },
  {
   "cell_type": "code",
   "execution_count": 20,
   "id": "798602ca-d3fb-41fc-8bc4-8888f900bfd9",
   "metadata": {},
   "outputs": [
    {
     "data": {
      "text/plain": [
       "['https://www.mk.co.kr/news/stock/11203492',\n",
       " 'https://www.mk.co.kr/news/stock/11203425',\n",
       " 'https://www.mk.co.kr/news/stock/11203424',\n",
       " 'https://www.mk.co.kr/news/stock/11203379',\n",
       " 'https://www.mk.co.kr/news/stock/11202545',\n",
       " 'https://www.mk.co.kr/news/stock/11203373',\n",
       " 'https://www.mk.co.kr/news/stock/11203288',\n",
       " 'https://www.mk.co.kr/news/stock/11203238',\n",
       " 'https://www.mk.co.kr/news/stock/11203169',\n",
       " 'https://www.mk.co.kr/news/stock/11203170',\n",
       " 'https://www.mk.co.kr/news/stock/11203168',\n",
       " 'https://www.mk.co.kr/news/stock/11203167',\n",
       " 'https://www.mk.co.kr/news/stock/11203156',\n",
       " 'https://www.mk.co.kr/news/stock/11202990',\n",
       " 'https://www.mk.co.kr/news/stock/11202979',\n",
       " 'https://www.mk.co.kr/news/stock/11202942',\n",
       " 'https://www.mk.co.kr/news/stock/11202815',\n",
       " 'https://www.mk.co.kr/news/stock/11202765',\n",
       " 'https://www.mk.co.kr/news/stock/11202675',\n",
       " 'https://www.mk.co.kr/news/stock/11202670',\n",
       " 'https://www.mk.co.kr/news/stock/11202616',\n",
       " 'https://www.mk.co.kr/news/stock/11202601',\n",
       " 'https://www.mk.co.kr/news/stock/11202592',\n",
       " 'https://www.mk.co.kr/news/stock/11202551',\n",
       " 'https://www.mk.co.kr/news/stock/11202466',\n",
       " 'https://www.mk.co.kr/news/stock/11202440',\n",
       " 'https://www.mk.co.kr/news/stock/11202438',\n",
       " 'https://www.mk.co.kr/news/stock/11202422',\n",
       " 'https://www.mk.co.kr/news/stock/11202423',\n",
       " 'https://www.mk.co.kr/news/stock/11202418',\n",
       " 'https://www.mk.co.kr/news/stock/11202328',\n",
       " 'https://www.mk.co.kr/news/stock/11202302',\n",
       " 'https://www.mk.co.kr/news/stock/11202299',\n",
       " 'https://www.mk.co.kr/news/economy/11202295',\n",
       " 'https://www.mk.co.kr/news/stock/11202293',\n",
       " 'https://www.mk.co.kr/news/stock/11202266',\n",
       " 'https://www.mk.co.kr/news/stock/11202259',\n",
       " 'https://www.mk.co.kr/news/stock/11202235',\n",
       " 'https://www.mk.co.kr/news/stock/11202232',\n",
       " 'https://www.mk.co.kr/news/stock/11202231',\n",
       " 'https://www.mk.co.kr/news/stock/11202230',\n",
       " 'https://www.mk.co.kr/news/stock/11202228',\n",
       " 'https://www.mk.co.kr/news/stock/11202227',\n",
       " 'https://www.mk.co.kr/news/stock/11202184',\n",
       " 'https://www.mk.co.kr/news/stock/11202182',\n",
       " 'https://www.mk.co.kr/news/stock/11202173',\n",
       " 'https://www.mk.co.kr/news/stock/11202170',\n",
       " 'https://www.mk.co.kr/news/stock/11202168',\n",
       " 'https://www.mk.co.kr/news/stock/11202167',\n",
       " 'https://www.mk.co.kr/news/stock/11202159']"
      ]
     },
     "execution_count": 20,
     "metadata": {},
     "output_type": "execute_result"
    }
   ],
   "source": [
    "link_list = news_rss_soup.select('item > link')\n",
    "link_list = [link.text for link in link_list]\n",
    "link_list"
   ]
  },
  {
   "cell_type": "code",
   "execution_count": null,
   "id": "809b3cf7-c31a-4331-a388-875f3379b427",
   "metadata": {},
   "outputs": [],
   "source": [
    "for link in link_list :\n",
    "    news_res = requests.get(link)\n",
    "    news_content_soup = BeautifulSoup(news_res.content, 'lxml')\n",
    "    "
   ]
  }
 ],
 "metadata": {
  "kernelspec": {
   "display_name": "Python 3 (ipykernel)",
   "language": "python",
   "name": "python3"
  },
  "language_info": {
   "codemirror_mode": {
    "name": "ipython",
    "version": 3
   },
   "file_extension": ".py",
   "mimetype": "text/x-python",
   "name": "python",
   "nbconvert_exporter": "python",
   "pygments_lexer": "ipython3",
   "version": "3.12.7"
  }
 },
 "nbformat": 4,
 "nbformat_minor": 5
}
