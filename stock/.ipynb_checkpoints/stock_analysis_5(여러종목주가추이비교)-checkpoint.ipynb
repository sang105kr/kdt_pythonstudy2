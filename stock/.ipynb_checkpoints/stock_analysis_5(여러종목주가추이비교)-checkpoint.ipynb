{
 "cells": [
  {
   "cell_type": "markdown",
   "id": "e3fa49ff-8faa-4b97-b172-e10f85ad98e3",
   "metadata": {},
   "source": [
    "### 국내 시가총액 상위10개종목의 2024년도 주가추이 비교하기"
   ]
  },
  {
   "cell_type": "code",
   "execution_count": 1,
   "id": "c820a9e7-d4f6-49bf-8757-901d50ba6545",
   "metadata": {},
   "outputs": [],
   "source": [
    "# 데이터 분석 패키지\n",
    "import numpy as np\n",
    "import pandas as pd"
   ]
  },
  {
   "cell_type": "code",
   "execution_count": 2,
   "id": "e0059ece-6e05-4ff4-a822-05ac2b1e75c1",
   "metadata": {},
   "outputs": [],
   "source": [
    "# 모든 컬럼을 출력하도록 설정\n",
    "pd.set_option('display.max_columns', None)  # None으로 설정하면 모든 컬럼 출력\n",
    "# 모든 행을 출력하도록 설정\n",
    "pd.set_option('display.max_rows', 50)  # None으로 설정하면 모든 행 출력"
   ]
  },
  {
   "cell_type": "code",
   "execution_count": 3,
   "id": "14113d3f-be6a-4d6b-93ff-8e33c5e18847",
   "metadata": {},
   "outputs": [],
   "source": [
    "# 시각화 패키지\n",
    "import matplotlib.pyplot as plt\n",
    "import seaborn as sns"
   ]
  },
  {
   "cell_type": "code",
   "execution_count": 4,
   "id": "ff76016e-b03a-4999-ae7c-1aacc33081f1",
   "metadata": {},
   "outputs": [],
   "source": [
    "# matplotlib 한글지원 패키지\n",
    "import koreanize_matplotlib"
   ]
  },
  {
   "cell_type": "code",
   "execution_count": 33,
   "id": "1b94ae17-6a08-4990-a5a9-4fff6c94e190",
   "metadata": {},
   "outputs": [],
   "source": [
    "# FinanceDataReader import\n",
    "import FinanceDataReader as fdr"
   ]
  },
  {
   "cell_type": "code",
   "execution_count": 34,
   "id": "f3d6c9c5-5d49-4c0d-8036-49eab4ff6fb1",
   "metadata": {},
   "outputs": [
    {
     "data": {
      "text/plain": [
       "'0.9.94'"
      ]
     },
     "execution_count": 34,
     "metadata": {},
     "output_type": "execute_result"
    }
   ],
   "source": [
    "fdr.__version__"
   ]
  },
  {
   "cell_type": "markdown",
   "id": "b0d2151e-579d-4135-b8e3-145e02151792",
   "metadata": {},
   "source": [
    "#### 1) 종목정보가져오기"
   ]
  },
  {
   "cell_type": "code",
   "execution_count": 6,
   "id": "931a3287-35f7-4894-9f78-ab040e4009b3",
   "metadata": {},
   "outputs": [],
   "source": [
    "df_stocks = pd.read_csv('stocks.csv')"
   ]
  },
  {
   "cell_type": "code",
   "execution_count": 7,
   "id": "e00317a5-f8bf-4f20-a102-c8c0f6ee1ffe",
   "metadata": {},
   "outputs": [
    {
     "data": {
      "text/plain": [
       "(2855, 23)"
      ]
     },
     "execution_count": 7,
     "metadata": {},
     "output_type": "execute_result"
    }
   ],
   "source": [
    "df_stocks.shape"
   ]
  },
  {
   "cell_type": "code",
   "execution_count": 8,
   "id": "11ce632c-2375-4572-b037-c39d90857f60",
   "metadata": {},
   "outputs": [
    {
     "data": {
      "text/plain": [
       "Index(['Code', 'Name', 'Market', 'Dept', 'Close', 'ChangeCode', 'Changes',\n",
       "       'ChagesRatio', 'Open', 'High', 'Low', 'Volume', 'Amount', 'Marcap',\n",
       "       'Stocks', 'MarketId', 'Sector', 'Industry', 'ListingDate',\n",
       "       'SettleMonth', 'Representative', 'HomePage', 'Region'],\n",
       "      dtype='object')"
      ]
     },
     "execution_count": 8,
     "metadata": {},
     "output_type": "execute_result"
    }
   ],
   "source": [
    "df_stocks.columns"
   ]
  },
  {
   "cell_type": "code",
   "execution_count": 40,
   "id": "11300784-01c5-4b81-a4ab-a8fe5ae81ea0",
   "metadata": {},
   "outputs": [],
   "source": [
    "# 국내 시가총액 상위10개종목의 코드\n",
    "top10_codes = df_stocks.sort_values(by='Marcap', ascending=False).head(10)[['Code','Name']]"
   ]
  },
  {
   "cell_type": "code",
   "execution_count": 45,
   "id": "9def80c1-c4da-4611-8dd8-e15d46384144",
   "metadata": {},
   "outputs": [
    {
     "data": {
      "text/plain": [
       "array([['005930', '삼성전자'],\n",
       "       ['000660', 'SK하이닉스'],\n",
       "       ['373220', 'LG에너지솔루션'],\n",
       "       ['207940', '삼성바이오로직스'],\n",
       "       ['005380', '현대차'],\n",
       "       ['068270', '셀트리온'],\n",
       "       ['000270', '기아'],\n",
       "       ['005935', '삼성전자우'],\n",
       "       ['010130', '고려아연'],\n",
       "       ['105560', 'KB금융']], dtype=object)"
      ]
     },
     "execution_count": 45,
     "metadata": {},
     "output_type": "execute_result"
    }
   ],
   "source": [
    "top10_codes.values"
   ]
  },
  {
   "cell_type": "code",
   "execution_count": 59,
   "id": "b4320049-a72d-4487-a75f-3e7ba9e35f23",
   "metadata": {},
   "outputs": [],
   "source": [
    "arr1, arr2 = top10_codes.values[:,0], top10_codes.values[:,1]"
   ]
  },
  {
   "cell_type": "code",
   "execution_count": 62,
   "id": "3055d04f-7683-4014-8e4f-39a43cadb0b6",
   "metadata": {},
   "outputs": [
    {
     "data": {
      "text/plain": [
       "{'005930': '삼성전자',\n",
       " '000660': 'SK하이닉스',\n",
       " '373220': 'LG에너지솔루션',\n",
       " '207940': '삼성바이오로직스',\n",
       " '005380': '현대차',\n",
       " '068270': '셀트리온',\n",
       " '000270': '기아',\n",
       " '005935': '삼성전자우',\n",
       " '010130': '고려아연',\n",
       " '105560': 'KB금융'}"
      ]
     },
     "execution_count": 62,
     "metadata": {},
     "output_type": "execute_result"
    }
   ],
   "source": [
    "dict(zip(arr1,arr2))"
   ]
  },
  {
   "cell_type": "code",
   "execution_count": 68,
   "id": "f5c73fab-d415-4f2b-b845-cc88f6262753",
   "metadata": {},
   "outputs": [
    {
     "data": {
      "text/plain": [
       "{'005930': '삼성전자',\n",
       " '000660': 'SK하이닉스',\n",
       " '373220': 'LG에너지솔루션',\n",
       " '207940': '삼성바이오로직스',\n",
       " '005380': '현대차',\n",
       " '068270': '셀트리온',\n",
       " '000270': '기아',\n",
       " '005935': '삼성전자우',\n",
       " '010130': '고려아연',\n",
       " '105560': 'KB금융'}"
      ]
     },
     "execution_count": 68,
     "metadata": {},
     "output_type": "execute_result"
    }
   ],
   "source": [
    "# 2차원배열 => 딕셔너리로 변환 \n",
    "# case1)딕셔너리 컴프리핸션\n",
    "# dict_top10_codes = { ele[0] : ele[1] for ele in top10_codes.values }\n",
    "# case2) zip : iterable객체의 동일 인덱스에 있는 요소들을 묶어서 튜플로 반환\n",
    "# dict_top10_codes = dict(zip(top10_codes.values[:,0],top10_codes.values[:,1]))\n",
    "# case3) tolist : numpy의 ndarray를 파이썬의 list로 변환\n",
    "dict_top10_codes = dict(top10_codes.values.tolist())\n",
    "dict_top10_codes"
   ]
  },
  {
   "cell_type": "markdown",
   "id": "72e3bfcc-d23b-48ef-9002-663a0310891b",
   "metadata": {},
   "source": [
    "#### 2) 종목 시세 가져오기"
   ]
  },
  {
   "cell_type": "code",
   "execution_count": 55,
   "id": "1db43041-8ea8-4423-9e17-61c9002f04a9",
   "metadata": {},
   "outputs": [],
   "source": [
    "# fdr.DataReader('005930','2024')"
   ]
  },
  {
   "cell_type": "code",
   "execution_count": 69,
   "id": "f2fc51aa-d6fc-4518-9714-168769618320",
   "metadata": {},
   "outputs": [
    {
     "data": {
      "text/plain": [
       "10"
      ]
     },
     "execution_count": 69,
     "metadata": {},
     "output_type": "execute_result"
    }
   ],
   "source": [
    "item_dict = {}\n",
    "for key, value in dict_top10_codes.items() :\n",
    "    item_dict[value] = fdr.DataReader(key,'2024')\n",
    "    \n",
    "len(item_dict)    "
   ]
  },
  {
   "cell_type": "code",
   "execution_count": 70,
   "id": "146d186e-858f-4ca4-b051-5bc069d6fad0",
   "metadata": {},
   "outputs": [
    {
     "data": {
      "text/html": [
       "<div>\n",
       "<style scoped>\n",
       "    .dataframe tbody tr th:only-of-type {\n",
       "        vertical-align: middle;\n",
       "    }\n",
       "\n",
       "    .dataframe tbody tr th {\n",
       "        vertical-align: top;\n",
       "    }\n",
       "\n",
       "    .dataframe thead th {\n",
       "        text-align: right;\n",
       "    }\n",
       "</style>\n",
       "<table border=\"1\" class=\"dataframe\">\n",
       "  <thead>\n",
       "    <tr style=\"text-align: right;\">\n",
       "      <th></th>\n",
       "      <th>Open</th>\n",
       "      <th>High</th>\n",
       "      <th>Low</th>\n",
       "      <th>Close</th>\n",
       "      <th>Volume</th>\n",
       "      <th>Change</th>\n",
       "    </tr>\n",
       "    <tr>\n",
       "      <th>Date</th>\n",
       "      <th></th>\n",
       "      <th></th>\n",
       "      <th></th>\n",
       "      <th></th>\n",
       "      <th></th>\n",
       "      <th></th>\n",
       "    </tr>\n",
       "  </thead>\n",
       "  <tbody>\n",
       "    <tr>\n",
       "      <th>2024-01-02</th>\n",
       "      <td>78200</td>\n",
       "      <td>79800</td>\n",
       "      <td>78200</td>\n",
       "      <td>79600</td>\n",
       "      <td>17142847</td>\n",
       "      <td>0.014013</td>\n",
       "    </tr>\n",
       "    <tr>\n",
       "      <th>2024-01-03</th>\n",
       "      <td>78500</td>\n",
       "      <td>78800</td>\n",
       "      <td>77000</td>\n",
       "      <td>77000</td>\n",
       "      <td>21753644</td>\n",
       "      <td>-0.032663</td>\n",
       "    </tr>\n",
       "    <tr>\n",
       "      <th>2024-01-04</th>\n",
       "      <td>76100</td>\n",
       "      <td>77300</td>\n",
       "      <td>76100</td>\n",
       "      <td>76600</td>\n",
       "      <td>15324439</td>\n",
       "      <td>-0.005195</td>\n",
       "    </tr>\n",
       "    <tr>\n",
       "      <th>2024-01-05</th>\n",
       "      <td>76700</td>\n",
       "      <td>77100</td>\n",
       "      <td>76400</td>\n",
       "      <td>76600</td>\n",
       "      <td>11304316</td>\n",
       "      <td>0.000000</td>\n",
       "    </tr>\n",
       "    <tr>\n",
       "      <th>2024-01-08</th>\n",
       "      <td>77000</td>\n",
       "      <td>77500</td>\n",
       "      <td>76400</td>\n",
       "      <td>76500</td>\n",
       "      <td>11088724</td>\n",
       "      <td>-0.001305</td>\n",
       "    </tr>\n",
       "    <tr>\n",
       "      <th>...</th>\n",
       "      <td>...</td>\n",
       "      <td>...</td>\n",
       "      <td>...</td>\n",
       "      <td>...</td>\n",
       "      <td>...</td>\n",
       "      <td>...</td>\n",
       "    </tr>\n",
       "    <tr>\n",
       "      <th>2024-12-04</th>\n",
       "      <td>52000</td>\n",
       "      <td>53400</td>\n",
       "      <td>52000</td>\n",
       "      <td>53100</td>\n",
       "      <td>29004766</td>\n",
       "      <td>-0.009328</td>\n",
       "    </tr>\n",
       "    <tr>\n",
       "      <th>2024-12-05</th>\n",
       "      <td>53200</td>\n",
       "      <td>54400</td>\n",
       "      <td>53200</td>\n",
       "      <td>53700</td>\n",
       "      <td>23588277</td>\n",
       "      <td>0.011299</td>\n",
       "    </tr>\n",
       "    <tr>\n",
       "      <th>2024-12-06</th>\n",
       "      <td>53900</td>\n",
       "      <td>54400</td>\n",
       "      <td>52700</td>\n",
       "      <td>54100</td>\n",
       "      <td>22861874</td>\n",
       "      <td>0.007449</td>\n",
       "    </tr>\n",
       "    <tr>\n",
       "      <th>2024-12-09</th>\n",
       "      <td>53500</td>\n",
       "      <td>54600</td>\n",
       "      <td>53200</td>\n",
       "      <td>53400</td>\n",
       "      <td>26227680</td>\n",
       "      <td>-0.012939</td>\n",
       "    </tr>\n",
       "    <tr>\n",
       "      <th>2024-12-10</th>\n",
       "      <td>54500</td>\n",
       "      <td>54500</td>\n",
       "      <td>53700</td>\n",
       "      <td>53900</td>\n",
       "      <td>17539265</td>\n",
       "      <td>0.009363</td>\n",
       "    </tr>\n",
       "  </tbody>\n",
       "</table>\n",
       "<p>231 rows × 6 columns</p>\n",
       "</div>"
      ],
      "text/plain": [
       "             Open   High    Low  Close    Volume    Change\n",
       "Date                                                      \n",
       "2024-01-02  78200  79800  78200  79600  17142847  0.014013\n",
       "2024-01-03  78500  78800  77000  77000  21753644 -0.032663\n",
       "2024-01-04  76100  77300  76100  76600  15324439 -0.005195\n",
       "2024-01-05  76700  77100  76400  76600  11304316  0.000000\n",
       "2024-01-08  77000  77500  76400  76500  11088724 -0.001305\n",
       "...           ...    ...    ...    ...       ...       ...\n",
       "2024-12-04  52000  53400  52000  53100  29004766 -0.009328\n",
       "2024-12-05  53200  54400  53200  53700  23588277  0.011299\n",
       "2024-12-06  53900  54400  52700  54100  22861874  0.007449\n",
       "2024-12-09  53500  54600  53200  53400  26227680 -0.012939\n",
       "2024-12-10  54500  54500  53700  53900  17539265  0.009363\n",
       "\n",
       "[231 rows x 6 columns]"
      ]
     },
     "execution_count": 70,
     "metadata": {},
     "output_type": "execute_result"
    }
   ],
   "source": [
    "item_dict['고려']"
   ]
  },
  {
   "cell_type": "code",
   "execution_count": null,
   "id": "d4137f40-bc8f-4bfb-b67f-386319f91bcc",
   "metadata": {},
   "outputs": [],
   "source": []
  }
 ],
 "metadata": {
  "kernelspec": {
   "display_name": "Python 3 (ipykernel)",
   "language": "python",
   "name": "python3"
  },
  "language_info": {
   "codemirror_mode": {
    "name": "ipython",
    "version": 3
   },
   "file_extension": ".py",
   "mimetype": "text/x-python",
   "name": "python",
   "nbconvert_exporter": "python",
   "pygments_lexer": "ipython3",
   "version": "3.12.7"
  }
 },
 "nbformat": 4,
 "nbformat_minor": 5
}
