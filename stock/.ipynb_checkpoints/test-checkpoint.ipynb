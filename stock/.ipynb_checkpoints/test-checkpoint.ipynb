{
 "cells": [
  {
   "cell_type": "code",
   "execution_count": 3,
   "id": "bb6ec7a6-8813-4e19-81ea-c83ef5331588",
   "metadata": {},
   "outputs": [],
   "source": [
    "def sum(x,y) :\n",
    "    ''' 두개의 입력을 받아 합계를 구하는 함수\n",
    "      parameter : x 정수, y 정수\n",
    "      return value : x와 y의 합계  \n",
    "    '''\n",
    "    return x + y"
   ]
  },
  {
   "cell_type": "code",
   "execution_count": 4,
   "id": "f5c285d3-8eb7-4fd0-9a6d-006110d07aa6",
   "metadata": {},
   "outputs": [
    {
     "name": "stdout",
     "output_type": "stream",
     "text": [
      "Help on function sum in module __main__:\n",
      "\n",
      "sum(x, y)\n",
      "    두개의 입력을 받아 합계를 구하는 함수\n",
      "    parameter : x 정수, y 정수\n",
      "    return value : x와 y의 합계\n",
      "\n"
     ]
    }
   ],
   "source": [
    "help(sum)"
   ]
  },
  {
   "cell_type": "code",
   "execution_count": 5,
   "id": "317acf53-3cf3-47ae-943d-22ddc6afe2e0",
   "metadata": {},
   "outputs": [
    {
     "data": {
      "text/plain": [
       "\u001b[1;31mSignature:\u001b[0m \u001b[0msum\u001b[0m\u001b[1;33m(\u001b[0m\u001b[0mx\u001b[0m\u001b[1;33m,\u001b[0m \u001b[0my\u001b[0m\u001b[1;33m)\u001b[0m\u001b[1;33m\u001b[0m\u001b[1;33m\u001b[0m\u001b[0m\n",
       "\u001b[1;31mDocstring:\u001b[0m\n",
       "두개의 입력을 받아 합계를 구하는 함수\n",
       "parameter : x 정수, y 정수\n",
       "return value : x와 y의 합계  \n",
       "\u001b[1;31mFile:\u001b[0m      c:\\users\\kh502\\appdata\\local\\temp\\ipykernel_8988\\3966714928.py\n",
       "\u001b[1;31mType:\u001b[0m      function"
      ]
     },
     "metadata": {},
     "output_type": "display_data"
    }
   ],
   "source": [
    "sum?"
   ]
  },
  {
   "cell_type": "code",
   "execution_count": null,
   "id": "f10bfa04-7606-4dac-8bb8-83d44dd6b86a",
   "metadata": {},
   "outputs": [],
   "source": []
  }
 ],
 "metadata": {
  "kernelspec": {
   "display_name": "Python 3 (ipykernel)",
   "language": "python",
   "name": "python3"
  },
  "language_info": {
   "codemirror_mode": {
    "name": "ipython",
    "version": 3
   },
   "file_extension": ".py",
   "mimetype": "text/x-python",
   "name": "python",
   "nbconvert_exporter": "python",
   "pygments_lexer": "ipython3",
   "version": "3.12.7"
  }
 },
 "nbformat": 4,
 "nbformat_minor": 5
}
