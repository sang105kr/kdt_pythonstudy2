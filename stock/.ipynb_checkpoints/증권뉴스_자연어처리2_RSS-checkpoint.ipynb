{
 "cells": [
  {
   "cell_type": "code",
   "execution_count": 1,
   "id": "0be3a939-77a0-4536-866c-7289d6b8a4c0",
   "metadata": {},
   "outputs": [],
   "source": [
    "# 데이터 분석 패키지\n",
    "import pandas as pd\n",
    "import numpy as np"
   ]
  },
  {
   "cell_type": "code",
   "execution_count": 2,
   "id": "81d8e5c5-9cfe-4d6f-88e1-a2cccf5736be",
   "metadata": {},
   "outputs": [],
   "source": [
    "# 모든 컬럼을 출력하도록 설정\n",
    "pd.set_option('display.max_columns', None)  # None으로 설정하면 모든 컬럼 출력\n",
    "# 모든 행을 출력하도록 설정\n",
    "pd.set_option('display.max_rows', 50)  # None으로 설정하면 모든 행 출력\n",
    "# 모든 열의 최대 너비를 설정\n",
    "pd.set_option('display.max_colwidth', None) # None으로 설정하면 모든 내용을 출력"
   ]
  },
  {
   "cell_type": "code",
   "execution_count": 3,
   "id": "709f750d-fa78-4930-9cd1-5df3c90a66d6",
   "metadata": {},
   "outputs": [],
   "source": [
    "# 시각화 패키지\n",
    "import matplotlib.pyplot as plt\n",
    "import seaborn as sns\n",
    "import koreanize_matplotlib\n",
    "from wordcloud import WordCloud"
   ]
  },
  {
   "cell_type": "code",
   "execution_count": 4,
   "id": "f64e0a10-320a-400f-89b2-e3d3e410a9ec",
   "metadata": {},
   "outputs": [],
   "source": [
    "# 정규표현식\n",
    "import re"
   ]
  },
  {
   "cell_type": "code",
   "execution_count": 5,
   "id": "0419effe-98ce-4a33-8ca0-889793e79f66",
   "metadata": {},
   "outputs": [],
   "source": [
    "# 날짜는 파이썬 표준라이브러리 datetime 사용\n",
    "import datetime"
   ]
  },
  {
   "cell_type": "code",
   "execution_count": 6,
   "id": "d66a6d5e-8dbc-471b-8685-50125ca3b75e",
   "metadata": {},
   "outputs": [
    {
     "name": "stdout",
     "output_type": "stream",
     "text": [
      "2024-12-27 11:36:30.125937\n"
     ]
    },
    {
     "data": {
      "text/plain": [
       "'2024-12-27'"
      ]
     },
     "execution_count": 6,
     "metadata": {},
     "output_type": "execute_result"
    }
   ],
   "source": [
    "# 오늘 날짜 구하기\n",
    "today = datetime.datetime.today()\n",
    "print(today)\n",
    "today = today.strftime('%Y-%m-%d')\n",
    "today"
   ]
  },
  {
   "cell_type": "code",
   "execution_count": 7,
   "id": "b1387380-079b-4dec-bf13-7515a2cef995",
   "metadata": {},
   "outputs": [
    {
     "data": {
      "text/html": [
       "<div>\n",
       "<style scoped>\n",
       "    .dataframe tbody tr th:only-of-type {\n",
       "        vertical-align: middle;\n",
       "    }\n",
       "\n",
       "    .dataframe tbody tr th {\n",
       "        vertical-align: top;\n",
       "    }\n",
       "\n",
       "    .dataframe thead th {\n",
       "        text-align: right;\n",
       "    }\n",
       "</style>\n",
       "<table border=\"1\" class=\"dataframe\">\n",
       "  <thead>\n",
       "    <tr style=\"text-align: right;\">\n",
       "      <th></th>\n",
       "      <th>언론사</th>\n",
       "      <th>제목</th>\n",
       "      <th>내용</th>\n",
       "      <th>작성일시</th>\n",
       "    </tr>\n",
       "  </thead>\n",
       "  <tbody>\n",
       "    <tr>\n",
       "      <th>0</th>\n",
       "      <td>매일경제</td>\n",
       "      <td>‘오징어게임2’ 외신 혹평에...테마주 동반 폭락</td>\n",
       "      <td>\\n      사진 확대    ‘오징어 게임2’. 제공|넷플릭스  전 세계적 기대작 넷플릭스 ‘오징어 게임2’가 공개된 다음 날인 27일 장 초반 관련 종목들이 급락하고 있다.이날 오전 9시 20분 현재 아티스트스튜디오(200350)가 26.68% 급락 중이며, 아티스트유나이티드(321820)도 23.98% 하락하고 있다.아티스트스튜디오와 아티스트유나이티드는 시즌1에 이어 ‘오징어게임2’에서도 주연을 맡은 배우 이정재가 대주주로 있는 기업이다.또 ‘오징어게임2’의 영상 특수효과를 맡은 위지윅스튜디오(299900)는 20.00% 하락했고, 덱스터(206560)는 18.59% 내려 거래되고 있다.‘오징어게임’ 제작사인 싸이런픽쳐스에 투자한 쇼박스(086980)도 14.97% 급락을 면치 못하고 있다.지난 2021년 9월 공개돼 전 세계적으로 폭발적인 인기를 얻었던 ‘오징어 게임’의 후속작인 ‘오징어 게임2’는 지난 26일 오후 5시(한국시간) 넷플릭스를 통해 공개됐다.큰 기대 속에 베일을 벗은 ‘오징어게임2’에 대해 해외 주요 매체들은 “이야기가 정체돼있다’”, “날카로움을 잃었다”, “재미도 기발함도 없다”는 등 첫 시즌에 비해 실망스럽다는 반응을 보이고 있다.국내 시청자들도 대체로 시즌1만 못하다는 반응을 보이고 있으며 특히 그룹 빅뱅 출신 탑(최승현)의 오글거리는 연기에 혹평을 보내고 있다.시즌2에 이어지는 ‘오징어게임3’가 내년에 공개된다.\\n</td>\n",
       "      <td>2024-12-27 09:38:05</td>\n",
       "    </tr>\n",
       "  </tbody>\n",
       "</table>\n",
       "</div>"
      ],
      "text/plain": [
       "    언론사                           제목  \\\n",
       "0  매일경제  ‘오징어게임2’ 외신 혹평에...테마주 동반 폭락   \n",
       "\n",
       "                                                                                                                                                                                                                                                                                                                                                                                                                                                                                                                                                                                                                                                                                                                                     내용  \\\n",
       "0  \\n      사진 확대    ‘오징어 게임2’. 제공|넷플릭스  전 세계적 기대작 넷플릭스 ‘오징어 게임2’가 공개된 다음 날인 27일 장 초반 관련 종목들이 급락하고 있다.이날 오전 9시 20분 현재 아티스트스튜디오(200350)가 26.68% 급락 중이며, 아티스트유나이티드(321820)도 23.98% 하락하고 있다.아티스트스튜디오와 아티스트유나이티드는 시즌1에 이어 ‘오징어게임2’에서도 주연을 맡은 배우 이정재가 대주주로 있는 기업이다.또 ‘오징어게임2’의 영상 특수효과를 맡은 위지윅스튜디오(299900)는 20.00% 하락했고, 덱스터(206560)는 18.59% 내려 거래되고 있다.‘오징어게임’ 제작사인 싸이런픽쳐스에 투자한 쇼박스(086980)도 14.97% 급락을 면치 못하고 있다.지난 2021년 9월 공개돼 전 세계적으로 폭발적인 인기를 얻었던 ‘오징어 게임’의 후속작인 ‘오징어 게임2’는 지난 26일 오후 5시(한국시간) 넷플릭스를 통해 공개됐다.큰 기대 속에 베일을 벗은 ‘오징어게임2’에 대해 해외 주요 매체들은 “이야기가 정체돼있다’”, “날카로움을 잃었다”, “재미도 기발함도 없다”는 등 첫 시즌에 비해 실망스럽다는 반응을 보이고 있다.국내 시청자들도 대체로 시즌1만 못하다는 반응을 보이고 있으며 특히 그룹 빅뱅 출신 탑(최승현)의 오글거리는 연기에 혹평을 보내고 있다.시즌2에 이어지는 ‘오징어게임3’가 내년에 공개된다.\\n   \n",
       "\n",
       "                  작성일시  \n",
       "0  2024-12-27 09:38:05  "
      ]
     },
     "execution_count": 7,
     "metadata": {},
     "output_type": "execute_result"
    }
   ],
   "source": [
    "df = pd.read_csv(f'news_{today}.csv')\n",
    "df.head(1)"
   ]
  },
  {
   "cell_type": "code",
   "execution_count": null,
   "id": "f695c5c7-c85d-4aa6-a19d-711360fafbb8",
   "metadata": {},
   "outputs": [],
   "source": []
  }
 ],
 "metadata": {
  "kernelspec": {
   "display_name": "Python 3 (ipykernel)",
   "language": "python",
   "name": "python3"
  },
  "language_info": {
   "codemirror_mode": {
    "name": "ipython",
    "version": 3
   },
   "file_extension": ".py",
   "mimetype": "text/x-python",
   "name": "python",
   "nbconvert_exporter": "python",
   "pygments_lexer": "ipython3",
   "version": "3.12.7"
  }
 },
 "nbformat": 4,
 "nbformat_minor": 5
}
