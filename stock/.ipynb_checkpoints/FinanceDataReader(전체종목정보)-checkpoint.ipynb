{
 "cells": [
  {
   "cell_type": "markdown",
   "id": "69b65272-d163-4dc5-a7d4-b4311a56ef68",
   "metadata": {},
   "source": [
    "FinanceData/FinanceDataReader: Financial data reader"
   ]
  },
  {
   "cell_type": "code",
   "execution_count": 116,
   "id": "b6912b99-1e9b-4f7a-a64a-9cf23a0bea63",
   "metadata": {},
   "outputs": [],
   "source": [
    "# FinanceData 설치\n",
    "# !pip install finance-datareader"
   ]
  },
  {
   "cell_type": "code",
   "execution_count": 2,
   "id": "f302d469-f75c-41d1-8816-d2ed26e5d343",
   "metadata": {},
   "outputs": [],
   "source": [
    "# 라이브러리 불러오기\n",
    "import FinanceDataReader as fdr"
   ]
  },
  {
   "cell_type": "code",
   "execution_count": 3,
   "id": "24b72887-063b-457f-8490-1a4ec9c75766",
   "metadata": {},
   "outputs": [
    {
     "data": {
      "text/plain": [
       "'0.9.94'"
      ]
     },
     "execution_count": 3,
     "metadata": {},
     "output_type": "execute_result"
    }
   ],
   "source": [
    "# 버전확인\n",
    "fdr.__version__"
   ]
  },
  {
   "cell_type": "markdown",
   "id": "5dec968b-0266-4e45-a6fe-c5983b7ed391",
   "metadata": {},
   "source": [
    "#### 한국거래소 상장종목 전체 가져오기"
   ]
  },
  {
   "cell_type": "code",
   "execution_count": 4,
   "id": "f3239552-20ad-48c8-bc86-c9568fdebc96",
   "metadata": {},
   "outputs": [
    {
     "data": {
      "text/plain": [
       "['DataReader',\n",
       " 'EtfListing',\n",
       " 'SnapDataReader',\n",
       " 'StockListing',\n",
       " '__all__',\n",
       " '__builtins__',\n",
       " '__cached__',\n",
       " '__doc__',\n",
       " '__file__',\n",
       " '__loader__',\n",
       " '__name__',\n",
       " '__package__',\n",
       " '__path__',\n",
       " '__spec__',\n",
       " '__version__',\n",
       " '_utils',\n",
       " 'chart',\n",
       " 'data',\n",
       " 'ecos',\n",
       " 'fred',\n",
       " 'investing',\n",
       " 'krx',\n",
       " 'nasdaq',\n",
       " 'naver',\n",
       " 'plot',\n",
       " 'wikipedia',\n",
       " 'yahoo']"
      ]
     },
     "execution_count": 4,
     "metadata": {},
     "output_type": "execute_result"
    }
   ],
   "source": [
    "# 패키지 내용 확인\n",
    "dir(fdr)"
   ]
  },
  {
   "cell_type": "code",
   "execution_count": 5,
   "id": "6834171d-e4fc-4346-b35e-b783adf4e0ec",
   "metadata": {},
   "outputs": [
    {
     "data": {
      "text/plain": [
       "\u001b[1;31mSignature:\u001b[0m \u001b[0mfdr\u001b[0m\u001b[1;33m.\u001b[0m\u001b[0mStockListing\u001b[0m\u001b[1;33m(\u001b[0m\u001b[0mmarket\u001b[0m\u001b[1;33m:\u001b[0m \u001b[0mstr\u001b[0m\u001b[1;33m,\u001b[0m \u001b[0mstart\u001b[0m\u001b[1;33m=\u001b[0m\u001b[1;32mNone\u001b[0m\u001b[1;33m,\u001b[0m \u001b[0mend\u001b[0m\u001b[1;33m=\u001b[0m\u001b[1;32mNone\u001b[0m\u001b[1;33m)\u001b[0m \u001b[1;33m->\u001b[0m \u001b[0mpandas\u001b[0m\u001b[1;33m.\u001b[0m\u001b[0mcore\u001b[0m\u001b[1;33m.\u001b[0m\u001b[0mframe\u001b[0m\u001b[1;33m.\u001b[0m\u001b[0mDataFrame\u001b[0m\u001b[1;33m\u001b[0m\u001b[1;33m\u001b[0m\u001b[0m\n",
       "\u001b[1;31mDocstring:\u001b[0m\n",
       "read stock list of stock exchanges\n",
       "* market: 'KRX', 'KOSPI', 'KOSDAQ', 'KONEX', 'KRX-MARCAP', \n",
       "        'KRX-DESC', 'KOSPI-DESC', 'KOSDAQ-DESC', 'KONEX-DESC',\n",
       "        'KRX-DELISTING', 'KRX-ADMINISTRATIVE', 'KRX-MARCAP',\n",
       "        'NASDAQ', 'NYSE', 'AMEX', 'SSE', 'SZSE', 'HKEX', 'TSE', 'HOSE',\n",
       "        'S&P500',\n",
       "        'ETF/KR',\n",
       "\u001b[1;31mFile:\u001b[0m      d:\\kdt_2\\anaconda3\\lib\\site-packages\\financedatareader\\data.py\n",
       "\u001b[1;31mType:\u001b[0m      function"
      ]
     },
     "metadata": {},
     "output_type": "display_data"
    }
   ],
   "source": [
    "# 함수, method 사용 방법을 알고 싶을때 함수,메소드명 뒤에 ?를 붙여 실행한다\n",
    "# help(fdr.StockListing)\n",
    "fdr.StockListing?"
   ]
  },
  {
   "cell_type": "code",
   "execution_count": 6,
   "id": "ddc3ca69-6f6a-48b4-b4eb-cb6dee7ee854",
   "metadata": {},
   "outputs": [],
   "source": [
    "stocks = fdr.StockListing('KRX')\n",
    "stocks_desc = fdr.StockListing('KRX-DESC')"
   ]
  },
  {
   "cell_type": "markdown",
   "id": "8b9abcbc-d01d-4965-b6b3-4620a2c1adc9",
   "metadata": {},
   "source": [
    "#### 데이터 구조 화인"
   ]
  },
  {
   "cell_type": "code",
   "execution_count": 7,
   "id": "cd85c7e1-1a12-4dbf-949f-ee463fddab6d",
   "metadata": {},
   "outputs": [
    {
     "data": {
      "text/plain": [
       "((2855, 17), (2855, 10))"
      ]
     },
     "execution_count": 7,
     "metadata": {},
     "output_type": "execute_result"
    }
   ],
   "source": [
    "# 데이터 프레임의 행과 열의 수를 튜플로 반환\n",
    "stocks.shape, stocks_desc.shape"
   ]
  },
  {
   "cell_type": "code",
   "execution_count": 8,
   "id": "c5b11ce3-558b-4316-8d29-0d608227882a",
   "metadata": {},
   "outputs": [
    {
     "data": {
      "text/plain": [
       "(2855, 2855)"
      ]
     },
     "execution_count": 8,
     "metadata": {},
     "output_type": "execute_result"
    }
   ],
   "source": [
    "#행수\n",
    "stocks.shape[0] , stocks_desc.shape[0]"
   ]
  },
  {
   "cell_type": "code",
   "execution_count": 9,
   "id": "dfa53153-3a8a-4afc-b076-5593d4e57f20",
   "metadata": {},
   "outputs": [
    {
     "data": {
      "text/html": [
       "<div>\n",
       "<style scoped>\n",
       "    .dataframe tbody tr th:only-of-type {\n",
       "        vertical-align: middle;\n",
       "    }\n",
       "\n",
       "    .dataframe tbody tr th {\n",
       "        vertical-align: top;\n",
       "    }\n",
       "\n",
       "    .dataframe thead th {\n",
       "        text-align: right;\n",
       "    }\n",
       "</style>\n",
       "<table border=\"1\" class=\"dataframe\">\n",
       "  <thead>\n",
       "    <tr style=\"text-align: right;\">\n",
       "      <th></th>\n",
       "      <th>Code</th>\n",
       "      <th>ISU_CD</th>\n",
       "      <th>Name</th>\n",
       "      <th>Market</th>\n",
       "      <th>Dept</th>\n",
       "      <th>Close</th>\n",
       "      <th>ChangeCode</th>\n",
       "      <th>Changes</th>\n",
       "      <th>ChagesRatio</th>\n",
       "      <th>Open</th>\n",
       "      <th>High</th>\n",
       "      <th>Low</th>\n",
       "      <th>Volume</th>\n",
       "      <th>Amount</th>\n",
       "      <th>Marcap</th>\n",
       "      <th>Stocks</th>\n",
       "      <th>MarketId</th>\n",
       "    </tr>\n",
       "  </thead>\n",
       "  <tbody>\n",
       "    <tr>\n",
       "      <th>0</th>\n",
       "      <td>005930</td>\n",
       "      <td>KR7005930003</td>\n",
       "      <td>삼성전자</td>\n",
       "      <td>KOSPI</td>\n",
       "      <td></td>\n",
       "      <td>54400</td>\n",
       "      <td>1</td>\n",
       "      <td>300</td>\n",
       "      <td>0.55</td>\n",
       "      <td>53500</td>\n",
       "      <td>54500</td>\n",
       "      <td>53300</td>\n",
       "      <td>9999342</td>\n",
       "      <td>537430967600</td>\n",
       "      <td>324756170720000</td>\n",
       "      <td>5969782550</td>\n",
       "      <td>STK</td>\n",
       "    </tr>\n",
       "  </tbody>\n",
       "</table>\n",
       "</div>"
      ],
      "text/plain": [
       "     Code        ISU_CD  Name Market Dept  Close ChangeCode  Changes  \\\n",
       "0  005930  KR7005930003  삼성전자  KOSPI       54400          1      300   \n",
       "\n",
       "   ChagesRatio   Open   High    Low   Volume        Amount           Marcap  \\\n",
       "0         0.55  53500  54500  53300  9999342  537430967600  324756170720000   \n",
       "\n",
       "       Stocks MarketId  \n",
       "0  5969782550      STK  "
      ]
     },
     "metadata": {},
     "output_type": "display_data"
    },
    {
     "data": {
      "text/html": [
       "<div>\n",
       "<style scoped>\n",
       "    .dataframe tbody tr th:only-of-type {\n",
       "        vertical-align: middle;\n",
       "    }\n",
       "\n",
       "    .dataframe tbody tr th {\n",
       "        vertical-align: top;\n",
       "    }\n",
       "\n",
       "    .dataframe thead th {\n",
       "        text-align: right;\n",
       "    }\n",
       "</style>\n",
       "<table border=\"1\" class=\"dataframe\">\n",
       "  <thead>\n",
       "    <tr style=\"text-align: right;\">\n",
       "      <th></th>\n",
       "      <th>Code</th>\n",
       "      <th>Name</th>\n",
       "      <th>Market</th>\n",
       "      <th>Sector</th>\n",
       "      <th>Industry</th>\n",
       "      <th>ListingDate</th>\n",
       "      <th>SettleMonth</th>\n",
       "      <th>Representative</th>\n",
       "      <th>HomePage</th>\n",
       "      <th>Region</th>\n",
       "    </tr>\n",
       "  </thead>\n",
       "  <tbody>\n",
       "    <tr>\n",
       "      <th>0</th>\n",
       "      <td>060310</td>\n",
       "      <td>3S</td>\n",
       "      <td>KOSDAQ</td>\n",
       "      <td>측정, 시험, 항해, 제어 및 기타 정밀기기 제조업; 광학기기 제외</td>\n",
       "      <td>반도체 웨이퍼 캐리어</td>\n",
       "      <td>2002-04-23</td>\n",
       "      <td>03월</td>\n",
       "      <td>김세완</td>\n",
       "      <td>http://www.3sref.com</td>\n",
       "      <td>서울특별시</td>\n",
       "    </tr>\n",
       "  </tbody>\n",
       "</table>\n",
       "</div>"
      ],
      "text/plain": [
       "     Code Name  Market                                 Sector     Industry  \\\n",
       "0  060310   3S  KOSDAQ  측정, 시험, 항해, 제어 및 기타 정밀기기 제조업; 광학기기 제외  반도체 웨이퍼 캐리어   \n",
       "\n",
       "  ListingDate SettleMonth Representative              HomePage Region  \n",
       "0  2002-04-23         03월            김세완  http://www.3sref.com  서울특별시  "
      ]
     },
     "metadata": {},
     "output_type": "display_data"
    }
   ],
   "source": [
    "# 데이터프레임의 처음,마지막 n행 보기, 매개값이 없여면 5행\n",
    "display(stocks.head(1))\n",
    "display(stocks_desc.head(1))"
   ]
  },
  {
   "cell_type": "code",
   "execution_count": 10,
   "id": "eb02d929-c43e-47b0-b677-c6c9b481a072",
   "metadata": {},
   "outputs": [
    {
     "data": {
      "text/html": [
       "<div>\n",
       "<style scoped>\n",
       "    .dataframe tbody tr th:only-of-type {\n",
       "        vertical-align: middle;\n",
       "    }\n",
       "\n",
       "    .dataframe tbody tr th {\n",
       "        vertical-align: top;\n",
       "    }\n",
       "\n",
       "    .dataframe thead th {\n",
       "        text-align: right;\n",
       "    }\n",
       "</style>\n",
       "<table border=\"1\" class=\"dataframe\">\n",
       "  <thead>\n",
       "    <tr style=\"text-align: right;\">\n",
       "      <th></th>\n",
       "      <th>Code</th>\n",
       "      <th>ISU_CD</th>\n",
       "      <th>Name</th>\n",
       "      <th>Market</th>\n",
       "      <th>Dept</th>\n",
       "      <th>Close</th>\n",
       "      <th>ChangeCode</th>\n",
       "      <th>Changes</th>\n",
       "      <th>ChagesRatio</th>\n",
       "      <th>Open</th>\n",
       "      <th>High</th>\n",
       "      <th>Low</th>\n",
       "      <th>Volume</th>\n",
       "      <th>Amount</th>\n",
       "      <th>Marcap</th>\n",
       "      <th>Stocks</th>\n",
       "      <th>MarketId</th>\n",
       "    </tr>\n",
       "  </thead>\n",
       "  <tbody>\n",
       "    <tr>\n",
       "      <th>2854</th>\n",
       "      <td>419700</td>\n",
       "      <td>KR7419700000</td>\n",
       "      <td>이브이파킹서비스</td>\n",
       "      <td>KONEX</td>\n",
       "      <td>일반기업부</td>\n",
       "      <td>4</td>\n",
       "      <td>1</td>\n",
       "      <td>1</td>\n",
       "      <td>33.33</td>\n",
       "      <td>3</td>\n",
       "      <td>4</td>\n",
       "      <td>3</td>\n",
       "      <td>1121942</td>\n",
       "      <td>4153755</td>\n",
       "      <td>69066664</td>\n",
       "      <td>17266666</td>\n",
       "      <td>KNX</td>\n",
       "    </tr>\n",
       "  </tbody>\n",
       "</table>\n",
       "</div>"
      ],
      "text/plain": [
       "        Code        ISU_CD      Name Market   Dept Close ChangeCode  Changes  \\\n",
       "2854  419700  KR7419700000  이브이파킹서비스  KONEX  일반기업부     4          1        1   \n",
       "\n",
       "      ChagesRatio  Open  High  Low   Volume   Amount    Marcap    Stocks  \\\n",
       "2854        33.33     3     4    3  1121942  4153755  69066664  17266666   \n",
       "\n",
       "     MarketId  \n",
       "2854      KNX  "
      ]
     },
     "metadata": {},
     "output_type": "display_data"
    },
    {
     "data": {
      "text/html": [
       "<div>\n",
       "<style scoped>\n",
       "    .dataframe tbody tr th:only-of-type {\n",
       "        vertical-align: middle;\n",
       "    }\n",
       "\n",
       "    .dataframe tbody tr th {\n",
       "        vertical-align: top;\n",
       "    }\n",
       "\n",
       "    .dataframe thead th {\n",
       "        text-align: right;\n",
       "    }\n",
       "</style>\n",
       "<table border=\"1\" class=\"dataframe\">\n",
       "  <thead>\n",
       "    <tr style=\"text-align: right;\">\n",
       "      <th></th>\n",
       "      <th>Code</th>\n",
       "      <th>Name</th>\n",
       "      <th>Market</th>\n",
       "      <th>Sector</th>\n",
       "      <th>Industry</th>\n",
       "      <th>ListingDate</th>\n",
       "      <th>SettleMonth</th>\n",
       "      <th>Representative</th>\n",
       "      <th>HomePage</th>\n",
       "      <th>Region</th>\n",
       "    </tr>\n",
       "  </thead>\n",
       "  <tbody>\n",
       "    <tr>\n",
       "      <th>2854</th>\n",
       "      <td>238490</td>\n",
       "      <td>힘스</td>\n",
       "      <td>KOSDAQ</td>\n",
       "      <td>특수 목적용 기계 제조업</td>\n",
       "      <td>OLED Mask 인장기, OLED Mask 검사기 등</td>\n",
       "      <td>2017-07-20</td>\n",
       "      <td>12월</td>\n",
       "      <td>김주환</td>\n",
       "      <td>http://www.hims.co.kr</td>\n",
       "      <td>인천광역시</td>\n",
       "    </tr>\n",
       "  </tbody>\n",
       "</table>\n",
       "</div>"
      ],
      "text/plain": [
       "        Code Name  Market         Sector                        Industry  \\\n",
       "2854  238490   힘스  KOSDAQ  특수 목적용 기계 제조업  OLED Mask 인장기, OLED Mask 검사기 등   \n",
       "\n",
       "     ListingDate SettleMonth Representative               HomePage Region  \n",
       "2854  2017-07-20         12월            김주환  http://www.hims.co.kr  인천광역시  "
      ]
     },
     "metadata": {},
     "output_type": "display_data"
    }
   ],
   "source": [
    "display(stocks.tail(1))\n",
    "display(stocks_desc.tail(1))"
   ]
  },
  {
   "cell_type": "code",
   "execution_count": 126,
   "id": "ef5b1180-de96-429e-b199-599b91a9f898",
   "metadata": {},
   "outputs": [
    {
     "name": "stdout",
     "output_type": "stream",
     "text": [
      "<class 'pandas.core.frame.DataFrame'>\n",
      "RangeIndex: 2856 entries, 0 to 2855\n",
      "Data columns (total 17 columns):\n",
      " #   Column       Non-Null Count  Dtype  \n",
      "---  ------       --------------  -----  \n",
      " 0   Code         2856 non-null   object \n",
      " 1   ISU_CD       2856 non-null   object \n",
      " 2   Name         2856 non-null   object \n",
      " 3   Market       2856 non-null   object \n",
      " 4   Dept         2856 non-null   object \n",
      " 5   Close        2856 non-null   object \n",
      " 6   ChangeCode   2856 non-null   object \n",
      " 7   Changes      2856 non-null   int64  \n",
      " 8   ChagesRatio  2856 non-null   float64\n",
      " 9   Open         2856 non-null   int64  \n",
      " 10  High         2856 non-null   int64  \n",
      " 11  Low          2856 non-null   int64  \n",
      " 12  Volume       2856 non-null   int64  \n",
      " 13  Amount       2856 non-null   int64  \n",
      " 14  Marcap       2856 non-null   int64  \n",
      " 15  Stocks       2856 non-null   int64  \n",
      " 16  MarketId     2856 non-null   object \n",
      "dtypes: float64(1), int64(8), object(8)\n",
      "memory usage: 379.4+ KB\n"
     ]
    }
   ],
   "source": [
    "# 데이터 프레임에 대한 기본 정보(행수,컴럼명,컬럼수,각 컬럼의 데이터 타입, 결측치 확인)\n",
    "stocks.info()"
   ]
  },
  {
   "cell_type": "code",
   "execution_count": 127,
   "id": "50accd0e-9c9c-4533-8a69-a08411302326",
   "metadata": {},
   "outputs": [
    {
     "data": {
      "text/html": [
       "<div>\n",
       "<style scoped>\n",
       "    .dataframe tbody tr th:only-of-type {\n",
       "        vertical-align: middle;\n",
       "    }\n",
       "\n",
       "    .dataframe tbody tr th {\n",
       "        vertical-align: top;\n",
       "    }\n",
       "\n",
       "    .dataframe thead th {\n",
       "        text-align: right;\n",
       "    }\n",
       "</style>\n",
       "<table border=\"1\" class=\"dataframe\">\n",
       "  <thead>\n",
       "    <tr style=\"text-align: right;\">\n",
       "      <th></th>\n",
       "      <th>Changes</th>\n",
       "      <th>ChagesRatio</th>\n",
       "      <th>Open</th>\n",
       "      <th>High</th>\n",
       "      <th>Low</th>\n",
       "      <th>Volume</th>\n",
       "      <th>Amount</th>\n",
       "      <th>Marcap</th>\n",
       "      <th>Stocks</th>\n",
       "    </tr>\n",
       "  </thead>\n",
       "  <tbody>\n",
       "    <tr>\n",
       "      <th>count</th>\n",
       "      <td>2856.000000</td>\n",
       "      <td>2856.000000</td>\n",
       "      <td>2.856000e+03</td>\n",
       "      <td>2.856000e+03</td>\n",
       "      <td>2.856000e+03</td>\n",
       "      <td>2.856000e+03</td>\n",
       "      <td>2.856000e+03</td>\n",
       "      <td>2.856000e+03</td>\n",
       "      <td>2.856000e+03</td>\n",
       "    </tr>\n",
       "    <tr>\n",
       "      <th>mean</th>\n",
       "      <td>-252.238095</td>\n",
       "      <td>-1.340434</td>\n",
       "      <td>1.735008e+04</td>\n",
       "      <td>1.772746e+04</td>\n",
       "      <td>1.658957e+04</td>\n",
       "      <td>5.309359e+05</td>\n",
       "      <td>6.083786e+09</td>\n",
       "      <td>8.130226e+11</td>\n",
       "      <td>4.186027e+07</td>\n",
       "    </tr>\n",
       "    <tr>\n",
       "      <th>std</th>\n",
       "      <td>3615.763860</td>\n",
       "      <td>3.899823</td>\n",
       "      <td>5.960333e+04</td>\n",
       "      <td>6.369783e+04</td>\n",
       "      <td>5.402176e+04</td>\n",
       "      <td>2.191040e+06</td>\n",
       "      <td>3.565241e+10</td>\n",
       "      <td>7.277021e+12</td>\n",
       "      <td>1.327892e+08</td>\n",
       "    </tr>\n",
       "    <tr>\n",
       "      <th>min</th>\n",
       "      <td>-187000.000000</td>\n",
       "      <td>-29.930000</td>\n",
       "      <td>0.000000e+00</td>\n",
       "      <td>0.000000e+00</td>\n",
       "      <td>0.000000e+00</td>\n",
       "      <td>0.000000e+00</td>\n",
       "      <td>0.000000e+00</td>\n",
       "      <td>5.180000e+07</td>\n",
       "      <td>2.000000e+05</td>\n",
       "    </tr>\n",
       "    <tr>\n",
       "      <th>25%</th>\n",
       "      <td>-200.000000</td>\n",
       "      <td>-3.060000</td>\n",
       "      <td>2.000000e+03</td>\n",
       "      <td>2.015000e+03</td>\n",
       "      <td>1.970750e+03</td>\n",
       "      <td>2.497900e+04</td>\n",
       "      <td>1.015650e+08</td>\n",
       "      <td>4.137168e+10</td>\n",
       "      <td>1.017354e+07</td>\n",
       "    </tr>\n",
       "    <tr>\n",
       "      <th>50%</th>\n",
       "      <td>-50.000000</td>\n",
       "      <td>-1.280000</td>\n",
       "      <td>4.677500e+03</td>\n",
       "      <td>4.797500e+03</td>\n",
       "      <td>4.445000e+03</td>\n",
       "      <td>9.306500e+04</td>\n",
       "      <td>4.239842e+08</td>\n",
       "      <td>8.954548e+10</td>\n",
       "      <td>1.977295e+07</td>\n",
       "    </tr>\n",
       "    <tr>\n",
       "      <th>75%</th>\n",
       "      <td>0.000000</td>\n",
       "      <td>0.000000</td>\n",
       "      <td>1.266750e+04</td>\n",
       "      <td>1.288250e+04</td>\n",
       "      <td>1.211000e+04</td>\n",
       "      <td>2.738850e+05</td>\n",
       "      <td>1.842106e+09</td>\n",
       "      <td>2.277213e+11</td>\n",
       "      <td>4.189457e+07</td>\n",
       "    </tr>\n",
       "    <tr>\n",
       "      <th>max</th>\n",
       "      <td>8800.000000</td>\n",
       "      <td>30.000000</td>\n",
       "      <td>2.124000e+06</td>\n",
       "      <td>2.407000e+06</td>\n",
       "      <td>1.736000e+06</td>\n",
       "      <td>3.784488e+07</td>\n",
       "      <td>1.228937e+12</td>\n",
       "      <td>3.229652e+14</td>\n",
       "      <td>5.969783e+09</td>\n",
       "    </tr>\n",
       "  </tbody>\n",
       "</table>\n",
       "</div>"
      ],
      "text/plain": [
       "             Changes  ChagesRatio          Open          High           Low  \\\n",
       "count    2856.000000  2856.000000  2.856000e+03  2.856000e+03  2.856000e+03   \n",
       "mean     -252.238095    -1.340434  1.735008e+04  1.772746e+04  1.658957e+04   \n",
       "std      3615.763860     3.899823  5.960333e+04  6.369783e+04  5.402176e+04   \n",
       "min   -187000.000000   -29.930000  0.000000e+00  0.000000e+00  0.000000e+00   \n",
       "25%      -200.000000    -3.060000  2.000000e+03  2.015000e+03  1.970750e+03   \n",
       "50%       -50.000000    -1.280000  4.677500e+03  4.797500e+03  4.445000e+03   \n",
       "75%         0.000000     0.000000  1.266750e+04  1.288250e+04  1.211000e+04   \n",
       "max      8800.000000    30.000000  2.124000e+06  2.407000e+06  1.736000e+06   \n",
       "\n",
       "             Volume        Amount        Marcap        Stocks  \n",
       "count  2.856000e+03  2.856000e+03  2.856000e+03  2.856000e+03  \n",
       "mean   5.309359e+05  6.083786e+09  8.130226e+11  4.186027e+07  \n",
       "std    2.191040e+06  3.565241e+10  7.277021e+12  1.327892e+08  \n",
       "min    0.000000e+00  0.000000e+00  5.180000e+07  2.000000e+05  \n",
       "25%    2.497900e+04  1.015650e+08  4.137168e+10  1.017354e+07  \n",
       "50%    9.306500e+04  4.239842e+08  8.954548e+10  1.977295e+07  \n",
       "75%    2.738850e+05  1.842106e+09  2.277213e+11  4.189457e+07  \n",
       "max    3.784488e+07  1.228937e+12  3.229652e+14  5.969783e+09  "
      ]
     },
     "execution_count": 127,
     "metadata": {},
     "output_type": "execute_result"
    }
   ],
   "source": [
    "# 요약 통계량 제공, 매개값이 없으면 숫자컬럼만 제공함.\n",
    "# count : nan값을 제외한 컴럼 데이터수\n",
    "# mean : 평균\n",
    "# std : 표준편차\n",
    "# min, max : 최소,최대값\n",
    "# 사분위수 : 값의 범위를 4분위로 나눈 수. \n",
    "stocks.describe()"
   ]
  },
  {
   "cell_type": "code",
   "execution_count": 17,
   "id": "62912423-c82b-4bb2-9245-3fb7bf72e3e0",
   "metadata": {},
   "outputs": [
    {
     "data": {
      "text/plain": [
       "<Axes: >"
      ]
     },
     "execution_count": 17,
     "metadata": {},
     "output_type": "execute_result"
    },
    {
     "data": {
      "image/png": "[encoded data removed]",
      "text/plain": [
       "<Figure size 640x480 with 1 Axes>"
      ]
     },
     "metadata": {},
     "output_type": "display_data"
    }
   ],
   "source": [
    "# stocks['Marcap'].plot(kind='box')"
   ]
  },
  {
   "cell_type": "code",
   "execution_count": 128,
   "id": "ab2e28fe-ee6d-4700-9fe8-2fc0b3a5502b",
   "metadata": {},
   "outputs": [
    {
     "data": {
      "text/html": [
       "<div>\n",
       "<style scoped>\n",
       "    .dataframe tbody tr th:only-of-type {\n",
       "        vertical-align: middle;\n",
       "    }\n",
       "\n",
       "    .dataframe tbody tr th {\n",
       "        vertical-align: top;\n",
       "    }\n",
       "\n",
       "    .dataframe thead th {\n",
       "        text-align: right;\n",
       "    }\n",
       "</style>\n",
       "<table border=\"1\" class=\"dataframe\">\n",
       "  <thead>\n",
       "    <tr style=\"text-align: right;\">\n",
       "      <th></th>\n",
       "      <th>Code</th>\n",
       "      <th>ISU_CD</th>\n",
       "      <th>Name</th>\n",
       "      <th>Market</th>\n",
       "      <th>Dept</th>\n",
       "      <th>Close</th>\n",
       "      <th>ChangeCode</th>\n",
       "      <th>MarketId</th>\n",
       "    </tr>\n",
       "  </thead>\n",
       "  <tbody>\n",
       "    <tr>\n",
       "      <th>count</th>\n",
       "      <td>2856</td>\n",
       "      <td>2856</td>\n",
       "      <td>2856</td>\n",
       "      <td>2856</td>\n",
       "      <td>2856</td>\n",
       "      <td>2856</td>\n",
       "      <td>2856</td>\n",
       "      <td>2856</td>\n",
       "    </tr>\n",
       "    <tr>\n",
       "      <th>unique</th>\n",
       "      <td>2856</td>\n",
       "      <td>2856</td>\n",
       "      <td>2856</td>\n",
       "      <td>4</td>\n",
       "      <td>10</td>\n",
       "      <td>1997</td>\n",
       "      <td>6</td>\n",
       "      <td>3</td>\n",
       "    </tr>\n",
       "    <tr>\n",
       "      <th>top</th>\n",
       "      <td>005930</td>\n",
       "      <td>KR7005930003</td>\n",
       "      <td>삼성전자</td>\n",
       "      <td>KOSDAQ</td>\n",
       "      <td></td>\n",
       "      <td>2000</td>\n",
       "      <td>2</td>\n",
       "      <td>KSQ</td>\n",
       "    </tr>\n",
       "    <tr>\n",
       "      <th>freq</th>\n",
       "      <td>1</td>\n",
       "      <td>1</td>\n",
       "      <td>1</td>\n",
       "      <td>1728</td>\n",
       "      <td>960</td>\n",
       "      <td>11</td>\n",
       "      <td>2013</td>\n",
       "      <td>1776</td>\n",
       "    </tr>\n",
       "  </tbody>\n",
       "</table>\n",
       "</div>"
      ],
      "text/plain": [
       "          Code        ISU_CD  Name  Market  Dept Close ChangeCode MarketId\n",
       "count     2856          2856  2856    2856  2856  2856       2856     2856\n",
       "unique    2856          2856  2856       4    10  1997          6        3\n",
       "top     005930  KR7005930003  삼성전자  KOSDAQ        2000          2      KSQ\n",
       "freq         1             1     1    1728   960    11       2013     1776"
      ]
     },
     "execution_count": 128,
     "metadata": {},
     "output_type": "execute_result"
    }
   ],
   "source": [
    "# 문자열 컬럼(범주형 컬럼)에 대한 요약 통계보기\n",
    "# count : 컬럼값의 수(nan값제외)\n",
    "# unique : 컬럼의 고유값 갯수\n",
    "# top : 최빈값(가장 빈번하게 나타나는 값) or 모든 컬럼 값이 유일한경우 제일 위에 위치한 값\n",
    "# freq : 최빈값 빈도\n",
    "stocks.describe(include='O')"
   ]
  },
  {
   "cell_type": "code",
   "execution_count": 129,
   "id": "7fd67440-ea1b-438d-9826-e2318f60cb91",
   "metadata": {},
   "outputs": [
    {
     "name": "stdout",
     "output_type": "stream",
     "text": [
      "<class 'numpy.ndarray'>\n",
      "['1' '2' '3' '0' '5' '4']\n"
     ]
    }
   ],
   "source": [
    "# 고유값의 목록 확인\n",
    "print(type(stocks['ChangeCode'].unique()))\n",
    "print(stocks['ChangeCode'].unique())"
   ]
  },
  {
   "cell_type": "code",
   "execution_count": 130,
   "id": "60515d85-919d-4e72-b2b0-dbb15cfe0a72",
   "metadata": {},
   "outputs": [
    {
     "name": "stdout",
     "output_type": "stream",
     "text": [
      "<class 'pandas.core.series.Series'>\n",
      "ChangeCode\n",
      "2    2013\n",
      "1     610\n",
      "0     126\n",
      "3      96\n",
      "5       6\n",
      "4       5\n",
      "Name: count, dtype: int64\n"
     ]
    }
   ],
   "source": [
    "# 고유값의 목록,갯수 확인\n",
    "print(type(stocks['ChangeCode'].value_counts()))\n",
    "print(stocks['ChangeCode'].value_counts())"
   ]
  },
  {
   "cell_type": "code",
   "execution_count": 131,
   "id": "262061c4-c769-450e-b1ff-127074020be2",
   "metadata": {},
   "outputs": [
    {
     "data": {
      "text/plain": [
       "Index(['Code', 'ISU_CD', 'Name', 'Market', 'Dept', 'Close', 'ChangeCode',\n",
       "       'Changes', 'ChagesRatio', 'Open', 'High', 'Low', 'Volume', 'Amount',\n",
       "       'Marcap', 'Stocks', 'MarketId'],\n",
       "      dtype='object')"
      ]
     },
     "execution_count": 131,
     "metadata": {},
     "output_type": "execute_result"
    }
   ],
   "source": [
    "# 데이터 프레레임의 컬럼 메타정보\n",
    "stocks.columns"
   ]
  },
  {
   "cell_type": "code",
   "execution_count": 132,
   "id": "7d57fbaa-5d76-494c-9f1a-76830ce4eb2e",
   "metadata": {},
   "outputs": [
    {
     "name": "stdout",
     "output_type": "stream",
     "text": [
      "Index(['Code', 'Name', 'Market', 'Dept', 'Close', 'ChangeCode', 'Changes',\n",
      "       'ChagesRatio', 'Open', 'High', 'Low', 'Volume', 'Amount', 'Marcap',\n",
      "       'Stocks', 'MarketId'],\n",
      "      dtype='object')\n",
      "Index(['Code', 'Sector', 'Industry', 'ListingDate', 'SettleMonth',\n",
      "       'Representative', 'HomePage', 'Region'],\n",
      "      dtype='object')\n"
     ]
    }
   ],
   "source": [
    "# 컬럼제거 : 필요없는 행이나 열을 제거\n",
    "new_stocks = stocks.drop('ISU_CD',axis=1)\n",
    "new_stocks_desc = stocks_desc.drop(['Name', 'Market'],axis=1)\n",
    "print(new_stocks.columns)\n",
    "print(new_stocks_desc.columns)"
   ]
  },
  {
   "cell_type": "markdown",
   "id": "7d0816ed-a002-40cd-9741-5cb816087a66",
   "metadata": {},
   "source": [
    "#### 2개의 데이터 프레임 합치기\n",
    "- merge : 가로방향으로 열추가"
   ]
  },
  {
   "cell_type": "code",
   "execution_count": 133,
   "id": "cd9fc517-6967-4696-accd-a897af180eb0",
   "metadata": {},
   "outputs": [],
   "source": [
    "import pandas as pd"
   ]
  },
  {
   "cell_type": "code",
   "execution_count": 134,
   "id": "cd987140-a0f8-4021-a447-d519996b9b81",
   "metadata": {},
   "outputs": [],
   "source": [
    "# new_stocks join new_stocks_desc\n",
    "new_stocks = pd.merge(new_stocks,new_stocks_desc)"
   ]
  },
  {
   "cell_type": "code",
   "execution_count": 135,
   "id": "756c67b8-986f-4d49-9f1e-2e6a0f461f33",
   "metadata": {},
   "outputs": [
    {
     "data": {
      "text/plain": [
       "(2856, 23)"
      ]
     },
     "execution_count": 135,
     "metadata": {},
     "output_type": "execute_result"
    }
   ],
   "source": [
    "new_stocks.shape"
   ]
  },
  {
   "cell_type": "code",
   "execution_count": 136,
   "id": "b500254f-f4c2-4808-a156-6823b5053633",
   "metadata": {},
   "outputs": [
    {
     "data": {
      "text/html": [
       "<div>\n",
       "<style scoped>\n",
       "    .dataframe tbody tr th:only-of-type {\n",
       "        vertical-align: middle;\n",
       "    }\n",
       "\n",
       "    .dataframe tbody tr th {\n",
       "        vertical-align: top;\n",
       "    }\n",
       "\n",
       "    .dataframe thead th {\n",
       "        text-align: right;\n",
       "    }\n",
       "</style>\n",
       "<table border=\"1\" class=\"dataframe\">\n",
       "  <thead>\n",
       "    <tr style=\"text-align: right;\">\n",
       "      <th></th>\n",
       "      <th>Code</th>\n",
       "      <th>Name</th>\n",
       "      <th>Market</th>\n",
       "      <th>Dept</th>\n",
       "      <th>Close</th>\n",
       "      <th>ChangeCode</th>\n",
       "      <th>Changes</th>\n",
       "      <th>ChagesRatio</th>\n",
       "      <th>Open</th>\n",
       "      <th>High</th>\n",
       "      <th>...</th>\n",
       "      <th>Marcap</th>\n",
       "      <th>Stocks</th>\n",
       "      <th>MarketId</th>\n",
       "      <th>Sector</th>\n",
       "      <th>Industry</th>\n",
       "      <th>ListingDate</th>\n",
       "      <th>SettleMonth</th>\n",
       "      <th>Representative</th>\n",
       "      <th>HomePage</th>\n",
       "      <th>Region</th>\n",
       "    </tr>\n",
       "  </thead>\n",
       "  <tbody>\n",
       "    <tr>\n",
       "      <th>0</th>\n",
       "      <td>005930</td>\n",
       "      <td>삼성전자</td>\n",
       "      <td>KOSPI</td>\n",
       "      <td></td>\n",
       "      <td>54100</td>\n",
       "      <td>1</td>\n",
       "      <td>400</td>\n",
       "      <td>0.74</td>\n",
       "      <td>53900</td>\n",
       "      <td>54400</td>\n",
       "      <td>...</td>\n",
       "      <td>322965235955000</td>\n",
       "      <td>5969782550</td>\n",
       "      <td>STK</td>\n",
       "      <td>통신 및 방송 장비 제조업</td>\n",
       "      <td>통신 및 방송 장비 제조(무선) 제품, 반도체 제조(메모리) 제품, 전자부품 제조(...</td>\n",
       "      <td>1975-06-11</td>\n",
       "      <td>12월</td>\n",
       "      <td>한종희</td>\n",
       "      <td>http://www.samsung.com/sec</td>\n",
       "      <td>경기도</td>\n",
       "    </tr>\n",
       "  </tbody>\n",
       "</table>\n",
       "<p>1 rows × 23 columns</p>\n",
       "</div>"
      ],
      "text/plain": [
       "     Code  Name Market Dept  Close ChangeCode  Changes  ChagesRatio   Open  \\\n",
       "0  005930  삼성전자  KOSPI       54100          1      400         0.74  53900   \n",
       "\n",
       "    High  ...           Marcap      Stocks  MarketId          Sector  \\\n",
       "0  54400  ...  322965235955000  5969782550       STK  통신 및 방송 장비 제조업   \n",
       "\n",
       "                                            Industry ListingDate SettleMonth  \\\n",
       "0  통신 및 방송 장비 제조(무선) 제품, 반도체 제조(메모리) 제품, 전자부품 제조(...  1975-06-11         12월   \n",
       "\n",
       "  Representative                    HomePage Region  \n",
       "0            한종희  http://www.samsung.com/sec    경기도  \n",
       "\n",
       "[1 rows x 23 columns]"
      ]
     },
     "execution_count": 136,
     "metadata": {},
     "output_type": "execute_result"
    }
   ],
   "source": [
    "new_stocks.head(1)"
   ]
  },
  {
   "cell_type": "code",
   "execution_count": 137,
   "id": "9af15d74-b423-4d49-b13f-8b7f865ce160",
   "metadata": {},
   "outputs": [
    {
     "data": {
      "text/html": [
       "<div>\n",
       "<style scoped>\n",
       "    .dataframe tbody tr th:only-of-type {\n",
       "        vertical-align: middle;\n",
       "    }\n",
       "\n",
       "    .dataframe tbody tr th {\n",
       "        vertical-align: top;\n",
       "    }\n",
       "\n",
       "    .dataframe thead th {\n",
       "        text-align: right;\n",
       "    }\n",
       "</style>\n",
       "<table border=\"1\" class=\"dataframe\">\n",
       "  <thead>\n",
       "    <tr style=\"text-align: right;\">\n",
       "      <th></th>\n",
       "      <th>Code</th>\n",
       "      <th>Sector</th>\n",
       "      <th>Industry</th>\n",
       "      <th>ListingDate</th>\n",
       "      <th>SettleMonth</th>\n",
       "      <th>Representative</th>\n",
       "      <th>HomePage</th>\n",
       "      <th>Region</th>\n",
       "    </tr>\n",
       "  </thead>\n",
       "  <tbody>\n",
       "    <tr>\n",
       "      <th>0</th>\n",
       "      <td>060310</td>\n",
       "      <td>측정, 시험, 항해, 제어 및 기타 정밀기기 제조업; 광학기기 제외</td>\n",
       "      <td>반도체 웨이퍼 캐리어</td>\n",
       "      <td>2002-04-23</td>\n",
       "      <td>03월</td>\n",
       "      <td>김세완</td>\n",
       "      <td>http://www.3sref.com</td>\n",
       "      <td>서울특별시</td>\n",
       "    </tr>\n",
       "  </tbody>\n",
       "</table>\n",
       "</div>"
      ],
      "text/plain": [
       "     Code                                 Sector     Industry ListingDate  \\\n",
       "0  060310  측정, 시험, 항해, 제어 및 기타 정밀기기 제조업; 광학기기 제외  반도체 웨이퍼 캐리어  2002-04-23   \n",
       "\n",
       "  SettleMonth Representative              HomePage Region  \n",
       "0         03월            김세완  http://www.3sref.com  서울특별시  "
      ]
     },
     "execution_count": 137,
     "metadata": {},
     "output_type": "execute_result"
    }
   ],
   "source": [
    "new_stocks_desc.head(1)"
   ]
  },
  {
   "cell_type": "markdown",
   "id": "b4b42ff4-3cbe-4ce7-b180-3c948a671ed2",
   "metadata": {},
   "source": [
    "#### 엑셀로 저장하기"
   ]
  },
  {
   "cell_type": "code",
   "execution_count": 138,
   "id": "a24e2831-204b-43a9-85a5-33206e1f4b38",
   "metadata": {},
   "outputs": [
    {
     "name": "stdout",
     "output_type": "stream",
     "text": [
      "(2856, 23)\n"
     ]
    }
   ],
   "source": [
    "# 엑셀로 저장하기\n",
    "print(new_stocks.shape)\n",
    "new_stocks.to_excel('stocks.xlsx',index=False)"
   ]
  },
  {
   "cell_type": "code",
   "execution_count": 139,
   "id": "ffde5895-e956-404f-a95a-00189318c794",
   "metadata": {},
   "outputs": [],
   "source": [
    "df = pd.read_excel('stocks.xlsx')"
   ]
  },
  {
   "cell_type": "code",
   "execution_count": 140,
   "id": "43d7672b-739f-43e5-8058-c7db5bef2886",
   "metadata": {},
   "outputs": [
    {
     "data": {
      "text/plain": [
       "(2856, 23)"
      ]
     },
     "execution_count": 140,
     "metadata": {},
     "output_type": "execute_result"
    }
   ],
   "source": [
    "df.shape"
   ]
  },
  {
   "cell_type": "markdown",
   "id": "98ef467b-2f3d-4a2d-b916-5cecdf231730",
   "metadata": {},
   "source": [
    "CSV파일로 저장하기"
   ]
  },
  {
   "cell_type": "code",
   "execution_count": 145,
   "id": "28757216-75e8-4e4d-9b6d-8d055178999c",
   "metadata": {},
   "outputs": [],
   "source": [
    "# CSV파일로 저장하기\n",
    "new_stocks.to_csv('stocks.csv', index=False)"
   ]
  },
  {
   "cell_type": "code",
   "execution_count": null,
   "id": "a19192d2-84cc-46ed-96b5-175e703d2857",
   "metadata": {},
   "outputs": [],
   "source": []
  }
 ],
 "metadata": {
  "kernelspec": {
   "display_name": "Python 3 (ipykernel)",
   "language": "python",
   "name": "python3"
  },
  "language_info": {
   "codemirror_mode": {
    "name": "ipython",
    "version": 3
   },
   "file_extension": ".py",
   "mimetype": "text/x-python",
   "name": "python",
   "nbconvert_exporter": "python",
   "pygments_lexer": "ipython3",
   "version": "3.12.7"
  }
 },
 "nbformat": 4,
 "nbformat_minor": 5
}
