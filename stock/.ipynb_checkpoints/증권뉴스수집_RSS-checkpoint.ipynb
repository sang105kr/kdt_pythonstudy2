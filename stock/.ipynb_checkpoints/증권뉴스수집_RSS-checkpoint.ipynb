{
 "cells": [
  {
   "cell_type": "markdown",
   "id": "2cedf63e-6d23-4450-8f8e-de58798c1a2a",
   "metadata": {},
   "source": [
    "# "
   ]
  },
  {
   "cell_type": "code",
   "execution_count": 78,
   "id": "600bc6e8-fb79-495e-ace1-b906f76b10b7",
   "metadata": {},
   "outputs": [],
   "source": [
    "import requests\n",
    "from bs4 import BeautifulSoup\n",
    "import re\n",
    "import pandas as pd\n",
    "import numpy as np"
   ]
  },
  {
   "cell_type": "code",
   "execution_count": 79,
   "id": "aeceee7a-a11c-4e9a-bec4-6707b73655d2",
   "metadata": {},
   "outputs": [],
   "source": [
    "news_rss_url = {\n",
    "    '매일경제' : 'https://www.mk.co.kr/rss/50200011/',\n",
    "    '한국경제' : 'https://www.hankyung.com/feed/finance' \n",
    "}"
   ]
  },
  {
   "cell_type": "code",
   "execution_count": 80,
   "id": "462f60c1-ca66-4fd8-a8d5-4d2e83431556",
   "metadata": {},
   "outputs": [],
   "source": [
    "class Article :\n",
    "    def __init__(self, *, media, datetime, title, content):\n",
    "        self.media = media\n",
    "        self.datetime = datetime\n",
    "        self.title = title\n",
    "        self.content = content"
   ]
  },
  {
   "cell_type": "code",
   "execution_count": 136,
   "id": "7cdefeb4-caba-4b0b-84b2-aec7f2b2ea18",
   "metadata": {},
   "outputs": [],
   "source": [
    "def get_news_rss(media, url) :    \n",
    "    article_list = [] # 기사 목록\n",
    "    title_list = []  # 기사 제목 목록\n",
    "    link_list = []   # 기사 링크 목록\n",
    "    news_data = []   # 기사 본문 목록\n",
    "    news_datetime = [] # 기사 작성일시 목록\n",
    "\n",
    "    headers = {\n",
    "        'User-Agent' : 'Mozilla/5.0 (Windows NT 10.0; Win64; x64) AppleWebKit/537.36 (KHTML, like Gecko) Chrome/131.0.0.0 Safari/537.36'\n",
    "    }    \n",
    "    news_rss = requests.get(url,headers)\n",
    "    news_rss_soup = BeautifulSoup(news_rss.content,'xml')\n",
    "    # 기사 제목 \n",
    "    title_list = news_rss_soup.select('item > title')\n",
    "    title_list = [title.text for title in title_list]\n",
    "    # 기사 상세링크 \n",
    "    link_list = news_rss_soup.select('item > link')\n",
    "    link_list = [link.text for link in link_list]\n",
    "    # 기사 내용, 기사 작성일시\n",
    "    for link in link_list :\n",
    "        news_res = requests.get(link, headers=headers)\n",
    "        news_content_soup = BeautifulSoup(news_res.content, 'lxml')\n",
    "\n",
    "        try:\n",
    "            if media == '매일경제':\n",
    "                news_content = news_content_soup.select_one('.news_cnt_detail_wrap')\n",
    "                news_data.append(news_content.text)\n",
    "                news_datetime.append(news_content_soup.select_one('.time_area .registration dd').text)    \n",
    "            elif media == '한국경제':\n",
    "                news_content = news_content_soup.select_one('#articletxt')\n",
    "                news_data.append(news_content.text)\n",
    "                news_datetime.append(news_content_soup.select_one('.datetime > .item > .txt-date').text)    \n",
    "        except Exception as e:\n",
    "            print(len(news_data),link)\n",
    "            print(e)\n",
    "            \n",
    "    # print(title_list)\n",
    "    # print(news_data)\n",
    "    # print(news_datetime)\n",
    "    print(len(title_list), len(news_data), len(news_datetime))\n",
    "    for item in zip(title_list, news_data, news_datetime):\n",
    "        # print(media, item[0],item[1],item[2])\n",
    "        article = Article(media = media, title=item[0], content=item[1], datetime=item[2])\n",
    "        article_list.append(article)    \n",
    "    \n",
    "    return article_list"
   ]
  },
  {
   "cell_type": "code",
   "execution_count": 137,
   "id": "350344d9-8976-4072-8be9-5dc230600ef6",
   "metadata": {},
   "outputs": [
    {
     "name": "stdout",
     "output_type": "stream",
     "text": [
      "매일경제 https://www.mk.co.kr/rss/50200011/\n",
      "50 50 50\n",
      "한국경제 https://www.hankyung.com/feed/finance\n",
      "50 50 50\n",
      "2\n"
     ]
    }
   ],
   "source": [
    "# 모든 언론사 기사를 합치기\n",
    "all_article_list = []\n",
    "for media, url in news_rss_url.items():\n",
    "    print(media,url)\n",
    "    all_article_list.append(get_news_rss(media,url))\n",
    "print(len(all_article_list))"
   ]
  },
  {
   "cell_type": "code",
   "execution_count": 138,
   "id": "c4cd1649-5906-43ba-809d-a6deab97a02d",
   "metadata": {},
   "outputs": [
    {
     "name": "stdout",
     "output_type": "stream",
     "text": [
      "100\n",
      "<class 'list'>\n"
     ]
    }
   ],
   "source": [
    "result = np.array(all_article_list).flatten().tolist()\n",
    "print(len(result))\n",
    "print(type(result))"
   ]
  },
  {
   "cell_type": "code",
   "execution_count": 139,
   "id": "798db3ee-9501-4d00-9633-e2bfb81043f2",
   "metadata": {},
   "outputs": [],
   "source": [
    "data = {\n",
    "    '언론사' : [ article.media for article in result ],\n",
    "    '제목' : [ article.title for article in result ],\n",
    "    '내용' : [ article.content for article in result ],\n",
    "    '작성일시' : [ article.datetime for article in result ],\n",
    "}"
   ]
  },
  {
   "cell_type": "code",
   "execution_count": 140,
   "id": "f6ab7ce5-1492-454f-8357-b86780b656ee",
   "metadata": {},
   "outputs": [],
   "source": [
    "df = pd.DataFrame(data)"
   ]
  },
  {
   "cell_type": "code",
   "execution_count": 141,
   "id": "920599f0-c1b2-4505-a881-1659111d1152",
   "metadata": {},
   "outputs": [
    {
     "data": {
      "text/html": [
       "<div>\n",
       "<style scoped>\n",
       "    .dataframe tbody tr th:only-of-type {\n",
       "        vertical-align: middle;\n",
       "    }\n",
       "\n",
       "    .dataframe tbody tr th {\n",
       "        vertical-align: top;\n",
       "    }\n",
       "\n",
       "    .dataframe thead th {\n",
       "        text-align: right;\n",
       "    }\n",
       "</style>\n",
       "<table border=\"1\" class=\"dataframe\">\n",
       "  <thead>\n",
       "    <tr style=\"text-align: right;\">\n",
       "      <th></th>\n",
       "      <th>언론사</th>\n",
       "      <th>제목</th>\n",
       "      <th>내용</th>\n",
       "      <th>작성일시</th>\n",
       "    </tr>\n",
       "  </thead>\n",
       "  <tbody>\n",
       "    <tr>\n",
       "      <th>0</th>\n",
       "      <td>매일경제</td>\n",
       "      <td>토스증권 커뮤니티서 가장 많은 관심 받은 종목은 ‘엔비디아’…2·3위는?</td>\n",
       "      <td>\\n      사진 확대    토스증권 2024년 커뮤니티 결산 이미지. [사진 출...</td>\n",
       "      <td>2024-12-26 14:00:29</td>\n",
       "    </tr>\n",
       "    <tr>\n",
       "      <th>1</th>\n",
       "      <td>매일경제</td>\n",
       "      <td>같은 조선株여도 갈린 초고수의 선택…삼성重은 매수·현대重은 매도 [주식 초고수는 지금]</td>\n",
       "      <td>\\n주식 투사 수익률 상위 1% 초고수들은 26일 오전 9시 30분 기준 HD현대일...</td>\n",
       "      <td>2024-12-26 13:52:54</td>\n",
       "    </tr>\n",
       "    <tr>\n",
       "      <th>2</th>\n",
       "      <td>매일경제</td>\n",
       "      <td>“美 대선 등 대내외 불확실성 높았던 한 해”…코스닥 공모 금액도 3년째 줄어</td>\n",
       "      <td>\\n      사진 확대    한국거래소 황소상. [사진 제공 = 한국거래소]  코...</td>\n",
       "      <td>2024-12-26 13:52:14</td>\n",
       "    </tr>\n",
       "  </tbody>\n",
       "</table>\n",
       "</div>"
      ],
      "text/plain": [
       "    언론사                                                제목  \\\n",
       "0  매일경제          토스증권 커뮤니티서 가장 많은 관심 받은 종목은 ‘엔비디아’…2·3위는?   \n",
       "1  매일경제  같은 조선株여도 갈린 초고수의 선택…삼성重은 매수·현대重은 매도 [주식 초고수는 지금]   \n",
       "2  매일경제       “美 대선 등 대내외 불확실성 높았던 한 해”…코스닥 공모 금액도 3년째 줄어   \n",
       "\n",
       "                                                  내용                 작성일시  \n",
       "0  \\n      사진 확대    토스증권 2024년 커뮤니티 결산 이미지. [사진 출...  2024-12-26 14:00:29  \n",
       "1  \\n주식 투사 수익률 상위 1% 초고수들은 26일 오전 9시 30분 기준 HD현대일...  2024-12-26 13:52:54  \n",
       "2  \\n      사진 확대    한국거래소 황소상. [사진 제공 = 한국거래소]  코...  2024-12-26 13:52:14  "
      ]
     },
     "execution_count": 141,
     "metadata": {},
     "output_type": "execute_result"
    }
   ],
   "source": [
    "df.head(3)"
   ]
  },
  {
   "cell_type": "code",
   "execution_count": 142,
   "id": "2e37cfbe-9de6-423d-b1d3-3b36690d3665",
   "metadata": {},
   "outputs": [
    {
     "data": {
      "text/plain": [
       "'2024-12-26'"
      ]
     },
     "execution_count": 142,
     "metadata": {},
     "output_type": "execute_result"
    }
   ],
   "source": [
    "# 날짜는 파이썬 표준라이브러리 datetime 사용\n",
    "import datetime\n",
    "# 오늘 날짜 구하기\n",
    "today = datetime.datetime.today()\n",
    "today = today.strftime('%Y-%m-%d')\n",
    "today"
   ]
  },
  {
   "cell_type": "code",
   "execution_count": 143,
   "id": "0e061ae2-c625-405c-878b-f896fd0d1e35",
   "metadata": {},
   "outputs": [],
   "source": [
    "df.to_csv(f'news_{today}.csv',index=False)"
   ]
  },
  {
   "cell_type": "code",
   "execution_count": null,
   "id": "57710f3f-c888-471b-9b5f-38288bf183bb",
   "metadata": {},
   "outputs": [],
   "source": []
  },
  {
   "cell_type": "code",
   "execution_count": null,
   "id": "6af1047e-70c1-4d7f-817a-a5c08275223f",
   "metadata": {},
   "outputs": [],
   "source": []
  }
 ],
 "metadata": {
  "kernelspec": {
   "display_name": "Python 3 (ipykernel)",
   "language": "python",
   "name": "python3"
  },
  "language_info": {
   "codemirror_mode": {
    "name": "ipython",
    "version": 3
   },
   "file_extension": ".py",
   "mimetype": "text/x-python",
   "name": "python",
   "nbconvert_exporter": "python",
   "pygments_lexer": "ipython3",
   "version": "3.12.7"
  }
 },
 "nbformat": 4,
 "nbformat_minor": 5
}
