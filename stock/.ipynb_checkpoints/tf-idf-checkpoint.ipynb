{
 "cells": [
  {
   "cell_type": "code",
   "execution_count": 228,
   "id": "41769bb8-774e-4cc7-9021-c1b7f805c226",
   "metadata": {
    "editable": true,
    "slideshow": {
     "slide_type": ""
    },
    "tags": []
   },
   "outputs": [],
   "source": [
    "import pandas as pd\n",
    "# from math import log\n",
    "import numpy as np"
   ]
  },
  {
   "cell_type": "code",
   "execution_count": 229,
   "id": "bd85b822-38f7-4d27-8207-cfbaadcacc85",
   "metadata": {},
   "outputs": [],
   "source": [
    "corpus = [\n",
    "    '배우고 싶은 자연어',\n",
    "    '배우고 싶은 딥러닝',\n",
    "    '딥러닝 머신러닝 배우고 싶은 머신러닝',\n",
    "    '자연어 처리 좋아요'\n",
    "]"
   ]
  },
  {
   "cell_type": "code",
   "execution_count": 230,
   "id": "d86fb813-84e6-4f78-946c-c23c13a73278",
   "metadata": {},
   "outputs": [],
   "source": [
    "vocab = list(set([w for doc in corpus for w in doc.split()]))\n",
    "vocab.sort()"
   ]
  },
  {
   "cell_type": "code",
   "execution_count": 231,
   "id": "c0795268-14c1-4f7b-b829-d70ebaa4a406",
   "metadata": {},
   "outputs": [
    {
     "data": {
      "text/plain": [
       "['딥러닝', '머신러닝', '배우고', '싶은', '자연어', '좋아요', '처리']"
      ]
     },
     "execution_count": 231,
     "metadata": {},
     "output_type": "execute_result"
    }
   ],
   "source": [
    "vocab"
   ]
  },
  {
   "cell_type": "code",
   "execution_count": 232,
   "id": "6a8b05e2-b0b1-4f7f-94cd-9994f30cac4f",
   "metadata": {},
   "outputs": [
    {
     "data": {
      "text/plain": [
       "7"
      ]
     },
     "execution_count": 232,
     "metadata": {},
     "output_type": "execute_result"
    }
   ],
   "source": [
    "N = len(vocab)\n",
    "N"
   ]
  },
  {
   "cell_type": "code",
   "execution_count": 247,
   "id": "eaf05500-5062-4ac2-83a1-d1b887d2c5c8",
   "metadata": {
    "editable": true,
    "slideshow": {
     "slide_type": ""
    },
    "tags": []
   },
   "outputs": [],
   "source": [
    "# 문서수\n",
    "dc = len(corpus)\n",
    "\n",
    "# 단어빈도\n",
    "def tf(t, d):\n",
    "    return d.count(t)\n",
    "\n",
    "# Inverse-문서빈도\n",
    "def idf(t) :\n",
    "    df = 0\n",
    "    for doc in corpus:\n",
    "        df += t in doc\n",
    "        \n",
    "    # return  np.log( dc / (df + 1) )   \n",
    "    return  np.log( (dc + 1) / (df + 1) ) + 1   # 전체문서수 / 단어가 등장하는 문서 수 \n",
    "\n",
    "# 단어빈도 * Inverse-문서빈도 => 가중치\n",
    "def tfidf(t, d):\n",
    "    return tf(t,d) * idf(t)    "
   ]
  },
  {
   "cell_type": "code",
   "execution_count": 248,
   "id": "2693a672-6796-461c-9278-2e92c57470f0",
   "metadata": {},
   "outputs": [],
   "source": [
    "result = []\n",
    "for i in range(dc) :\n",
    "    result.append([])\n",
    "    d = corpus[i]\n",
    "    for j in range(len(vocab)) :\n",
    "        t = vocab[j]\n",
    "        result[-1].append(tf(t,d))\n",
    "\n",
    "tf_ = pd.DataFrame(result, columns = vocab)   "
   ]
  },
  {
   "cell_type": "code",
   "execution_count": 249,
   "id": "e115e3d1-917a-47ab-9aac-baaa5e5d170d",
   "metadata": {},
   "outputs": [
    {
     "data": {
      "text/html": [
       "<div>\n",
       "<style scoped>\n",
       "    .dataframe tbody tr th:only-of-type {\n",
       "        vertical-align: middle;\n",
       "    }\n",
       "\n",
       "    .dataframe tbody tr th {\n",
       "        vertical-align: top;\n",
       "    }\n",
       "\n",
       "    .dataframe thead th {\n",
       "        text-align: right;\n",
       "    }\n",
       "</style>\n",
       "<table border=\"1\" class=\"dataframe\">\n",
       "  <thead>\n",
       "    <tr style=\"text-align: right;\">\n",
       "      <th></th>\n",
       "      <th>딥러닝</th>\n",
       "      <th>머신러닝</th>\n",
       "      <th>배우고</th>\n",
       "      <th>싶은</th>\n",
       "      <th>자연어</th>\n",
       "      <th>좋아요</th>\n",
       "      <th>처리</th>\n",
       "    </tr>\n",
       "  </thead>\n",
       "  <tbody>\n",
       "    <tr>\n",
       "      <th>0</th>\n",
       "      <td>0</td>\n",
       "      <td>0</td>\n",
       "      <td>1</td>\n",
       "      <td>1</td>\n",
       "      <td>1</td>\n",
       "      <td>0</td>\n",
       "      <td>0</td>\n",
       "    </tr>\n",
       "    <tr>\n",
       "      <th>1</th>\n",
       "      <td>1</td>\n",
       "      <td>0</td>\n",
       "      <td>1</td>\n",
       "      <td>1</td>\n",
       "      <td>0</td>\n",
       "      <td>0</td>\n",
       "      <td>0</td>\n",
       "    </tr>\n",
       "    <tr>\n",
       "      <th>2</th>\n",
       "      <td>1</td>\n",
       "      <td>2</td>\n",
       "      <td>1</td>\n",
       "      <td>1</td>\n",
       "      <td>0</td>\n",
       "      <td>0</td>\n",
       "      <td>0</td>\n",
       "    </tr>\n",
       "    <tr>\n",
       "      <th>3</th>\n",
       "      <td>0</td>\n",
       "      <td>0</td>\n",
       "      <td>0</td>\n",
       "      <td>0</td>\n",
       "      <td>1</td>\n",
       "      <td>1</td>\n",
       "      <td>1</td>\n",
       "    </tr>\n",
       "  </tbody>\n",
       "</table>\n",
       "</div>"
      ],
      "text/plain": [
       "   딥러닝  머신러닝  배우고  싶은  자연어  좋아요  처리\n",
       "0    0     0    1   1    1    0   0\n",
       "1    1     0    1   1    0    0   0\n",
       "2    1     2    1   1    0    0   0\n",
       "3    0     0    0   0    1    1   1"
      ]
     },
     "execution_count": 249,
     "metadata": {},
     "output_type": "execute_result"
    }
   ],
   "source": [
    "tf_"
   ]
  },
  {
   "cell_type": "code",
   "execution_count": 250,
   "id": "3d8aa849-4bed-4c0a-9efa-4b421d433fb3",
   "metadata": {},
   "outputs": [
    {
     "data": {
      "text/html": [
       "<div>\n",
       "<style scoped>\n",
       "    .dataframe tbody tr th:only-of-type {\n",
       "        vertical-align: middle;\n",
       "    }\n",
       "\n",
       "    .dataframe tbody tr th {\n",
       "        vertical-align: top;\n",
       "    }\n",
       "\n",
       "    .dataframe thead th {\n",
       "        text-align: right;\n",
       "    }\n",
       "</style>\n",
       "<table border=\"1\" class=\"dataframe\">\n",
       "  <thead>\n",
       "    <tr style=\"text-align: right;\">\n",
       "      <th></th>\n",
       "      <th>IDF</th>\n",
       "    </tr>\n",
       "  </thead>\n",
       "  <tbody>\n",
       "    <tr>\n",
       "      <th>딥러닝</th>\n",
       "      <td>1.510826</td>\n",
       "    </tr>\n",
       "    <tr>\n",
       "      <th>머신러닝</th>\n",
       "      <td>1.916291</td>\n",
       "    </tr>\n",
       "    <tr>\n",
       "      <th>배우고</th>\n",
       "      <td>1.223144</td>\n",
       "    </tr>\n",
       "    <tr>\n",
       "      <th>싶은</th>\n",
       "      <td>1.223144</td>\n",
       "    </tr>\n",
       "    <tr>\n",
       "      <th>자연어</th>\n",
       "      <td>1.510826</td>\n",
       "    </tr>\n",
       "    <tr>\n",
       "      <th>좋아요</th>\n",
       "      <td>1.916291</td>\n",
       "    </tr>\n",
       "    <tr>\n",
       "      <th>처리</th>\n",
       "      <td>1.916291</td>\n",
       "    </tr>\n",
       "  </tbody>\n",
       "</table>\n",
       "</div>"
      ],
      "text/plain": [
       "           IDF\n",
       "딥러닝   1.510826\n",
       "머신러닝  1.916291\n",
       "배우고   1.223144\n",
       "싶은    1.223144\n",
       "자연어   1.510826\n",
       "좋아요   1.916291\n",
       "처리    1.916291"
      ]
     },
     "execution_count": 250,
     "metadata": {},
     "output_type": "execute_result"
    }
   ],
   "source": [
    "result = []\n",
    "for j in range(len(vocab)) :\n",
    "    t = vocab[j]\n",
    "    result.append(idf(t))\n",
    "\n",
    "idf_ = pd.DataFrame(result, index=vocab, columns=['IDF'])\n",
    "idf_"
   ]
  },
  {
   "cell_type": "code",
   "execution_count": 251,
   "id": "86f398fb-1645-4cdb-b23d-962cedcca644",
   "metadata": {},
   "outputs": [
    {
     "data": {
      "text/html": [
       "<div>\n",
       "<style scoped>\n",
       "    .dataframe tbody tr th:only-of-type {\n",
       "        vertical-align: middle;\n",
       "    }\n",
       "\n",
       "    .dataframe tbody tr th {\n",
       "        vertical-align: top;\n",
       "    }\n",
       "\n",
       "    .dataframe thead th {\n",
       "        text-align: right;\n",
       "    }\n",
       "</style>\n",
       "<table border=\"1\" class=\"dataframe\">\n",
       "  <thead>\n",
       "    <tr style=\"text-align: right;\">\n",
       "      <th></th>\n",
       "      <th>딥러닝</th>\n",
       "      <th>머신러닝</th>\n",
       "      <th>배우고</th>\n",
       "      <th>싶은</th>\n",
       "      <th>자연어</th>\n",
       "      <th>좋아요</th>\n",
       "      <th>처리</th>\n",
       "    </tr>\n",
       "  </thead>\n",
       "  <tbody>\n",
       "    <tr>\n",
       "      <th>0</th>\n",
       "      <td>0.000000</td>\n",
       "      <td>0.000000</td>\n",
       "      <td>1.223144</td>\n",
       "      <td>1.223144</td>\n",
       "      <td>1.510826</td>\n",
       "      <td>0.000000</td>\n",
       "      <td>0.000000</td>\n",
       "    </tr>\n",
       "    <tr>\n",
       "      <th>1</th>\n",
       "      <td>1.510826</td>\n",
       "      <td>0.000000</td>\n",
       "      <td>1.223144</td>\n",
       "      <td>1.223144</td>\n",
       "      <td>0.000000</td>\n",
       "      <td>0.000000</td>\n",
       "      <td>0.000000</td>\n",
       "    </tr>\n",
       "    <tr>\n",
       "      <th>2</th>\n",
       "      <td>1.510826</td>\n",
       "      <td>3.832581</td>\n",
       "      <td>1.223144</td>\n",
       "      <td>1.223144</td>\n",
       "      <td>0.000000</td>\n",
       "      <td>0.000000</td>\n",
       "      <td>0.000000</td>\n",
       "    </tr>\n",
       "    <tr>\n",
       "      <th>3</th>\n",
       "      <td>0.000000</td>\n",
       "      <td>0.000000</td>\n",
       "      <td>0.000000</td>\n",
       "      <td>0.000000</td>\n",
       "      <td>1.510826</td>\n",
       "      <td>1.916291</td>\n",
       "      <td>1.916291</td>\n",
       "    </tr>\n",
       "  </tbody>\n",
       "</table>\n",
       "</div>"
      ],
      "text/plain": [
       "        딥러닝      머신러닝       배우고        싶은       자연어       좋아요        처리\n",
       "0  0.000000  0.000000  1.223144  1.223144  1.510826  0.000000  0.000000\n",
       "1  1.510826  0.000000  1.223144  1.223144  0.000000  0.000000  0.000000\n",
       "2  1.510826  3.832581  1.223144  1.223144  0.000000  0.000000  0.000000\n",
       "3  0.000000  0.000000  0.000000  0.000000  1.510826  1.916291  1.916291"
      ]
     },
     "execution_count": 251,
     "metadata": {},
     "output_type": "execute_result"
    }
   ],
   "source": [
    "result = []\n",
    "for i in range(dc) :\n",
    "    result.append([])\n",
    "    d = corpus[i]\n",
    "    for j in range(len(vocab)) :\n",
    "        t = vocab[j]\n",
    "        result[-1].append(tfidf(t,d))\n",
    "tfidf_ = pd.DataFrame(result, columns = vocab)\n",
    "tfidf_"
   ]
  },
  {
   "cell_type": "code",
   "execution_count": 238,
   "id": "e87f323a-a326-46cd-af0a-6e8ada90b3c7",
   "metadata": {
    "editable": true,
    "slideshow": {
     "slide_type": ""
    },
    "tags": []
   },
   "outputs": [],
   "source": [
    "from sklearn.feature_extraction.text import TfidfVectorizer"
   ]
  },
  {
   "cell_type": "code",
   "execution_count": 242,
   "id": "9401ffdd-eb7c-48bf-94e5-20edbd6d8a8e",
   "metadata": {},
   "outputs": [
    {
     "name": "stdout",
     "output_type": "stream",
     "text": [
      "=== 1. TF (Term Frequency) 값 ===\n",
      "      딥러닝  머신러닝  배우고   싶은  자연어  좋아요   처리\n",
      "문서_1  0.0   0.0  1.0  1.0  1.0  0.0  0.0\n",
      "문서_2  1.0   0.0  1.0  1.0  0.0  0.0  0.0\n",
      "문서_3  1.0   2.0  1.0  1.0  0.0  0.0  0.0\n",
      "문서_4  0.0   0.0  0.0  0.0  1.0  1.0  1.0\n",
      "\n",
      "=== 2. IDF (Inverse Document Frequency) 값 ===\n",
      "딥러닝     1.510826\n",
      "머신러닝    1.916291\n",
      "배우고     1.223144\n",
      "싶은      1.223144\n",
      "자연어     1.510826\n",
      "좋아요     1.916291\n",
      "처리      1.916291\n",
      "dtype: float64\n",
      "\n",
      "=== 3. TF-IDF 값 (TF * IDF) ===\n",
      "           딥러닝      머신러닝       배우고        싶은       자연어       좋아요        처리\n",
      "문서_1  0.000000  0.000000  1.223144  1.223144  1.510826  0.000000  0.000000\n",
      "문서_2  1.510826  0.000000  1.223144  1.223144  0.000000  0.000000  0.000000\n",
      "문서_3  1.510826  3.832581  1.223144  1.223144  0.000000  0.000000  0.000000\n",
      "문서_4  0.000000  0.000000  0.000000  0.000000  1.510826  1.916291  1.916291\n"
     ]
    }
   ],
   "source": [
    "# TfidfVectorizer 초기화\n",
    "tfidfvect = TfidfVectorizer(norm=None)  # norm=None으로 설정하여 정규화를 제거\n",
    "tfidf_matrix = tfidfvect.fit_transform(corpus)\n",
    "\n",
    "# 단어 목록\n",
    "feature_names = tfidfvect.get_feature_names_out()\n",
    "\n",
    "# 1. TF (Term Frequency) 계산\n",
    "# TF를 얻기 위해 use_idf=False로 새로운 vectorizer 생성\n",
    "tf_tfidfvect = TfidfVectorizer(use_idf=False, norm=None)\n",
    "tf_matrix = tf_tfidfvect.fit_transform(corpus)\n",
    "tf_values = pd.DataFrame(\n",
    "    tf_matrix.toarray(),\n",
    "    columns=feature_names,\n",
    "    index=[f'문서_{i+1}' for i in range(len(corpus))]\n",
    ")\n",
    "\n",
    "# 2. IDF 값\n",
    "idf_values = pd.Series(\n",
    "    tfidfvect.idf_,\n",
    "    index=feature_names\n",
    ")\n",
    "\n",
    "# 3. TF-IDF 값 (최종 결과)\n",
    "tfidf_values = pd.DataFrame(\n",
    "    tfidf_matrix.toarray(),\n",
    "    columns=feature_names,\n",
    "    index=[f'문서_{i+1}' for i in range(len(corpus))]\n",
    ")\n",
    "\n",
    "# 결과 출력\n",
    "print(\"=== 1. TF (Term Frequency) 값 ===\")\n",
    "print(tf_values)\n",
    "print(\"\\n=== 2. IDF (Inverse Document Frequency) 값 ===\")\n",
    "print(idf_values)\n",
    "print(\"\\n=== 3. TF-IDF 값 (TF * IDF) ===\")\n",
    "print(tfidf_values)\n",
    "\n",
    "# 계산 검증\n",
    "print(\"\\n=== 계산 검증 ===\")\n",
    "# 특정 단어에 대해 TF * IDF 계산이 TF-IDF와 일치하는지 확인\n",
    "word = \"파이썬\"\n",
    "if word in feature_names:\n",
    "    print(word)\n",
    "    for doc_idx in range(len(corpus)):\n",
    "        tf = tf_values.iloc[doc_idx][word]\n",
    "        idf = idf_values[word]\n",
    "        tfidf = tfidf_values.iloc[doc_idx][word]\n",
    "        print(f\"\\n문서_{doc_idx+1}의 '{word}' 단어:\")\n",
    "        print(f\"TF: {tf:.4f}\")\n",
    "        print(f\"IDF: {idf:.4f}\")\n",
    "        print(f\"계산된 TF-IDF (TF * IDF): {tf * idf:.4f}\")\n",
    "        print(f\"실제 TF-IDF 값: {tfidf:.4f}\")"
   ]
  },
  {
   "cell_type": "code",
   "execution_count": 246,
   "id": "dbd6f680-52cf-4f09-bdf1-d74e4d06ff47",
   "metadata": {},
   "outputs": [
    {
     "name": "stdout",
     "output_type": "stream",
     "text": [
      "\n",
      "=== 계산 검증 ===\n",
      "딥러닝\n",
      "\n",
      "문서_1의 '딥러닝' 단어:\n",
      "TF: 0.0000\n",
      "IDF: 1.5108\n",
      "계산된 TF-IDF (TF * IDF): 0.0000\n",
      "실제 TF-IDF 값: 0.0000\n",
      "\n",
      "문서_2의 '딥러닝' 단어:\n",
      "TF: 1.0000\n",
      "IDF: 1.5108\n",
      "계산된 TF-IDF (TF * IDF): 1.5108\n",
      "실제 TF-IDF 값: 1.5108\n",
      "\n",
      "문서_3의 '딥러닝' 단어:\n",
      "TF: 1.0000\n",
      "IDF: 1.5108\n",
      "계산된 TF-IDF (TF * IDF): 1.5108\n",
      "실제 TF-IDF 값: 1.5108\n",
      "\n",
      "문서_4의 '딥러닝' 단어:\n",
      "TF: 0.0000\n",
      "IDF: 1.5108\n",
      "계산된 TF-IDF (TF * IDF): 0.0000\n",
      "실제 TF-IDF 값: 0.0000\n"
     ]
    }
   ],
   "source": [
    "# 계산 검증\n",
    "print(\"\\n=== 계산 검증 ===\")\n",
    "# 특정 단어에 대해 TF * IDF 계산이 TF-IDF와 일치하는지 확인\n",
    "word = \"딥러닝\"\n",
    "if word in feature_names:\n",
    "    print(word)\n",
    "    for doc_idx in range(len(corpus)):\n",
    "        tf = tf_values.iloc[doc_idx][word]\n",
    "        idf = idf_values[word]\n",
    "        tfidf = tfidf_values.iloc[doc_idx][word]\n",
    "        print(f\"\\n문서_{doc_idx+1}의 '{word}' 단어:\")\n",
    "        print(f\"TF: {tf:.4f}\")\n",
    "        print(f\"IDF: {idf:.4f}\")\n",
    "        print(f\"계산된 TF-IDF (TF * IDF): {tf * idf:.4f}\")\n",
    "        print(f\"실제 TF-IDF 값: {tfidf:.4f}\")"
   ]
  },
  {
   "cell_type": "code",
   "execution_count": null,
   "id": "e7be0875-20c7-43a1-8f8d-41084e4140cc",
   "metadata": {},
   "outputs": [],
   "source": []
  }
 ],
 "metadata": {
  "kernelspec": {
   "display_name": "Python 3 (ipykernel)",
   "language": "python",
   "name": "python3"
  },
  "language_info": {
   "codemirror_mode": {
    "name": "ipython",
    "version": 3
   },
   "file_extension": ".py",
   "mimetype": "text/x-python",
   "name": "python",
   "nbconvert_exporter": "python",
   "pygments_lexer": "ipython3",
   "version": "3.12.7"
  }
 },
 "nbformat": 4,
 "nbformat_minor": 5
}
