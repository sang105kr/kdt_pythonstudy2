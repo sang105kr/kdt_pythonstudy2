{
 "cells": [
  {
   "cell_type": "code",
   "execution_count": 154,
   "id": "9c5000db-bc62-4652-8a5d-a18a40faa731",
   "metadata": {},
   "outputs": [],
   "source": [
    "import re"
   ]
  },
  {
   "cell_type": "code",
   "execution_count": 88,
   "id": "d592b757-c92d-445a-80ba-9307544184b2",
   "metadata": {},
   "outputs": [],
   "source": [
    "# http요청 응답, html 구문분석 패키지\n",
    "import requests\n",
    "from bs4 import BeautifulSoup"
   ]
  },
  {
   "cell_type": "code",
   "execution_count": 89,
   "id": "d1f15617-b56c-4c23-8ff7-205d3b52071f",
   "metadata": {},
   "outputs": [],
   "source": [
    "# 셀레니움 브라우저의 동작을 자동화 하는 패키지\n",
    "from selenium import webdriver\n",
    "from selenium.webdriver.chrome.options import Options\n",
    "from selenium.webdriver.common.by import By"
   ]
  },
  {
   "cell_type": "code",
   "execution_count": 90,
   "id": "65d1a1bf-5bf7-4276-b6a6-ab58c20a9e89",
   "metadata": {},
   "outputs": [],
   "source": [
    "# 데이터 분석 패키지\n",
    "import pandas as pd"
   ]
  },
  {
   "cell_type": "code",
   "execution_count": 230,
   "id": "849bbbfb-4840-40af-83c8-b558e97afcb3",
   "metadata": {},
   "outputs": [
    {
     "name": "stdin",
     "output_type": "stream",
     "text": [
      "ETF상품명을 입력하세요 KODEX 레버리지\n"
     ]
    }
   ],
   "source": [
    "# etf_name = input('ETF상품명을 입력하세요')\n",
    "etf_name = 'TIGER 2차전지테마'"
   ]
  },
  {
   "cell_type": "code",
   "execution_count": 136,
   "id": "855c1307-188d-4977-930e-4f1ba81137c9",
   "metadata": {},
   "outputs": [],
   "source": [
    "url = 'https://finance.naver.com/sise/etf.naver' # ETF 전체 목록 페이지\n",
    "res = requests.get(url)"
   ]
  },
  {
   "cell_type": "code",
   "execution_count": 138,
   "id": "e838f658-70f2-4796-b26a-4113cc3878ef",
   "metadata": {},
   "outputs": [
    {
     "data": {
      "text/plain": [
       "200"
      ]
     },
     "execution_count": 138,
     "metadata": {},
     "output_type": "execute_result"
    }
   ],
   "source": [
    "res.status_code"
   ]
  },
  {
   "cell_type": "code",
   "execution_count": 165,
   "id": "4740c55c-ead1-46db-8e8b-4bc4e19ff6d9",
   "metadata": {},
   "outputs": [
    {
     "data": {
      "text/plain": [
       "[]"
      ]
     },
     "execution_count": 165,
     "metadata": {},
     "output_type": "execute_result"
    }
   ],
   "source": [
    "# 동적으로 요소가 생성되므로 찾고자 하는 정보를 찾을 수 없음\n",
    "pattern = re.compile(r'2차전지')\n",
    "pattern.findall(res.text)"
   ]
  },
  {
   "cell_type": "code",
   "execution_count": 166,
   "id": "fd5eafd9-7e43-4a69-b9fa-733ec2dd7a25",
   "metadata": {},
   "outputs": [],
   "source": [
    "# 브라우저 종료 방지 옵션\n",
    "chrome_options = Options()\n",
    "chrome_options.add_experimental_option('detach', True)\n",
    "# 웹드라이버를 이용한 브라우저 제어\n",
    "driver = webdriver.Chrome(options=chrome_options)\n",
    "\n",
    "#페이지가 모두 로드될때 까지 최대 1초 대기\n",
    "driver.implicitly_wait(1)"
   ]
  },
  {
   "cell_type": "code",
   "execution_count": 167,
   "id": "89a6d029-8609-4060-9448-65c5db221ddc",
   "metadata": {},
   "outputs": [],
   "source": [
    "driver.get(url)"
   ]
  },
  {
   "cell_type": "code",
   "execution_count": 168,
   "id": "07523c44-c3c2-4220-be09-9ca4990161ef",
   "metadata": {},
   "outputs": [],
   "source": [
    "soup = BeautifulSoup(driver.page_source,'html.parser')"
   ]
  },
  {
   "cell_type": "code",
   "execution_count": 232,
   "id": "cfa14301-0217-44ab-a423-e69227972bcc",
   "metadata": {},
   "outputs": [],
   "source": [
    "# etf_name = 'KODEX 200'\n",
    "# etf_name = 'TIGER 2차전지테마'\n",
    "\n",
    "# etf_name = 'KODEX 단기채권PLUS'"
   ]
  },
  {
   "cell_type": "code",
   "execution_count": 233,
   "id": "fa306087-480d-41e5-aea0-64f6380fb78f",
   "metadata": {},
   "outputs": [],
   "source": [
    "detail_url = 'http://finance.naver.com'+soup.select_one('#etfItemTable').find('a',string=etf_name).attrs['href']"
   ]
  },
  {
   "cell_type": "code",
   "execution_count": 234,
   "id": "40a2ae6b-f493-4055-b2b0-be6252d8335c",
   "metadata": {},
   "outputs": [
    {
     "data": {
      "text/plain": [
       "'http://finance.naver.com/item/main.naver?code=122630'"
      ]
     },
     "execution_count": 234,
     "metadata": {},
     "output_type": "execute_result"
    }
   ],
   "source": [
    "detail_url"
   ]
  },
  {
   "cell_type": "code",
   "execution_count": 235,
   "id": "faf44903-b931-4647-8a3a-5be7476505dd",
   "metadata": {},
   "outputs": [],
   "source": [
    "driver.get(detail_url)"
   ]
  },
  {
   "cell_type": "code",
   "execution_count": 236,
   "id": "65e4326c-eb0a-45f7-a487-de91b74207a4",
   "metadata": {},
   "outputs": [
    {
     "data": {
      "text/plain": [
       "17"
      ]
     },
     "execution_count": 236,
     "metadata": {},
     "output_type": "execute_result"
    }
   ],
   "source": [
    "trs = driver.find_elements(By.CSS_SELECTOR, '#content > div.section.etf_asset > table > tbody > tr')\n",
    "len(trs)"
   ]
  },
  {
   "cell_type": "code",
   "execution_count": 237,
   "id": "95c28745-b936-4638-91e7-302812bdb38a",
   "metadata": {},
   "outputs": [
    {
     "name": "stdout",
     "output_type": "stream",
     "text": [
      "10\n",
      "[['KODEX 200', '6,107', '-'], ['삼성전자', '1,873', '-'], ['KODEX 200TR', '5,068', '-'], ['SK하이닉스', '223', '-'], ['현대차', '55', '-'], ['PLUS 200', '338', '-'], ['KB금융', '133', '-'], ['셀트리온', '58', '-'], ['NAVER', '52', '-'], ['기아', '98', '-']]\n"
     ]
    }
   ],
   "source": [
    "filtered_rows = []\n",
    "\n",
    "for tr in trs[1:]:\n",
    "    # tr내의 모든 td요소 찾기 \n",
    "    tds = tr.find_elements(By.CSS_SELECTOR, 'td')\n",
    "\n",
    "    # 'blank, division' 클래스가 포함된 td가 있는지 체크\n",
    "    if all('blank' not in td.get_attribute('class') and \n",
    "           'division' not in td.get_attribute('class') for td in tds) :\n",
    "        \n",
    "        filtered_rows.append([td.text for td in tr.find_elements(By.CSS_SELECTOR,'td')])\n",
    "        \n",
    "print(len(filtered_rows))\n",
    "print(filtered_rows)"
   ]
  },
  {
   "cell_type": "code",
   "execution_count": 238,
   "id": "49831956-a6bf-4ff2-9a6d-d93fb31c94a4",
   "metadata": {},
   "outputs": [
    {
     "data": {
      "text/plain": [
       "['구성종목(구성자산)', '주식수(계약수)', '구성비중']"
      ]
     },
     "execution_count": 238,
     "metadata": {},
     "output_type": "execute_result"
    }
   ],
   "source": [
    "columns = [th.text for th in trs[0].find_elements(By.CSS_SELECTOR,'th')]\n",
    "columns"
   ]
  },
  {
   "cell_type": "code",
   "execution_count": 239,
   "id": "ac33fcc9-2679-4237-ade3-6d79695e634c",
   "metadata": {},
   "outputs": [],
   "source": [
    "df = pd.DataFrame(filtered_rows,columns=columns)"
   ]
  },
  {
   "cell_type": "code",
   "execution_count": 240,
   "id": "eb10abd1-52e5-4ccf-b70b-d01fd88656f0",
   "metadata": {},
   "outputs": [
    {
     "data": {
      "text/html": [
       "<div>\n",
       "<style scoped>\n",
       "    .dataframe tbody tr th:only-of-type {\n",
       "        vertical-align: middle;\n",
       "    }\n",
       "\n",
       "    .dataframe tbody tr th {\n",
       "        vertical-align: top;\n",
       "    }\n",
       "\n",
       "    .dataframe thead th {\n",
       "        text-align: right;\n",
       "    }\n",
       "</style>\n",
       "<table border=\"1\" class=\"dataframe\">\n",
       "  <thead>\n",
       "    <tr style=\"text-align: right;\">\n",
       "      <th></th>\n",
       "      <th>구성종목(구성자산)</th>\n",
       "      <th>주식수(계약수)</th>\n",
       "      <th>구성비중</th>\n",
       "    </tr>\n",
       "  </thead>\n",
       "  <tbody>\n",
       "    <tr>\n",
       "      <th>0</th>\n",
       "      <td>KODEX 200</td>\n",
       "      <td>6,107</td>\n",
       "      <td>-</td>\n",
       "    </tr>\n",
       "    <tr>\n",
       "      <th>1</th>\n",
       "      <td>삼성전자</td>\n",
       "      <td>1,873</td>\n",
       "      <td>-</td>\n",
       "    </tr>\n",
       "    <tr>\n",
       "      <th>2</th>\n",
       "      <td>KODEX 200TR</td>\n",
       "      <td>5,068</td>\n",
       "      <td>-</td>\n",
       "    </tr>\n",
       "    <tr>\n",
       "      <th>3</th>\n",
       "      <td>SK하이닉스</td>\n",
       "      <td>223</td>\n",
       "      <td>-</td>\n",
       "    </tr>\n",
       "    <tr>\n",
       "      <th>4</th>\n",
       "      <td>현대차</td>\n",
       "      <td>55</td>\n",
       "      <td>-</td>\n",
       "    </tr>\n",
       "    <tr>\n",
       "      <th>5</th>\n",
       "      <td>PLUS 200</td>\n",
       "      <td>338</td>\n",
       "      <td>-</td>\n",
       "    </tr>\n",
       "    <tr>\n",
       "      <th>6</th>\n",
       "      <td>KB금융</td>\n",
       "      <td>133</td>\n",
       "      <td>-</td>\n",
       "    </tr>\n",
       "    <tr>\n",
       "      <th>7</th>\n",
       "      <td>셀트리온</td>\n",
       "      <td>58</td>\n",
       "      <td>-</td>\n",
       "    </tr>\n",
       "    <tr>\n",
       "      <th>8</th>\n",
       "      <td>NAVER</td>\n",
       "      <td>52</td>\n",
       "      <td>-</td>\n",
       "    </tr>\n",
       "    <tr>\n",
       "      <th>9</th>\n",
       "      <td>기아</td>\n",
       "      <td>98</td>\n",
       "      <td>-</td>\n",
       "    </tr>\n",
       "  </tbody>\n",
       "</table>\n",
       "</div>"
      ],
      "text/plain": [
       "    구성종목(구성자산) 주식수(계약수) 구성비중\n",
       "0    KODEX 200    6,107    -\n",
       "1         삼성전자    1,873    -\n",
       "2  KODEX 200TR    5,068    -\n",
       "3       SK하이닉스      223    -\n",
       "4          현대차       55    -\n",
       "5     PLUS 200      338    -\n",
       "6         KB금융      133    -\n",
       "7         셀트리온       58    -\n",
       "8        NAVER       52    -\n",
       "9           기아       98    -"
      ]
     },
     "execution_count": 240,
     "metadata": {},
     "output_type": "execute_result"
    }
   ],
   "source": [
    "df"
   ]
  },
  {
   "cell_type": "code",
   "execution_count": 241,
   "id": "355196ce-7aff-4ad4-8617-0619b7e62a34",
   "metadata": {},
   "outputs": [],
   "source": [
    "driver.quit()"
   ]
  },
  {
   "cell_type": "code",
   "execution_count": null,
   "id": "c7d794fc-688a-4e57-9343-84a744983909",
   "metadata": {},
   "outputs": [],
   "source": []
  }
 ],
 "metadata": {
  "kernelspec": {
   "display_name": "Python 3 (ipykernel)",
   "language": "python",
   "name": "python3"
  },
  "language_info": {
   "codemirror_mode": {
    "name": "ipython",
    "version": 3
   },
   "file_extension": ".py",
   "mimetype": "text/x-python",
   "name": "python",
   "nbconvert_exporter": "python",
   "pygments_lexer": "ipython3",
   "version": "3.12.7"
  }
 },
 "nbformat": 4,
 "nbformat_minor": 5
}
