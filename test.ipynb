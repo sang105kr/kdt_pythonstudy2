{
 "cells": [
  {
   "cell_type": "markdown",
   "id": "cfca398c-fc6f-46c0-bb73-1814a0ca251a",
   "metadata": {},
   "source": [
    "### 제목1"
   ]
  },
  {
   "cell_type": "code",
   "execution_count": 2,
   "id": "0dc0a308-fd76-455e-ba75-a5d11fdf0c38",
   "metadata": {},
   "outputs": [
    {
     "name": "stdout",
     "output_type": "stream",
     "text": [
      "hello\n"
     ]
    }
   ],
   "source": [
    "print('hello')"
   ]
  },
  {
   "cell_type": "code",
   "execution_count": 1,
   "id": "174b2634-21f1-46b2-8cf6-2b14a345f56f",
   "metadata": {},
   "outputs": [
    {
     "data": {
      "text/plain": [
       "2"
      ]
     },
     "execution_count": 1,
     "metadata": {},
     "output_type": "execute_result"
    }
   ],
   "source": [
    "1+1"
   ]
  },
  {
   "cell_type": "markdown",
   "id": "52705607-6b0e-4278-b9ae-3414ab0beac5",
   "metadata": {},
   "source": [
    "#### 제목1-1"
   ]
  },
  {
   "cell_type": "code",
   "execution_count": null,
   "id": "08383835-57bf-4233-97a5-7d710114770f",
   "metadata": {},
   "outputs": [],
   "source": []
  }
 ],
 "metadata": {
  "kernelspec": {
   "display_name": "Python 3 (ipykernel)",
   "language": "python",
   "name": "python3"
  },
  "language_info": {
   "codemirror_mode": {
    "name": "ipython",
    "version": 3
   },
   "file_extension": ".py",
   "mimetype": "text/x-python",
   "name": "python",
   "nbconvert_exporter": "python",
   "pygments_lexer": "ipython3",
   "version": "3.12.7"
  }
 },
 "nbformat": 4,
 "nbformat_minor": 5
}
