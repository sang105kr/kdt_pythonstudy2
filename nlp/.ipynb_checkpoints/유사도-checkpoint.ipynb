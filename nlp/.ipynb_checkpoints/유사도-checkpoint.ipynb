{
  "nbformat": 4,
  "nbformat_minor": 0,
  "metadata": {
    "colab": {
      "private_outputs": true,
      "provenance": []
    },
    "kernelspec": {
      "name": "python3",
      "display_name": "Python 3"
    },
    "language_info": {
      "name": "python"
    }
  },
  "cells": [
    {
      "cell_type": "code",
      "execution_count": null,
      "metadata": {
        "id": "rXHv2BD1Gl12"
      },
      "outputs": [],
      "source": [
        "import numpy as np\n",
        "\n",
        "def euclidean_distance(A, B):\n",
        "    return np.sqrt(np.sum((A-B)**2))"
      ]
    },
    {
      "cell_type": "code",
      "source": [
        "doc1 = np.array([1,1,1,1,0,0,0])\n",
        "doc2 = np.array([2,2,2,2,0,0,0])\n",
        "doc3 = np.array([0,0,0,1,1,1,1])"
      ],
      "metadata": {
        "id": "yq2mIzmVHJQ3"
      },
      "execution_count": null,
      "outputs": []
    },
    {
      "cell_type": "code",
      "source": [
        "print(f\"1. 문서1-문서2 간 유사도: {euclidean_distance(doc1, doc2)}\")\n",
        "print(f\"2. 문서1-문서3 간 유사도: {euclidean_distance(doc1, doc3)}\")\n",
        "print(f\"3. 문서2-문서3 간 유사도: {euclidean_distance(doc2, doc3)}\")\n"
      ],
      "metadata": {
        "id": "fWw2XGZIHPtc"
      },
      "execution_count": null,
      "outputs": []
    },
    {
      "cell_type": "code",
      "source": [
        "# 영화\n",
        "#    LOVE   MONEY\n",
        "# A  100     0\n",
        "# B   10     0\n",
        "# C    0     10"
      ],
      "metadata": {
        "id": "So_ar3Y6Hmnm"
      },
      "execution_count": null,
      "outputs": []
    },
    {
      "cell_type": "code",
      "source": [
        "import numpy as np\n",
        "from numpy import dot\n",
        "from numpy.linalg import norm\n",
        "def cos_sim(A, B):\n",
        "  return dot(A, B)/(norm(A)*norm(B))\n"
      ],
      "metadata": {
        "id": "BYjTmLpUI_z9"
      },
      "execution_count": null,
      "outputs": []
    },
    {
      "cell_type": "code",
      "source": [
        "doc1 = np.array([0,1,1,1])\n",
        "doc2 = np.array([1,0,1,1])\n",
        "doc3 = np.array([2,0,2,2])"
      ],
      "metadata": {
        "id": "fb3ZVirEJBna"
      },
      "execution_count": null,
      "outputs": []
    },
    {
      "cell_type": "code",
      "source": [
        "print('문서 1과 문서2의 유사도 :',cos_sim(doc1, doc2))\n",
        "print('문서 1과 문서3의 유사도 :',cos_sim(doc1, doc3))\n",
        "print('문서 2와 문서3의 유사도 :',cos_sim(doc2, doc3))"
      ],
      "metadata": {
        "id": "VvuDRO7-JXQE"
      },
      "execution_count": null,
      "outputs": []
    },
    {
      "cell_type": "code",
      "source": [
        "doc1 = \"apple banana everyone like likey watch card holder\"\n",
        "doc2 = \"apple banana coupon passport love you\""
      ],
      "metadata": {
        "id": "MU8yqLFBJa8Z"
      },
      "execution_count": null,
      "outputs": []
    },
    {
      "cell_type": "code",
      "source": [
        "tokenized_doc1 = doc1.split()\n",
        "tokenized_doc2 = doc2.split()\n"
      ],
      "metadata": {
        "id": "_DFHEcm-JyIk"
      },
      "execution_count": null,
      "outputs": []
    },
    {
      "cell_type": "code",
      "source": [
        "tokenized_doc1\n",
        "tokenized_doc2"
      ],
      "metadata": {
        "id": "Ndlmx4VGKETE"
      },
      "execution_count": null,
      "outputs": []
    },
    {
      "cell_type": "code",
      "source": [
        "union = set(tokenized_doc1).union(set(tokenized_doc2))\n",
        "print('문서1과 문서2의 합집합 :',union)\n"
      ],
      "metadata": {
        "id": "bZIWRPQ5KGJh"
      },
      "execution_count": null,
      "outputs": []
    },
    {
      "cell_type": "code",
      "source": [
        "intersection = set(tokenized_doc1).intersection(set(tokenized_doc2))\n",
        "intersection"
      ],
      "metadata": {
        "id": "JHlvhJQjKTI6"
      },
      "execution_count": null,
      "outputs": []
    },
    {
      "cell_type": "code",
      "source": [
        "print('자카드 유사도 :',len(intersection)/len(union))"
      ],
      "metadata": {
        "id": "kHzYwGMXKcQh"
      },
      "execution_count": null,
      "outputs": []
    },
    {
      "cell_type": "code",
      "source": [],
      "metadata": {
        "id": "rlFUi8b0Kkbj"
      },
      "execution_count": null,
      "outputs": []
    }
  ]
}