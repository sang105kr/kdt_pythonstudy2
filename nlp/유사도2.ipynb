{
 "cells": [
  {
   "cell_type": "code",
   "execution_count": 1,
   "id": "e6bf1927-4f70-4c80-9a84-46419034ba2f",
   "metadata": {},
   "outputs": [],
   "source": [
    "import pandas as pd\n",
    "import numpy as np"
   ]
  },
  {
   "cell_type": "code",
   "execution_count": 2,
   "id": "c8041cfb-97aa-4893-ba3e-d4bc1a0500e9",
   "metadata": {},
   "outputs": [],
   "source": [
    "# 모든 컬럼을 출력하도록 설정\n",
    "pd.set_option('display.max_columns', None)  # None으로 설정하면 모든 컬럼 출력 default:20\n",
    "# 모든 행을 출력하도록 설정\n",
    "pd.set_option('display.max_rows', 10)  # None으로 설정하면 모든 행 출력 default:50\n",
    "# 모든 열의 최대 너비를 설정\n",
    "pd.set_option('display.max_colwidth', None) # None으로 설정하면 모든 내용을 출력 default:60"
   ]
  },
  {
   "cell_type": "code",
   "execution_count": 3,
   "id": "f6157194-ad54-4887-b030-3b9e52a897b3",
   "metadata": {},
   "outputs": [],
   "source": [
    "import seaborn as sns\n",
    "import matplotlib.pyplot as plt\n",
    "import koreanize_matplotlib\n",
    "from wordcloud import WordCloud"
   ]
  },
  {
   "cell_type": "code",
   "execution_count": 4,
   "id": "e4288e20-ee1b-49b9-a57a-5a521a93339f",
   "metadata": {},
   "outputs": [],
   "source": [
    "# 정규표현식\n",
    "import re"
   ]
  },
  {
   "cell_type": "code",
   "execution_count": 5,
   "id": "01e0ba7a-0ace-4b95-b0f5-03f1a11f6eed",
   "metadata": {},
   "outputs": [],
   "source": [
    "# 날짜는 파이썬 표준라이브러리 datetime 사용\n",
    "import datetime"
   ]
  },
  {
   "cell_type": "code",
   "execution_count": 6,
   "id": "524293c4-81fa-4494-bb10-13a3dda125a4",
   "metadata": {},
   "outputs": [
    {
     "name": "stdout",
     "output_type": "stream",
     "text": [
      "2025-01-07 13:50:00.352134\n"
     ]
    },
    {
     "data": {
      "text/plain": [
       "'2025-01-07'"
      ]
     },
     "execution_count": 6,
     "metadata": {},
     "output_type": "execute_result"
    }
   ],
   "source": [
    "# 오늘 날짜 구하기\n",
    "today = datetime.datetime.today()\n",
    "print(today)\n",
    "today = today.strftime('%Y-%m-%d')\n",
    "today"
   ]
  },
  {
   "cell_type": "code",
   "execution_count": 7,
   "id": "60227161-a773-4e52-b02e-6ee9f56ba7a1",
   "metadata": {},
   "outputs": [
    {
     "data": {
      "text/html": [
       "<div>\n",
       "<style scoped>\n",
       "    .dataframe tbody tr th:only-of-type {\n",
       "        vertical-align: middle;\n",
       "    }\n",
       "\n",
       "    .dataframe tbody tr th {\n",
       "        vertical-align: top;\n",
       "    }\n",
       "\n",
       "    .dataframe thead th {\n",
       "        text-align: right;\n",
       "    }\n",
       "</style>\n",
       "<table border=\"1\" class=\"dataframe\">\n",
       "  <thead>\n",
       "    <tr style=\"text-align: right;\">\n",
       "      <th></th>\n",
       "      <th>언론사</th>\n",
       "      <th>제목</th>\n",
       "      <th>내용</th>\n",
       "      <th>작성일시</th>\n",
       "      <th>제목_길이</th>\n",
       "      <th>내용_길이</th>\n",
       "      <th>제목_토큰_개수</th>\n",
       "      <th>내용_토큰_개수</th>\n",
       "      <th>제목_명사</th>\n",
       "      <th>내용_명사</th>\n",
       "    </tr>\n",
       "  </thead>\n",
       "  <tbody>\n",
       "    <tr>\n",
       "      <th>0</th>\n",
       "      <td>매일경제</td>\n",
       "      <td>“삼성SDI, 일회성 비용에 4분기 컨센서스 하회 예상”…목표가↓</td>\n",
       "      <td>\\n      사진 확대    삼성SDI 기흥사업장. [사진 = 삼성SDI]  DS투자증권은 7일 삼성SDI에 대해 지난해 4분기 일회성 비용이 반영되면서 영업손실이 예상된다며 목표주가를 기존 52만원에서 39만원으로 하향 조정했다. 다만 투자의견은 ‘매수’를 유지했다.삼성SDI의 4분기 영업손실은 233억원으로 전년동기대비 적자전환하며 컨센서스(증권사 전망치 평균)를 하회할 것으로 전망했다. 같은 기간 매출액은 31.8% 감소한 3조8000억원으로 추정했다.중대형전지는 주요 고객사 부진으로 전분기 수준의 드론·친환경차(xEV) 출하량이 예상된다고 설명했다. 에너지저장장치(ESS) 호조는 지속돼 중대형전지 출하량 성장을 견인할 것으로 봤다. 소형전지는 리비안 물량 부재 외에도 전동공구와 IT향도 부진하며 출하량이 감소할 것으로 예상했다.여기에 일회성 비용 인식으로 중대형전지를 중심으로 마진율을 하향했다는 설명이다. 일회성 비용은 재고평가손실과 품질충당보증금 설정 등에 따라 약 1000억원 발생할 것으로 전망했다.삼성SDI의 고객사인 리비안이 올해 미국 인플레이션감축법(IRA) 보조금 대상 차종에서 제외된 점도 부담 요인으로 꼽았다. 3750달러 보조금의 부재는 리비안의 가격 경쟁력에 큰 부담이 될 전망이다. 원통형 전지 주 고객사가 리비안인 점을 감안하면 소형전지 출하량 회복이 지연될 수밖에 없다고 짚었다.최태용 DS투자증권 연구원은 “소형전지 중심으로 가동률 회복이 지연된 점을 반영해 실적 추정치를 하향했다”며 “트럼프 대통령 당선으로 업황 위축이 가시화하고 있다”고 말했다.최 연구원은 “첨단제조생산세액공제(AMPC)를 포함한 IRA 보조금 폐지 가능성은 불확실하지만, 예산 감축을 위한 보조금 축소는 예상 가능한 범위”라며 “전방 시장 둔화는 불가피하나 경쟁사 대비 AMPC 의존도가 낮은 점은 오히려 장점으로 부각될 수 있다”고 덧붙였다.\\n</td>\n",
       "      <td>2025-01-07 08:25:11</td>\n",
       "      <td>36</td>\n",
       "      <td>932</td>\n",
       "      <td>7</td>\n",
       "      <td>185</td>\n",
       "      <td>삼성 일회성 비용 분기 컨 센서스 하회 예상 목표</td>\n",
       "      <td>사진 확대 삼성 기흥 사업 사진 삼성 투자 증권 삼성 대해 지난해 회 비용 반영 영업 손실 예상 목표 주가 기존 하향 조정 다만 투자 의견 매수 를 유지 삼성 의 영업 손실 년 대비 컨센서스 증권사 망치 평균 를 회 것 전망 기간 매출 액 감소 추정 중대 전지 주요 고객 사 부진 분기 수준 드론 친환 경차 하량 예상 설명 에너지 저장장치 호조 지속 중대 전지 하량 성장 견인 것 소형 전지 리 물량 부재 외 공구 향 하량 감소 것 예상 여기 회 비용 인식 중대 전지 중심 마진 율 하향 설명 회 비용 재고 평가 손실 품질 충당 보증금 설정 등 약 발생 것 전망 삼성 의 고객 사인 리비 안이 올해 미국 인플레이션 감축 법 보조금 대상 차종 제외 점도 부담 요인 꼽았다 보조금 부재 리 가격 경쟁력 부담 전망 원통 전지 주 고객 사가 리 점 감안 소형 전지 하량 회복 지연 수 최태용 투자 증권 연구원 소형 전지 중심 가동 률 회복 지연 점 반영 실적 추정 하향 며 트럼프 대통령 당선 업황 위축 가시 고 말 최 연구원 첨단 생산 세액 공제 를 포함 보조금 폐지 가능성 예산 감축 위 보조금 축소 예상 범위 라며 전방 시장 둔화 경쟁 사 대비 의존 도 점 오히려 장점 부각 수 고</td>\n",
       "    </tr>\n",
       "  </tbody>\n",
       "</table>\n",
       "</div>"
      ],
      "text/plain": [
       "    언론사                                    제목  \\\n",
       "0  매일경제  “삼성SDI, 일회성 비용에 4분기 컨센서스 하회 예상”…목표가↓   \n",
       "\n",
       "                                                                                                                                                                                                                                                                                                                                                                                                                                                                                                                                                                                                                                                                                                                                                                                                                                                                                                                                                                       내용  \\\n",
       "0  \\n      사진 확대    삼성SDI 기흥사업장. [사진 = 삼성SDI]  DS투자증권은 7일 삼성SDI에 대해 지난해 4분기 일회성 비용이 반영되면서 영업손실이 예상된다며 목표주가를 기존 52만원에서 39만원으로 하향 조정했다. 다만 투자의견은 ‘매수’를 유지했다.삼성SDI의 4분기 영업손실은 233억원으로 전년동기대비 적자전환하며 컨센서스(증권사 전망치 평균)를 하회할 것으로 전망했다. 같은 기간 매출액은 31.8% 감소한 3조8000억원으로 추정했다.중대형전지는 주요 고객사 부진으로 전분기 수준의 드론·친환경차(xEV) 출하량이 예상된다고 설명했다. 에너지저장장치(ESS) 호조는 지속돼 중대형전지 출하량 성장을 견인할 것으로 봤다. 소형전지는 리비안 물량 부재 외에도 전동공구와 IT향도 부진하며 출하량이 감소할 것으로 예상했다.여기에 일회성 비용 인식으로 중대형전지를 중심으로 마진율을 하향했다는 설명이다. 일회성 비용은 재고평가손실과 품질충당보증금 설정 등에 따라 약 1000억원 발생할 것으로 전망했다.삼성SDI의 고객사인 리비안이 올해 미국 인플레이션감축법(IRA) 보조금 대상 차종에서 제외된 점도 부담 요인으로 꼽았다. 3750달러 보조금의 부재는 리비안의 가격 경쟁력에 큰 부담이 될 전망이다. 원통형 전지 주 고객사가 리비안인 점을 감안하면 소형전지 출하량 회복이 지연될 수밖에 없다고 짚었다.최태용 DS투자증권 연구원은 “소형전지 중심으로 가동률 회복이 지연된 점을 반영해 실적 추정치를 하향했다”며 “트럼프 대통령 당선으로 업황 위축이 가시화하고 있다”고 말했다.최 연구원은 “첨단제조생산세액공제(AMPC)를 포함한 IRA 보조금 폐지 가능성은 불확실하지만, 예산 감축을 위한 보조금 축소는 예상 가능한 범위”라며 “전방 시장 둔화는 불가피하나 경쟁사 대비 AMPC 의존도가 낮은 점은 오히려 장점으로 부각될 수 있다”고 덧붙였다.\\n   \n",
       "\n",
       "                  작성일시  제목_길이  내용_길이  제목_토큰_개수  내용_토큰_개수  \\\n",
       "0  2025-01-07 08:25:11     36    932         7       185   \n",
       "\n",
       "                         제목_명사  \\\n",
       "0  삼성 일회성 비용 분기 컨 센서스 하회 예상 목표   \n",
       "\n",
       "                                                                                                                                                                                                                                                                                                                                                                                                                                                                                                                                                                                                                          내용_명사  \n",
       "0  사진 확대 삼성 기흥 사업 사진 삼성 투자 증권 삼성 대해 지난해 회 비용 반영 영업 손실 예상 목표 주가 기존 하향 조정 다만 투자 의견 매수 를 유지 삼성 의 영업 손실 년 대비 컨센서스 증권사 망치 평균 를 회 것 전망 기간 매출 액 감소 추정 중대 전지 주요 고객 사 부진 분기 수준 드론 친환 경차 하량 예상 설명 에너지 저장장치 호조 지속 중대 전지 하량 성장 견인 것 소형 전지 리 물량 부재 외 공구 향 하량 감소 것 예상 여기 회 비용 인식 중대 전지 중심 마진 율 하향 설명 회 비용 재고 평가 손실 품질 충당 보증금 설정 등 약 발생 것 전망 삼성 의 고객 사인 리비 안이 올해 미국 인플레이션 감축 법 보조금 대상 차종 제외 점도 부담 요인 꼽았다 보조금 부재 리 가격 경쟁력 부담 전망 원통 전지 주 고객 사가 리 점 감안 소형 전지 하량 회복 지연 수 최태용 투자 증권 연구원 소형 전지 중심 가동 률 회복 지연 점 반영 실적 추정 하향 며 트럼프 대통령 당선 업황 위축 가시 고 말 최 연구원 첨단 생산 세액 공제 를 포함 보조금 폐지 가능성 예산 감축 위 보조금 축소 예상 범위 라며 전방 시장 둔화 경쟁 사 대비 의존 도 점 오히려 장점 부각 수 고  "
      ]
     },
     "execution_count": 7,
     "metadata": {},
     "output_type": "execute_result"
    }
   ],
   "source": [
    "df = pd.read_csv(f'../stock/news_preprocessed_{today}.csv')\n",
    "df.head(1)"
   ]
  },
  {
   "cell_type": "code",
   "execution_count": 11,
   "id": "5087c694-f41a-407f-8361-c8367e89e6a0",
   "metadata": {},
   "outputs": [],
   "source": [
    "from sklearn.feature_extraction.text import CountVectorizer,TfidfVectorizer"
   ]
  },
  {
   "cell_type": "code",
   "execution_count": 12,
   "id": "f820a2a0-7c3a-4538-bda3-1528995a188f",
   "metadata": {},
   "outputs": [
    {
     "data": {
      "text/plain": [
       "<100x413 sparse matrix of type '<class 'numpy.int64'>'\n",
       "\twith 643 stored elements in Compressed Sparse Row format>"
      ]
     },
     "execution_count": 12,
     "metadata": {},
     "output_type": "execute_result"
    }
   ],
   "source": [
    "cvect = CountVectorizer()\n",
    "cvect_dtm = cvect.fit_transform(df['제목_명사'])\n",
    "cvect_dtm"
   ]
  },
  {
   "cell_type": "code",
   "execution_count": 13,
   "id": "012ff249-c6fe-49cd-b811-f862f6465a2a",
   "metadata": {},
   "outputs": [
    {
     "data": {
      "text/plain": [
       "<100x413 sparse matrix of type '<class 'numpy.float64'>'\n",
       "\twith 643 stored elements in Compressed Sparse Row format>"
      ]
     },
     "execution_count": 13,
     "metadata": {},
     "output_type": "execute_result"
    }
   ],
   "source": [
    "tvect = TfidfVectorizer()\n",
    "tvect_dtm = tvect.fit_transform(df['제목_명사'])\n",
    "tvect_dtm"
   ]
  },
  {
   "cell_type": "markdown",
   "id": "d1836cad-e614-4be7-93fe-962de131d507",
   "metadata": {},
   "source": [
    "### 코사인 유사도"
   ]
  },
  {
   "cell_type": "code",
   "execution_count": 14,
   "id": "e3fa7d09-f160-4d91-a795-cab4a8079ca4",
   "metadata": {},
   "outputs": [],
   "source": [
    "# 코사인 유사도\n",
    "from sklearn.metrics.pairwise import cosine_similarity"
   ]
  },
  {
   "cell_type": "code",
   "execution_count": null,
   "id": "1b597fba-61d7-43fe-adde-784baaafb06d",
   "metadata": {},
   "outputs": [],
   "source": [
    "cosine_similarity?"
   ]
  },
  {
   "cell_type": "code",
   "execution_count": 16,
   "id": "77d12f1d-77ca-4761-98b2-140a70f906fb",
   "metadata": {},
   "outputs": [
    {
     "data": {
      "text/plain": [
       "array([[1.        , 0.25463402, 0.        , ..., 0.        , 0.        ,\n",
       "        0.        ],\n",
       "       [0.25463402, 1.        , 0.        , ..., 0.        , 0.23939242,\n",
       "        0.        ],\n",
       "       [0.        , 0.        , 1.        , ..., 0.        , 0.        ,\n",
       "        0.        ],\n",
       "       ...,\n",
       "       [0.        , 0.        , 0.        , ..., 1.        , 0.        ,\n",
       "        0.        ],\n",
       "       [0.        , 0.23939242, 0.        , ..., 0.        , 1.        ,\n",
       "        0.        ],\n",
       "       [0.        , 0.        , 0.        , ..., 0.        , 0.        ,\n",
       "        1.        ]])"
      ]
     },
     "execution_count": 16,
     "metadata": {},
     "output_type": "execute_result"
    }
   ],
   "source": [
    "cosin_matrix = cosine_similarity(tvect_dtm,tvect_dtm)\n",
    "cosin_matrix"
   ]
  },
  {
   "cell_type": "code",
   "execution_count": 17,
   "id": "97948819-0077-47a7-afb8-9d0b1c22a7ae",
   "metadata": {},
   "outputs": [
    {
     "data": {
      "text/plain": [
       "(100, 100)"
      ]
     },
     "execution_count": 17,
     "metadata": {},
     "output_type": "execute_result"
    }
   ],
   "source": [
    "cosin_matrix.shape"
   ]
  },
  {
   "cell_type": "code",
   "execution_count": 22,
   "id": "28bf1221-0317-441c-961d-fa26fe392469",
   "metadata": {},
   "outputs": [
    {
     "data": {
      "text/plain": [
       "<Axes: >"
      ]
     },
     "execution_count": 22,
     "metadata": {},
     "output_type": "execute_result"
    },
    {
     "data": {
      "image/png": "[encoded data removed]",
      "text/plain": [
       "<Figure size 640x480 with 2 Axes>"
      ]
     },
     "metadata": {},
     "output_type": "display_data"
    }
   ],
   "source": [
    "sns.heatmap(cosin_matrix, cmap='Blues_r')"
   ]
  },
  {
   "cell_type": "code",
   "execution_count": 23,
   "id": "d906e5b8-63d1-4d15-9c1b-0c2e9c6cbe59",
   "metadata": {},
   "outputs": [
    {
     "data": {
      "text/plain": [
       "((100, 10), (100, 100))"
      ]
     },
     "execution_count": 23,
     "metadata": {},
     "output_type": "execute_result"
    }
   ],
   "source": [
    "df.shape, cosin_matrix.shape"
   ]
  },
  {
   "cell_type": "code",
   "execution_count": null,
   "id": "83d819c2-86af-462d-953d-ec44f6a80ecc",
   "metadata": {},
   "outputs": [],
   "source": [
    "pd.DataFrame(cosin_matrix).style.background_gradient(cmap='Blues_r')"
   ]
  },
  {
   "cell_type": "code",
   "execution_count": 32,
   "id": "ae8080a7-2566-41b5-900e-9e013ae27413",
   "metadata": {},
   "outputs": [
    {
     "data": {
      "text/plain": [
       "0     1.000000\n",
       "55    0.332334\n",
       "1     0.254634\n",
       "61    0.211001\n",
       "56    0.202070\n",
       "53    0.119738\n",
       "67    0.091621\n",
       "64    0.078508\n",
       "62    0.075425\n",
       "59    0.074012\n",
       "Name: 0, dtype: float64"
      ]
     },
     "execution_count": 32,
     "metadata": {},
     "output_type": "execute_result"
    }
   ],
   "source": [
    "# 첫번째 문서와 유사도가 높은 문서 10개 추출\n",
    "pd.DataFrame(cosin_matrix).loc[0].nlargest(10)"
   ]
  },
  {
   "cell_type": "code",
   "execution_count": 36,
   "id": "3eedda37-0485-4a97-9839-6a91559233dc",
   "metadata": {},
   "outputs": [
    {
     "data": {
      "text/html": [
       "<div>\n",
       "<style scoped>\n",
       "    .dataframe tbody tr th:only-of-type {\n",
       "        vertical-align: middle;\n",
       "    }\n",
       "\n",
       "    .dataframe tbody tr th {\n",
       "        vertical-align: top;\n",
       "    }\n",
       "\n",
       "    .dataframe thead th {\n",
       "        text-align: right;\n",
       "    }\n",
       "</style>\n",
       "<table border=\"1\" class=\"dataframe\">\n",
       "  <thead>\n",
       "    <tr style=\"text-align: right;\">\n",
       "      <th></th>\n",
       "      <th>제목</th>\n",
       "      <th>제목_명사</th>\n",
       "      <th>유사도_0</th>\n",
       "    </tr>\n",
       "  </thead>\n",
       "  <tbody>\n",
       "    <tr>\n",
       "      <th>0</th>\n",
       "      <td>“삼성SDI, 일회성 비용에 4분기 컨센서스 하회 예상”…목표가↓</td>\n",
       "      <td>삼성 일회성 비용 분기 컨 센서스 하회 예상 목표</td>\n",
       "      <td>1.000000</td>\n",
       "    </tr>\n",
       "    <tr>\n",
       "      <th>55</th>\n",
       "      <td>\"네이버, 4분기 실적 컨센서스 웃돌 전망…목표가↑\"-한화</td>\n",
       "      <td>네이버 분기 실적 컨 센서스 전망 목표 한화</td>\n",
       "      <td>0.332334</td>\n",
       "    </tr>\n",
       "    <tr>\n",
       "      <th>1</th>\n",
       "      <td>“수요회복 예상보다 빠르다”...이제 ‘30만닉스’ 되나, SK하이닉스 목표가↑</td>\n",
       "      <td>수요 회복 예상 만 닉스 하이닉스 목표</td>\n",
       "      <td>0.254634</td>\n",
       "    </tr>\n",
       "    <tr>\n",
       "      <th>61</th>\n",
       "      <td>\"삼성SDI, 트럼프 재선으로 2차전지 업황 위축 가시화…목표가↓\"-DS</td>\n",
       "      <td>삼성 트럼프 재선 차 전지 업 황 위축 가시 목표</td>\n",
       "      <td>0.211001</td>\n",
       "    </tr>\n",
       "    <tr>\n",
       "      <th>56</th>\n",
       "      <td>\"천보, 올해 실적 컨센서스 밑돌 전망…목표가↓\"-키움</td>\n",
       "      <td>천보 올해 실적 컨 센서스 밑돌 전망 목표</td>\n",
       "      <td>0.202070</td>\n",
       "    </tr>\n",
       "    <tr>\n",
       "      <th>53</th>\n",
       "      <td>\"삼성전자, 박스권 돌파할 재료 없어…4분기 실적 부진할 것\"-신한</td>\n",
       "      <td>삼성전자 박스 돌파 재료 분기 실적 부진 것 신</td>\n",
       "      <td>0.119738</td>\n",
       "    </tr>\n",
       "    <tr>\n",
       "      <th>67</th>\n",
       "      <td>\"SK하이닉스, AI 수요 강세에 HBM 호황…목표가↑\"-BNK</td>\n",
       "      <td>하이닉스 수요 강세 호황 목표</td>\n",
       "      <td>0.091621</td>\n",
       "    </tr>\n",
       "    <tr>\n",
       "      <th>64</th>\n",
       "      <td>\"코스메카코리아, 너무 높았던 기대엔 못 미칠 것…목표가↓\"-하나</td>\n",
       "      <td>코스 메카 코리아 기대 것 목표 하나</td>\n",
       "      <td>0.078508</td>\n",
       "    </tr>\n",
       "    <tr>\n",
       "      <th>62</th>\n",
       "      <td>\"크래프톤, 운영능력 바탕의 PUBG 성장 이어져…목표가↑\"-KB</td>\n",
       "      <td>크 래프 톤 운영 능력 바탕 성장 목표</td>\n",
       "      <td>0.075425</td>\n",
       "    </tr>\n",
       "    <tr>\n",
       "      <th>59</th>\n",
       "      <td>\"코웨이, 주주환원율 상향 발표…목표가↑\"-한화</td>\n",
       "      <td>코웨이 주주 환원 상향 발표 목표 한화</td>\n",
       "      <td>0.074012</td>\n",
       "    </tr>\n",
       "  </tbody>\n",
       "</table>\n",
       "</div>"
      ],
      "text/plain": [
       "                                              제목                        제목_명사  \\\n",
       "0           “삼성SDI, 일회성 비용에 4분기 컨센서스 하회 예상”…목표가↓  삼성 일회성 비용 분기 컨 센서스 하회 예상 목표   \n",
       "55              \"네이버, 4분기 실적 컨센서스 웃돌 전망…목표가↑\"-한화     네이버 분기 실적 컨 센서스 전망 목표 한화   \n",
       "1   “수요회복 예상보다 빠르다”...이제 ‘30만닉스’ 되나, SK하이닉스 목표가↑        수요 회복 예상 만 닉스 하이닉스 목표   \n",
       "61      \"삼성SDI, 트럼프 재선으로 2차전지 업황 위축 가시화…목표가↓\"-DS  삼성 트럼프 재선 차 전지 업 황 위축 가시 목표   \n",
       "56                \"천보, 올해 실적 컨센서스 밑돌 전망…목표가↓\"-키움      천보 올해 실적 컨 센서스 밑돌 전망 목표   \n",
       "53         \"삼성전자, 박스권 돌파할 재료 없어…4분기 실적 부진할 것\"-신한   삼성전자 박스 돌파 재료 분기 실적 부진 것 신   \n",
       "67           \"SK하이닉스, AI 수요 강세에 HBM 호황…목표가↑\"-BNK             하이닉스 수요 강세 호황 목표   \n",
       "64          \"코스메카코리아, 너무 높았던 기대엔 못 미칠 것…목표가↓\"-하나         코스 메카 코리아 기대 것 목표 하나   \n",
       "62          \"크래프톤, 운영능력 바탕의 PUBG 성장 이어져…목표가↑\"-KB        크 래프 톤 운영 능력 바탕 성장 목표   \n",
       "59                    \"코웨이, 주주환원율 상향 발표…목표가↑\"-한화        코웨이 주주 환원 상향 발표 목표 한화   \n",
       "\n",
       "       유사도_0  \n",
       "0   1.000000  \n",
       "55  0.332334  \n",
       "1   0.254634  \n",
       "61  0.211001  \n",
       "56  0.202070  \n",
       "53  0.119738  \n",
       "67  0.091621  \n",
       "64  0.078508  \n",
       "62  0.075425  \n",
       "59  0.074012  "
      ]
     },
     "execution_count": 36,
     "metadata": {},
     "output_type": "execute_result"
    }
   ],
   "source": [
    "df_cosine = df[['제목','제목_명사']].copy()\n",
    "df_cosine['유사도_0'] = pd.DataFrame(cosin_matrix)[0]\n",
    "df_cosine.nlargest(10,'유사도_0')"
   ]
  },
  {
   "cell_type": "code",
   "execution_count": 38,
   "id": "11562937-675c-4465-9b28-003d948ca778",
   "metadata": {},
   "outputs": [
    {
     "data": {
      "text/html": [
       "<div>\n",
       "<style scoped>\n",
       "    .dataframe tbody tr th:only-of-type {\n",
       "        vertical-align: middle;\n",
       "    }\n",
       "\n",
       "    .dataframe tbody tr th {\n",
       "        vertical-align: top;\n",
       "    }\n",
       "\n",
       "    .dataframe thead th {\n",
       "        text-align: right;\n",
       "    }\n",
       "</style>\n",
       "<table border=\"1\" class=\"dataframe\">\n",
       "  <thead>\n",
       "    <tr style=\"text-align: right;\">\n",
       "      <th></th>\n",
       "      <th>제목</th>\n",
       "      <th>제목_명사</th>\n",
       "      <th>유사도_0</th>\n",
       "    </tr>\n",
       "  </thead>\n",
       "  <tbody>\n",
       "    <tr>\n",
       "      <th>2</th>\n",
       "      <td>“휠라홀딩스, 부진은 지난해까지만…올해 실적·주가 반등 전망”</td>\n",
       "      <td>휠라 홀딩스 부진 지난해 올해 실적 주가 반 등 전망</td>\n",
       "      <td>0.0</td>\n",
       "    </tr>\n",
       "    <tr>\n",
       "      <th>3</th>\n",
       "      <td>“주식 리포트, 그래도 여긴 볼 만 하네”…9년 연속 리서치 1등 증권사는?</td>\n",
       "      <td>주식 리포트 여긴 만 년 연속 리서치 등 증권사</td>\n",
       "      <td>0.0</td>\n",
       "    </tr>\n",
       "    <tr>\n",
       "      <th>4</th>\n",
       "      <td>AI 빅뱅 타고 텐배거 노린다···캐나다산 핵발전株 카메코[매일 돈이 보이는 습관 M+]</td>\n",
       "      <td>빅뱅 텐 배 거 캐나다 핵 발전 株 카 메코 매일 돈 습관</td>\n",
       "      <td>0.0</td>\n",
       "    </tr>\n",
       "    <tr>\n",
       "      <th>5</th>\n",
       "      <td>“최태원·젠슨황 만날까”…날개 단 SK하이닉스 주가, 20만닉스로 훨훨</td>\n",
       "      <td>최태원 젠슨황 날개 하이닉스 주가 만 닉스</td>\n",
       "      <td>0.0</td>\n",
       "    </tr>\n",
       "    <tr>\n",
       "      <th>6</th>\n",
       "      <td>[단독] “글로벌 큰손 국민연금 이 정도야”…해외 기업에도 제목소리 낸다</td>\n",
       "      <td>단독 글로벌 큰손 국민연금 정도 해외 기업 목소리</td>\n",
       "      <td>0.0</td>\n",
       "    </tr>\n",
       "    <tr>\n",
       "      <th>7</th>\n",
       "      <td>[단독] “이봐, 문제는 수익률이야”…요즘 기업 주총장서 가장 목소리 크다는 이 큰손</td>\n",
       "      <td>단독 문제 수익 요즘 기업 주총 장서 목소리 큰손</td>\n",
       "      <td>0.0</td>\n",
       "    </tr>\n",
       "    <tr>\n",
       "      <th>8</th>\n",
       "      <td>[단독] “전 국민 노후가 달려있는데”…투자기업에 목소리 키우는 국민연금</td>\n",
       "      <td>단독 국민 노후 투자 기업 목소리 국민 연금</td>\n",
       "      <td>0.0</td>\n",
       "    </tr>\n",
       "    <tr>\n",
       "      <th>9</th>\n",
       "      <td>국민연금 목소리 커졌다 의결권행사 4년새 5배로</td>\n",
       "      <td>국민 연금 목소리 의결권 행사 년 새 배</td>\n",
       "      <td>0.0</td>\n",
       "    </tr>\n",
       "    <tr>\n",
       "      <th>10</th>\n",
       "      <td>'글로벌 큰손' 국민연금, 지분 보유한 외국기업에도 영향력 늘린다</td>\n",
       "      <td>글로벌 큰손 국민 연금 지분 보유 외국 기업 영향력</td>\n",
       "      <td>0.0</td>\n",
       "    </tr>\n",
       "    <tr>\n",
       "      <th>11</th>\n",
       "      <td>주총 존재감 커진 국민연금 과도한 대주주 전횡 막는다</td>\n",
       "      <td>주총 존재감 국민 연금 과도 대주주 전횡</td>\n",
       "      <td>0.0</td>\n",
       "    </tr>\n",
       "  </tbody>\n",
       "</table>\n",
       "</div>"
      ],
      "text/plain": [
       "                                                   제목  \\\n",
       "2                  “휠라홀딩스, 부진은 지난해까지만…올해 실적·주가 반등 전망”   \n",
       "3          “주식 리포트, 그래도 여긴 볼 만 하네”…9년 연속 리서치 1등 증권사는?   \n",
       "4   AI 빅뱅 타고 텐배거 노린다···캐나다산 핵발전株 카메코[매일 돈이 보이는 습관 M+]   \n",
       "5             “최태원·젠슨황 만날까”…날개 단 SK하이닉스 주가, 20만닉스로 훨훨   \n",
       "6            [단독] “글로벌 큰손 국민연금 이 정도야”…해외 기업에도 제목소리 낸다   \n",
       "7     [단독] “이봐, 문제는 수익률이야”…요즘 기업 주총장서 가장 목소리 크다는 이 큰손   \n",
       "8            [단독] “전 국민 노후가 달려있는데”…투자기업에 목소리 키우는 국민연금   \n",
       "9                          국민연금 목소리 커졌다 의결권행사 4년새 5배로   \n",
       "10               '글로벌 큰손' 국민연금, 지분 보유한 외국기업에도 영향력 늘린다   \n",
       "11                      주총 존재감 커진 국민연금 과도한 대주주 전횡 막는다   \n",
       "\n",
       "                               제목_명사  유사도_0  \n",
       "2      휠라 홀딩스 부진 지난해 올해 실적 주가 반 등 전망    0.0  \n",
       "3         주식 리포트 여긴 만 년 연속 리서치 등 증권사    0.0  \n",
       "4   빅뱅 텐 배 거 캐나다 핵 발전 株 카 메코 매일 돈 습관    0.0  \n",
       "5            최태원 젠슨황 날개 하이닉스 주가 만 닉스    0.0  \n",
       "6        단독 글로벌 큰손 국민연금 정도 해외 기업 목소리    0.0  \n",
       "7        단독 문제 수익 요즘 기업 주총 장서 목소리 큰손    0.0  \n",
       "8           단독 국민 노후 투자 기업 목소리 국민 연금    0.0  \n",
       "9             국민 연금 목소리 의결권 행사 년 새 배    0.0  \n",
       "10      글로벌 큰손 국민 연금 지분 보유 외국 기업 영향력    0.0  \n",
       "11            주총 존재감 국민 연금 과도 대주주 전횡    0.0  "
      ]
     },
     "execution_count": 38,
     "metadata": {},
     "output_type": "execute_result"
    }
   ],
   "source": [
    "# 0번 문서와 유사도가 낮은 문서순\n",
    "df_cosine.nsmallest(10,'유사도_0')"
   ]
  },
  {
   "cell_type": "markdown",
   "id": "14e4b243-b469-4a2b-8d70-6d06b98f6b1b",
   "metadata": {},
   "source": [
    "#### 유사도가 높은 문서 찾는 함수 만들기 by 코사인유사도"
   ]
  },
  {
   "cell_type": "code",
   "execution_count": 42,
   "id": "b89be8fb-4fab-405b-8303-f3959ba0254f",
   "metadata": {},
   "outputs": [],
   "source": [
    "def find_similarity(idx, n=5) :\n",
    "    ''' 유사도가 높은 문서를 반환 '''\n",
    "    df_cosine = df[['제목','제목_명사']].copy()\n",
    "    df_cosine[f'유사도_{idx}'] = pd.DataFrame(cosin_matrix)[idx]\n",
    "    return df_cosine.nlargest(n,f'유사도_{idx}')"
   ]
  },
  {
   "cell_type": "code",
   "execution_count": 45,
   "id": "90d06770-9448-41ee-b92d-b820f2af64e3",
   "metadata": {},
   "outputs": [
    {
     "data": {
      "text/html": [
       "<div>\n",
       "<style scoped>\n",
       "    .dataframe tbody tr th:only-of-type {\n",
       "        vertical-align: middle;\n",
       "    }\n",
       "\n",
       "    .dataframe tbody tr th {\n",
       "        vertical-align: top;\n",
       "    }\n",
       "\n",
       "    .dataframe thead th {\n",
       "        text-align: right;\n",
       "    }\n",
       "</style>\n",
       "<table border=\"1\" class=\"dataframe\">\n",
       "  <thead>\n",
       "    <tr style=\"text-align: right;\">\n",
       "      <th></th>\n",
       "      <th>제목</th>\n",
       "      <th>제목_명사</th>\n",
       "      <th>유사도_4</th>\n",
       "    </tr>\n",
       "  </thead>\n",
       "  <tbody>\n",
       "    <tr>\n",
       "      <th>4</th>\n",
       "      <td>AI 빅뱅 타고 텐배거 노린다···캐나다산 핵발전株 카메코[매일 돈이 보이는 습관 M+]</td>\n",
       "      <td>빅뱅 텐 배 거 캐나다 핵 발전 株 카 메코 매일 돈 습관</td>\n",
       "      <td>1.000000</td>\n",
       "    </tr>\n",
       "    <tr>\n",
       "      <th>32</th>\n",
       "      <td>비트코인 9만9000달러 회복···올들어 6% 상승[매일코인]</td>\n",
       "      <td>비트코인 만 달러 회복 상승 매일 코인</td>\n",
       "      <td>0.156527</td>\n",
       "    </tr>\n",
       "    <tr>\n",
       "      <th>0</th>\n",
       "      <td>“삼성SDI, 일회성 비용에 4분기 컨센서스 하회 예상”…목표가↓</td>\n",
       "      <td>삼성 일회성 비용 분기 컨 센서스 하회 예상 목표</td>\n",
       "      <td>0.000000</td>\n",
       "    </tr>\n",
       "    <tr>\n",
       "      <th>1</th>\n",
       "      <td>“수요회복 예상보다 빠르다”...이제 ‘30만닉스’ 되나, SK하이닉스 목표가↑</td>\n",
       "      <td>수요 회복 예상 만 닉스 하이닉스 목표</td>\n",
       "      <td>0.000000</td>\n",
       "    </tr>\n",
       "    <tr>\n",
       "      <th>2</th>\n",
       "      <td>“휠라홀딩스, 부진은 지난해까지만…올해 실적·주가 반등 전망”</td>\n",
       "      <td>휠라 홀딩스 부진 지난해 올해 실적 주가 반 등 전망</td>\n",
       "      <td>0.000000</td>\n",
       "    </tr>\n",
       "  </tbody>\n",
       "</table>\n",
       "</div>"
      ],
      "text/plain": [
       "                                                   제목  \\\n",
       "4   AI 빅뱅 타고 텐배거 노린다···캐나다산 핵발전株 카메코[매일 돈이 보이는 습관 M+]   \n",
       "32                 비트코인 9만9000달러 회복···올들어 6% 상승[매일코인]   \n",
       "0                “삼성SDI, 일회성 비용에 4분기 컨센서스 하회 예상”…목표가↓   \n",
       "1        “수요회복 예상보다 빠르다”...이제 ‘30만닉스’ 되나, SK하이닉스 목표가↑   \n",
       "2                  “휠라홀딩스, 부진은 지난해까지만…올해 실적·주가 반등 전망”   \n",
       "\n",
       "                               제목_명사     유사도_4  \n",
       "4   빅뱅 텐 배 거 캐나다 핵 발전 株 카 메코 매일 돈 습관  1.000000  \n",
       "32             비트코인 만 달러 회복 상승 매일 코인  0.156527  \n",
       "0        삼성 일회성 비용 분기 컨 센서스 하회 예상 목표  0.000000  \n",
       "1              수요 회복 예상 만 닉스 하이닉스 목표  0.000000  \n",
       "2      휠라 홀딩스 부진 지난해 올해 실적 주가 반 등 전망  0.000000  "
      ]
     },
     "execution_count": 45,
     "metadata": {},
     "output_type": "execute_result"
    }
   ],
   "source": [
    "find_similarity(4)"
   ]
  },
  {
   "cell_type": "markdown",
   "id": "ad679b1f-a8a0-4281-974f-7a2428d5edba",
   "metadata": {},
   "source": [
    "### 유클리드 유사도"
   ]
  },
  {
   "cell_type": "code",
   "execution_count": 46,
   "id": "e2914569-61dc-413d-aaeb-bc812eff3e30",
   "metadata": {},
   "outputs": [],
   "source": [
    "from sklearn.metrics.pairwise import euclidean_distances"
   ]
  },
  {
   "cell_type": "code",
   "execution_count": null,
   "id": "cefc7d63-0671-423f-98ae-c92a8cdfec1b",
   "metadata": {},
   "outputs": [],
   "source": [
    "euclidean_distances?"
   ]
  },
  {
   "cell_type": "code",
   "execution_count": 53,
   "id": "f02b3532-a915-4ce3-b184-c3b8694123c6",
   "metadata": {},
   "outputs": [
    {
     "data": {
      "text/plain": [
       "array([[0.        , 1.22095535, 1.41421356, ..., 1.41421356, 1.41421356,\n",
       "        1.41421356],\n",
       "       [1.22095535, 0.        , 1.41421356, ..., 1.41421356, 1.23337552,\n",
       "        1.41421356],\n",
       "       [1.41421356, 1.41421356, 0.        , ..., 1.41421356, 1.41421356,\n",
       "        1.41421356],\n",
       "       ...,\n",
       "       [1.41421356, 1.41421356, 1.41421356, ..., 0.        , 1.41421356,\n",
       "        1.41421356],\n",
       "       [1.41421356, 1.23337552, 1.41421356, ..., 1.41421356, 0.        ,\n",
       "        1.41421356],\n",
       "       [1.41421356, 1.41421356, 1.41421356, ..., 1.41421356, 1.41421356,\n",
       "        0.        ]])"
      ]
     },
     "execution_count": 53,
     "metadata": {},
     "output_type": "execute_result"
    }
   ],
   "source": [
    "ed_similarity = euclidean_distances(tvect_dtm,tvect_dtm)\n",
    "ed_similarity"
   ]
  },
  {
   "cell_type": "code",
   "execution_count": 54,
   "id": "336cf8b3-b2e7-4c90-b4b7-bc9a006bdd0a",
   "metadata": {},
   "outputs": [
    {
     "data": {
      "text/plain": [
       "(100, 100)"
      ]
     },
     "execution_count": 54,
     "metadata": {},
     "output_type": "execute_result"
    }
   ],
   "source": [
    "ed_similarity.shape"
   ]
  },
  {
   "cell_type": "code",
   "execution_count": 55,
   "id": "b814844f-6214-4d67-8bd5-020d3a39842c",
   "metadata": {},
   "outputs": [
    {
     "data": {
      "text/plain": [
       "(0.0, 1.4142135623730951)"
      ]
     },
     "execution_count": 55,
     "metadata": {},
     "output_type": "execute_result"
    }
   ],
   "source": [
    "# 최소, 최대값확인\n",
    "ed_similarity.min(),ed_similarity.max()"
   ]
  },
  {
   "cell_type": "code",
   "execution_count": 56,
   "id": "20785614-1418-4e91-a7ce-077fe4bfa268",
   "metadata": {},
   "outputs": [],
   "source": [
    "ed_matrix = 1 - (ed_similarity / ed_similarity.max())"
   ]
  },
  {
   "cell_type": "code",
   "execution_count": 58,
   "id": "32f6c9ea-00a5-452d-9b9f-b95f43a8910e",
   "metadata": {},
   "outputs": [
    {
     "data": {
      "text/plain": [
       "<Axes: >"
      ]
     },
     "execution_count": 58,
     "metadata": {},
     "output_type": "execute_result"
    },
    {
     "data": {
      "image/png": "[encoded data removed]",
      "text/plain": [
       "<Figure size 640x480 with 2 Axes>"
      ]
     },
     "metadata": {},
     "output_type": "display_data"
    }
   ],
   "source": [
    "sns.heatmap(ed_matrix, cmap='Blues_r')"
   ]
  },
  {
   "cell_type": "markdown",
   "id": "574e413e-9119-4d9b-b8fa-52acc971902b",
   "metadata": {},
   "source": [
    "#### 유사도가 높은 문서 찾는 함수 만들기 by 유클리드 거리"
   ]
  },
  {
   "cell_type": "code",
   "execution_count": 62,
   "id": "35c35448-ee2e-4633-bd9b-b36fbb2234ef",
   "metadata": {},
   "outputs": [],
   "source": [
    "def find_ed_similarity(idx, n=5) :\n",
    "    ''' 유사도가 높은 문서를 반환 '''\n",
    "    df_ed = df[['제목','제목_명사']].copy()\n",
    "    df_ed[f'유사도_{idx}'] = pd.DataFrame(ed_matrix)[idx]\n",
    "    return df_ed.nlargest(n,f'유사도_{idx}')"
   ]
  },
  {
   "cell_type": "code",
   "execution_count": 64,
   "id": "9680cc76-2502-4d74-8223-42fcc4acdaac",
   "metadata": {},
   "outputs": [
    {
     "data": {
      "text/html": [
       "<div>\n",
       "<style scoped>\n",
       "    .dataframe tbody tr th:only-of-type {\n",
       "        vertical-align: middle;\n",
       "    }\n",
       "\n",
       "    .dataframe tbody tr th {\n",
       "        vertical-align: top;\n",
       "    }\n",
       "\n",
       "    .dataframe thead th {\n",
       "        text-align: right;\n",
       "    }\n",
       "</style>\n",
       "<table border=\"1\" class=\"dataframe\">\n",
       "  <thead>\n",
       "    <tr style=\"text-align: right;\">\n",
       "      <th></th>\n",
       "      <th>제목</th>\n",
       "      <th>제목_명사</th>\n",
       "      <th>유사도_31</th>\n",
       "    </tr>\n",
       "  </thead>\n",
       "  <tbody>\n",
       "    <tr>\n",
       "      <th>31</th>\n",
       "      <td>AI기반 2차전지 검사전문 기업 피아이이, 2월 코스닥 입성 도전</td>\n",
       "      <td>기반 차 전지 검사 전문 기업 피아 이이 월 코스닥 입 도전</td>\n",
       "      <td>1.000000</td>\n",
       "    </tr>\n",
       "    <tr>\n",
       "      <th>86</th>\n",
       "      <td>'코스닥 노크' 피아이이 \"AI SW 기술력 강화해 글로벌 기업 도약\"</td>\n",
       "      <td>코스닥 노크 피아 이이 기술력 강화 글로벌 기업 도약</td>\n",
       "      <td>0.224482</td>\n",
       "    </tr>\n",
       "    <tr>\n",
       "      <th>61</th>\n",
       "      <td>\"삼성SDI, 트럼프 재선으로 2차전지 업황 위축 가시화…목표가↓\"-DS</td>\n",
       "      <td>삼성 트럼프 재선 차 전지 업 황 위축 가시 목표</td>\n",
       "      <td>0.057074</td>\n",
       "    </tr>\n",
       "    <tr>\n",
       "      <th>77</th>\n",
       "      <td>방산 매출 커지는 비츠로셀…\"리튬 2차전지 신사업 속도\"</td>\n",
       "      <td>방산 매출 커지 비츠 리튬 차 전지 신사업 속도</td>\n",
       "      <td>0.049275</td>\n",
       "    </tr>\n",
       "    <tr>\n",
       "      <th>40</th>\n",
       "      <td>글로벌 핀테크 기업들이 꽂힌 이것 ··· 야외광고비 3년새 45% 늘려</td>\n",
       "      <td>글로벌 핀테크 기업 이것 야외 광고비 년 새</td>\n",
       "      <td>0.042427</td>\n",
       "    </tr>\n",
       "  </tbody>\n",
       "</table>\n",
       "</div>"
      ],
      "text/plain": [
       "                                          제목  \\\n",
       "31      AI기반 2차전지 검사전문 기업 피아이이, 2월 코스닥 입성 도전   \n",
       "86   '코스닥 노크' 피아이이 \"AI SW 기술력 강화해 글로벌 기업 도약\"   \n",
       "61  \"삼성SDI, 트럼프 재선으로 2차전지 업황 위축 가시화…목표가↓\"-DS   \n",
       "77           방산 매출 커지는 비츠로셀…\"리튬 2차전지 신사업 속도\"   \n",
       "40   글로벌 핀테크 기업들이 꽂힌 이것 ··· 야외광고비 3년새 45% 늘려   \n",
       "\n",
       "                                제목_명사    유사도_31  \n",
       "31  기반 차 전지 검사 전문 기업 피아 이이 월 코스닥 입 도전  1.000000  \n",
       "86      코스닥 노크 피아 이이 기술력 강화 글로벌 기업 도약  0.224482  \n",
       "61        삼성 트럼프 재선 차 전지 업 황 위축 가시 목표  0.057074  \n",
       "77         방산 매출 커지 비츠 리튬 차 전지 신사업 속도  0.049275  \n",
       "40           글로벌 핀테크 기업 이것 야외 광고비 년 새  0.042427  "
      ]
     },
     "execution_count": 64,
     "metadata": {},
     "output_type": "execute_result"
    }
   ],
   "source": [
    "find_ed_similarity(31)"
   ]
  },
  {
   "cell_type": "code",
   "execution_count": null,
   "id": "15f0146e-19fa-4ea7-b384-136d310ef5e4",
   "metadata": {},
   "outputs": [],
   "source": []
  },
  {
   "cell_type": "markdown",
   "id": "01b9e6f2-8ea9-4b9c-831a-5080f8dc691b",
   "metadata": {},
   "source": [
    "### 자카드 유사도"
   ]
  },
  {
   "cell_type": "code",
   "execution_count": 96,
   "id": "ed4faba5-4ba6-4254-8386-8f21f58db15d",
   "metadata": {},
   "outputs": [],
   "source": [
    "from sklearn.metrics.pairwise import pairwise_distances,PAIRWISE_DISTANCE_FUNCTIONS"
   ]
  },
  {
   "cell_type": "code",
   "execution_count": null,
   "id": "3fa12022-a834-4b7b-b10b-e117f8da9cc1",
   "metadata": {},
   "outputs": [],
   "source": [
    "pairwise_distances?"
   ]
  },
  {
   "cell_type": "code",
   "execution_count": 98,
   "id": "dc570195-79a1-4a1c-88e3-d44961a33e18",
   "metadata": {},
   "outputs": [
    {
     "name": "stderr",
     "output_type": "stream",
     "text": [
      "d:\\kdt_2\\anaconda3\\Lib\\site-packages\\sklearn\\metrics\\pairwise.py:2361: DataConversionWarning: Data was converted to boolean for metric jaccard\n",
      "  warnings.warn(msg, DataConversionWarning)\n"
     ]
    },
    {
     "data": {
      "text/plain": [
       "array([[0.        , 0.83333333, 1.        , ..., 1.        , 1.        ,\n",
       "        1.        ],\n",
       "       [0.83333333, 0.        , 1.        , ..., 1.        , 0.81818182,\n",
       "        1.        ],\n",
       "       [1.        , 1.        , 0.        , ..., 1.        , 1.        ,\n",
       "        1.        ],\n",
       "       ...,\n",
       "       [1.        , 1.        , 1.        , ..., 0.        , 1.        ,\n",
       "        1.        ],\n",
       "       [1.        , 0.81818182, 1.        , ..., 1.        , 0.        ,\n",
       "        1.        ],\n",
       "       [1.        , 1.        , 1.        , ..., 1.        , 1.        ,\n",
       "        0.        ]])"
      ]
     },
     "execution_count": 98,
     "metadata": {},
     "output_type": "execute_result"
    }
   ],
   "source": [
    "jd_similarity = pairwise_distances(tvect_dtm.toarray(), tvect_dtm.toarray(), metric='jaccard')\n",
    "jd_similarity"
   ]
  },
  {
   "cell_type": "code",
   "execution_count": 99,
   "id": "49f92cb8-dc76-4089-b2a3-4ed11aa5c134",
   "metadata": {},
   "outputs": [
    {
     "data": {
      "text/plain": [
       "(0.0, 1.0)"
      ]
     },
     "execution_count": 99,
     "metadata": {},
     "output_type": "execute_result"
    }
   ],
   "source": [
    "jd_similarity.min(), jd_similarity.max()"
   ]
  },
  {
   "cell_type": "code",
   "execution_count": 100,
   "id": "471b2caa-29a6-4a50-b977-99e84361e999",
   "metadata": {},
   "outputs": [
    {
     "data": {
      "text/plain": [
       "<Axes: >"
      ]
     },
     "execution_count": 100,
     "metadata": {},
     "output_type": "execute_result"
    },
    {
     "data": {
      "image/png": "[encoded data removed]",
      "text/plain": [
       "<Figure size 640x480 with 2 Axes>"
      ]
     },
     "metadata": {},
     "output_type": "display_data"
    }
   ],
   "source": [
    "sns.heatmap(1-jd_similarity, cmap='Blues_r')"
   ]
  },
  {
   "cell_type": "code",
   "execution_count": null,
   "id": "cf6bf850-d985-4818-aef5-20d4fbd0498c",
   "metadata": {},
   "outputs": [],
   "source": []
  }
 ],
 "metadata": {
  "kernelspec": {
   "display_name": "Python 3 (ipykernel)",
   "language": "python",
   "name": "python3"
  },
  "language_info": {
   "codemirror_mode": {
    "name": "ipython",
    "version": 3
   },
   "file_extension": ".py",
   "mimetype": "text/x-python",
   "name": "python",
   "nbconvert_exporter": "python",
   "pygments_lexer": "ipython3",
   "version": "3.12.7"
  }
 },
 "nbformat": 4,
 "nbformat_minor": 5
}
