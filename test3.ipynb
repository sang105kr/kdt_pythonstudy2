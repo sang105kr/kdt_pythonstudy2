{
 "cells": [
  {
   "cell_type": "code",
   "execution_count": 1,
   "metadata": {},
   "outputs": [
    {
     "name": "stdout",
     "output_type": "stream",
     "text": [
      "hi\n"
     ]
    }
   ],
   "source": [
    "print('hi')"
   ]
  },
  {
   "cell_type": "markdown",
   "metadata": {},
   "source": [
    "#### 초급 문제 (10문제)\n",
    "1. 데이터셋을 판다스 데이터프레임으로 읽어오세요.\n",
    "2. 데이터프레임의 첫 5행을 출력하세요.\n",
    "3. 데이터프레임의 열 이름을 출력하세요.\n",
    "4. 'Quantity' 열의 평균값을 구하세요.\n",
    "5. 'Price' 열의 최대값을 구하세요.\n",
    "6. 'Product' 열의 고유한 값들을 출력하세요.\n",
    "7. 'CustomerID' 열의 값의 개수를 세세요.\n",
    "8. 'Date' 열의 데이터 타입을 확인하세요.\n",
    "9. 'Quantity'가 3 이상인 행만 필터링하여 출력하세요."
   ]
  },
  {
   "cell_type": "code",
   "execution_count": 3,
   "metadata": {},
   "outputs": [],
   "source": [
    "import numpy as np\n",
    "import pandas as pd"
   ]
  },
  {
   "cell_type": "code",
   "execution_count": 8,
   "metadata": {},
   "outputs": [],
   "source": [
    "#1. 데이터셋을 판다스 데이터프레임으로 읽어오세요.\n",
    "df = pd.read_csv('sales_data.csv')"
   ]
  },
  {
   "cell_type": "code",
   "execution_count": 9,
   "metadata": {},
   "outputs": [
    {
     "data": {
      "text/html": [
       "<div>\n",
       "<style scoped>\n",
       "    .dataframe tbody tr th:only-of-type {\n",
       "        vertical-align: middle;\n",
       "    }\n",
       "\n",
       "    .dataframe tbody tr th {\n",
       "        vertical-align: top;\n",
       "    }\n",
       "\n",
       "    .dataframe thead th {\n",
       "        text-align: right;\n",
       "    }\n",
       "</style>\n",
       "<table border=\"1\" class=\"dataframe\">\n",
       "  <thead>\n",
       "    <tr style=\"text-align: right;\">\n",
       "      <th></th>\n",
       "      <th>OrderID</th>\n",
       "      <th>Product</th>\n",
       "      <th>Quantity</th>\n",
       "      <th>Price</th>\n",
       "      <th>Date</th>\n",
       "      <th>CustomerID</th>\n",
       "    </tr>\n",
       "  </thead>\n",
       "  <tbody>\n",
       "    <tr>\n",
       "      <th>0</th>\n",
       "      <td>1</td>\n",
       "      <td>Widget A</td>\n",
       "      <td>4</td>\n",
       "      <td>20</td>\n",
       "      <td>2023-01-01</td>\n",
       "      <td>C001</td>\n",
       "    </tr>\n",
       "    <tr>\n",
       "      <th>1</th>\n",
       "      <td>2</td>\n",
       "      <td>Widget B</td>\n",
       "      <td>2</td>\n",
       "      <td>30</td>\n",
       "      <td>2023-01-02</td>\n",
       "      <td>C002</td>\n",
       "    </tr>\n",
       "    <tr>\n",
       "      <th>2</th>\n",
       "      <td>3</td>\n",
       "      <td>Widget A</td>\n",
       "      <td>1</td>\n",
       "      <td>20</td>\n",
       "      <td>2023-01-03</td>\n",
       "      <td>C001</td>\n",
       "    </tr>\n",
       "    <tr>\n",
       "      <th>3</th>\n",
       "      <td>4</td>\n",
       "      <td>Widget C</td>\n",
       "      <td>5</td>\n",
       "      <td>15</td>\n",
       "      <td>2023-01-04</td>\n",
       "      <td>C003</td>\n",
       "    </tr>\n",
       "    <tr>\n",
       "      <th>4</th>\n",
       "      <td>5</td>\n",
       "      <td>Widget B</td>\n",
       "      <td>3</td>\n",
       "      <td>30</td>\n",
       "      <td>2023-01-05</td>\n",
       "      <td>C002</td>\n",
       "    </tr>\n",
       "  </tbody>\n",
       "</table>\n",
       "</div>"
      ],
      "text/plain": [
       "   OrderID   Product  Quantity  Price        Date CustomerID\n",
       "0        1  Widget A         4     20  2023-01-01       C001\n",
       "1        2  Widget B         2     30  2023-01-02       C002\n",
       "2        3  Widget A         1     20  2023-01-03       C001\n",
       "3        4  Widget C         5     15  2023-01-04       C003\n",
       "4        5  Widget B         3     30  2023-01-05       C002"
      ]
     },
     "execution_count": 9,
     "metadata": {},
     "output_type": "execute_result"
    }
   ],
   "source": [
    "#2. 데이터프레임의 첫 5행을 출력하세요.\n",
    "df.head(5)"
   ]
  },
  {
   "cell_type": "code",
   "execution_count": 16,
   "metadata": {},
   "outputs": [
    {
     "name": "stdout",
     "output_type": "stream",
     "text": [
      "\u001b[1;31mSignature:\u001b[0m \u001b[0mprint\u001b[0m\u001b[1;33m(\u001b[0m\u001b[1;33m*\u001b[0m\u001b[0margs\u001b[0m\u001b[1;33m,\u001b[0m \u001b[0msep\u001b[0m\u001b[1;33m=\u001b[0m\u001b[1;34m' '\u001b[0m\u001b[1;33m,\u001b[0m \u001b[0mend\u001b[0m\u001b[1;33m=\u001b[0m\u001b[1;34m'\\n'\u001b[0m\u001b[1;33m,\u001b[0m \u001b[0mfile\u001b[0m\u001b[1;33m=\u001b[0m\u001b[1;32mNone\u001b[0m\u001b[1;33m,\u001b[0m \u001b[0mflush\u001b[0m\u001b[1;33m=\u001b[0m\u001b[1;32mFalse\u001b[0m\u001b[1;33m)\u001b[0m\u001b[1;33m\u001b[0m\u001b[1;33m\u001b[0m\u001b[0m\n",
      "\u001b[1;31mDocstring:\u001b[0m\n",
      "Prints the values to a stream, or to sys.stdout by default.\n",
      "\n",
      "sep\n",
      "  string inserted between values, default a space.\n",
      "end\n",
      "  string appended after the last value, default a newline.\n",
      "file\n",
      "  a file-like object (stream); defaults to the current sys.stdout.\n",
      "flush\n",
      "  whether to forcibly flush the stream.\n",
      "\u001b[1;31mType:\u001b[0m      builtin_function_or_method"
     ]
    }
   ],
   "source": [
    "print?"
   ]
  },
  {
   "cell_type": "code",
   "execution_count": 17,
   "metadata": {},
   "outputs": [
    {
     "name": "stdout",
     "output_type": "stream",
     "text": [
      "OrderID\tProduct\tQuantity\tPrice\tDate\tCustomerID\t"
     ]
    }
   ],
   "source": [
    "# 3. 데이터프레임의 열 이름을 출력하세요.\n",
    "for ele in df.columns.values.tolist() :\n",
    "  print(ele, end='\\t')"
   ]
  },
  {
   "cell_type": "code",
   "execution_count": 26,
   "metadata": {},
   "outputs": [
    {
     "name": "stdout",
     "output_type": "stream",
     "text": [
      "2.7\n",
      "27\n",
      "5\n",
      "1\n",
      "1.788888888888889\n",
      "1.3374935098492586\n",
      "2.0\n",
      "2.5\n",
      "3.75\n"
     ]
    }
   ],
   "source": [
    "#4. 'Quantity' 열의 평균값을 구하세요.\n",
    "print(df['Quantity'].mean())\n",
    "print(df['Quantity'].sum())\n",
    "print(df['Quantity'].max())\n",
    "print(df['Quantity'].min())\n",
    "print(df['Quantity'].var())\n",
    "print(df['Quantity'].std())\n",
    "print(df['Quantity'].quantile(.25))\n",
    "print(df['Quantity'].quantile(.50))\n",
    "print(df['Quantity'].quantile(.75))"
   ]
  },
  {
   "cell_type": "code",
   "execution_count": 27,
   "metadata": {},
   "outputs": [
    {
     "data": {
      "text/plain": [
       "30"
      ]
     },
     "execution_count": 27,
     "metadata": {},
     "output_type": "execute_result"
    }
   ],
   "source": [
    "#5. 'Price' 열의 최대값을 구하세요.\n",
    "df['Price'].max()"
   ]
  },
  {
   "cell_type": "code",
   "execution_count": 43,
   "metadata": {},
   "outputs": [
    {
     "name": "stdout",
     "output_type": "stream",
     "text": [
      "Widget A\tWidget B\tWidget C\t\n",
      "==\n",
      "['Widget A' 'Widget B' 'Widget C']\n",
      "Product\n",
      "Widget A    4\n",
      "Widget B    3\n",
      "Widget C    3\n",
      "Name: count, dtype: int64\n",
      "3\n"
     ]
    }
   ],
   "source": [
    "#6. 'Product' 열의 고유한 값들을 출력하세요.\n",
    "for ele in df['Product'].unique().tolist() :\n",
    "  print(ele, end='\\t')\n",
    "print()\n",
    "print('==')\n",
    "\n",
    "print(df['Product'].unique()) # 고유값 목록\n",
    "print(df['Product'].value_counts())   # 고유값과 갯수\n",
    "print(df['Product'].nunique())  # 고유값의 갯수"
   ]
  },
  {
   "cell_type": "code",
   "execution_count": 45,
   "metadata": {},
   "outputs": [
    {
     "data": {
      "text/plain": [
       "10"
      ]
     },
     "execution_count": 45,
     "metadata": {},
     "output_type": "execute_result"
    }
   ],
   "source": [
    "# 7. 'CustomerID' 열의 값의 개수를 세세요.\n",
    "df['CustomerID'].count()  # nan값을 제외한 값의 개수"
   ]
  },
  {
   "cell_type": "code",
   "execution_count": null,
   "metadata": {},
   "outputs": [
    {
     "name": "stdout",
     "output_type": "stream",
     "text": [
      "object\n",
      "<class 'pandas.core.frame.DataFrame'>\n",
      "RangeIndex: 10 entries, 0 to 9\n",
      "Data columns (total 6 columns):\n",
      " #   Column      Non-Null Count  Dtype \n",
      "---  ------      --------------  ----- \n",
      " 0   OrderID     10 non-null     int64 \n",
      " 1   Product     10 non-null     object\n",
      " 2   Quantity    10 non-null     int64 \n",
      " 3   Price       10 non-null     int64 \n",
      " 4   Date        10 non-null     object\n",
      " 5   CustomerID  10 non-null     object\n",
      "dtypes: int64(3), object(3)\n",
      "memory usage: 612.0+ bytes\n"
     ]
    }
   ],
   "source": [
    "# 8. 'Date' 열의 데이터 타입을 확인하세요.\n",
    "print(df['Date'].dtypes)\n",
    "df.info() "
   ]
  },
  {
   "cell_type": "code",
   "execution_count": 54,
   "metadata": {},
   "outputs": [
    {
     "name": "stdout",
     "output_type": "stream",
     "text": [
      "0    2023\n",
      "1    2023\n",
      "2    2023\n",
      "3    2023\n",
      "4    2023\n",
      "5    2023\n",
      "6    2023\n",
      "7    2023\n",
      "8    2023\n",
      "9    2023\n",
      "Name: Date, dtype: int32\n",
      "0    1\n",
      "1    1\n",
      "2    1\n",
      "3    1\n",
      "4    1\n",
      "5    1\n",
      "6    1\n",
      "7    1\n",
      "8    1\n",
      "9    1\n",
      "Name: Date, dtype: int32\n",
      "0     1\n",
      "1     2\n",
      "2     3\n",
      "3     4\n",
      "4     5\n",
      "5     6\n",
      "6     7\n",
      "7     8\n",
      "8     9\n",
      "9    10\n",
      "Name: Date, dtype: int32\n"
     ]
    }
   ],
   "source": [
    "print(pd.to_datetime(df['Date']).dt.year)\n",
    "print(pd.to_datetime(df['Date']).dt.month)\n",
    "print(pd.to_datetime(df['Date']).dt.day)"
   ]
  },
  {
   "cell_type": "code",
   "execution_count": 62,
   "metadata": {},
   "outputs": [
    {
     "name": "stdout",
     "output_type": "stream",
     "text": [
      "   OrderID   Product  Quantity  Price        Date CustomerID\n",
      "0        1  Widget A         4     20  2023-01-01       C001\n",
      "3        4  Widget C         5     15  2023-01-04       C003\n",
      "4        5  Widget B         3     30  2023-01-05       C002\n",
      "7        8  Widget B         4     30  2023-01-08       C005\n",
      "8        9  Widget A         3     20  2023-01-09       C001\n",
      "   OrderID   Product  Quantity  Price        Date CustomerID\n",
      "0        1  Widget A         4     20  2023-01-01       C001\n",
      "3        4  Widget C         5     15  2023-01-04       C003\n",
      "4        5  Widget B         3     30  2023-01-05       C002\n",
      "7        8  Widget B         4     30  2023-01-08       C005\n",
      "8        9  Widget A         3     20  2023-01-09       C001\n",
      "   OrderID   Product  Quantity  Price        Date CustomerID\n",
      "0        1  Widget A         4     20  2023-01-01       C001\n",
      "3        4  Widget C         5     15  2023-01-04       C003\n",
      "4        5  Widget B         3     30  2023-01-05       C002\n",
      "7        8  Widget B         4     30  2023-01-08       C005\n",
      "8        9  Widget A         3     20  2023-01-09       C001\n",
      "   OrderID   Product  Quantity  Price        Date CustomerID\n",
      "0        1  Widget A         4     20  2023-01-01       C001\n",
      "3        4  Widget C         5     15  2023-01-04       C003\n",
      "4        5  Widget B         3     30  2023-01-05       C002\n",
      "7        8  Widget B         4     30  2023-01-08       C005\n",
      "8        9  Widget A         3     20  2023-01-09       C001\n"
     ]
    }
   ],
   "source": [
    "# 9. 'Quantity'가 3 이상인 행만 필터링하여 출력하세요.\n",
    "print(df[df['Quantity']>=3])\n",
    "print(df.loc[df['Quantity']>=3])\n",
    "\n",
    "idx = df[df['Quantity']>=3].index\n",
    "print(df.iloc[idx])\n",
    "\n",
    "print(df.query('Quantity >= 3'))"
   ]
  },
  {
   "cell_type": "markdown",
   "metadata": {},
   "source": [
    "#### 중급 문제 (20문제)\n",
    "11. 'Date' 열을 기준으로 데이터프레임을 정렬하세요.\n",
    "12. 'CustomerID'별 총 구매 수량을 구하세요.\n",
    "13. 'Price'가 20 이상인 제품의 목록을 출력하세요.\n",
    "14. 'Quantity'가 2 이상인 주문의 'OrderID'를 출력하세요.\n",
    "15. 'Product'별 평균 가격을 구하세요.\n",
    "16. 'Date' 열을 datetime 형식으로 변환하세요.\n",
    "17. 'Date'별 총 판매량을 구하세요.\n",
    "18. 'CustomerID'가 'C001'인 고객의 모든 주문을 출력하세요.\n",
    "19. 'Product'별 총 매출액을 구하세요 (매출액 = Quantity * Price).\n",
    "10. 'Quantity'가 가장 많은 주문을 찾으세요.\n",
    "11. 'Product'별 주문 수를 구하세요.\n",
    "12. 'Date'별 평균 가격을 구하세요.\n",
    "13. 'CustomerID'별 가장 최근 주문 날짜를 구하세요.\n",
    "14. 'Product'별 최소 가격을 구하세요.\n",
    "15. 'Quantity'가 1인 주문의 'OrderID'를 출력하세요.\n",
    "16. 'Price'가 평균 가격보다 높은 제품을 출력하세요.\n",
    "17. 'Date'가 2023-01-05 이후의 모든 주문을 출력하세요.\n",
    "18. 'Product'별 총 수익을 구하세요 (수익 = Quantity * Price).\n",
    "19. 'CustomerID'별 평균 구매 수량을 구하세요.\n",
    "20. 'Product'별 주문 수와 총 매출액을 함께 출력하세요."
   ]
  },
  {
   "cell_type": "code",
   "execution_count": 66,
   "metadata": {},
   "outputs": [
    {
     "name": "stdout",
     "output_type": "stream",
     "text": [
      "0    2023-01-01\n",
      "1    2023-01-02\n",
      "2    2023-01-03\n",
      "3    2023-01-04\n",
      "4    2023-01-05\n",
      "5    2023-01-06\n",
      "6    2023-01-07\n",
      "7    2023-01-08\n",
      "8    2023-01-09\n",
      "9    2023-01-10\n",
      "Name: Date, dtype: object\n",
      "9    2023-01-10\n",
      "8    2023-01-09\n",
      "7    2023-01-08\n",
      "6    2023-01-07\n",
      "5    2023-01-06\n",
      "4    2023-01-05\n",
      "3    2023-01-04\n",
      "2    2023-01-03\n",
      "1    2023-01-02\n",
      "0    2023-01-01\n",
      "Name: Date, dtype: object\n",
      "   OrderID   Product  Quantity  Price        Date CustomerID\n",
      "0        1  Widget A         4     20  2023-01-01       C001\n",
      "1        2  Widget B         2     30  2023-01-02       C002\n",
      "2        3  Widget A         1     20  2023-01-03       C001\n",
      "3        4  Widget C         5     15  2023-01-04       C003\n",
      "4        5  Widget B         3     30  2023-01-05       C002\n",
      "5        6  Widget A         2     20  2023-01-06       C004\n",
      "6        7  Widget C         1     15  2023-01-07       C003\n",
      "7        8  Widget B         4     30  2023-01-08       C005\n",
      "8        9  Widget A         3     20  2023-01-09       C001\n",
      "9       10  Widget C         2     15  2023-01-10       C006\n",
      "   OrderID   Product  Quantity  Price        Date CustomerID\n",
      "9       10  Widget C         2     15  2023-01-10       C006\n",
      "8        9  Widget A         3     20  2023-01-09       C001\n",
      "7        8  Widget B         4     30  2023-01-08       C005\n",
      "6        7  Widget C         1     15  2023-01-07       C003\n",
      "5        6  Widget A         2     20  2023-01-06       C004\n",
      "4        5  Widget B         3     30  2023-01-05       C002\n",
      "3        4  Widget C         5     15  2023-01-04       C003\n",
      "2        3  Widget A         1     20  2023-01-03       C001\n",
      "1        2  Widget B         2     30  2023-01-02       C002\n",
      "0        1  Widget A         4     20  2023-01-01       C001\n"
     ]
    }
   ],
   "source": [
    "# 11. 'Date' 열을 기준으로 데이터프레임을 정렬하세요.\n",
    "print(df['Date'].sort_values())\n",
    "print(df['Date'].sort_values(ascending=False))\n",
    "print(df.sort_values('Date',ascending=True))\n",
    "print(df.sort_values('Date',ascending=False))"
   ]
  },
  {
   "cell_type": "code",
   "execution_count": 74,
   "metadata": {},
   "outputs": [
    {
     "name": "stdout",
     "output_type": "stream",
     "text": [
      "CustomerID\n",
      "C001    8\n",
      "C002    5\n",
      "C003    6\n",
      "C004    2\n",
      "C005    4\n",
      "C006    2\n",
      "Name: Quantity, dtype: int64\n",
      "            Quantity\n",
      "CustomerID          \n",
      "C001               8\n",
      "C002               5\n",
      "C003               6\n",
      "C004               2\n",
      "C005               4\n",
      "C006               2\n"
     ]
    },
    {
     "data": {
      "text/html": [
       "<div>\n",
       "<style scoped>\n",
       "    .dataframe tbody tr th:only-of-type {\n",
       "        vertical-align: middle;\n",
       "    }\n",
       "\n",
       "    .dataframe tbody tr th {\n",
       "        vertical-align: top;\n",
       "    }\n",
       "\n",
       "    .dataframe thead th {\n",
       "        text-align: right;\n",
       "    }\n",
       "</style>\n",
       "<table border=\"1\" class=\"dataframe\">\n",
       "  <thead>\n",
       "    <tr style=\"text-align: right;\">\n",
       "      <th></th>\n",
       "      <th>Quantity</th>\n",
       "    </tr>\n",
       "    <tr>\n",
       "      <th>CustomerID</th>\n",
       "      <th></th>\n",
       "    </tr>\n",
       "  </thead>\n",
       "  <tbody>\n",
       "    <tr>\n",
       "      <th>C001</th>\n",
       "      <td>8</td>\n",
       "    </tr>\n",
       "    <tr>\n",
       "      <th>C002</th>\n",
       "      <td>5</td>\n",
       "    </tr>\n",
       "    <tr>\n",
       "      <th>C003</th>\n",
       "      <td>6</td>\n",
       "    </tr>\n",
       "    <tr>\n",
       "      <th>C004</th>\n",
       "      <td>2</td>\n",
       "    </tr>\n",
       "    <tr>\n",
       "      <th>C005</th>\n",
       "      <td>4</td>\n",
       "    </tr>\n",
       "    <tr>\n",
       "      <th>C006</th>\n",
       "      <td>2</td>\n",
       "    </tr>\n",
       "  </tbody>\n",
       "</table>\n",
       "</div>"
      ],
      "text/plain": [
       "            Quantity\n",
       "CustomerID          \n",
       "C001               8\n",
       "C002               5\n",
       "C003               6\n",
       "C004               2\n",
       "C005               4\n",
       "C006               2"
      ]
     },
     "metadata": {},
     "output_type": "display_data"
    }
   ],
   "source": [
    "# 12. 'CustomerID'별 총 구매 수량을 구하세요.\n",
    "# case1) []접근방식 사용\n",
    "print(df.groupby('CustomerID')['Quantity'].sum())\n",
    "# case2) agg() 이용\n",
    "print(df.groupby('CustomerID').agg({'Quantity':'sum'}))\n",
    "# case3) pivot_table() 이용 : groupby대신 사용가능\n",
    "display(df.pivot_table(index='CustomerID',values='Quantity',aggfunc='sum'))"
   ]
  },
  {
   "cell_type": "code",
   "execution_count": 95,
   "metadata": {},
   "outputs": [
    {
     "data": {
      "text/plain": [
       "Index([0, 1, 2, 4, 5, 7, 8], dtype='int64')"
      ]
     },
     "execution_count": 95,
     "metadata": {},
     "output_type": "execute_result"
    }
   ],
   "source": [
    "df[df['Price'] >= 20].index"
   ]
  },
  {
   "cell_type": "code",
   "execution_count": 109,
   "metadata": {},
   "outputs": [
    {
     "name": "stdout",
     "output_type": "stream",
     "text": [
      "0    Widget A\n",
      "1    Widget B\n",
      "2    Widget A\n",
      "4    Widget B\n",
      "5    Widget A\n",
      "7    Widget B\n",
      "8    Widget A\n",
      "Name: Product, dtype: object\n",
      "0    Widget A\n",
      "1    Widget B\n",
      "2    Widget A\n",
      "4    Widget B\n",
      "5    Widget A\n",
      "7    Widget B\n",
      "8    Widget A\n",
      "Name: Product, dtype: object\n",
      "0    Widget A\n",
      "1    Widget B\n",
      "2    Widget A\n",
      "4    Widget B\n",
      "5    Widget A\n",
      "7    Widget B\n",
      "8    Widget A\n",
      "Name: Product, dtype: object\n",
      "0    Widget A\n",
      "1    Widget B\n",
      "2    Widget A\n",
      "4    Widget B\n",
      "5    Widget A\n",
      "7    Widget B\n",
      "8    Widget A\n",
      "Name: Product, dtype: object\n"
     ]
    }
   ],
   "source": [
    "# 13. 'Price'가 20 이상인 제품의 목록을 출력하세요.\n",
    "print(df[df['Price'] >= 20]['Product'])\n",
    "print(df.loc[df['Price'] >= 20,'Product'])\n",
    "print(df.iloc[df[df['Price'] >= 20].index, df.columns.get_loc('Product')])\n",
    "print(df.query('Price >= 20')['Product'])"
   ]
  },
  {
   "cell_type": "code",
   "execution_count": 110,
   "metadata": {},
   "outputs": [
    {
     "name": "stdout",
     "output_type": "stream",
     "text": [
      "0     1\n",
      "1     2\n",
      "3     4\n",
      "4     5\n",
      "5     6\n",
      "7     8\n",
      "8     9\n",
      "9    10\n",
      "Name: OrderID, dtype: int64\n",
      "0     1\n",
      "1     2\n",
      "3     4\n",
      "4     5\n",
      "5     6\n",
      "7     8\n",
      "8     9\n",
      "9    10\n",
      "Name: OrderID, dtype: int64\n",
      "0     1\n",
      "1     2\n",
      "3     4\n",
      "4     5\n",
      "5     6\n",
      "7     8\n",
      "8     9\n",
      "9    10\n",
      "Name: OrderID, dtype: int64\n",
      "0     1\n",
      "1     2\n",
      "3     4\n",
      "4     5\n",
      "5     6\n",
      "7     8\n",
      "8     9\n",
      "9    10\n",
      "Name: OrderID, dtype: int64\n"
     ]
    }
   ],
   "source": [
    "# 14. 'Quantity'가 2 이상인 주문의 'OrderID'를 출력하세요.\n",
    "print(df[df['Quantity'] >= 2]['OrderID'])\n",
    "print(df.loc[df['Quantity'] >= 2,'OrderID'])\n",
    "print(df.iloc[df[df['Quantity'] >= 2].index, df.columns.get_loc('OrderID')])\n",
    "print(df.query('Quantity >= 2')['OrderID'])"
   ]
  },
  {
   "cell_type": "code",
   "execution_count": 114,
   "metadata": {},
   "outputs": [
    {
     "name": "stdout",
     "output_type": "stream",
     "text": [
      "Product\n",
      "Widget A    20.0\n",
      "Widget B    30.0\n",
      "Widget C    15.0\n",
      "Name: Price, dtype: float64\n",
      "          Price\n",
      "Product        \n",
      "Widget A   20.0\n",
      "Widget B   30.0\n",
      "Widget C   15.0\n",
      "          Price\n",
      "Product        \n",
      "Widget A   20.0\n",
      "Widget B   30.0\n",
      "Widget C   15.0\n"
     ]
    }
   ],
   "source": [
    "# 15. 'Product'별 평균 가격을 구하세요.\n",
    "print(df.groupby('Product')['Price'].mean())\n",
    "print(df.groupby('Product').agg({'Price':'mean'}))\n",
    "print(df.pivot_table(index='Product', values='Price', aggfunc='mean'))"
   ]
  },
  {
   "cell_type": "code",
   "execution_count": 115,
   "metadata": {},
   "outputs": [
    {
     "data": {
      "text/plain": [
       "0   2023-01-01\n",
       "1   2023-01-02\n",
       "2   2023-01-03\n",
       "3   2023-01-04\n",
       "4   2023-01-05\n",
       "5   2023-01-06\n",
       "6   2023-01-07\n",
       "7   2023-01-08\n",
       "8   2023-01-09\n",
       "9   2023-01-10\n",
       "Name: Date, dtype: datetime64[ns]"
      ]
     },
     "execution_count": 115,
     "metadata": {},
     "output_type": "execute_result"
    }
   ],
   "source": [
    "# 16. 'Date' 열을 datetime 형식으로 변환하세요.\n",
    "pd.to_datetime(df['Date'])"
   ]
  },
  {
   "cell_type": "code",
   "execution_count": 116,
   "metadata": {},
   "outputs": [
    {
     "name": "stdout",
     "output_type": "stream",
     "text": [
      "Date\n",
      "2023-01-01    4\n",
      "2023-01-02    2\n",
      "2023-01-03    1\n",
      "2023-01-04    5\n",
      "2023-01-05    3\n",
      "2023-01-06    2\n",
      "2023-01-07    1\n",
      "2023-01-08    4\n",
      "2023-01-09    3\n",
      "2023-01-10    2\n",
      "Name: Quantity, dtype: int64\n",
      "            Quantity\n",
      "Date                \n",
      "2023-01-01         4\n",
      "2023-01-02         2\n",
      "2023-01-03         1\n",
      "2023-01-04         5\n",
      "2023-01-05         3\n",
      "2023-01-06         2\n",
      "2023-01-07         1\n",
      "2023-01-08         4\n",
      "2023-01-09         3\n",
      "2023-01-10         2\n",
      "            Quantity\n",
      "Date                \n",
      "2023-01-01         4\n",
      "2023-01-02         2\n",
      "2023-01-03         1\n",
      "2023-01-04         5\n",
      "2023-01-05         3\n",
      "2023-01-06         2\n",
      "2023-01-07         1\n",
      "2023-01-08         4\n",
      "2023-01-09         3\n",
      "2023-01-10         2\n"
     ]
    }
   ],
   "source": [
    "# 17. 'Date'별 총 판매량을 구하세요.\n",
    "print(df.groupby('Date')['Quantity'].sum())\n",
    "print(df.groupby('Date').agg({'Quantity':'sum'}))\n",
    "print(df.pivot_table(index='Date', values='Quantity', aggfunc='sum'))"
   ]
  },
  {
   "cell_type": "code",
   "execution_count": 118,
   "metadata": {},
   "outputs": [
    {
     "name": "stdout",
     "output_type": "stream",
     "text": [
      "   OrderID   Product  Quantity  Price        Date CustomerID\n",
      "0        1  Widget A         4     20  2023-01-01       C001\n",
      "2        3  Widget A         1     20  2023-01-03       C001\n",
      "8        9  Widget A         3     20  2023-01-09       C001\n",
      "   OrderID   Product  Quantity  Price        Date CustomerID\n",
      "0        1  Widget A         4     20  2023-01-01       C001\n",
      "2        3  Widget A         1     20  2023-01-03       C001\n",
      "8        9  Widget A         3     20  2023-01-09       C001\n",
      "   OrderID   Product  Quantity  Price        Date CustomerID\n",
      "0        1  Widget A         4     20  2023-01-01       C001\n",
      "2        3  Widget A         1     20  2023-01-03       C001\n",
      "8        9  Widget A         3     20  2023-01-09       C001\n",
      "   OrderID   Product  Quantity  Price        Date CustomerID\n",
      "0        1  Widget A         4     20  2023-01-01       C001\n",
      "2        3  Widget A         1     20  2023-01-03       C001\n",
      "8        9  Widget A         3     20  2023-01-09       C001\n"
     ]
    }
   ],
   "source": [
    "# 18. 'CustomerID'가 'C001'인 고객의 모든 주문을 출력하세요.\n",
    "print(df[df['CustomerID'] == 'C001'])\n",
    "print(df.loc[df['CustomerID'] == 'C001'])\n",
    "print(df.iloc[df[df['CustomerID']  == 'C001'].index])\n",
    "print(df.query(\"CustomerID  == 'C001'\"))"
   ]
  },
  {
   "cell_type": "code",
   "execution_count": 121,
   "metadata": {},
   "outputs": [
    {
     "name": "stdout",
     "output_type": "stream",
     "text": [
      "Product\n",
      "Widget A    200\n",
      "Widget B    270\n",
      "Widget C    120\n",
      "Name: 매출액, dtype: int64\n",
      "          매출액\n",
      "Product      \n",
      "Widget A  200\n",
      "Widget B  270\n",
      "Widget C  120\n",
      "          매출액\n",
      "Product      \n",
      "Widget A  200\n",
      "Widget B  270\n",
      "Widget C  120\n"
     ]
    }
   ],
   "source": [
    "# 19. 'Product'별 총 매출액을 구하세요 (매출액 = Quantity * Price).\n",
    "df['매출액'] = df['Quantity'] * df['Price']\n",
    "print(df.groupby('Product')['매출액'].sum())\n",
    "print(df.groupby('Product').agg({'매출액':'sum'}))\n",
    "print(df.pivot_table(index='Product',values='매출액',aggfunc='sum'))"
   ]
  },
  {
   "cell_type": "code",
   "execution_count": 132,
   "metadata": {},
   "outputs": [
    {
     "name": "stdout",
     "output_type": "stream",
     "text": [
      "   OrderID   Product  Quantity  Price        Date CustomerID  매출액\n",
      "3        4  Widget C         5     15  2023-01-04       C003   75\n",
      "  OrderID   Product Quantity Price        Date CustomerID 매출액\n",
      "3       4  Widget C        5    15  2023-01-04       C003  75\n"
     ]
    }
   ],
   "source": [
    "# 20. 'Quantity'가 가장 많은 주문을 찾으세요.\n",
    "print(df[df['Quantity'] == df['Quantity'].max()])\n",
    "print(df.iloc[df['Quantity'].idxmax()].to_frame().T)"
   ]
  },
  {
   "cell_type": "code",
   "execution_count": 141,
   "metadata": {},
   "outputs": [
    {
     "name": "stdout",
     "output_type": "stream",
     "text": [
      "Product\n",
      "Widget A    4\n",
      "Widget B    3\n",
      "Widget C    3\n",
      "Name: OrderID, dtype: int64\n",
      "          OrderID\n",
      "Product          \n",
      "Widget A        4\n",
      "Widget B        3\n",
      "Widget C        3\n",
      "          OrderID\n",
      "Product          \n",
      "Widget A        4\n",
      "Widget B        3\n",
      "Widget C        3\n",
      "Product\n",
      "Widget A    4\n",
      "Widget B    3\n",
      "Widget C    3\n",
      "Name: count, dtype: int64\n"
     ]
    }
   ],
   "source": [
    "# 21. 'Product'별 주문 수를 구하세요.\n",
    "print(df.groupby('Product')['OrderID'].count())\n",
    "print(df.groupby('Product').agg({'OrderID':'count'}))\n",
    "print(df.pivot_table(index='Product',values='OrderID',aggfunc='count'))\n",
    "print(df['Product'].value_counts())"
   ]
  },
  {
   "cell_type": "code",
   "execution_count": 144,
   "metadata": {},
   "outputs": [
    {
     "name": "stdout",
     "output_type": "stream",
     "text": [
      "CustomerID\n",
      "C001    2023-01-09\n",
      "C002    2023-01-05\n",
      "C003    2023-01-07\n",
      "C004    2023-01-06\n",
      "C005    2023-01-08\n",
      "C006    2023-01-10\n",
      "Name: Date, dtype: object\n",
      "                  Date\n",
      "CustomerID            \n",
      "C001        2023-01-09\n",
      "C002        2023-01-05\n",
      "C003        2023-01-07\n",
      "C004        2023-01-06\n",
      "C005        2023-01-08\n",
      "C006        2023-01-10\n",
      "                  Date\n",
      "CustomerID            \n",
      "C001        2023-01-09\n",
      "C002        2023-01-05\n",
      "C003        2023-01-07\n",
      "C004        2023-01-06\n",
      "C005        2023-01-08\n",
      "C006        2023-01-10\n"
     ]
    }
   ],
   "source": [
    "# 23. 'CustomerID'별 가장 최근 주문 날짜를 구하세요.\n",
    "print(df.groupby('CustomerID')['Date'].max())\n",
    "print(df.groupby('CustomerID').agg({'Date':'max'}))\n",
    "print(df.pivot_table(index='CustomerID',values='Date',aggfunc='max'))"
   ]
  },
  {
   "cell_type": "code",
   "execution_count": 145,
   "metadata": {},
   "outputs": [
    {
     "name": "stdout",
     "output_type": "stream",
     "text": [
      "Product\n",
      "Widget A    20\n",
      "Widget B    30\n",
      "Widget C    15\n",
      "Name: Price, dtype: int64\n",
      "          Price\n",
      "Product        \n",
      "Widget A     20\n",
      "Widget B     30\n",
      "Widget C     15\n",
      "          Price\n",
      "Product        \n",
      "Widget A     20\n",
      "Widget B     30\n",
      "Widget C     15\n"
     ]
    }
   ],
   "source": [
    "# 24. 'Product'별 최소 가격을 구하세요.\n",
    "print(df.groupby('Product')['Price'].min())\n",
    "print(df.groupby('Product').agg({'Price':'min'}))\n",
    "print(df.pivot_table(index='Product',values='Price',aggfunc='min'))"
   ]
  },
  {
   "cell_type": "code",
   "execution_count": 146,
   "metadata": {},
   "outputs": [
    {
     "name": "stdout",
     "output_type": "stream",
     "text": [
      "2    3\n",
      "6    7\n",
      "Name: OrderID, dtype: int64\n",
      "2    3\n",
      "6    7\n",
      "Name: OrderID, dtype: int64\n",
      "   OrderID   Product  Quantity  Price        Date CustomerID  매출액\n",
      "2        3  Widget A         1     20  2023-01-03       C001   20\n",
      "6        7  Widget C         1     15  2023-01-07       C003   15 0\n",
      "2    3\n",
      "6    7\n",
      "Name: OrderID, dtype: int64\n"
     ]
    }
   ],
   "source": [
    "# 25. 'Quantity'가 1인 주문의 'OrderID'를 출력하세요.\n",
    "print(df[df['Quantity'] == 1]['OrderID'])\n",
    "print(df.loc[df['Quantity'] == 1,'OrderID'])\n",
    "print(df.iloc[df[df['Quantity']  == 1].index], df.columns.get_loc('OrderID'))\n",
    "print(df.query(\"Quantity  == 1\")['OrderID'])"
   ]
  }
 ],
 "metadata": {
  "kernelspec": {
   "display_name": "base",
   "language": "python",
   "name": "python3"
  },
  "language_info": {
   "codemirror_mode": {
    "name": "ipython",
    "version": 3
   },
   "file_extension": ".py",
   "mimetype": "text/x-python",
   "name": "python",
   "nbconvert_exporter": "python",
   "pygments_lexer": "ipython3",
   "version": "3.12.7"
  }
 },
 "nbformat": 4,
 "nbformat_minor": 2
}
